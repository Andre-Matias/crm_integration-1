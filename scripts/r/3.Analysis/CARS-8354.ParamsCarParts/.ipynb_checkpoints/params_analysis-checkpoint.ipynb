{
 "cells": [
  {
   "cell_type": "code",
   "execution_count": 24,
   "metadata": {},
   "outputs": [],
   "source": [
    "# Get working directory\n",
    "import os\n",
    "import pandas as pd\n",
    "import numpy as np\n",
    "\n",
    "from sqlalchemy import create_engine\n"
   ]
  },
  {
   "cell_type": "code",
   "execution_count": 3,
   "metadata": {},
   "outputs": [
    {
     "data": {
      "text/plain": [
       "'/Users/marco.pasin/Documents'"
      ]
     },
     "execution_count": 3,
     "metadata": {},
     "output_type": "execute_result"
    }
   ],
   "source": [
    "os.getcwd()"
   ]
  },
  {
   "cell_type": "markdown",
   "metadata": {},
   "source": [
    "### Data collection"
   ]
  },
  {
   "cell_type": "code",
   "execution_count": 5,
   "metadata": {},
   "outputs": [],
   "source": [
    "def get_query_for_ads_params(site_name, num_days):\n",
    "    query = (\n",
    "        \"SELECT params, category_id, created_at\\n\"\n",
    "        \"FROM db_atlas_verticals.ads\\n\"\n",
    "        \"WHERE livesync_dbname = '{site_name}' AND category_id = 661\\n\"\n",
    "        \"AND net_ad_counted = 1\\n\"\n",
    "        \"AND status = 'active'\\n\"\n",
    "        \"AND DATEDIFF(DAY, last_update_date, GETDATE()) < {num_days}\\n;\"\n",
    "    )\n",
    "    return query.format(site_name=site_name, num_days=num_days)"
   ]
  },
  {
   "cell_type": "code",
   "execution_count": 7,
   "metadata": {},
   "outputs": [
    {
     "data": {
      "text/plain": [
       "\"SELECT params, category_id, created_at\\nFROM db_atlas_verticals.ads\\nWHERE livesync_dbname = 'carspt' AND category_id = 661\\nAND net_ad_counted = 1\\nAND status = 'active'\\nAND DATEDIFF(DAY, last_update_date, GETDATE()) < 30\\n;\""
      ]
     },
     "execution_count": 7,
     "metadata": {},
     "output_type": "execute_result"
    }
   ],
   "source": [
    "get_query_for_ads_params('carspt', 30)"
   ]
  },
  {
   "cell_type": "code",
   "execution_count": 14,
   "metadata": {},
   "outputs": [],
   "source": [
    "import pandas as pd\n",
    "\n",
    "from sqlalchemy import create_engine\n",
    "\n",
    "def collect_ads_params_data(user, password, host, port, dbname, site_name):\n",
    "    engine = create_engine('postgresql://{user}:{password}@{host}:{port}/{dbname}'.format(\n",
    "        user=user,\n",
    "        password=password,\n",
    "        host=host,\n",
    "        port=port,\n",
    "        dbname=dbname\n",
    "    ))\n",
    "    query = get_query_for_ads_params(site_name='carspt', num_days=30)\n",
    "    return pd.read_sql_query(query, engine)"
   ]
  },
  {
   "cell_type": "code",
   "execution_count": 15,
   "metadata": {},
   "outputs": [],
   "source": [
    "ads_pt = collect_ads_params_data(\n",
    "    user='marco_pasin', password='Welcome_y2m!', host='10.101.5.237', port=5671, dbname='main', site_name='carspt'\n",
    ")"
   ]
  },
  {
   "cell_type": "code",
   "execution_count": 16,
   "metadata": {},
   "outputs": [
    {
     "data": {
      "text/html": [
       "<div>\n",
       "<style scoped>\n",
       "    .dataframe tbody tr th:only-of-type {\n",
       "        vertical-align: middle;\n",
       "    }\n",
       "\n",
       "    .dataframe tbody tr th {\n",
       "        vertical-align: top;\n",
       "    }\n",
       "\n",
       "    .dataframe thead th {\n",
       "        text-align: right;\n",
       "    }\n",
       "</style>\n",
       "<table border=\"1\" class=\"dataframe\">\n",
       "  <thead>\n",
       "    <tr style=\"text-align: right;\">\n",
       "      <th></th>\n",
       "      <th>params</th>\n",
       "      <th>category_id</th>\n",
       "      <th>created_at</th>\n",
       "    </tr>\n",
       "  </thead>\n",
       "  <tbody>\n",
       "    <tr>\n",
       "      <th>0</th>\n",
       "      <td>price&lt;=&gt;price&lt;br&gt;price&lt;=&gt;17&lt;br&gt;price[currency]...</td>\n",
       "      <td>661</td>\n",
       "      <td>2018-08-16 10:22:57</td>\n",
       "    </tr>\n",
       "    <tr>\n",
       "      <th>1</th>\n",
       "      <td>price&lt;=&gt;price&lt;br&gt;price&lt;=&gt;16&lt;br&gt;price[currency]...</td>\n",
       "      <td>661</td>\n",
       "      <td>2018-08-16 10:22:57</td>\n",
       "    </tr>\n",
       "    <tr>\n",
       "      <th>2</th>\n",
       "      <td>price&lt;=&gt;price&lt;br&gt;price&lt;=&gt;15&lt;br&gt;price[currency]...</td>\n",
       "      <td>661</td>\n",
       "      <td>2018-08-16 10:22:57</td>\n",
       "    </tr>\n",
       "    <tr>\n",
       "      <th>3</th>\n",
       "      <td>price&lt;=&gt;price&lt;br&gt;price&lt;=&gt;15&lt;br&gt;price[currency]...</td>\n",
       "      <td>661</td>\n",
       "      <td>2018-08-16 10:22:57</td>\n",
       "    </tr>\n",
       "    <tr>\n",
       "      <th>4</th>\n",
       "      <td>price&lt;=&gt;price&lt;br&gt;price&lt;=&gt;25&lt;br&gt;price[currency]...</td>\n",
       "      <td>661</td>\n",
       "      <td>2018-08-16 10:22:57</td>\n",
       "    </tr>\n",
       "  </tbody>\n",
       "</table>\n",
       "</div>"
      ],
      "text/plain": [
       "                                              params  category_id  \\\n",
       "0  price<=>price<br>price<=>17<br>price[currency]...          661   \n",
       "1  price<=>price<br>price<=>16<br>price[currency]...          661   \n",
       "2  price<=>price<br>price<=>15<br>price[currency]...          661   \n",
       "3  price<=>price<br>price<=>15<br>price[currency]...          661   \n",
       "4  price<=>price<br>price<=>25<br>price[currency]...          661   \n",
       "\n",
       "           created_at  \n",
       "0 2018-08-16 10:22:57  \n",
       "1 2018-08-16 10:22:57  \n",
       "2 2018-08-16 10:22:57  \n",
       "3 2018-08-16 10:22:57  \n",
       "4 2018-08-16 10:22:57  "
      ]
     },
     "execution_count": 16,
     "metadata": {},
     "output_type": "execute_result"
    }
   ],
   "source": [
    "ads_pt.head()"
   ]
  },
  {
   "cell_type": "code",
   "execution_count": 18,
   "metadata": {},
   "outputs": [
    {
     "name": "stdout",
     "output_type": "stream",
     "text": [
      "<class 'pandas.core.frame.DataFrame'>\n",
      "RangeIndex: 302310 entries, 0 to 302309\n",
      "Data columns (total 3 columns):\n",
      "params         302310 non-null object\n",
      "category_id    302310 non-null int64\n",
      "created_at     302310 non-null datetime64[ns]\n",
      "dtypes: datetime64[ns](1), int64(1), object(1)\n",
      "memory usage: 6.9+ MB\n"
     ]
    }
   ],
   "source": [
    "ads_pt.info()"
   ]
  },
  {
   "cell_type": "code",
   "execution_count": 21,
   "metadata": {},
   "outputs": [
    {
     "data": {
      "text/plain": [
       "(302310, 3)"
      ]
     },
     "execution_count": 21,
     "metadata": {},
     "output_type": "execute_result"
    }
   ],
   "source": [
    "ads_pt.shape"
   ]
  },
  {
   "cell_type": "markdown",
   "metadata": {},
   "source": [
    "### Extract parameters"
   ]
  },
  {
   "cell_type": "code",
   "execution_count": 28,
   "metadata": {},
   "outputs": [],
   "source": [
    "from toolz.curried import *\n",
    "\n",
    "def extract_ads_params(s):\n",
    "    return pipe(\n",
    "        s,\n",
    "        lambda x: x.split(\"<br>\"),\n",
    "        map(lambda x: x.split(\"<=>\")),\n",
    "        map(lambda x: [x[0],x[1].split(\"<->\")]),\n",
    "        dict,\n",
    "    )\n",
    "\n",
    "def process_ads_params(df):\n",
    "    return pipe(\n",
    "        df,\n",
    "        lambda x: x.apply(extract_ads_params).values.tolist(),\n",
    "        lambda x: pd.DataFrame(x),\n",
    "        lambda x: x.replace('', np.nan),\n",
    "        #lambda x: x.astype(dtypes),\n",
    "        #lambda x: x.dropna()\n",
    "    )"
   ]
  },
  {
   "cell_type": "code",
   "execution_count": 29,
   "metadata": {},
   "outputs": [],
   "source": [
    "ads_pt_clean = process_ads_params(ads_pt['params'])"
   ]
  },
  {
   "cell_type": "code",
   "execution_count": 30,
   "metadata": {},
   "outputs": [
    {
     "data": {
      "text/html": [
       "<div>\n",
       "<style scoped>\n",
       "    .dataframe tbody tr th:only-of-type {\n",
       "        vertical-align: middle;\n",
       "    }\n",
       "\n",
       "    .dataframe tbody tr th {\n",
       "        vertical-align: top;\n",
       "    }\n",
       "\n",
       "    .dataframe thead th {\n",
       "        text-align: right;\n",
       "    }\n",
       "</style>\n",
       "<table border=\"1\" class=\"dataframe\">\n",
       "  <thead>\n",
       "    <tr style=\"text-align: right;\">\n",
       "      <th></th>\n",
       "      <th>accept_funding</th>\n",
       "      <th>accepts_exchange</th>\n",
       "      <th>authorized_dealer</th>\n",
       "      <th>category</th>\n",
       "      <th>fixed_value</th>\n",
       "      <th>for_parts</th>\n",
       "      <th>maker</th>\n",
       "      <th>price</th>\n",
       "      <th>price[currency]</th>\n",
       "      <th>price[gross_net]</th>\n",
       "      <th>reference</th>\n",
       "      <th>sub_category</th>\n",
       "      <th>tax_deductible</th>\n",
       "      <th>title</th>\n",
       "      <th>under_budget</th>\n",
       "      <th>vehicle_type</th>\n",
       "      <th>video</th>\n",
       "    </tr>\n",
       "  </thead>\n",
       "  <tbody>\n",
       "    <tr>\n",
       "      <th>0</th>\n",
       "      <td>NaN</td>\n",
       "      <td>NaN</td>\n",
       "      <td>[0]</td>\n",
       "      <td>[lighting]</td>\n",
       "      <td>[1]</td>\n",
       "      <td>NaN</td>\n",
       "      <td>NaN</td>\n",
       "      <td>[17]</td>\n",
       "      <td>[EUR]</td>\n",
       "      <td>[gross]</td>\n",
       "      <td>NaN</td>\n",
       "      <td>[pistons]</td>\n",
       "      <td>[1]</td>\n",
       "      <td>[Pisca / farois / farolins laterais Audi 80 fu...</td>\n",
       "      <td>NaN</td>\n",
       "      <td>NaN</td>\n",
       "      <td>NaN</td>\n",
       "    </tr>\n",
       "    <tr>\n",
       "      <th>1</th>\n",
       "      <td>NaN</td>\n",
       "      <td>NaN</td>\n",
       "      <td>[0]</td>\n",
       "      <td>[lighting]</td>\n",
       "      <td>[1]</td>\n",
       "      <td>NaN</td>\n",
       "      <td>NaN</td>\n",
       "      <td>[16]</td>\n",
       "      <td>[EUR]</td>\n",
       "      <td>[gross]</td>\n",
       "      <td>NaN</td>\n",
       "      <td>[pistons]</td>\n",
       "      <td>[1]</td>\n",
       "      <td>[Pisca / farois / farolins laterais seat Alham...</td>\n",
       "      <td>NaN</td>\n",
       "      <td>NaN</td>\n",
       "      <td>NaN</td>\n",
       "    </tr>\n",
       "    <tr>\n",
       "      <th>2</th>\n",
       "      <td>NaN</td>\n",
       "      <td>NaN</td>\n",
       "      <td>[0]</td>\n",
       "      <td>[lighting]</td>\n",
       "      <td>[1]</td>\n",
       "      <td>NaN</td>\n",
       "      <td>NaN</td>\n",
       "      <td>[15]</td>\n",
       "      <td>[EUR]</td>\n",
       "      <td>[gross]</td>\n",
       "      <td>NaN</td>\n",
       "      <td>[pistons]</td>\n",
       "      <td>[1]</td>\n",
       "      <td>[Pisca / farois / farolins laterais opel Opel ...</td>\n",
       "      <td>NaN</td>\n",
       "      <td>NaN</td>\n",
       "      <td>NaN</td>\n",
       "    </tr>\n",
       "    <tr>\n",
       "      <th>3</th>\n",
       "      <td>NaN</td>\n",
       "      <td>NaN</td>\n",
       "      <td>[0]</td>\n",
       "      <td>[lighting]</td>\n",
       "      <td>[1]</td>\n",
       "      <td>NaN</td>\n",
       "      <td>NaN</td>\n",
       "      <td>[15]</td>\n",
       "      <td>[EUR]</td>\n",
       "      <td>[gross]</td>\n",
       "      <td>NaN</td>\n",
       "      <td>[pistons]</td>\n",
       "      <td>[1]</td>\n",
       "      <td>[Pisca / farois / farolins laterais Peugeot Pa...</td>\n",
       "      <td>NaN</td>\n",
       "      <td>NaN</td>\n",
       "      <td>NaN</td>\n",
       "    </tr>\n",
       "    <tr>\n",
       "      <th>4</th>\n",
       "      <td>NaN</td>\n",
       "      <td>NaN</td>\n",
       "      <td>[0]</td>\n",
       "      <td>[lighting]</td>\n",
       "      <td>[1]</td>\n",
       "      <td>NaN</td>\n",
       "      <td>NaN</td>\n",
       "      <td>[25]</td>\n",
       "      <td>[EUR]</td>\n",
       "      <td>[gross]</td>\n",
       "      <td>NaN</td>\n",
       "      <td>NaN</td>\n",
       "      <td>[1]</td>\n",
       "      <td>[Pisca frontal bmw e46 4p 98-01 fundo cristal ...</td>\n",
       "      <td>NaN</td>\n",
       "      <td>NaN</td>\n",
       "      <td>NaN</td>\n",
       "    </tr>\n",
       "  </tbody>\n",
       "</table>\n",
       "</div>"
      ],
      "text/plain": [
       "  accept_funding accepts_exchange authorized_dealer    category fixed_value  \\\n",
       "0            NaN              NaN               [0]  [lighting]         [1]   \n",
       "1            NaN              NaN               [0]  [lighting]         [1]   \n",
       "2            NaN              NaN               [0]  [lighting]         [1]   \n",
       "3            NaN              NaN               [0]  [lighting]         [1]   \n",
       "4            NaN              NaN               [0]  [lighting]         [1]   \n",
       "\n",
       "  for_parts maker price price[currency] price[gross_net] reference  \\\n",
       "0       NaN   NaN  [17]           [EUR]          [gross]       NaN   \n",
       "1       NaN   NaN  [16]           [EUR]          [gross]       NaN   \n",
       "2       NaN   NaN  [15]           [EUR]          [gross]       NaN   \n",
       "3       NaN   NaN  [15]           [EUR]          [gross]       NaN   \n",
       "4       NaN   NaN  [25]           [EUR]          [gross]       NaN   \n",
       "\n",
       "  sub_category tax_deductible  \\\n",
       "0    [pistons]            [1]   \n",
       "1    [pistons]            [1]   \n",
       "2    [pistons]            [1]   \n",
       "3    [pistons]            [1]   \n",
       "4          NaN            [1]   \n",
       "\n",
       "                                               title under_budget  \\\n",
       "0  [Pisca / farois / farolins laterais Audi 80 fu...          NaN   \n",
       "1  [Pisca / farois / farolins laterais seat Alham...          NaN   \n",
       "2  [Pisca / farois / farolins laterais opel Opel ...          NaN   \n",
       "3  [Pisca / farois / farolins laterais Peugeot Pa...          NaN   \n",
       "4  [Pisca frontal bmw e46 4p 98-01 fundo cristal ...          NaN   \n",
       "\n",
       "  vehicle_type video  \n",
       "0          NaN   NaN  \n",
       "1          NaN   NaN  \n",
       "2          NaN   NaN  \n",
       "3          NaN   NaN  \n",
       "4          NaN   NaN  "
      ]
     },
     "execution_count": 30,
     "metadata": {},
     "output_type": "execute_result"
    }
   ],
   "source": [
    "ads_pt_clean.head()"
   ]
  },
  {
   "cell_type": "code",
   "execution_count": 27,
   "metadata": {},
   "outputs": [
    {
     "data": {
      "text/plain": [
       "Index(['accept_funding', 'accepts_exchange', 'authorized_dealer', 'category',\n",
       "       'fixed_value', 'for_parts', 'maker', 'price', 'price[currency]',\n",
       "       'price[gross_net]', 'reference', 'sub_category', 'tax_deductible',\n",
       "       'title', 'under_budget', 'vehicle_type', 'video'],\n",
       "      dtype='object')"
      ]
     },
     "execution_count": 27,
     "metadata": {},
     "output_type": "execute_result"
    }
   ],
   "source": [
    "ads_pt_clean.columns"
   ]
  },
  {
   "cell_type": "code",
   "execution_count": null,
   "metadata": {},
   "outputs": [],
   "source": []
  }
 ],
 "metadata": {
  "kernelspec": {
   "display_name": "Python 3",
   "language": "python",
   "name": "python3"
  },
  "language_info": {
   "codemirror_mode": {
    "name": "ipython",
    "version": 3
   },
   "file_extension": ".py",
   "mimetype": "text/x-python",
   "name": "python",
   "nbconvert_exporter": "python",
   "pygments_lexer": "ipython3",
   "version": "3.6.4"
  }
 },
 "nbformat": 4,
 "nbformat_minor": 2
}
