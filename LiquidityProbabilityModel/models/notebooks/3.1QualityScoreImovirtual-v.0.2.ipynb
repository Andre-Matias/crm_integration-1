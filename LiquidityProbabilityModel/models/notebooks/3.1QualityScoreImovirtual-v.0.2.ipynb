{
 "cells": [
  {
   "cell_type": "markdown",
   "metadata": {},
   "source": [
    "### What is this notebook for? ###\n",
    "\n",
    "The main purpose of this notebook is buiding Liquidity's probability model for the Imovirtual, category \"apartments for sell\".\n",
    "\n",
    "**Prerequisities:** \"ml_dataset_imovirtual.tsv\". Can be obtained with `2.QualityDriversDataPrepImovirtual-Jun-Dec.ipynb`\n",
    "\n",
    "**Output:**\n",
    "\n",
    "* Stored model: `xgb_imo_buy_02.pkl`\n",
    "* Average price for city/rooms_num: `avg_city_price_imo_buy_02.csv`\n",
    "* Model columns name: `model_columns_xgb_imo_buy_02.pkl`"
   ]
  },
  {
   "cell_type": "code",
   "execution_count": 1,
   "metadata": {
    "collapsed": false
   },
   "outputs": [
    {
     "name": "stderr",
     "output_type": "stream",
     "text": [
      "/anaconda/lib/python3.6/site-packages/sklearn/cross_validation.py:44: DeprecationWarning: This module was deprecated in version 0.18 in favor of the model_selection module into which all the refactored classes and functions are moved. Also note that the interface of the new CV iterators are different from that of this module. This module will be removed in 0.20.\n",
      "  \"This module will be removed in 0.20.\", DeprecationWarning)\n"
     ]
    }
   ],
   "source": [
    "import pandas as pd\n",
    "import numpy as np\n",
    "\n",
    "from sklearn.model_selection import  train_test_split\n",
    "from sklearn.metrics import precision_score, recall_score, f1_score, accuracy_score, roc_auc_score, classification_report\n",
    "\n",
    "from xgboost.sklearn import XGBClassifier\n",
    "from sklearn.externals import joblib\n",
    "\n",
    "import matplotlib.pyplot as plt\n",
    "%matplotlib inline"
   ]
  },
  {
   "cell_type": "code",
   "execution_count": 2,
   "metadata": {
    "collapsed": true
   },
   "outputs": [],
   "source": [
    "import warnings\n",
    "warnings.filterwarnings('ignore')"
   ]
  },
  {
   "cell_type": "code",
   "execution_count": 3,
   "metadata": {
    "collapsed": false
   },
   "outputs": [],
   "source": [
    "dataset_full = pd.read_csv(\"ml_dataset_imovirtual.tsv\", sep =\"\\t\")"
   ]
  },
  {
   "cell_type": "markdown",
   "metadata": {},
   "source": [
    "Select only listings in category 101, apartments for sell."
   ]
  },
  {
   "cell_type": "code",
   "execution_count": 4,
   "metadata": {
    "collapsed": true
   },
   "outputs": [],
   "source": [
    "dataset_full = dataset_full[dataset_full['category_id'] == 101]"
   ]
  },
  {
   "cell_type": "markdown",
   "metadata": {},
   "source": [
    "We will train our model on Jun-Nov data:"
   ]
  },
  {
   "cell_type": "code",
   "execution_count": 5,
   "metadata": {
    "collapsed": true
   },
   "outputs": [],
   "source": [
    "train_full = dataset_full[dataset_full['month'] !=12]"
   ]
  },
  {
   "cell_type": "markdown",
   "metadata": {},
   "source": [
    "Data validation on December data:"
   ]
  },
  {
   "cell_type": "code",
   "execution_count": 6,
   "metadata": {
    "collapsed": true
   },
   "outputs": [],
   "source": [
    "cv_full =  dataset_full[dataset_full['month'] == 12]"
   ]
  },
  {
   "cell_type": "code",
   "execution_count": 7,
   "metadata": {
    "collapsed": false
   },
   "outputs": [],
   "source": [
    "#cv_full['n_images2'] = cv_full['n_images']"
   ]
  },
  {
   "cell_type": "code",
   "execution_count": 8,
   "metadata": {
    "collapsed": true
   },
   "outputs": [],
   "source": [
    "def create_liquid_field(dataframe):\n",
    "    dataframe['unique_senders'] = dataframe['unique_senders'].fillna(0).astype('int')\n",
    "    dataframe['liquid'] = (dataframe['unique_senders'] >= 3).astype('int')\n",
    "    return dataframe"
   ]
  },
  {
   "cell_type": "code",
   "execution_count": 9,
   "metadata": {
    "collapsed": true
   },
   "outputs": [],
   "source": [
    "def select_category(dataframe, category_id):\n",
    "    dataframe = dataframe[dataframe['category_id'] == category_id]\n",
    "    return dataframe"
   ]
  },
  {
   "cell_type": "code",
   "execution_count": 10,
   "metadata": {
    "collapsed": true
   },
   "outputs": [],
   "source": [
    "def select_columns(dataframe, columns):\n",
    "    dataframe = dataframe[columns]\n",
    "    return dataframe"
   ]
  },
  {
   "cell_type": "code",
   "execution_count": 11,
   "metadata": {
    "collapsed": true
   },
   "outputs": [],
   "source": [
    "columns =  ['ad_id',\n",
    "            'city_id', \n",
    "            'title', \n",
    "            'description', \n",
    "            'private_business',\n",
    "            'n_images2',\n",
    "            'was_paid_for_post', \n",
    "            'is_paid_for_post', \n",
    "            'street_name',\n",
    "            'mysql_search_m', \n",
    "            'mysql_search_price',\n",
    "            'rooms_num', \n",
    "            'bathrooms_num',\n",
    "            'condition', \n",
    "            'construction_year',\n",
    "            'energy_certificate', \n",
    "            'negotiable',\n",
    "            'exchange', \n",
    "            'unique_senders']"
   ]
  },
  {
   "cell_type": "code",
   "execution_count": 12,
   "metadata": {
    "collapsed": true
   },
   "outputs": [],
   "source": [
    "def filter_values(dataframe, col, values_list):\n",
    "    dataframe = dataframe[dataframe[col].isin(values_list)]\n",
    "    return dataframe"
   ]
  },
  {
   "cell_type": "code",
   "execution_count": 13,
   "metadata": {
    "collapsed": true
   },
   "outputs": [],
   "source": [
    "def remove_outliers(dataframe, col, lower_bound, upper_bound):\n",
    "    dataframe = dataframe[(dataframe[col] >= lower_bound) & (dataframe[col] <= upper_bound)]\n",
    "    return dataframe"
   ]
  },
  {
   "cell_type": "code",
   "execution_count": 14,
   "metadata": {
    "collapsed": true
   },
   "outputs": [],
   "source": [
    "def add_avg_price_city_ap_type(dataframe):\n",
    "    city_n = pd.DataFrame({'city_n': dataframe.groupby(['city_id'])['ad_id'].nunique()}).reset_index()\n",
    "    city_room_avg_price = pd.DataFrame({'avg_price': dataframe.groupby(['city_id', 'rooms_num'])['mysql_search_price'].mean()}).reset_index()\n",
    "    dataframe = dataframe.merge(city_n, on='city_id', how='left')\n",
    "    dataframe = dataframe.merge(city_room_avg_price, on = ['city_id', 'rooms_num'], how='left')\n",
    "    #dataframe = dataframe[dataframe[\"city_n\"] >= 30]\n",
    "    return dataframe"
   ]
  },
  {
   "cell_type": "code",
   "execution_count": 15,
   "metadata": {
    "collapsed": true
   },
   "outputs": [],
   "source": [
    "def count_avg_price_city_ap_type(dataframe):\n",
    "    city_n = pd.DataFrame({'city_n': dataframe.groupby(['city_id'])['ad_id'].nunique()}).reset_index()\n",
    "    city_room_avg_price = pd.DataFrame({'avg_price': dataframe.groupby(['city_id', 'rooms_num'])['mysql_search_price'].mean()}).reset_index()\n",
    "    return city_room_avg_price"
   ]
  },
  {
   "cell_type": "code",
   "execution_count": 16,
   "metadata": {
    "collapsed": true
   },
   "outputs": [],
   "source": [
    "def add_higher_city_room_avg(dataframe):\n",
    "    dataframe['higher_city_room_mean'] = (dataframe['mysql_search_price'] > dataframe['avg_price']).astype('int')\n",
    "    return dataframe"
   ]
  },
  {
   "cell_type": "code",
   "execution_count": 17,
   "metadata": {
    "collapsed": true
   },
   "outputs": [],
   "source": [
    "def private_business_binarization(dataframe):\n",
    "    dataframe.private_business = dataframe.private_business.replace({'private': 1, 'business':0})\n",
    "    dataframe.private_business = dataframe.private_business.fillna('no_info')\n",
    "    return dataframe"
   ]
  },
  {
   "cell_type": "code",
   "execution_count": 18,
   "metadata": {
    "collapsed": true
   },
   "outputs": [],
   "source": [
    "def column_info(dataframe, col, new_column_name, drop=False):\n",
    "    dataframe[new_column_name] = pd.notnull(dataframe[col]).astype('int')\n",
    "    if drop:\n",
    "        dataframe = dataframe.drop(col, axis=1)\n",
    "    return dataframe"
   ]
  },
  {
   "cell_type": "code",
   "execution_count": 19,
   "metadata": {
    "collapsed": true
   },
   "outputs": [],
   "source": [
    "def create_construction_decade(dataframe):\n",
    "    dataframe['construction_year'] = dataframe['construction_year'].replace('no', 0).astype('float')\n",
    "    dataframe['construction_year_decade'] = dataframe['construction_year'].fillna(0)\\\n",
    "    .apply(lambda year: year if (year > 1000 and year < 2030) else 'no_info')\\\n",
    "    .apply(lambda year: str(year)[0:3]+'0')\n",
    "    dataframe = dataframe.drop('construction_year', axis=1)\n",
    "    return dataframe"
   ]
  },
  {
   "cell_type": "code",
   "execution_count": 20,
   "metadata": {
    "collapsed": true
   },
   "outputs": [],
   "source": [
    "def create_avg_price_diff(dataframe, avg_price_col, price_col, new_column_name):\n",
    "    dataframe[new_column_name] = (dataframe[price_col] - dataframe[avg_price_col])/dataframe[avg_price_col]\n",
    "    return dataframe"
   ]
  },
  {
   "cell_type": "markdown",
   "metadata": {},
   "source": [
    "#### Category dict\n",
    "\n",
    "* 101 - apartments to buy\n",
    "* 102 - apartments to rent"
   ]
  },
  {
   "cell_type": "code",
   "execution_count": 21,
   "metadata": {
    "collapsed": false
   },
   "outputs": [],
   "source": [
    "imo_train_buy = train_full.pipe(select_category, category_id = 101)\\\n",
    ".pipe(select_columns, columns=columns)\\\n",
    ".pipe(create_liquid_field)\\\n",
    ".pipe(remove_outliers, col='mysql_search_price', lower_bound=20000, upper_bound=400000)\\\n",
    ".pipe(filter_values, col='rooms_num', values_list=['0', '1', '2', '3', '4', '5', '6'])\\\n",
    ".pipe(remove_outliers, col='mysql_search_m', lower_bound=20, upper_bound=200)\\\n",
    ".pipe(add_avg_price_city_ap_type)\\\n",
    ".pipe(add_higher_city_room_avg)\\\n",
    ".pipe(private_business_binarization)\\\n",
    ".pipe(column_info, col='construction_year', new_column_name='construction_year_info')\\\n",
    ".pipe(column_info, col='energy_certificate', new_column_name='energy_certificate')\\\n",
    ".pipe(column_info, col='bathrooms_num', new_column_name='bathrooms_info')\\\n",
    ".pipe(column_info, col='condition', new_column_name='condition_info')\\\n",
    ".pipe(create_construction_decade)\\\n",
    ".pipe(column_info, col='street_name', new_column_name='street_info', drop=True)\\\n",
    ".pipe(create_avg_price_diff, avg_price_col='avg_price', price_col='mysql_search_price', new_column_name= 'price_diff')"
   ]
  },
  {
   "cell_type": "code",
   "execution_count": 22,
   "metadata": {
    "collapsed": false
   },
   "outputs": [],
   "source": [
    "imo_cv_buy = cv_full.pipe(select_category, category_id = 101)\\\n",
    ".pipe(select_columns, columns=columns)\\\n",
    ".pipe(create_liquid_field)\\\n",
    ".pipe(remove_outliers, col='mysql_search_price', lower_bound=20000, upper_bound=400000)\\\n",
    ".pipe(filter_values, col='rooms_num', values_list=['0', '1', '2', '3', '4', '5', '6'])\\\n",
    ".pipe(remove_outliers, col='mysql_search_m', lower_bound=20, upper_bound=200)\\\n",
    ".pipe(add_avg_price_city_ap_type)\\\n",
    ".pipe(add_higher_city_room_avg)\\\n",
    ".pipe(private_business_binarization)\\\n",
    ".pipe(column_info, col='construction_year', new_column_name='construction_year_info')\\\n",
    ".pipe(column_info, col='energy_certificate', new_column_name='energy_certificate')\\\n",
    ".pipe(column_info, col='bathrooms_num', new_column_name='bathrooms_info')\\\n",
    ".pipe(column_info, col='condition', new_column_name='condition_info')\\\n",
    ".pipe(create_construction_decade)\\\n",
    ".pipe(column_info, col='street_name', new_column_name='street_info', drop=True)\\\n",
    ".pipe(create_avg_price_diff, avg_price_col='avg_price', price_col='mysql_search_price', new_column_name= 'price_diff')"
   ]
  },
  {
   "cell_type": "code",
   "execution_count": 23,
   "metadata": {
    "collapsed": false
   },
   "outputs": [
    {
     "data": {
      "text/plain": [
       "Index(['ad_id', 'city_id', 'title', 'description', 'private_business',\n",
       "       'n_images2', 'was_paid_for_post', 'is_paid_for_post', 'mysql_search_m',\n",
       "       'mysql_search_price', 'rooms_num', 'bathrooms_num', 'condition',\n",
       "       'energy_certificate', 'negotiable', 'exchange', 'unique_senders',\n",
       "       'liquid', 'city_n', 'avg_price', 'higher_city_room_mean',\n",
       "       'construction_year_info', 'bathrooms_info', 'condition_info',\n",
       "       'construction_year_decade', 'street_info', 'price_diff'],\n",
       "      dtype='object')"
      ]
     },
     "execution_count": 23,
     "metadata": {},
     "output_type": "execute_result"
    }
   ],
   "source": [
    "imo_train_buy.columns"
   ]
  },
  {
   "cell_type": "code",
   "execution_count": 24,
   "metadata": {
    "collapsed": true
   },
   "outputs": [],
   "source": [
    "cat_columns = ['energy_certificate',\n",
    "               'rooms_num',\n",
    "               'bathrooms_num',\n",
    "               'condition',\n",
    "               'energy_certificate', \n",
    "               'negotiable',\n",
    "               'exchange',\n",
    "               'construction_year_decade']"
   ]
  },
  {
   "cell_type": "code",
   "execution_count": 25,
   "metadata": {
    "collapsed": true
   },
   "outputs": [],
   "source": [
    "num_columns = ['title', \n",
    "               'description', \n",
    "               'mysql_search_m', \n",
    "               'mysql_search_price', \n",
    "               'n_images2', \n",
    "               'avg_price',\n",
    "              'price_diff']"
   ]
  },
  {
   "cell_type": "code",
   "execution_count": 26,
   "metadata": {
    "collapsed": false
   },
   "outputs": [
    {
     "data": {
      "text/plain": [
       "Index(['ad_id', 'city_id', 'title', 'description', 'private_business',\n",
       "       'n_images2', 'was_paid_for_post', 'is_paid_for_post', 'mysql_search_m',\n",
       "       'mysql_search_price', 'rooms_num', 'bathrooms_num', 'condition',\n",
       "       'energy_certificate', 'negotiable', 'exchange', 'unique_senders',\n",
       "       'liquid', 'city_n', 'avg_price', 'higher_city_room_mean',\n",
       "       'construction_year_info', 'bathrooms_info', 'condition_info',\n",
       "       'construction_year_decade', 'street_info', 'price_diff'],\n",
       "      dtype='object')"
      ]
     },
     "execution_count": 26,
     "metadata": {},
     "output_type": "execute_result"
    }
   ],
   "source": [
    "imo_train_buy.columns"
   ]
  },
  {
   "cell_type": "code",
   "execution_count": 27,
   "metadata": {
    "collapsed": true
   },
   "outputs": [],
   "source": [
    "train_columns = ['city_id', \n",
    "                 'title', \n",
    "                 'description', \n",
    "                 'private_business',\n",
    "                 'n_images2', \n",
    "                 'was_paid_for_post', \n",
    "                 'is_paid_for_post', \n",
    "                 'mysql_search_m',\n",
    "                 'mysql_search_price', \n",
    "                 'rooms_num',\n",
    "                 'bathrooms_num', \n",
    "                 'condition', \n",
    "                 'energy_certificate', \n",
    "                 'negotiable',\n",
    "                 'exchange',  \n",
    "                 'avg_price',\n",
    "                 'higher_city_room_mean', \n",
    "                 'construction_year_info', \n",
    "                 'bathrooms_info',\n",
    "                 'condition_info', \n",
    "                 'construction_year_decade', \n",
    "                 'street_info',\n",
    "                 'price_diff',\n",
    "                 'liquid']"
   ]
  },
  {
   "cell_type": "code",
   "execution_count": 28,
   "metadata": {
    "collapsed": false
   },
   "outputs": [],
   "source": [
    "imo_train_buy = imo_train_buy[train_columns]"
   ]
  },
  {
   "cell_type": "code",
   "execution_count": 29,
   "metadata": {
    "collapsed": false
   },
   "outputs": [],
   "source": [
    "imo_cv_buy = imo_cv_buy[train_columns]"
   ]
  },
  {
   "cell_type": "code",
   "execution_count": 30,
   "metadata": {
    "collapsed": false
   },
   "outputs": [],
   "source": [
    "imo_train_buy[cat_columns] = imo_train_buy[cat_columns].fillna('no_info')\n",
    "imo_cv_buy[cat_columns] = imo_cv_buy[cat_columns].fillna('no_info')"
   ]
  },
  {
   "cell_type": "code",
   "execution_count": 31,
   "metadata": {
    "collapsed": false
   },
   "outputs": [],
   "source": [
    "imo_train_buy[cat_columns] = imo_train_buy[cat_columns].astype('str')\n",
    "imo_cv_buy[cat_columns] = imo_cv_buy[cat_columns].astype('str')"
   ]
  },
  {
   "cell_type": "code",
   "execution_count": 32,
   "metadata": {
    "collapsed": false
   },
   "outputs": [],
   "source": [
    "imo_train_buy[num_columns] = imo_train_buy[num_columns].fillna(0)\n",
    "imo_cv_buy[num_columns] = imo_cv_buy[num_columns].fillna(0)"
   ]
  },
  {
   "cell_type": "code",
   "execution_count": 33,
   "metadata": {
    "collapsed": true
   },
   "outputs": [],
   "source": [
    "train_dataset = pd.get_dummies(imo_train_buy)\n",
    "test_dataset = pd.get_dummies(imo_cv_buy)"
   ]
  },
  {
   "cell_type": "code",
   "execution_count": 34,
   "metadata": {
    "collapsed": false
   },
   "outputs": [
    {
     "data": {
      "text/plain": [
       "(105527, 72)"
      ]
     },
     "execution_count": 34,
     "metadata": {},
     "output_type": "execute_result"
    }
   ],
   "source": [
    "train_dataset.shape"
   ]
  },
  {
   "cell_type": "code",
   "execution_count": 35,
   "metadata": {
    "collapsed": false
   },
   "outputs": [],
   "source": [
    "y = train_dataset['liquid']\n",
    "y_cv = test_dataset['liquid']"
   ]
  },
  {
   "cell_type": "code",
   "execution_count": 36,
   "metadata": {
    "collapsed": false
   },
   "outputs": [],
   "source": [
    "X = train_dataset.drop('liquid', axis=1)\n",
    "X_cv = test_dataset.drop('liquid', axis=1)"
   ]
  },
  {
   "cell_type": "code",
   "execution_count": 37,
   "metadata": {
    "collapsed": false
   },
   "outputs": [],
   "source": [
    "X_train, X_test, y_train, y_test = train_test_split(X, y, random_state=432)"
   ]
  },
  {
   "cell_type": "code",
   "execution_count": 38,
   "metadata": {
    "collapsed": false
   },
   "outputs": [
    {
     "data": {
      "text/plain": [
       "7.029140987597961"
      ]
     },
     "execution_count": 38,
     "metadata": {},
     "output_type": "execute_result"
    }
   ],
   "source": [
    "ratio = float(np.sum(y == 0)) / np.sum(y == 1)\n",
    "ratio"
   ]
  },
  {
   "cell_type": "code",
   "execution_count": 39,
   "metadata": {
    "collapsed": true
   },
   "outputs": [],
   "source": [
    "default_params = {\n",
    "    'objective': 'binary:logistic',\n",
    "    'max_depth':7,\n",
    "    'learning_rate': 0.1,\n",
    "    'silent': False,\n",
    "    'min_child_weight': 7,\n",
    "    'subsample': 0.8, \n",
    "    'colsample_bytree': 0.8,\n",
    "    'scale_pos_weight': ratio,\n",
    "    'n_estimators': 2500\n",
    "}\n"
   ]
  },
  {
   "cell_type": "code",
   "execution_count": 40,
   "metadata": {
    "collapsed": true
   },
   "outputs": [],
   "source": [
    "clf = XGBClassifier(**default_params)"
   ]
  },
  {
   "cell_type": "code",
   "execution_count": 41,
   "metadata": {
    "collapsed": false
   },
   "outputs": [
    {
     "data": {
      "text/plain": [
       "XGBClassifier(base_score=0.5, colsample_bylevel=1, colsample_bytree=0.8,\n",
       "       gamma=0, learning_rate=0.1, max_delta_step=0, max_depth=7,\n",
       "       min_child_weight=7, missing=None, n_estimators=2500, nthread=-1,\n",
       "       objective='binary:logistic', reg_alpha=0, reg_lambda=1,\n",
       "       scale_pos_weight=7.029140987597961, seed=0, silent=False,\n",
       "       subsample=0.8)"
      ]
     },
     "execution_count": 41,
     "metadata": {},
     "output_type": "execute_result"
    }
   ],
   "source": [
    "clf.fit(X_train, y_train, \n",
    "        eval_set=[(X_train, y_train), (X_test, y_test)], \n",
    "        eval_metric='logloss', \n",
    "        verbose=False, early_stopping_rounds=10)"
   ]
  },
  {
   "cell_type": "code",
   "execution_count": 42,
   "metadata": {
    "collapsed": false
   },
   "outputs": [
    {
     "data": {
      "text/plain": [
       "['xgb_imo_buy_02.pkl']"
      ]
     },
     "execution_count": 42,
     "metadata": {},
     "output_type": "execute_result"
    }
   ],
   "source": [
    "from sklearn.externals import joblib\n",
    "joblib.dump(clf, 'xgb_imo_buy_02.pkl') "
   ]
  },
  {
   "cell_type": "code",
   "execution_count": 43,
   "metadata": {
    "collapsed": true
   },
   "outputs": [],
   "source": [
    "def my_plot_importance(booster, figsize, **kwargs): \n",
    "    from matplotlib import pyplot as plt\n",
    "    from xgboost import plot_importance\n",
    "    fig, ax = plt.subplots(1,1,figsize=figsize)\n",
    "    return plot_importance(booster=booster, ax=ax, **kwargs)"
   ]
  },
  {
   "cell_type": "code",
   "execution_count": 44,
   "metadata": {
    "collapsed": false
   },
   "outputs": [
    {
     "data": {
      "text/plain": [
       "<matplotlib.axes._subplots.AxesSubplot at 0x130ac2b70>"
      ]
     },
     "execution_count": 44,
     "metadata": {},
     "output_type": "execute_result"
    },
    {
     "data": {
      "image/png": "[encoded data removed]",
      "text/plain": [
       "<matplotlib.figure.Figure at 0x11f1fc828>"
      ]
     },
     "metadata": {},
     "output_type": "display_data"
    }
   ],
   "source": [
    "my_plot_importance(clf, figsize=(10, 20),  importance_type='gain' )"
   ]
  },
  {
   "cell_type": "markdown",
   "metadata": {},
   "source": [
    "**Validation on train:**"
   ]
  },
  {
   "cell_type": "code",
   "execution_count": 45,
   "metadata": {
    "collapsed": false
   },
   "outputs": [],
   "source": [
    "y_train_predict = clf.predict(X_train)"
   ]
  },
  {
   "cell_type": "code",
   "execution_count": 46,
   "metadata": {
    "collapsed": false
   },
   "outputs": [
    {
     "name": "stdout",
     "output_type": "stream",
     "text": [
      "Accuracy: 0.94\n",
      "Precision: 0.69\n",
      "Recall: 0.98\n",
      "F1: 0.81\n"
     ]
    }
   ],
   "source": [
    "print('Accuracy: {0:.2f}'.format(accuracy_score(y_train, y_train_predict)))\n",
    "print('Precision: {0:.2f}'.format(precision_score(y_train, y_train_predict)))\n",
    "print('Recall: {0:.2f}'.format(recall_score(y_train, y_train_predict)))\n",
    "print('F1: {0:.2f}'.format(f1_score(y_train, y_train_predict)))"
   ]
  },
  {
   "cell_type": "code",
   "execution_count": 47,
   "metadata": {
    "collapsed": false
   },
   "outputs": [
    {
     "data": {
      "text/html": [
       "<div>\n",
       "<table border=\"1\" class=\"dataframe\">\n",
       "  <thead>\n",
       "    <tr style=\"text-align: right;\">\n",
       "      <th>Predicted</th>\n",
       "      <th>0.0</th>\n",
       "      <th>1.0</th>\n",
       "      <th>All</th>\n",
       "    </tr>\n",
       "    <tr>\n",
       "      <th>Actual</th>\n",
       "      <th></th>\n",
       "      <th></th>\n",
       "      <th></th>\n",
       "    </tr>\n",
       "  </thead>\n",
       "  <tbody>\n",
       "    <tr>\n",
       "      <th>0.0</th>\n",
       "      <td>42253</td>\n",
       "      <td>9034</td>\n",
       "      <td>51287</td>\n",
       "    </tr>\n",
       "    <tr>\n",
       "      <th>1.0</th>\n",
       "      <td>6649</td>\n",
       "      <td>1423</td>\n",
       "      <td>8072</td>\n",
       "    </tr>\n",
       "    <tr>\n",
       "      <th>All</th>\n",
       "      <td>48902</td>\n",
       "      <td>10457</td>\n",
       "      <td>59359</td>\n",
       "    </tr>\n",
       "  </tbody>\n",
       "</table>\n",
       "</div>"
      ],
      "text/plain": [
       "Predicted    0.0    1.0    All\n",
       "Actual                        \n",
       "0.0        42253   9034  51287\n",
       "1.0         6649   1423   8072\n",
       "All        48902  10457  59359"
      ]
     },
     "execution_count": 47,
     "metadata": {},
     "output_type": "execute_result"
    }
   ],
   "source": [
    "pd.crosstab(\n",
    "    pd.Series(y_train, name='Actual'),\n",
    "    pd.Series(y_train_predict, name='Predicted'),\n",
    "    margins=True\n",
    ")"
   ]
  },
  {
   "cell_type": "code",
   "execution_count": 48,
   "metadata": {
    "collapsed": false
   },
   "outputs": [
    {
     "name": "stdout",
     "output_type": "stream",
     "text": [
      "             precision    recall  f1-score   support\n",
      "\n",
      "          0       1.00      0.94      0.97     69376\n",
      "          1       0.69      0.98      0.81      9769\n",
      "\n",
      "avg / total       0.96      0.94      0.95     79145\n",
      "\n"
     ]
    }
   ],
   "source": [
    "print(classification_report(y_train, y_train_predict))"
   ]
  },
  {
   "cell_type": "markdown",
   "metadata": {},
   "source": [
    "**Validation on test:**"
   ]
  },
  {
   "cell_type": "code",
   "execution_count": 49,
   "metadata": {
    "collapsed": false
   },
   "outputs": [],
   "source": [
    "y_val_predict = clf.predict(X_test)"
   ]
  },
  {
   "cell_type": "code",
   "execution_count": 50,
   "metadata": {
    "collapsed": false
   },
   "outputs": [
    {
     "name": "stdout",
     "output_type": "stream",
     "text": [
      "Accuracy: 0.86\n",
      "Precision: 0.46\n",
      "Recall: 0.59\n",
      "F1: 0.52\n"
     ]
    }
   ],
   "source": [
    "print('Accuracy: {0:.2f}'.format(accuracy_score(y_test, y_val_predict)))\n",
    "print('Precision: {0:.2f}'.format(precision_score(y_test, y_val_predict)))\n",
    "print('Recall: {0:.2f}'.format(recall_score(y_test, y_val_predict)))\n",
    "print('F1: {0:.2f}'.format(f1_score(y_test, y_val_predict)))"
   ]
  },
  {
   "cell_type": "code",
   "execution_count": 51,
   "metadata": {
    "collapsed": false
   },
   "outputs": [
    {
     "data": {
      "text/html": [
       "<div>\n",
       "<table border=\"1\" class=\"dataframe\">\n",
       "  <thead>\n",
       "    <tr style=\"text-align: right;\">\n",
       "      <th>Predicted</th>\n",
       "      <th>0.0</th>\n",
       "      <th>1.0</th>\n",
       "      <th>All</th>\n",
       "    </tr>\n",
       "    <tr>\n",
       "      <th>Actual</th>\n",
       "      <th></th>\n",
       "      <th></th>\n",
       "      <th></th>\n",
       "    </tr>\n",
       "  </thead>\n",
       "  <tbody>\n",
       "    <tr>\n",
       "      <th>0.0</th>\n",
       "      <td>4350</td>\n",
       "      <td>915</td>\n",
       "      <td>5265</td>\n",
       "    </tr>\n",
       "    <tr>\n",
       "      <th>1.0</th>\n",
       "      <td>1066</td>\n",
       "      <td>217</td>\n",
       "      <td>1283</td>\n",
       "    </tr>\n",
       "    <tr>\n",
       "      <th>All</th>\n",
       "      <td>5416</td>\n",
       "      <td>1132</td>\n",
       "      <td>6548</td>\n",
       "    </tr>\n",
       "  </tbody>\n",
       "</table>\n",
       "</div>"
      ],
      "text/plain": [
       "Predicted   0.0   1.0   All\n",
       "Actual                     \n",
       "0.0        4350   915  5265\n",
       "1.0        1066   217  1283\n",
       "All        5416  1132  6548"
      ]
     },
     "execution_count": 51,
     "metadata": {},
     "output_type": "execute_result"
    }
   ],
   "source": [
    "pd.crosstab(\n",
    "    pd.Series(y_test, name='Actual'),\n",
    "    pd.Series(y_val_predict, name='Predicted'),\n",
    "    margins=True\n",
    ")"
   ]
  },
  {
   "cell_type": "code",
   "execution_count": 52,
   "metadata": {
    "collapsed": false
   },
   "outputs": [
    {
     "name": "stdout",
     "output_type": "stream",
     "text": [
      "             precision    recall  f1-score   support\n",
      "\n",
      "          0       0.94      0.90      0.92     23008\n",
      "          1       0.46      0.59      0.52      3374\n",
      "\n",
      "avg / total       0.88      0.86      0.87     26382\n",
      "\n"
     ]
    }
   ],
   "source": [
    "print(classification_report(y_test, y_val_predict))"
   ]
  },
  {
   "cell_type": "markdown",
   "metadata": {},
   "source": [
    "**Validation on December data:**"
   ]
  },
  {
   "cell_type": "code",
   "execution_count": 53,
   "metadata": {
    "collapsed": false
   },
   "outputs": [
    {
     "name": "stdout",
     "output_type": "stream",
     "text": [
      "rooms_num_0\n",
      "construction_year_decade_1070\n",
      "construction_year_decade_1190\n",
      "construction_year_decade_1230\n",
      "construction_year_decade_1300\n",
      "construction_year_decade_1370\n",
      "construction_year_decade_1660\n",
      "construction_year_decade_1670\n",
      "construction_year_decade_1690\n",
      "construction_year_decade_1700\n",
      "construction_year_decade_1800\n",
      "construction_year_decade_1820\n",
      "construction_year_decade_1850\n",
      "construction_year_decade_1860\n",
      "construction_year_decade_2020\n"
     ]
    }
   ],
   "source": [
    "for col in X.columns:\n",
    "    if col not in X_cv.columns:\n",
    "        print(col)\n",
    "        X_cv[col] = 0"
   ]
  },
  {
   "cell_type": "code",
   "execution_count": 54,
   "metadata": {
    "collapsed": false
   },
   "outputs": [
    {
     "name": "stdout",
     "output_type": "stream",
     "text": [
      "construction_year_decade_1010\n",
      "construction_year_decade_1080\n"
     ]
    }
   ],
   "source": [
    "for col in X_cv.columns:\n",
    "    if col not in X.columns:\n",
    "        print(col)\n",
    "        X_cv = X_cv.drop(col, axis=1)"
   ]
  },
  {
   "cell_type": "code",
   "execution_count": 55,
   "metadata": {
    "collapsed": true
   },
   "outputs": [],
   "source": [
    "selected_columns = X.columns "
   ]
  },
  {
   "cell_type": "code",
   "execution_count": 56,
   "metadata": {
    "collapsed": false
   },
   "outputs": [],
   "source": [
    "y_cv_predict = clf.predict(X_cv[selected_columns])"
   ]
  },
  {
   "cell_type": "code",
   "execution_count": 57,
   "metadata": {
    "collapsed": false
   },
   "outputs": [
    {
     "name": "stdout",
     "output_type": "stream",
     "text": [
      "Accuracy: 0.86\n",
      "Precision: 0.37\n",
      "Recall: 0.53\n",
      "F1: 0.43\n"
     ]
    }
   ],
   "source": [
    "print('Accuracy: {0:.2f}'.format(accuracy_score(y_cv, y_cv_predict)))\n",
    "print('Precision: {0:.2f}'.format(precision_score(y_cv,  y_cv_predict)))\n",
    "print('Recall: {0:.2f}'.format(recall_score(y_cv, y_cv_predict)))\n",
    "print('F1: {0:.2f}'.format(f1_score(y_cv,  y_cv_predict)))"
   ]
  },
  {
   "cell_type": "code",
   "execution_count": 58,
   "metadata": {
    "collapsed": false
   },
   "outputs": [
    {
     "data": {
      "text/html": [
       "<div>\n",
       "<table border=\"1\" class=\"dataframe\">\n",
       "  <thead>\n",
       "    <tr style=\"text-align: right;\">\n",
       "      <th>Predicted</th>\n",
       "      <th>0</th>\n",
       "      <th>1</th>\n",
       "      <th>All</th>\n",
       "    </tr>\n",
       "    <tr>\n",
       "      <th>Actual</th>\n",
       "      <th></th>\n",
       "      <th></th>\n",
       "      <th></th>\n",
       "    </tr>\n",
       "  </thead>\n",
       "  <tbody>\n",
       "    <tr>\n",
       "      <th>0</th>\n",
       "      <td>10711</td>\n",
       "      <td>1244</td>\n",
       "      <td>11955</td>\n",
       "    </tr>\n",
       "    <tr>\n",
       "      <th>1</th>\n",
       "      <td>654</td>\n",
       "      <td>724</td>\n",
       "      <td>1378</td>\n",
       "    </tr>\n",
       "    <tr>\n",
       "      <th>All</th>\n",
       "      <td>11365</td>\n",
       "      <td>1968</td>\n",
       "      <td>13333</td>\n",
       "    </tr>\n",
       "  </tbody>\n",
       "</table>\n",
       "</div>"
      ],
      "text/plain": [
       "Predicted      0     1    All\n",
       "Actual                       \n",
       "0          10711  1244  11955\n",
       "1            654   724   1378\n",
       "All        11365  1968  13333"
      ]
     },
     "execution_count": 58,
     "metadata": {},
     "output_type": "execute_result"
    }
   ],
   "source": [
    "pd.crosstab(\n",
    "    pd.Series(y_cv, name='Actual'),\n",
    "    pd.Series(y_cv_predict, name='Predicted'),\n",
    "    margins=True\n",
    ")"
   ]
  },
  {
   "cell_type": "code",
   "execution_count": 59,
   "metadata": {
    "collapsed": false
   },
   "outputs": [
    {
     "name": "stdout",
     "output_type": "stream",
     "text": [
      "             precision    recall  f1-score   support\n",
      "\n",
      "          0       0.94      0.90      0.92     11955\n",
      "          1       0.37      0.53      0.43      1378\n",
      "\n",
      "avg / total       0.88      0.86      0.87     13333\n",
      "\n"
     ]
    }
   ],
   "source": [
    "print(classification_report(y_cv, y_cv_predict))"
   ]
  },
  {
   "cell_type": "code",
   "execution_count": 60,
   "metadata": {
    "collapsed": false
   },
   "outputs": [
    {
     "data": {
      "text/html": [
       "\n",
       "    <style>\n",
       "    table.eli5-weights tr:hover {\n",
       "        filter: brightness(85%);\n",
       "    }\n",
       "</style>\n",
       "\n",
       "\n",
       "\n",
       "    \n",
       "\n",
       "    \n",
       "\n",
       "    \n",
       "\n",
       "    \n",
       "\n",
       "    \n",
       "\n",
       "    \n",
       "\n",
       "\n",
       "    \n",
       "\n",
       "    \n",
       "\n",
       "    \n",
       "\n",
       "    \n",
       "\n",
       "    \n",
       "\n",
       "    \n",
       "\n",
       "\n",
       "    \n",
       "\n",
       "    \n",
       "\n",
       "    \n",
       "\n",
       "    \n",
       "\n",
       "    \n",
       "        <table class=\"eli5-weights eli5-feature-importances\" style=\"border-collapse: collapse; border: none; margin-top: 0em; table-layout: auto;\">\n",
       "    <thead>\n",
       "    <tr style=\"border: none;\">\n",
       "        <th style=\"padding: 0 1em 0 0.5em; text-align: right; border: none;\">Weight</th>\n",
       "        <th style=\"padding: 0 0.5em 0 0.5em; text-align: left; border: none;\">Feature</th>\n",
       "    </tr>\n",
       "    </thead>\n",
       "    <tbody>\n",
       "    \n",
       "        <tr style=\"background-color: hsl(120, 100.00%, 80.00%); border: none;\">\n",
       "            <td style=\"padding: 0 1em 0 0.5em; text-align: right; border: none;\">\n",
       "                0.3850\n",
       "                \n",
       "            </td>\n",
       "            <td style=\"padding: 0 0.5em 0 0.5em; text-align: left; border: none;\">\n",
       "                private_business\n",
       "            </td>\n",
       "        </tr>\n",
       "    \n",
       "        <tr style=\"background-color: hsl(120, 100.00%, 92.69%); border: none;\">\n",
       "            <td style=\"padding: 0 1em 0 0.5em; text-align: right; border: none;\">\n",
       "                0.0915\n",
       "                \n",
       "            </td>\n",
       "            <td style=\"padding: 0 0.5em 0 0.5em; text-align: left; border: none;\">\n",
       "                street_info\n",
       "            </td>\n",
       "        </tr>\n",
       "    \n",
       "        <tr style=\"background-color: hsl(120, 100.00%, 96.14%); border: none;\">\n",
       "            <td style=\"padding: 0 1em 0 0.5em; text-align: right; border: none;\">\n",
       "                0.0367\n",
       "                \n",
       "            </td>\n",
       "            <td style=\"padding: 0 0.5em 0 0.5em; text-align: left; border: none;\">\n",
       "                higher_city_room_mean\n",
       "            </td>\n",
       "        </tr>\n",
       "    \n",
       "        <tr style=\"background-color: hsl(120, 100.00%, 97.20%); border: none;\">\n",
       "            <td style=\"padding: 0 1em 0 0.5em; text-align: right; border: none;\">\n",
       "                0.0232\n",
       "                \n",
       "            </td>\n",
       "            <td style=\"padding: 0 0.5em 0 0.5em; text-align: left; border: none;\">\n",
       "                city_id\n",
       "            </td>\n",
       "        </tr>\n",
       "    \n",
       "        <tr style=\"background-color: hsl(120, 100.00%, 97.26%); border: none;\">\n",
       "            <td style=\"padding: 0 1em 0 0.5em; text-align: right; border: none;\">\n",
       "                0.0225\n",
       "                \n",
       "            </td>\n",
       "            <td style=\"padding: 0 0.5em 0 0.5em; text-align: left; border: none;\">\n",
       "                exchange_no\n",
       "            </td>\n",
       "        </tr>\n",
       "    \n",
       "        <tr style=\"background-color: hsl(120, 100.00%, 97.31%); border: none;\">\n",
       "            <td style=\"padding: 0 1em 0 0.5em; text-align: right; border: none;\">\n",
       "                0.0219\n",
       "                \n",
       "            </td>\n",
       "            <td style=\"padding: 0 0.5em 0 0.5em; text-align: left; border: none;\">\n",
       "                negotiable_no\n",
       "            </td>\n",
       "        </tr>\n",
       "    \n",
       "        <tr style=\"background-color: hsl(120, 100.00%, 97.54%); border: none;\">\n",
       "            <td style=\"padding: 0 1em 0 0.5em; text-align: right; border: none;\">\n",
       "                0.0193\n",
       "                \n",
       "            </td>\n",
       "            <td style=\"padding: 0 0.5em 0 0.5em; text-align: left; border: none;\">\n",
       "                was_paid_for_post\n",
       "            </td>\n",
       "        </tr>\n",
       "    \n",
       "        <tr style=\"background-color: hsl(120, 100.00%, 97.74%); border: none;\">\n",
       "            <td style=\"padding: 0 1em 0 0.5em; text-align: right; border: none;\">\n",
       "                0.0171\n",
       "                \n",
       "            </td>\n",
       "            <td style=\"padding: 0 0.5em 0 0.5em; text-align: left; border: none;\">\n",
       "                exchange_1.0\n",
       "            </td>\n",
       "        </tr>\n",
       "    \n",
       "        <tr style=\"background-color: hsl(120, 100.00%, 97.92%); border: none;\">\n",
       "            <td style=\"padding: 0 1em 0 0.5em; text-align: right; border: none;\">\n",
       "                0.0152\n",
       "                \n",
       "            </td>\n",
       "            <td style=\"padding: 0 0.5em 0 0.5em; text-align: left; border: none;\">\n",
       "                rooms_num_4\n",
       "            </td>\n",
       "        </tr>\n",
       "    \n",
       "        <tr style=\"background-color: hsl(120, 100.00%, 98.03%); border: none;\">\n",
       "            <td style=\"padding: 0 1em 0 0.5em; text-align: right; border: none;\">\n",
       "                0.0140\n",
       "                \n",
       "            </td>\n",
       "            <td style=\"padding: 0 0.5em 0 0.5em; text-align: left; border: none;\">\n",
       "                condition_em_construcao\n",
       "            </td>\n",
       "        </tr>\n",
       "    \n",
       "        <tr style=\"background-color: hsl(120, 100.00%, 98.10%); border: none;\">\n",
       "            <td style=\"padding: 0 1em 0 0.5em; text-align: right; border: none;\">\n",
       "                0.0134\n",
       "                \n",
       "            </td>\n",
       "            <td style=\"padding: 0 0.5em 0 0.5em; text-align: left; border: none;\">\n",
       "                rooms_num_1\n",
       "            </td>\n",
       "        </tr>\n",
       "    \n",
       "        <tr style=\"background-color: hsl(120, 100.00%, 98.10%); border: none;\">\n",
       "            <td style=\"padding: 0 1em 0 0.5em; text-align: right; border: none;\">\n",
       "                0.0133\n",
       "                \n",
       "            </td>\n",
       "            <td style=\"padding: 0 0.5em 0 0.5em; text-align: left; border: none;\">\n",
       "                construction_year_decade_no_0\n",
       "            </td>\n",
       "        </tr>\n",
       "    \n",
       "        <tr style=\"background-color: hsl(120, 100.00%, 98.10%); border: none;\">\n",
       "            <td style=\"padding: 0 1em 0 0.5em; text-align: right; border: none;\">\n",
       "                0.0133\n",
       "                \n",
       "            </td>\n",
       "            <td style=\"padding: 0 0.5em 0 0.5em; text-align: left; border: none;\">\n",
       "                negotiable_1.0\n",
       "            </td>\n",
       "        </tr>\n",
       "    \n",
       "        <tr style=\"background-color: hsl(120, 100.00%, 98.19%); border: none;\">\n",
       "            <td style=\"padding: 0 1em 0 0.5em; text-align: right; border: none;\">\n",
       "                0.0125\n",
       "                \n",
       "            </td>\n",
       "            <td style=\"padding: 0 0.5em 0 0.5em; text-align: left; border: none;\">\n",
       "                is_paid_for_post\n",
       "            </td>\n",
       "        </tr>\n",
       "    \n",
       "        <tr style=\"background-color: hsl(120, 100.00%, 98.19%); border: none;\">\n",
       "            <td style=\"padding: 0 1em 0 0.5em; text-align: right; border: none;\">\n",
       "                0.0125\n",
       "                \n",
       "            </td>\n",
       "            <td style=\"padding: 0 0.5em 0 0.5em; text-align: left; border: none;\">\n",
       "                rooms_num_3\n",
       "            </td>\n",
       "        </tr>\n",
       "    \n",
       "        <tr style=\"background-color: hsl(120, 100.00%, 98.22%); border: none;\">\n",
       "            <td style=\"padding: 0 1em 0 0.5em; text-align: right; border: none;\">\n",
       "                0.0122\n",
       "                \n",
       "            </td>\n",
       "            <td style=\"padding: 0 0.5em 0 0.5em; text-align: left; border: none;\">\n",
       "                condition_no\n",
       "            </td>\n",
       "        </tr>\n",
       "    \n",
       "        <tr style=\"background-color: hsl(120, 100.00%, 98.24%); border: none;\">\n",
       "            <td style=\"padding: 0 1em 0 0.5em; text-align: right; border: none;\">\n",
       "                0.0120\n",
       "                \n",
       "            </td>\n",
       "            <td style=\"padding: 0 0.5em 0 0.5em; text-align: left; border: none;\">\n",
       "                price_diff\n",
       "            </td>\n",
       "        </tr>\n",
       "    \n",
       "        <tr style=\"background-color: hsl(120, 100.00%, 98.30%); border: none;\">\n",
       "            <td style=\"padding: 0 1em 0 0.5em; text-align: right; border: none;\">\n",
       "                0.0114\n",
       "                \n",
       "            </td>\n",
       "            <td style=\"padding: 0 0.5em 0 0.5em; text-align: left; border: none;\">\n",
       "                construction_year_decade_2000\n",
       "            </td>\n",
       "        </tr>\n",
       "    \n",
       "        <tr style=\"background-color: hsl(120, 100.00%, 98.31%); border: none;\">\n",
       "            <td style=\"padding: 0 1em 0 0.5em; text-align: right; border: none;\">\n",
       "                0.0113\n",
       "                \n",
       "            </td>\n",
       "            <td style=\"padding: 0 0.5em 0 0.5em; text-align: left; border: none;\">\n",
       "                bathrooms_num_no\n",
       "            </td>\n",
       "        </tr>\n",
       "    \n",
       "        <tr style=\"background-color: hsl(120, 100.00%, 98.36%); border: none;\">\n",
       "            <td style=\"padding: 0 1em 0 0.5em; text-align: right; border: none;\">\n",
       "                0.0109\n",
       "                \n",
       "            </td>\n",
       "            <td style=\"padding: 0 0.5em 0 0.5em; text-align: left; border: none;\">\n",
       "                construction_year_decade_1900\n",
       "            </td>\n",
       "        </tr>\n",
       "    \n",
       "    \n",
       "        \n",
       "            <tr style=\"background-color: hsl(120, 100.00%, 98.36%); border: none;\">\n",
       "                <td colspan=\"2\" style=\"padding: 0 0.5em 0 0.5em; text-align: center; border: none; white-space: nowrap;\">\n",
       "                    <i>&hellip; 51 more &hellip;</i>\n",
       "                </td>\n",
       "            </tr>\n",
       "        \n",
       "    \n",
       "    </tbody>\n",
       "</table>\n",
       "    \n",
       "\n",
       "    \n",
       "\n",
       "\n",
       "    \n",
       "\n",
       "    \n",
       "\n",
       "    \n",
       "\n",
       "    \n",
       "\n",
       "    \n",
       "\n",
       "    \n",
       "\n",
       "\n",
       "\n"
      ],
      "text/plain": [
       "<IPython.core.display.HTML object>"
      ]
     },
     "execution_count": 60,
     "metadata": {},
     "output_type": "execute_result"
    }
   ],
   "source": [
    "from eli5 import show_weights\n",
    "show_weights(clf)"
   ]
  },
  {
   "cell_type": "markdown",
   "metadata": {},
   "source": [
    "For usage model as a service we need to store:\n",
    "\n",
    "* average price for city_id/rooms_num combination\n",
    "* model columns \n",
    "* model"
   ]
  },
  {
   "cell_type": "markdown",
   "metadata": {},
   "source": [
    "**Average price for city_id/rooms_num combination**"
   ]
  },
  {
   "cell_type": "code",
   "execution_count": 61,
   "metadata": {
    "collapsed": true
   },
   "outputs": [],
   "source": [
    "avg_city = dataset_full.pipe(select_category, category_id = 101)\\\n",
    ".pipe(remove_outliers, col='mysql_search_price', lower_bound=20000, upper_bound=400000)\\\n",
    ".pipe(filter_values, col='rooms_num', values_list=['0', '1', '2', '3', '4', '5', '6'])\\\n",
    ".pipe(remove_outliers, col='mysql_search_m', lower_bound=20, upper_bound=200)\\\n",
    ".pipe(count_avg_price_city_ap_type)"
   ]
  },
  {
   "cell_type": "code",
   "execution_count": 62,
   "metadata": {
    "collapsed": false
   },
   "outputs": [
    {
     "data": {
      "text/html": [
       "<div>\n",
       "<table border=\"1\" class=\"dataframe\">\n",
       "  <thead>\n",
       "    <tr style=\"text-align: right;\">\n",
       "      <th></th>\n",
       "      <th>city_id</th>\n",
       "      <th>rooms_num</th>\n",
       "      <th>avg_price</th>\n",
       "    </tr>\n",
       "  </thead>\n",
       "  <tbody>\n",
       "    <tr>\n",
       "      <th>1242</th>\n",
       "      <td>11539464</td>\n",
       "      <td>1</td>\n",
       "      <td>213263.751092</td>\n",
       "    </tr>\n",
       "    <tr>\n",
       "      <th>1243</th>\n",
       "      <td>11539464</td>\n",
       "      <td>2</td>\n",
       "      <td>235866.077170</td>\n",
       "    </tr>\n",
       "    <tr>\n",
       "      <th>1244</th>\n",
       "      <td>11539464</td>\n",
       "      <td>3</td>\n",
       "      <td>255477.101504</td>\n",
       "    </tr>\n",
       "    <tr>\n",
       "      <th>1245</th>\n",
       "      <td>11539464</td>\n",
       "      <td>4</td>\n",
       "      <td>304052.631579</td>\n",
       "    </tr>\n",
       "    <tr>\n",
       "      <th>1246</th>\n",
       "      <td>11539464</td>\n",
       "      <td>5</td>\n",
       "      <td>295000.000000</td>\n",
       "    </tr>\n",
       "  </tbody>\n",
       "</table>\n",
       "</div>"
      ],
      "text/plain": [
       "       city_id rooms_num      avg_price\n",
       "1242  11539464         1  213263.751092\n",
       "1243  11539464         2  235866.077170\n",
       "1244  11539464         3  255477.101504\n",
       "1245  11539464         4  304052.631579\n",
       "1246  11539464         5  295000.000000"
      ]
     },
     "execution_count": 62,
     "metadata": {},
     "output_type": "execute_result"
    }
   ],
   "source": [
    "avg_city[avg_city['city_id'] == 11539464]"
   ]
  },
  {
   "cell_type": "code",
   "execution_count": 63,
   "metadata": {
    "collapsed": true
   },
   "outputs": [],
   "source": [
    "avg_city.rooms_num = avg_city.rooms_num.astype('int')"
   ]
  },
  {
   "cell_type": "code",
   "execution_count": 64,
   "metadata": {
    "collapsed": true
   },
   "outputs": [],
   "source": [
    "avg_city.to_csv(\"avg_city_price_imo_buy_02.csv\", index=None)"
   ]
  },
  {
   "cell_type": "markdown",
   "metadata": {},
   "source": [
    "**Save model columns**"
   ]
  },
  {
   "cell_type": "code",
   "execution_count": 65,
   "metadata": {
    "collapsed": false
   },
   "outputs": [
    {
     "data": {
      "text/plain": [
       "['model_columns_xgb_imo_buy_02.pkl']"
      ]
     },
     "execution_count": 65,
     "metadata": {},
     "output_type": "execute_result"
    }
   ],
   "source": [
    "model_columns = list(X_train.columns)\n",
    "joblib.dump(model_columns, 'model_columns_xgb_imo_buy_02.pkl')"
   ]
  },
  {
   "cell_type": "markdown",
   "metadata": {},
   "source": [
    "### Example how it works as a service ###"
   ]
  },
  {
   "cell_type": "markdown",
   "metadata": {},
   "source": [
    "Input example:"
   ]
  },
  {
   "cell_type": "code",
   "execution_count": 66,
   "metadata": {
    "collapsed": true
   },
   "outputs": [],
   "source": [
    "data = {\n",
    "        \"city_id\": 11539464,\n",
    "        \"title\": 30,\n",
    "        \"description\": 1000,\n",
    "        \"private_business\": \"private\",\n",
    "        \"street_name\" : \"Vodickova\",\n",
    "        \"rooms_num\": 2,\n",
    "        \"mysql_search_m\": 80,\n",
    "        \"mysql_search_price\": 200000,\n",
    "        \"mysql_search_price_per_m\": 2500,\n",
    "        \"construction_year\": 1998,\n",
    "    }"
   ]
  },
  {
   "cell_type": "markdown",
   "metadata": {},
   "source": [
    "We transform json data to pandas dataframe:"
   ]
  },
  {
   "cell_type": "code",
   "execution_count": 67,
   "metadata": {
    "collapsed": true
   },
   "outputs": [],
   "source": [
    "def get_dataframe(json):\n",
    "    df = pd.DataFrame.from_dict([dict(json)])\n",
    "    return df"
   ]
  },
  {
   "cell_type": "code",
   "execution_count": 68,
   "metadata": {
    "collapsed": true
   },
   "outputs": [],
   "source": [
    "t1 = get_dataframe(data)"
   ]
  },
  {
   "cell_type": "code",
   "execution_count": 69,
   "metadata": {
    "collapsed": false
   },
   "outputs": [
    {
     "name": "stdout",
     "output_type": "stream",
     "text": [
      "<class 'pandas.core.frame.DataFrame'>\n",
      "RangeIndex: 1 entries, 0 to 0\n",
      "Data columns (total 10 columns):\n",
      "city_id                     1 non-null int64\n",
      "construction_year           1 non-null int64\n",
      "description                 1 non-null int64\n",
      "mysql_search_m              1 non-null int64\n",
      "mysql_search_price          1 non-null int64\n",
      "mysql_search_price_per_m    1 non-null int64\n",
      "private_business            1 non-null object\n",
      "rooms_num                   1 non-null int64\n",
      "street_name                 1 non-null object\n",
      "title                       1 non-null int64\n",
      "dtypes: int64(8), object(2)\n",
      "memory usage: 160.0+ bytes\n"
     ]
    }
   ],
   "source": [
    "t1.info()"
   ]
  },
  {
   "cell_type": "markdown",
   "metadata": {},
   "source": [
    "Add average price for this city_id and rooms_num"
   ]
  },
  {
   "cell_type": "code",
   "execution_count": 70,
   "metadata": {
    "collapsed": true
   },
   "outputs": [],
   "source": [
    "t1 = t1.merge(avg_city, on= ['city_id', 'rooms_num'])"
   ]
  },
  {
   "cell_type": "code",
   "execution_count": 71,
   "metadata": {
    "collapsed": true
   },
   "outputs": [],
   "source": [
    "model_columns = ['city_id', \n",
    "                 'title', \n",
    "                 'description', \n",
    "                 'private_business',\n",
    "                 'n_images2', \n",
    "                 'was_paid_for_post', \n",
    "                 'is_paid_for_post', \n",
    "                 'mysql_search_m',\n",
    "                 'mysql_search_price', \n",
    "                 'mysql_search_price_per_m', \n",
    "                 'rooms_num',\n",
    "                 'bathrooms_num', \n",
    "                 'condition', \n",
    "                 'energy_certificate', \n",
    "                 'construction_year',\n",
    "                 'negotiable',\n",
    "                 'exchange',  \n",
    "                 'avg_price',\n",
    "                 'higher_city_room_mean', \n",
    "                 'construction_year']"
   ]
  },
  {
   "cell_type": "code",
   "execution_count": 72,
   "metadata": {
    "collapsed": false
   },
   "outputs": [
    {
     "name": "stdout",
     "output_type": "stream",
     "text": [
      "n_images2\n",
      "was_paid_for_post\n",
      "is_paid_for_post\n",
      "bathrooms_num\n",
      "condition\n",
      "energy_certificate\n",
      "negotiable\n",
      "exchange\n",
      "higher_city_room_mean\n"
     ]
    }
   ],
   "source": [
    "for col in model_columns:\n",
    "    if col not in t1.columns:\n",
    "        print(col)\n",
    "        t1[col] = None"
   ]
  },
  {
   "cell_type": "code",
   "execution_count": 73,
   "metadata": {
    "collapsed": false
   },
   "outputs": [
    {
     "data": {
      "text/html": [
       "<div>\n",
       "<table border=\"1\" class=\"dataframe\">\n",
       "  <thead>\n",
       "    <tr style=\"text-align: right;\">\n",
       "      <th></th>\n",
       "      <th>city_id</th>\n",
       "      <th>construction_year</th>\n",
       "      <th>description</th>\n",
       "      <th>mysql_search_m</th>\n",
       "      <th>mysql_search_price</th>\n",
       "      <th>mysql_search_price_per_m</th>\n",
       "      <th>private_business</th>\n",
       "      <th>rooms_num</th>\n",
       "      <th>street_name</th>\n",
       "      <th>title</th>\n",
       "      <th>avg_price</th>\n",
       "      <th>n_images2</th>\n",
       "      <th>was_paid_for_post</th>\n",
       "      <th>is_paid_for_post</th>\n",
       "      <th>bathrooms_num</th>\n",
       "      <th>condition</th>\n",
       "      <th>energy_certificate</th>\n",
       "      <th>negotiable</th>\n",
       "      <th>exchange</th>\n",
       "      <th>higher_city_room_mean</th>\n",
       "    </tr>\n",
       "  </thead>\n",
       "  <tbody>\n",
       "    <tr>\n",
       "      <th>0</th>\n",
       "      <td>11539464</td>\n",
       "      <td>1998</td>\n",
       "      <td>1000</td>\n",
       "      <td>80</td>\n",
       "      <td>200000</td>\n",
       "      <td>2500</td>\n",
       "      <td>private</td>\n",
       "      <td>2</td>\n",
       "      <td>Vodickova</td>\n",
       "      <td>30</td>\n",
       "      <td>235866.07717</td>\n",
       "      <td>None</td>\n",
       "      <td>None</td>\n",
       "      <td>None</td>\n",
       "      <td>None</td>\n",
       "      <td>None</td>\n",
       "      <td>None</td>\n",
       "      <td>None</td>\n",
       "      <td>None</td>\n",
       "      <td>None</td>\n",
       "    </tr>\n",
       "  </tbody>\n",
       "</table>\n",
       "</div>"
      ],
      "text/plain": [
       "    city_id  construction_year  description  mysql_search_m  \\\n",
       "0  11539464               1998         1000              80   \n",
       "\n",
       "   mysql_search_price  mysql_search_price_per_m private_business  rooms_num  \\\n",
       "0              200000                      2500          private          2   \n",
       "\n",
       "  street_name  title     avg_price n_images2 was_paid_for_post  \\\n",
       "0   Vodickova     30  235866.07717      None              None   \n",
       "\n",
       "  is_paid_for_post bathrooms_num condition energy_certificate negotiable  \\\n",
       "0             None          None      None               None       None   \n",
       "\n",
       "  exchange higher_city_room_mean  \n",
       "0     None                  None  "
      ]
     },
     "execution_count": 73,
     "metadata": {},
     "output_type": "execute_result"
    }
   ],
   "source": [
    "t1"
   ]
  },
  {
   "cell_type": "code",
   "execution_count": 74,
   "metadata": {
    "collapsed": false
   },
   "outputs": [],
   "source": [
    "f2 = t1\\\n",
    ".pipe(add_higher_city_room_avg)\\\n",
    ".pipe(private_business_binarization)\\\n",
    ".pipe(column_info, col='construction_year', new_column_name='construction_year_info')\\\n",
    ".pipe(create_construction_decade)\\\n",
    ".pipe(column_info, col='street_name', new_column_name='street_info', drop=True)\\\n",
    ".pipe(column_info, col='energy_certificate', new_column_name='energy_certificate')\\\n",
    ".pipe(column_info, col='bathrooms_num', new_column_name='bathrooms_info')\\\n",
    ".pipe(column_info, col='condition', new_column_name='condition_info')\\\n",
    ".pipe(create_avg_price_diff, avg_price_col='avg_price', price_col='mysql_search_price', new_column_name= 'price_diff')"
   ]
  },
  {
   "cell_type": "code",
   "execution_count": 75,
   "metadata": {
    "collapsed": false
   },
   "outputs": [
    {
     "data": {
      "text/html": [
       "<div>\n",
       "<table border=\"1\" class=\"dataframe\">\n",
       "  <thead>\n",
       "    <tr style=\"text-align: right;\">\n",
       "      <th></th>\n",
       "      <th>city_id</th>\n",
       "      <th>description</th>\n",
       "      <th>mysql_search_m</th>\n",
       "      <th>mysql_search_price</th>\n",
       "      <th>mysql_search_price_per_m</th>\n",
       "      <th>private_business</th>\n",
       "      <th>rooms_num</th>\n",
       "      <th>title</th>\n",
       "      <th>avg_price</th>\n",
       "      <th>n_images2</th>\n",
       "      <th>...</th>\n",
       "      <th>energy_certificate</th>\n",
       "      <th>negotiable</th>\n",
       "      <th>exchange</th>\n",
       "      <th>higher_city_room_mean</th>\n",
       "      <th>construction_year_info</th>\n",
       "      <th>construction_year_decade</th>\n",
       "      <th>street_info</th>\n",
       "      <th>bathrooms_info</th>\n",
       "      <th>condition_info</th>\n",
       "      <th>price_diff</th>\n",
       "    </tr>\n",
       "  </thead>\n",
       "  <tbody>\n",
       "    <tr>\n",
       "      <th>0</th>\n",
       "      <td>11539464</td>\n",
       "      <td>1000</td>\n",
       "      <td>80</td>\n",
       "      <td>200000</td>\n",
       "      <td>2500</td>\n",
       "      <td>1</td>\n",
       "      <td>2</td>\n",
       "      <td>30</td>\n",
       "      <td>235866.07717</td>\n",
       "      <td>None</td>\n",
       "      <td>...</td>\n",
       "      <td>0</td>\n",
       "      <td>None</td>\n",
       "      <td>None</td>\n",
       "      <td>0</td>\n",
       "      <td>1</td>\n",
       "      <td>1990</td>\n",
       "      <td>1</td>\n",
       "      <td>0</td>\n",
       "      <td>0</td>\n",
       "      <td>-0.152061</td>\n",
       "    </tr>\n",
       "  </tbody>\n",
       "</table>\n",
       "<p>1 rows × 24 columns</p>\n",
       "</div>"
      ],
      "text/plain": [
       "    city_id  description  mysql_search_m  mysql_search_price  \\\n",
       "0  11539464         1000              80              200000   \n",
       "\n",
       "   mysql_search_price_per_m  private_business  rooms_num  title     avg_price  \\\n",
       "0                      2500                 1          2     30  235866.07717   \n",
       "\n",
       "  n_images2    ...     energy_certificate negotiable exchange  \\\n",
       "0      None    ...                      0       None     None   \n",
       "\n",
       "  higher_city_room_mean  construction_year_info construction_year_decade  \\\n",
       "0                     0                       1                     1990   \n",
       "\n",
       "  street_info  bathrooms_info  condition_info price_diff  \n",
       "0           1               0               0  -0.152061  \n",
       "\n",
       "[1 rows x 24 columns]"
      ]
     },
     "execution_count": 75,
     "metadata": {},
     "output_type": "execute_result"
    }
   ],
   "source": [
    "f2"
   ]
  },
  {
   "cell_type": "code",
   "execution_count": 76,
   "metadata": {
    "collapsed": true
   },
   "outputs": [],
   "source": [
    "f2[num_columns] = f2[num_columns].fillna(0)"
   ]
  },
  {
   "cell_type": "code",
   "execution_count": 77,
   "metadata": {
    "collapsed": false
   },
   "outputs": [],
   "source": [
    "f2[cat_columns] = f2[cat_columns].fillna('no_info').astype('str')"
   ]
  },
  {
   "cell_type": "code",
   "execution_count": 78,
   "metadata": {
    "collapsed": true
   },
   "outputs": [],
   "source": [
    "f2 = pd.get_dummies(f2)"
   ]
  },
  {
   "cell_type": "code",
   "execution_count": 79,
   "metadata": {
    "collapsed": false
   },
   "outputs": [
    {
     "data": {
      "text/html": [
       "<div>\n",
       "<table border=\"1\" class=\"dataframe\">\n",
       "  <thead>\n",
       "    <tr style=\"text-align: right;\">\n",
       "      <th></th>\n",
       "      <th>city_id</th>\n",
       "      <th>description</th>\n",
       "      <th>mysql_search_m</th>\n",
       "      <th>mysql_search_price</th>\n",
       "      <th>mysql_search_price_per_m</th>\n",
       "      <th>private_business</th>\n",
       "      <th>title</th>\n",
       "      <th>avg_price</th>\n",
       "      <th>n_images2</th>\n",
       "      <th>higher_city_room_mean</th>\n",
       "      <th>...</th>\n",
       "      <th>bathrooms_info</th>\n",
       "      <th>condition_info</th>\n",
       "      <th>price_diff</th>\n",
       "      <th>rooms_num_2</th>\n",
       "      <th>bathrooms_num_no_info</th>\n",
       "      <th>condition_no_info</th>\n",
       "      <th>energy_certificate_0</th>\n",
       "      <th>negotiable_no_info</th>\n",
       "      <th>exchange_no_info</th>\n",
       "      <th>construction_year_decade_1990</th>\n",
       "    </tr>\n",
       "  </thead>\n",
       "  <tbody>\n",
       "    <tr>\n",
       "      <th>0</th>\n",
       "      <td>11539464</td>\n",
       "      <td>1000</td>\n",
       "      <td>80</td>\n",
       "      <td>200000</td>\n",
       "      <td>2500</td>\n",
       "      <td>1</td>\n",
       "      <td>30</td>\n",
       "      <td>235866.07717</td>\n",
       "      <td>0</td>\n",
       "      <td>0</td>\n",
       "      <td>...</td>\n",
       "      <td>0</td>\n",
       "      <td>0</td>\n",
       "      <td>-0.152061</td>\n",
       "      <td>1</td>\n",
       "      <td>1</td>\n",
       "      <td>1</td>\n",
       "      <td>1</td>\n",
       "      <td>1</td>\n",
       "      <td>1</td>\n",
       "      <td>1</td>\n",
       "    </tr>\n",
       "  </tbody>\n",
       "</table>\n",
       "<p>1 rows × 22 columns</p>\n",
       "</div>"
      ],
      "text/plain": [
       "    city_id  description  mysql_search_m  mysql_search_price  \\\n",
       "0  11539464         1000              80              200000   \n",
       "\n",
       "   mysql_search_price_per_m  private_business  title     avg_price  n_images2  \\\n",
       "0                      2500                 1     30  235866.07717          0   \n",
       "\n",
       "   higher_city_room_mean              ...                bathrooms_info  \\\n",
       "0                      0              ...                             0   \n",
       "\n",
       "   condition_info  price_diff  rooms_num_2  bathrooms_num_no_info  \\\n",
       "0               0   -0.152061            1                      1   \n",
       "\n",
       "   condition_no_info  energy_certificate_0  negotiable_no_info  \\\n",
       "0                  1                     1                   1   \n",
       "\n",
       "   exchange_no_info  construction_year_decade_1990  \n",
       "0                 1                              1  \n",
       "\n",
       "[1 rows x 22 columns]"
      ]
     },
     "execution_count": 79,
     "metadata": {},
     "output_type": "execute_result"
    }
   ],
   "source": [
    "f2"
   ]
  },
  {
   "cell_type": "code",
   "execution_count": 80,
   "metadata": {
    "collapsed": false
   },
   "outputs": [],
   "source": [
    "for col in X_train.columns:\n",
    "    if col not in f2.columns:\n",
    "        f2[col] = 0"
   ]
  },
  {
   "cell_type": "code",
   "execution_count": 81,
   "metadata": {
    "collapsed": true
   },
   "outputs": [],
   "source": [
    "sel_cols = X_train.columns"
   ]
  },
  {
   "cell_type": "code",
   "execution_count": 82,
   "metadata": {
    "collapsed": true
   },
   "outputs": [],
   "source": [
    "f2 = f2[sel_cols]"
   ]
  },
  {
   "cell_type": "code",
   "execution_count": 83,
   "metadata": {
    "collapsed": false
   },
   "outputs": [
    {
     "data": {
      "text/plain": [
       "array([[0.09547728, 0.9045227 ]], dtype=float32)"
      ]
     },
     "execution_count": 83,
     "metadata": {},
     "output_type": "execute_result"
    }
   ],
   "source": [
    "clf.predict_proba(f2)"
   ]
  },
  {
   "cell_type": "code",
   "execution_count": 84,
   "metadata": {
    "collapsed": false
   },
   "outputs": [
    {
     "data": {
      "text/html": [
       "\n",
       "    <style>\n",
       "    table.eli5-weights tr:hover {\n",
       "        filter: brightness(85%);\n",
       "    }\n",
       "</style>\n",
       "\n",
       "\n",
       "\n",
       "    \n",
       "\n",
       "    \n",
       "\n",
       "    \n",
       "\n",
       "    \n",
       "\n",
       "    \n",
       "\n",
       "    \n",
       "\n",
       "\n",
       "    \n",
       "\n",
       "    \n",
       "\n",
       "    \n",
       "\n",
       "    \n",
       "        \n",
       "\n",
       "    \n",
       "\n",
       "        \n",
       "            \n",
       "                \n",
       "                \n",
       "    \n",
       "        <p style=\"margin-bottom: 0.5em; margin-top: 0em\">\n",
       "            <b>\n",
       "    \n",
       "        y=1\n",
       "    \n",
       "</b>\n",
       "\n",
       "    \n",
       "    (probability <b>0.905</b>, score <b>2.249</b>)\n",
       "\n",
       "top features\n",
       "        </p>\n",
       "    \n",
       "    <table class=\"eli5-weights\"\n",
       "           style=\"border-collapse: collapse; border: none; margin-top: 0em; table-layout: auto; margin-bottom: 2em;\">\n",
       "        <thead>\n",
       "        <tr style=\"border: none;\">\n",
       "            \n",
       "                <th style=\"padding: 0 1em 0 0.5em; text-align: right; border: none;\" title=\"Feature contribution already accounts for the feature value (for linear models, contribution = weight * feature value), and the sum of feature contributions is equal to the score or, for some classifiers, to the probability. Feature values are shown if &quot;show_feature_values&quot; is True.\">\n",
       "                    Contribution<sup>?</sup>\n",
       "                </th>\n",
       "            \n",
       "            <th style=\"padding: 0 0.5em 0 0.5em; text-align: left; border: none;\">Feature</th>\n",
       "            \n",
       "                <th style=\"padding: 0 0.5em 0 1em; text-align: right; border: none;\">Value</th>\n",
       "            \n",
       "        </tr>\n",
       "        </thead>\n",
       "        <tbody>\n",
       "        \n",
       "            <tr style=\"background-color: hsl(120, 100.00%, 80.00%); border: none;\">\n",
       "    <td style=\"padding: 0 1em 0 0.5em; text-align: right; border: none;\">\n",
       "        +4.721\n",
       "    </td>\n",
       "    <td style=\"padding: 0 0.5em 0 0.5em; text-align: left; border: none;\">\n",
       "        private_business\n",
       "    </td>\n",
       "    \n",
       "        <td style=\"padding: 0 0.5em 0 1em; text-align: right; border: none;\">\n",
       "            1.000\n",
       "        </td>\n",
       "    \n",
       "</tr>\n",
       "        \n",
       "            <tr style=\"background-color: hsl(120, 100.00%, 94.52%); border: none;\">\n",
       "    <td style=\"padding: 0 1em 0 0.5em; text-align: right; border: none;\">\n",
       "        +0.742\n",
       "    </td>\n",
       "    <td style=\"padding: 0 0.5em 0 0.5em; text-align: left; border: none;\">\n",
       "        street_info\n",
       "    </td>\n",
       "    \n",
       "        <td style=\"padding: 0 0.5em 0 1em; text-align: right; border: none;\">\n",
       "            1.000\n",
       "        </td>\n",
       "    \n",
       "</tr>\n",
       "        \n",
       "            <tr style=\"background-color: hsl(120, 100.00%, 95.88%); border: none;\">\n",
       "    <td style=\"padding: 0 1em 0 0.5em; text-align: right; border: none;\">\n",
       "        +0.494\n",
       "    </td>\n",
       "    <td style=\"padding: 0 0.5em 0 0.5em; text-align: left; border: none;\">\n",
       "        mysql_search_price\n",
       "    </td>\n",
       "    \n",
       "        <td style=\"padding: 0 0.5em 0 1em; text-align: right; border: none;\">\n",
       "            200000.000\n",
       "        </td>\n",
       "    \n",
       "</tr>\n",
       "        \n",
       "            <tr style=\"background-color: hsl(120, 100.00%, 96.91%); border: none;\">\n",
       "    <td style=\"padding: 0 1em 0 0.5em; text-align: right; border: none;\">\n",
       "        +0.327\n",
       "    </td>\n",
       "    <td style=\"padding: 0 0.5em 0 0.5em; text-align: left; border: none;\">\n",
       "        &lt;BIAS&gt;\n",
       "    </td>\n",
       "    \n",
       "        <td style=\"padding: 0 0.5em 0 1em; text-align: right; border: none;\">\n",
       "            1.000\n",
       "        </td>\n",
       "    \n",
       "</tr>\n",
       "        \n",
       "            <tr style=\"background-color: hsl(120, 100.00%, 97.48%); border: none;\">\n",
       "    <td style=\"padding: 0 1em 0 0.5em; text-align: right; border: none;\">\n",
       "        +0.245\n",
       "    </td>\n",
       "    <td style=\"padding: 0 0.5em 0 0.5em; text-align: left; border: none;\">\n",
       "        avg_price\n",
       "    </td>\n",
       "    \n",
       "        <td style=\"padding: 0 0.5em 0 1em; text-align: right; border: none;\">\n",
       "            235866.077\n",
       "        </td>\n",
       "    \n",
       "</tr>\n",
       "        \n",
       "            <tr style=\"background-color: hsl(120, 100.00%, 97.68%); border: none;\">\n",
       "    <td style=\"padding: 0 1em 0 0.5em; text-align: right; border: none;\">\n",
       "        +0.217\n",
       "    </td>\n",
       "    <td style=\"padding: 0 0.5em 0 0.5em; text-align: left; border: none;\">\n",
       "        price_diff\n",
       "    </td>\n",
       "    \n",
       "        <td style=\"padding: 0 0.5em 0 1em; text-align: right; border: none;\">\n",
       "            -0.152\n",
       "        </td>\n",
       "    \n",
       "</tr>\n",
       "        \n",
       "        \n",
       "            <tr style=\"background-color: hsl(120, 100.00%, 97.68%); border: none;\">\n",
       "                <td colspan=\"3\" style=\"padding: 0 0.5em 0 0.5em; text-align: center; border: none; white-space: nowrap;\">\n",
       "                    <i>&hellip; 21 more positive &hellip;</i>\n",
       "                </td>\n",
       "            </tr>\n",
       "        \n",
       "\n",
       "        \n",
       "            <tr style=\"background-color: hsl(0, 100.00%, 97.14%); border: none;\">\n",
       "                <td colspan=\"3\" style=\"padding: 0 0.5em 0 0.5em; text-align: center; border: none; white-space: nowrap;\">\n",
       "                    <i>&hellip; 17 more negative &hellip;</i>\n",
       "                </td>\n",
       "            </tr>\n",
       "        \n",
       "        \n",
       "            <tr style=\"background-color: hsl(0, 100.00%, 97.14%); border: none;\">\n",
       "    <td style=\"padding: 0 1em 0 0.5em; text-align: right; border: none;\">\n",
       "        -0.293\n",
       "    </td>\n",
       "    <td style=\"padding: 0 0.5em 0 0.5em; text-align: left; border: none;\">\n",
       "        construction_year_decade_1990\n",
       "    </td>\n",
       "    \n",
       "        <td style=\"padding: 0 0.5em 0 1em; text-align: right; border: none;\">\n",
       "            1.000\n",
       "        </td>\n",
       "    \n",
       "</tr>\n",
       "        \n",
       "            <tr style=\"background-color: hsl(0, 100.00%, 97.12%); border: none;\">\n",
       "    <td style=\"padding: 0 1em 0 0.5em; text-align: right; border: none;\">\n",
       "        -0.296\n",
       "    </td>\n",
       "    <td style=\"padding: 0 0.5em 0 0.5em; text-align: left; border: none;\">\n",
       "        mysql_search_m\n",
       "    </td>\n",
       "    \n",
       "        <td style=\"padding: 0 0.5em 0 1em; text-align: right; border: none;\">\n",
       "            80.000\n",
       "        </td>\n",
       "    \n",
       "</tr>\n",
       "        \n",
       "            <tr style=\"background-color: hsl(0, 100.00%, 95.96%); border: none;\">\n",
       "    <td style=\"padding: 0 1em 0 0.5em; text-align: right; border: none;\">\n",
       "        -0.480\n",
       "    </td>\n",
       "    <td style=\"padding: 0 0.5em 0 0.5em; text-align: left; border: none;\">\n",
       "        description\n",
       "    </td>\n",
       "    \n",
       "        <td style=\"padding: 0 0.5em 0 1em; text-align: right; border: none;\">\n",
       "            1000.000\n",
       "        </td>\n",
       "    \n",
       "</tr>\n",
       "        \n",
       "            <tr style=\"background-color: hsl(0, 100.00%, 83.70%); border: none;\">\n",
       "    <td style=\"padding: 0 1em 0 0.5em; text-align: right; border: none;\">\n",
       "        -3.523\n",
       "    </td>\n",
       "    <td style=\"padding: 0 0.5em 0 0.5em; text-align: left; border: none;\">\n",
       "        n_images2\n",
       "    </td>\n",
       "    \n",
       "        <td style=\"padding: 0 0.5em 0 1em; text-align: right; border: none;\">\n",
       "            0.000\n",
       "        </td>\n",
       "    \n",
       "</tr>\n",
       "        \n",
       "\n",
       "        </tbody>\n",
       "    </table>\n",
       "\n",
       "            \n",
       "        \n",
       "\n",
       "        \n",
       "\n",
       "\n",
       "\n",
       "    \n",
       "\n",
       "    \n",
       "\n",
       "    \n",
       "\n",
       "    \n",
       "\n",
       "\n",
       "    \n",
       "\n",
       "    \n",
       "\n",
       "    \n",
       "\n",
       "    \n",
       "\n",
       "    \n",
       "\n",
       "    \n",
       "\n",
       "\n",
       "    \n",
       "\n",
       "    \n",
       "\n",
       "    \n",
       "\n",
       "    \n",
       "\n",
       "    \n",
       "\n",
       "    \n",
       "\n",
       "\n",
       "\n"
      ],
      "text/plain": [
       "<IPython.core.display.HTML object>"
      ]
     },
     "execution_count": 84,
     "metadata": {},
     "output_type": "execute_result"
    }
   ],
   "source": [
    "from eli5 import show_prediction\n",
    "show_prediction(clf, f2.iloc[0], show_feature_values=True, top=10)"
   ]
  }
 ],
 "metadata": {
  "kernelspec": {
   "display_name": "Python 3",
   "language": "python",
   "name": "python3"
  },
  "language_info": {
   "codemirror_mode": {
    "name": "ipython",
    "version": 3
   },
   "file_extension": ".py",
   "mimetype": "text/x-python",
   "name": "python",
   "nbconvert_exporter": "python",
   "pygments_lexer": "ipython3",
   "version": "3.6.0"
  }
 },
 "nbformat": 4,
 "nbformat_minor": 2
}
