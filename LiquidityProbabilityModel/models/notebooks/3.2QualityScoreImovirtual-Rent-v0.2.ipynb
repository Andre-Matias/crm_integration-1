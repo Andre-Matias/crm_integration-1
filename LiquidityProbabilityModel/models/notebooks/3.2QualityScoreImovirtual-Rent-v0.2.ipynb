{
 "cells": [
  {
   "cell_type": "markdown",
   "metadata": {},
   "source": [
    "### What is this notebook for? ###\n",
    "\n",
    "The main purpose of this notebook is buiding Liquidity's probability model for the Imovirtual, category \"apartments for rent\".\n",
    "\n",
    "**Prerequisities:** \"ml_dataset_imovirtual.tsv\". Can be obtained with `2.QualityDriversDataPrepImovirtual-Jun-Dec.ipynb`\n",
    "\n",
    "**Output:**\n",
    "\n",
    "* Stored model: `xgb_imo_rent_02.pkl`\n",
    "* Average price for city/rooms_num: `avg_city_price_imo_rent_02.csv`\n",
    "* Model columns name: `model_columns_xgb_imo_rent_02.pkl`"
   ]
  },
  {
   "cell_type": "code",
   "execution_count": 1,
   "metadata": {
    "collapsed": false
   },
   "outputs": [
    {
     "name": "stderr",
     "output_type": "stream",
     "text": [
      "/anaconda/lib/python3.6/site-packages/sklearn/cross_validation.py:44: DeprecationWarning: This module was deprecated in version 0.18 in favor of the model_selection module into which all the refactored classes and functions are moved. Also note that the interface of the new CV iterators are different from that of this module. This module will be removed in 0.20.\n",
      "  \"This module will be removed in 0.20.\", DeprecationWarning)\n"
     ]
    }
   ],
   "source": [
    "import pandas as pd\n",
    "import numpy as np\n",
    "\n",
    "from sklearn.externals import joblib\n",
    "from sklearn.metrics import precision_score, recall_score, f1_score, accuracy_score, roc_auc_score, classification_report\n",
    "\n",
    "from xgboost.sklearn import XGBClassifier\n",
    "from sklearn.model_selection import train_test_split\n",
    "\n",
    "import matplotlib.pyplot as plt\n",
    "%matplotlib inline"
   ]
  },
  {
   "cell_type": "code",
   "execution_count": 2,
   "metadata": {
    "collapsed": true
   },
   "outputs": [],
   "source": [
    "import warnings\n",
    "warnings.filterwarnings('ignore')"
   ]
  },
  {
   "cell_type": "code",
   "execution_count": 3,
   "metadata": {
    "collapsed": false
   },
   "outputs": [],
   "source": [
    "dataset_full = pd.read_csv(\"ml_dataset_imovirtual.tsv\", sep =\"\\t\")"
   ]
  },
  {
   "cell_type": "markdown",
   "metadata": {},
   "source": [
    "Select only listings in category 102, apartments for sell."
   ]
  },
  {
   "cell_type": "code",
   "execution_count": 4,
   "metadata": {
    "collapsed": false
   },
   "outputs": [],
   "source": [
    "dataset_full = dataset_full[dataset_full['category_id'] == 102]"
   ]
  },
  {
   "cell_type": "markdown",
   "metadata": {},
   "source": [
    "We will train our model on Jun-Nov data:"
   ]
  },
  {
   "cell_type": "code",
   "execution_count": 5,
   "metadata": {
    "collapsed": false
   },
   "outputs": [],
   "source": [
    "train_full = dataset_full[dataset_full['month'] !=12]"
   ]
  },
  {
   "cell_type": "markdown",
   "metadata": {},
   "source": [
    "Data validation on December data:"
   ]
  },
  {
   "cell_type": "code",
   "execution_count": 6,
   "metadata": {
    "collapsed": false
   },
   "outputs": [],
   "source": [
    "cv_full =  dataset_full[dataset_full['month'] ==12]"
   ]
  },
  {
   "cell_type": "code",
   "execution_count": 7,
   "metadata": {
    "collapsed": true
   },
   "outputs": [],
   "source": [
    "def create_liquid_field(dataframe):\n",
    "    dataframe['unique_senders'] = dataframe['unique_senders'].fillna(0).astype('int')\n",
    "    dataframe['liquid'] = (dataframe['unique_senders'] >= 3).astype('int')\n",
    "    return dataframe"
   ]
  },
  {
   "cell_type": "code",
   "execution_count": 8,
   "metadata": {
    "collapsed": true
   },
   "outputs": [],
   "source": [
    "def select_category(dataframe, category_id):\n",
    "    dataframe = dataframe[dataframe['category_id'] == category_id]\n",
    "    return dataframe"
   ]
  },
  {
   "cell_type": "code",
   "execution_count": 9,
   "metadata": {
    "collapsed": true
   },
   "outputs": [],
   "source": [
    "def select_columns(dataframe, columns):\n",
    "    dataframe = dataframe[columns]\n",
    "    return dataframe"
   ]
  },
  {
   "cell_type": "code",
   "execution_count": 10,
   "metadata": {
    "collapsed": true
   },
   "outputs": [],
   "source": [
    "columns =  ['ad_id',\n",
    "            'city_id', \n",
    "            'title', \n",
    "            'description', \n",
    "            'private_business',\n",
    "            'n_images2',\n",
    "            'was_paid_for_post', \n",
    "            'is_paid_for_post', \n",
    "            'street_name',\n",
    "            'mysql_search_m', \n",
    "            'mysql_search_price',\n",
    "            'rooms_num', \n",
    "            'bathrooms_num',\n",
    "            'condition', \n",
    "            'construction_year',\n",
    "            'energy_certificate', \n",
    "            'negotiable',\n",
    "            'exchange',\n",
    "            'unique_senders']"
   ]
  },
  {
   "cell_type": "code",
   "execution_count": 11,
   "metadata": {
    "collapsed": true
   },
   "outputs": [],
   "source": [
    "def filter_values(dataframe, col, values_list):\n",
    "    dataframe = dataframe[dataframe[col].isin(values_list)]\n",
    "    return dataframe"
   ]
  },
  {
   "cell_type": "code",
   "execution_count": 12,
   "metadata": {
    "collapsed": true
   },
   "outputs": [],
   "source": [
    "def remove_outliers(dataframe, col, lower_bound, upper_bound):\n",
    "    dataframe = dataframe[(dataframe[col] >= lower_bound) & (dataframe[col] <= upper_bound)]\n",
    "    return dataframe"
   ]
  },
  {
   "cell_type": "code",
   "execution_count": 13,
   "metadata": {
    "collapsed": true
   },
   "outputs": [],
   "source": [
    "def add_avg_price_city_ap_type(dataframe):\n",
    "    city_n = pd.DataFrame({'city_n': dataframe.groupby(['city_id'])['ad_id'].nunique()}).reset_index()\n",
    "    city_room_avg_price = pd.DataFrame({'avg_price': dataframe.groupby(['city_id', 'rooms_num'])['mysql_search_price'].mean()}).reset_index()\n",
    "    dataframe = dataframe.merge(city_n, on='city_id', how='left')\n",
    "    dataframe = dataframe.merge(city_room_avg_price, on = ['city_id', 'rooms_num'], how='left')\n",
    "    #dataframe = dataframe[dataframe[\"city_n\"] >= 30]\n",
    "    return dataframe"
   ]
  },
  {
   "cell_type": "code",
   "execution_count": 14,
   "metadata": {
    "collapsed": true
   },
   "outputs": [],
   "source": [
    "def count_avg_price_city_ap_type(dataframe):\n",
    "    city_n = pd.DataFrame({'city_n': dataframe.groupby(['city_id'])['ad_id'].nunique()}).reset_index()\n",
    "    city_room_avg_price = pd.DataFrame({'avg_price': dataframe.groupby(['city_id', 'rooms_num'])['mysql_search_price'].mean()}).reset_index()\n",
    "    return city_room_avg_price"
   ]
  },
  {
   "cell_type": "code",
   "execution_count": 15,
   "metadata": {
    "collapsed": true
   },
   "outputs": [],
   "source": [
    "def add_higher_city_room_avg(dataframe):\n",
    "    dataframe['higher_city_room_mean'] = (dataframe['mysql_search_price'] > dataframe['avg_price']).astype('int')\n",
    "    return dataframe"
   ]
  },
  {
   "cell_type": "code",
   "execution_count": 16,
   "metadata": {
    "collapsed": true
   },
   "outputs": [],
   "source": [
    "def private_business_binarization(dataframe):\n",
    "    dataframe.private_business = dataframe.private_business.replace({'private': 1, 'business':0})\n",
    "    dataframe.private_business = dataframe.private_business.fillna('no_info')\n",
    "    return dataframe"
   ]
  },
  {
   "cell_type": "code",
   "execution_count": 17,
   "metadata": {
    "collapsed": true
   },
   "outputs": [],
   "source": [
    "def column_info(dataframe, col, new_column_name, drop=False):\n",
    "    dataframe[new_column_name] = pd.notnull(dataframe[col]).astype('int')\n",
    "    if drop:\n",
    "        dataframe = dataframe.drop(col, axis=1)\n",
    "    return dataframe"
   ]
  },
  {
   "cell_type": "code",
   "execution_count": 18,
   "metadata": {
    "collapsed": true
   },
   "outputs": [],
   "source": [
    "def create_construction_decade(dataframe):\n",
    "    dataframe['construction_year'] =  dataframe['construction_year'].replace('no', 0).astype('float')\n",
    "    dataframe['construction_year_decade'] = dataframe['construction_year'].fillna(0)\\\n",
    "    .apply(lambda year: year if (year > 1000 and year < 2030) else 'no_info')\\\n",
    "    .apply(lambda year: str(year)[0:3]+'0')\n",
    "    dataframe = dataframe.drop('construction_year', axis=1)\n",
    "    return dataframe"
   ]
  },
  {
   "cell_type": "code",
   "execution_count": 19,
   "metadata": {
    "collapsed": true
   },
   "outputs": [],
   "source": [
    "def create_avg_price_diff(dataframe, avg_price_col, price_col, new_column_name):\n",
    "    dataframe[new_column_name] = (dataframe[price_col] - dataframe[avg_price_col])/dataframe[avg_price_col]\n",
    "    return dataframe"
   ]
  },
  {
   "cell_type": "code",
   "execution_count": 20,
   "metadata": {
    "collapsed": false
   },
   "outputs": [],
   "source": [
    "imo_train_rent = train_full.pipe(select_columns, columns=columns)\\\n",
    ".pipe(create_liquid_field)\\\n",
    ".pipe(remove_outliers, col='mysql_search_price', lower_bound=100, upper_bound=2000)\\\n",
    ".pipe(filter_values, col='rooms_num', values_list=['0', '1', '2', '3', '4'])\\\n",
    ".pipe(remove_outliers, col='mysql_search_m', lower_bound=20, upper_bound=200)\\\n",
    ".pipe(add_avg_price_city_ap_type)\\\n",
    ".pipe(add_higher_city_room_avg)\\\n",
    ".pipe(private_business_binarization)\\\n",
    ".pipe(column_info, col='construction_year', new_column_name='construction_year_info')\\\n",
    ".pipe(column_info, col='energy_certificate', new_column_name='energy_certificate')\\\n",
    ".pipe(column_info, col='bathrooms_num', new_column_name='bathrooms_info')\\\n",
    ".pipe(column_info, col='condition', new_column_name='condition_info')\\\n",
    ".pipe(create_construction_decade)\\\n",
    ".pipe(column_info, col='street_name', new_column_name='street_info', drop=True)\\\n",
    ".pipe(create_avg_price_diff, avg_price_col='avg_price', price_col='mysql_search_price', new_column_name= 'price_diff')"
   ]
  },
  {
   "cell_type": "code",
   "execution_count": 21,
   "metadata": {
    "collapsed": false
   },
   "outputs": [],
   "source": [
    "imo_cv_rent = cv_full.pipe(select_columns, columns=columns)\\\n",
    ".pipe(create_liquid_field)\\\n",
    ".pipe(remove_outliers, col='mysql_search_price', lower_bound=100, upper_bound=2000)\\\n",
    ".pipe(filter_values, col='rooms_num', values_list=['0', '1', '2', '3', '4'])\\\n",
    ".pipe(remove_outliers, col='mysql_search_m', lower_bound=20, upper_bound=200)\\\n",
    ".pipe(add_avg_price_city_ap_type)\\\n",
    ".pipe(add_higher_city_room_avg)\\\n",
    ".pipe(private_business_binarization)\\\n",
    ".pipe(column_info, col='construction_year', new_column_name='construction_year_info')\\\n",
    ".pipe(column_info, col='energy_certificate', new_column_name='energy_certificate')\\\n",
    ".pipe(column_info, col='bathrooms_num', new_column_name='bathrooms_info')\\\n",
    ".pipe(column_info, col='condition', new_column_name='condition_info')\\\n",
    ".pipe(create_construction_decade)\\\n",
    ".pipe(column_info, col='street_name', new_column_name='street_info', drop=True)\\\n",
    ".pipe(create_avg_price_diff, avg_price_col='avg_price', price_col='mysql_search_price', new_column_name= 'price_diff')"
   ]
  },
  {
   "cell_type": "code",
   "execution_count": 22,
   "metadata": {
    "collapsed": false
   },
   "outputs": [
    {
     "data": {
      "text/html": [
       "<div>\n",
       "<table border=\"1\" class=\"dataframe\">\n",
       "  <thead>\n",
       "    <tr style=\"text-align: right;\">\n",
       "      <th></th>\n",
       "      <th>Unnamed: 0</th>\n",
       "      <th>ad_id</th>\n",
       "      <th>region_id</th>\n",
       "      <th>category_id</th>\n",
       "      <th>subregion_id</th>\n",
       "      <th>district_id</th>\n",
       "      <th>city_id</th>\n",
       "      <th>user_id</th>\n",
       "      <th>last_update_date</th>\n",
       "      <th>created_at_first</th>\n",
       "      <th>...</th>\n",
       "      <th>unique_replies</th>\n",
       "      <th>total_replies</th>\n",
       "      <th>unique_js_events</th>\n",
       "      <th>total_events</th>\n",
       "      <th>unique_senders</th>\n",
       "      <th>total_leads</th>\n",
       "      <th>n_images</th>\n",
       "      <th>n_images2</th>\n",
       "      <th>unique_week_views</th>\n",
       "      <th>week_views</th>\n",
       "    </tr>\n",
       "  </thead>\n",
       "  <tbody>\n",
       "    <tr>\n",
       "      <th>31006</th>\n",
       "      <td>31006</td>\n",
       "      <td>9111865</td>\n",
       "      <td>11</td>\n",
       "      <td>102</td>\n",
       "      <td>162</td>\n",
       "      <td>NaN</td>\n",
       "      <td>11549711</td>\n",
       "      <td>1648879</td>\n",
       "      <td>NaN</td>\n",
       "      <td>2017-12-02 11:48:55.000000</td>\n",
       "      <td>...</td>\n",
       "      <td>278.0</td>\n",
       "      <td>556.0</td>\n",
       "      <td>290.0</td>\n",
       "      <td>697.0</td>\n",
       "      <td>568.0</td>\n",
       "      <td>1253.0</td>\n",
       "      <td>5</td>\n",
       "      <td>5.0</td>\n",
       "      <td>1219.0</td>\n",
       "      <td>2315.0</td>\n",
       "    </tr>\n",
       "    <tr>\n",
       "      <th>31244</th>\n",
       "      <td>31244</td>\n",
       "      <td>9118060</td>\n",
       "      <td>11</td>\n",
       "      <td>102</td>\n",
       "      <td>163</td>\n",
       "      <td>NaN</td>\n",
       "      <td>11550728</td>\n",
       "      <td>1654708</td>\n",
       "      <td>NaN</td>\n",
       "      <td>2017-12-04 18:41:37.000000</td>\n",
       "      <td>...</td>\n",
       "      <td>89.0</td>\n",
       "      <td>178.0</td>\n",
       "      <td>212.0</td>\n",
       "      <td>538.0</td>\n",
       "      <td>301.0</td>\n",
       "      <td>716.0</td>\n",
       "      <td>7</td>\n",
       "      <td>7.0</td>\n",
       "      <td>1135.0</td>\n",
       "      <td>1729.0</td>\n",
       "    </tr>\n",
       "    <tr>\n",
       "      <th>31428</th>\n",
       "      <td>31428</td>\n",
       "      <td>9113899</td>\n",
       "      <td>13</td>\n",
       "      <td>102</td>\n",
       "      <td>186</td>\n",
       "      <td>NaN</td>\n",
       "      <td>13639694</td>\n",
       "      <td>1652212</td>\n",
       "      <td>NaN</td>\n",
       "      <td>2017-12-03 19:01:25.000000</td>\n",
       "      <td>...</td>\n",
       "      <td>32.0</td>\n",
       "      <td>64.0</td>\n",
       "      <td>125.0</td>\n",
       "      <td>238.0</td>\n",
       "      <td>157.0</td>\n",
       "      <td>302.0</td>\n",
       "      <td>3</td>\n",
       "      <td>3.0</td>\n",
       "      <td>1321.0</td>\n",
       "      <td>1982.0</td>\n",
       "    </tr>\n",
       "    <tr>\n",
       "      <th>31919</th>\n",
       "      <td>31919</td>\n",
       "      <td>9112180</td>\n",
       "      <td>3</td>\n",
       "      <td>102</td>\n",
       "      <td>36</td>\n",
       "      <td>NaN</td>\n",
       "      <td>3148849</td>\n",
       "      <td>1648960</td>\n",
       "      <td>NaN</td>\n",
       "      <td>2017-12-02 12:40:33.000000</td>\n",
       "      <td>...</td>\n",
       "      <td>47.0</td>\n",
       "      <td>94.0</td>\n",
       "      <td>46.0</td>\n",
       "      <td>101.0</td>\n",
       "      <td>93.0</td>\n",
       "      <td>195.0</td>\n",
       "      <td>7</td>\n",
       "      <td>7.0</td>\n",
       "      <td>311.0</td>\n",
       "      <td>550.0</td>\n",
       "    </tr>\n",
       "    <tr>\n",
       "      <th>32927</th>\n",
       "      <td>32927</td>\n",
       "      <td>9145411</td>\n",
       "      <td>11</td>\n",
       "      <td>102</td>\n",
       "      <td>153</td>\n",
       "      <td>NaN</td>\n",
       "      <td>11540536</td>\n",
       "      <td>1672201</td>\n",
       "      <td>NaN</td>\n",
       "      <td>2017-12-11 23:09:15.000000</td>\n",
       "      <td>...</td>\n",
       "      <td>0.0</td>\n",
       "      <td>0.0</td>\n",
       "      <td>0.0</td>\n",
       "      <td>0.0</td>\n",
       "      <td>0.0</td>\n",
       "      <td>0.0</td>\n",
       "      <td>9</td>\n",
       "      <td>9.0</td>\n",
       "      <td>4.0</td>\n",
       "      <td>7.0</td>\n",
       "    </tr>\n",
       "  </tbody>\n",
       "</table>\n",
       "<p>5 rows × 78 columns</p>\n",
       "</div>"
      ],
      "text/plain": [
       "       Unnamed: 0    ad_id  region_id  category_id  subregion_id  district_id  \\\n",
       "31006       31006  9111865         11          102           162          NaN   \n",
       "31244       31244  9118060         11          102           163          NaN   \n",
       "31428       31428  9113899         13          102           186          NaN   \n",
       "31919       31919  9112180          3          102            36          NaN   \n",
       "32927       32927  9145411         11          102           153          NaN   \n",
       "\n",
       "        city_id  user_id  last_update_date            created_at_first  \\\n",
       "31006  11549711  1648879               NaN  2017-12-02 11:48:55.000000   \n",
       "31244  11550728  1654708               NaN  2017-12-04 18:41:37.000000   \n",
       "31428  13639694  1652212               NaN  2017-12-03 19:01:25.000000   \n",
       "31919   3148849  1648960               NaN  2017-12-02 12:40:33.000000   \n",
       "32927  11540536  1672201               NaN  2017-12-11 23:09:15.000000   \n",
       "\n",
       "          ...     unique_replies total_replies  unique_js_events  \\\n",
       "31006     ...              278.0         556.0             290.0   \n",
       "31244     ...               89.0         178.0             212.0   \n",
       "31428     ...               32.0          64.0             125.0   \n",
       "31919     ...               47.0          94.0              46.0   \n",
       "32927     ...                0.0           0.0               0.0   \n",
       "\n",
       "       total_events unique_senders  total_leads n_images  n_images2  \\\n",
       "31006         697.0          568.0       1253.0        5        5.0   \n",
       "31244         538.0          301.0        716.0        7        7.0   \n",
       "31428         238.0          157.0        302.0        3        3.0   \n",
       "31919         101.0           93.0        195.0        7        7.0   \n",
       "32927           0.0            0.0          0.0        9        9.0   \n",
       "\n",
       "       unique_week_views  week_views  \n",
       "31006             1219.0      2315.0  \n",
       "31244             1135.0      1729.0  \n",
       "31428             1321.0      1982.0  \n",
       "31919              311.0       550.0  \n",
       "32927                4.0         7.0  \n",
       "\n",
       "[5 rows x 78 columns]"
      ]
     },
     "execution_count": 22,
     "metadata": {},
     "output_type": "execute_result"
    }
   ],
   "source": [
    "cv_full.head()"
   ]
  },
  {
   "cell_type": "code",
   "execution_count": 23,
   "metadata": {
    "collapsed": false
   },
   "outputs": [
    {
     "data": {
      "text/plain": [
       "(16334, 27)"
      ]
     },
     "execution_count": 23,
     "metadata": {},
     "output_type": "execute_result"
    }
   ],
   "source": [
    "imo_train_rent.shape"
   ]
  },
  {
   "cell_type": "code",
   "execution_count": 24,
   "metadata": {
    "collapsed": false
   },
   "outputs": [
    {
     "data": {
      "text/plain": [
       "(16334, 27)"
      ]
     },
     "execution_count": 24,
     "metadata": {},
     "output_type": "execute_result"
    }
   ],
   "source": [
    "imo_train_rent.shape"
   ]
  },
  {
   "cell_type": "code",
   "execution_count": 25,
   "metadata": {
    "collapsed": false
   },
   "outputs": [
    {
     "data": {
      "text/plain": [
       "Index(['ad_id', 'city_id', 'title', 'description', 'private_business',\n",
       "       'n_images2', 'was_paid_for_post', 'is_paid_for_post', 'mysql_search_m',\n",
       "       'mysql_search_price', 'rooms_num', 'bathrooms_num', 'condition',\n",
       "       'energy_certificate', 'negotiable', 'exchange', 'unique_senders',\n",
       "       'liquid', 'city_n', 'avg_price', 'higher_city_room_mean',\n",
       "       'construction_year_info', 'bathrooms_info', 'condition_info',\n",
       "       'construction_year_decade', 'street_info', 'price_diff'],\n",
       "      dtype='object')"
      ]
     },
     "execution_count": 25,
     "metadata": {},
     "output_type": "execute_result"
    }
   ],
   "source": [
    "imo_train_rent.columns"
   ]
  },
  {
   "cell_type": "code",
   "execution_count": 26,
   "metadata": {
    "collapsed": false
   },
   "outputs": [
    {
     "data": {
      "text/plain": [
       "no_0    12665\n",
       "2000     1182\n",
       "1990      776\n",
       "1980      607\n",
       "2010      388\n",
       "1970      356\n",
       "1960      153\n",
       "1950      130\n",
       "1940       25\n",
       "1930       20\n",
       "1900       14\n",
       "1920        5\n",
       "1850        4\n",
       "1910        3\n",
       "1890        2\n",
       "2020        1\n",
       "1820        1\n",
       "1700        1\n",
       "1750        1\n",
       "Name: construction_year_decade, dtype: int64"
      ]
     },
     "execution_count": 26,
     "metadata": {},
     "output_type": "execute_result"
    }
   ],
   "source": [
    "imo_train_rent.construction_year_decade.value_counts()"
   ]
  },
  {
   "cell_type": "code",
   "execution_count": 27,
   "metadata": {
    "collapsed": true
   },
   "outputs": [],
   "source": [
    "cat_columns = ['energy_certificate',\n",
    "               'rooms_num',\n",
    "               'bathrooms_num',\n",
    "               'condition',\n",
    "               'energy_certificate', \n",
    "               'negotiable',\n",
    "               'exchange',\n",
    "               'construction_year_decade']"
   ]
  },
  {
   "cell_type": "code",
   "execution_count": 28,
   "metadata": {
    "collapsed": true
   },
   "outputs": [],
   "source": [
    "num_columns = ['title', \n",
    "               'description', \n",
    "               'mysql_search_m', \n",
    "               'mysql_search_price', \n",
    "               'n_images2', \n",
    "               'avg_price',\n",
    "              'price_diff']"
   ]
  },
  {
   "cell_type": "code",
   "execution_count": 29,
   "metadata": {
    "collapsed": true
   },
   "outputs": [],
   "source": [
    "train_columns = ['city_id', \n",
    "                 'title', \n",
    "                 'description', \n",
    "                 'private_business',\n",
    "                 'n_images2', \n",
    "                 'was_paid_for_post', \n",
    "                 'is_paid_for_post', \n",
    "                 'mysql_search_m',\n",
    "                 'mysql_search_price', \n",
    "                 'rooms_num',\n",
    "                 'bathrooms_num', \n",
    "                 'condition', \n",
    "                 'energy_certificate', \n",
    "                 'negotiable',\n",
    "                 'exchange',  \n",
    "                 'avg_price',\n",
    "                 'higher_city_room_mean', \n",
    "                 'construction_year_info', \n",
    "                 'bathrooms_info',\n",
    "                 'condition_info', \n",
    "                 'construction_year_decade', \n",
    "                 'street_info',\n",
    "                 'price_diff',\n",
    "                 'liquid']"
   ]
  },
  {
   "cell_type": "code",
   "execution_count": 30,
   "metadata": {
    "collapsed": false
   },
   "outputs": [],
   "source": [
    "imo_train_rent = imo_train_rent[train_columns]"
   ]
  },
  {
   "cell_type": "code",
   "execution_count": 31,
   "metadata": {
    "collapsed": false
   },
   "outputs": [],
   "source": [
    "imo_cv_rent = imo_cv_rent[train_columns]"
   ]
  },
  {
   "cell_type": "code",
   "execution_count": 32,
   "metadata": {
    "collapsed": true
   },
   "outputs": [],
   "source": [
    "imo_train_rent[cat_columns] = imo_train_rent[cat_columns].fillna('no_info').astype('str')\n",
    "imo_cv_rent[cat_columns] = imo_cv_rent[cat_columns].fillna('no_info').astype('str')"
   ]
  },
  {
   "cell_type": "code",
   "execution_count": 33,
   "metadata": {
    "collapsed": false
   },
   "outputs": [
    {
     "data": {
      "text/html": [
       "<div>\n",
       "<table border=\"1\" class=\"dataframe\">\n",
       "  <thead>\n",
       "    <tr style=\"text-align: right;\">\n",
       "      <th></th>\n",
       "      <th>city_id</th>\n",
       "      <th>title</th>\n",
       "      <th>description</th>\n",
       "      <th>private_business</th>\n",
       "      <th>n_images2</th>\n",
       "      <th>was_paid_for_post</th>\n",
       "      <th>is_paid_for_post</th>\n",
       "      <th>mysql_search_m</th>\n",
       "      <th>mysql_search_price</th>\n",
       "      <th>rooms_num</th>\n",
       "      <th>...</th>\n",
       "      <th>exchange</th>\n",
       "      <th>avg_price</th>\n",
       "      <th>higher_city_room_mean</th>\n",
       "      <th>construction_year_info</th>\n",
       "      <th>bathrooms_info</th>\n",
       "      <th>condition_info</th>\n",
       "      <th>construction_year_decade</th>\n",
       "      <th>street_info</th>\n",
       "      <th>price_diff</th>\n",
       "      <th>liquid</th>\n",
       "    </tr>\n",
       "  </thead>\n",
       "  <tbody>\n",
       "    <tr>\n",
       "      <th>0</th>\n",
       "      <td>11549711</td>\n",
       "      <td>32</td>\n",
       "      <td>130</td>\n",
       "      <td>1</td>\n",
       "      <td>5.0</td>\n",
       "      <td>1</td>\n",
       "      <td>1</td>\n",
       "      <td>49.0</td>\n",
       "      <td>400</td>\n",
       "      <td>2</td>\n",
       "      <td>...</td>\n",
       "      <td>no</td>\n",
       "      <td>415.500000</td>\n",
       "      <td>0</td>\n",
       "      <td>1</td>\n",
       "      <td>1</td>\n",
       "      <td>1</td>\n",
       "      <td>no_0</td>\n",
       "      <td>0</td>\n",
       "      <td>-0.037304</td>\n",
       "      <td>1</td>\n",
       "    </tr>\n",
       "    <tr>\n",
       "      <th>1</th>\n",
       "      <td>11550728</td>\n",
       "      <td>30</td>\n",
       "      <td>283</td>\n",
       "      <td>1</td>\n",
       "      <td>7.0</td>\n",
       "      <td>1</td>\n",
       "      <td>1</td>\n",
       "      <td>38.0</td>\n",
       "      <td>350</td>\n",
       "      <td>1</td>\n",
       "      <td>...</td>\n",
       "      <td>no</td>\n",
       "      <td>365.000000</td>\n",
       "      <td>0</td>\n",
       "      <td>1</td>\n",
       "      <td>1</td>\n",
       "      <td>1</td>\n",
       "      <td>no_0</td>\n",
       "      <td>0</td>\n",
       "      <td>-0.041096</td>\n",
       "      <td>1</td>\n",
       "    </tr>\n",
       "    <tr>\n",
       "      <th>2</th>\n",
       "      <td>13639694</td>\n",
       "      <td>42</td>\n",
       "      <td>64</td>\n",
       "      <td>1</td>\n",
       "      <td>3.0</td>\n",
       "      <td>0</td>\n",
       "      <td>1</td>\n",
       "      <td>36.0</td>\n",
       "      <td>300</td>\n",
       "      <td>1</td>\n",
       "      <td>...</td>\n",
       "      <td>no</td>\n",
       "      <td>300.000000</td>\n",
       "      <td>0</td>\n",
       "      <td>1</td>\n",
       "      <td>1</td>\n",
       "      <td>1</td>\n",
       "      <td>no_0</td>\n",
       "      <td>0</td>\n",
       "      <td>0.000000</td>\n",
       "      <td>1</td>\n",
       "    </tr>\n",
       "    <tr>\n",
       "      <th>3</th>\n",
       "      <td>3148849</td>\n",
       "      <td>29</td>\n",
       "      <td>110</td>\n",
       "      <td>1</td>\n",
       "      <td>7.0</td>\n",
       "      <td>1</td>\n",
       "      <td>1</td>\n",
       "      <td>46.0</td>\n",
       "      <td>350</td>\n",
       "      <td>2</td>\n",
       "      <td>...</td>\n",
       "      <td>no</td>\n",
       "      <td>349.285714</td>\n",
       "      <td>1</td>\n",
       "      <td>1</td>\n",
       "      <td>1</td>\n",
       "      <td>1</td>\n",
       "      <td>no_0</td>\n",
       "      <td>0</td>\n",
       "      <td>0.002045</td>\n",
       "      <td>1</td>\n",
       "    </tr>\n",
       "    <tr>\n",
       "      <th>4</th>\n",
       "      <td>11540536</td>\n",
       "      <td>27</td>\n",
       "      <td>153</td>\n",
       "      <td>1</td>\n",
       "      <td>9.0</td>\n",
       "      <td>1</td>\n",
       "      <td>1</td>\n",
       "      <td>40.0</td>\n",
       "      <td>440</td>\n",
       "      <td>1</td>\n",
       "      <td>...</td>\n",
       "      <td>no</td>\n",
       "      <td>734.545455</td>\n",
       "      <td>0</td>\n",
       "      <td>1</td>\n",
       "      <td>1</td>\n",
       "      <td>1</td>\n",
       "      <td>no_0</td>\n",
       "      <td>0</td>\n",
       "      <td>-0.400990</td>\n",
       "      <td>0</td>\n",
       "    </tr>\n",
       "  </tbody>\n",
       "</table>\n",
       "<p>5 rows × 24 columns</p>\n",
       "</div>"
      ],
      "text/plain": [
       "    city_id  title  description  private_business  n_images2  \\\n",
       "0  11549711     32          130                 1        5.0   \n",
       "1  11550728     30          283                 1        7.0   \n",
       "2  13639694     42           64                 1        3.0   \n",
       "3   3148849     29          110                 1        7.0   \n",
       "4  11540536     27          153                 1        9.0   \n",
       "\n",
       "   was_paid_for_post  is_paid_for_post  mysql_search_m  mysql_search_price  \\\n",
       "0                  1                 1            49.0                 400   \n",
       "1                  1                 1            38.0                 350   \n",
       "2                  0                 1            36.0                 300   \n",
       "3                  1                 1            46.0                 350   \n",
       "4                  1                 1            40.0                 440   \n",
       "\n",
       "  rooms_num   ...   exchange   avg_price higher_city_room_mean  \\\n",
       "0         2   ...         no  415.500000                     0   \n",
       "1         1   ...         no  365.000000                     0   \n",
       "2         1   ...         no  300.000000                     0   \n",
       "3         2   ...         no  349.285714                     1   \n",
       "4         1   ...         no  734.545455                     0   \n",
       "\n",
       "  construction_year_info bathrooms_info  condition_info  \\\n",
       "0                      1              1               1   \n",
       "1                      1              1               1   \n",
       "2                      1              1               1   \n",
       "3                      1              1               1   \n",
       "4                      1              1               1   \n",
       "\n",
       "   construction_year_decade  street_info  price_diff  liquid  \n",
       "0                      no_0            0   -0.037304       1  \n",
       "1                      no_0            0   -0.041096       1  \n",
       "2                      no_0            0    0.000000       1  \n",
       "3                      no_0            0    0.002045       1  \n",
       "4                      no_0            0   -0.400990       0  \n",
       "\n",
       "[5 rows x 24 columns]"
      ]
     },
     "execution_count": 33,
     "metadata": {},
     "output_type": "execute_result"
    }
   ],
   "source": [
    "imo_cv_rent.head()"
   ]
  },
  {
   "cell_type": "code",
   "execution_count": 34,
   "metadata": {
    "collapsed": false
   },
   "outputs": [],
   "source": [
    "imo_train_rent[num_columns] = imo_train_rent[num_columns].fillna(0)\n",
    "imo_cv_rent[num_columns] = imo_cv_rent[num_columns].fillna(0)"
   ]
  },
  {
   "cell_type": "code",
   "execution_count": 35,
   "metadata": {
    "collapsed": true
   },
   "outputs": [],
   "source": [
    "train_dataset = pd.get_dummies(imo_train_rent)\n",
    "test_dataset = pd.get_dummies(imo_cv_rent)"
   ]
  },
  {
   "cell_type": "code",
   "execution_count": 36,
   "metadata": {
    "collapsed": false
   },
   "outputs": [
    {
     "data": {
      "text/plain": [
       "(16334, 58)"
      ]
     },
     "execution_count": 36,
     "metadata": {},
     "output_type": "execute_result"
    }
   ],
   "source": [
    "train_dataset.shape"
   ]
  },
  {
   "cell_type": "code",
   "execution_count": 37,
   "metadata": {
    "collapsed": false
   },
   "outputs": [],
   "source": [
    "y = train_dataset['liquid']\n",
    "y_cv = test_dataset['liquid']"
   ]
  },
  {
   "cell_type": "code",
   "execution_count": 38,
   "metadata": {
    "collapsed": false
   },
   "outputs": [],
   "source": [
    "X = train_dataset.drop('liquid', axis=1)\n",
    "X_cv = test_dataset.drop('liquid', axis=1)"
   ]
  },
  {
   "cell_type": "code",
   "execution_count": 39,
   "metadata": {
    "collapsed": false
   },
   "outputs": [],
   "source": [
    "X_train, X_test, y_train, y_test = train_test_split(X, y, random_state=432)"
   ]
  },
  {
   "cell_type": "code",
   "execution_count": 40,
   "metadata": {
    "collapsed": false
   },
   "outputs": [
    {
     "data": {
      "text/plain": [
       "0.45255669186305025"
      ]
     },
     "execution_count": 40,
     "metadata": {},
     "output_type": "execute_result"
    }
   ],
   "source": [
    "ratio = float(np.sum(y == 0)) / np.sum(y == 1)\n",
    "ratio"
   ]
  },
  {
   "cell_type": "code",
   "execution_count": 41,
   "metadata": {
    "collapsed": true
   },
   "outputs": [],
   "source": [
    "default_params = {\n",
    "    'objective': 'binary:logistic',\n",
    "    'max_depth': 9,\n",
    "    'learning_rate': 0.1,\n",
    "    'silent': False,\n",
    "    'min_child_weight': 7,\n",
    "    'subsample': 0.8, \n",
    "    'colsample_bytree': 0.8,\n",
    "    'scale_pos_weight': ratio,\n",
    "    'n_estimators': 1000\n",
    "}\n"
   ]
  },
  {
   "cell_type": "code",
   "execution_count": 42,
   "metadata": {
    "collapsed": true
   },
   "outputs": [],
   "source": [
    "clf = XGBClassifier(**default_params)"
   ]
  },
  {
   "cell_type": "code",
   "execution_count": 43,
   "metadata": {
    "collapsed": false
   },
   "outputs": [
    {
     "data": {
      "text/plain": [
       "XGBClassifier(base_score=0.5, colsample_bylevel=1, colsample_bytree=0.8,\n",
       "       gamma=0, learning_rate=0.1, max_delta_step=0, max_depth=9,\n",
       "       min_child_weight=7, missing=None, n_estimators=1000, nthread=-1,\n",
       "       objective='binary:logistic', reg_alpha=0, reg_lambda=1,\n",
       "       scale_pos_weight=0.45255669186305025, seed=0, silent=False,\n",
       "       subsample=0.8)"
      ]
     },
     "execution_count": 43,
     "metadata": {},
     "output_type": "execute_result"
    }
   ],
   "source": [
    "clf.fit(X_train, y_train, \n",
    "        eval_set=[(X_train, y_train), (X_test, y_test)], \n",
    "        eval_metric='logloss',\n",
    "        verbose=False, early_stopping_rounds=10)"
   ]
  },
  {
   "cell_type": "code",
   "execution_count": 44,
   "metadata": {
    "collapsed": false
   },
   "outputs": [
    {
     "data": {
      "text/plain": [
       "['xgb_imo_rent_02.pkl']"
      ]
     },
     "execution_count": 44,
     "metadata": {},
     "output_type": "execute_result"
    }
   ],
   "source": [
    "from sklearn.externals import joblib\n",
    "joblib.dump(clf, 'xgb_imo_rent_02.pkl') "
   ]
  },
  {
   "cell_type": "code",
   "execution_count": 45,
   "metadata": {
    "collapsed": true
   },
   "outputs": [],
   "source": [
    "def my_plot_importance(booster, figsize, **kwargs): \n",
    "    from matplotlib import pyplot as plt\n",
    "    from xgboost import plot_importance\n",
    "    fig, ax = plt.subplots(1,1,figsize=figsize)\n",
    "    return plot_importance(booster=booster, ax=ax, **kwargs)"
   ]
  },
  {
   "cell_type": "code",
   "execution_count": 46,
   "metadata": {
    "collapsed": false
   },
   "outputs": [
    {
     "data": {
      "text/plain": [
       "<matplotlib.axes._subplots.AxesSubplot at 0x1182a0cf8>"
      ]
     },
     "execution_count": 46,
     "metadata": {},
     "output_type": "execute_result"
    },
    {
     "data": {
      "image/png": "[encoded data removed]",
      "text/plain": [
       "<matplotlib.figure.Figure at 0x11a931860>"
      ]
     },
     "metadata": {},
     "output_type": "display_data"
    }
   ],
   "source": [
    "my_plot_importance(clf, figsize=(10, 20),  importance_type='gain' )"
   ]
  },
  {
   "cell_type": "markdown",
   "metadata": {},
   "source": [
    "**Validation on train:**"
   ]
  },
  {
   "cell_type": "code",
   "execution_count": 47,
   "metadata": {
    "collapsed": false
   },
   "outputs": [],
   "source": [
    "y_train_predict = clf.predict(X_train)"
   ]
  },
  {
   "cell_type": "code",
   "execution_count": 48,
   "metadata": {
    "collapsed": false
   },
   "outputs": [
    {
     "name": "stdout",
     "output_type": "stream",
     "text": [
      "Accuracy: 0.87\n",
      "Precision: 0.94\n",
      "Recall: 0.87\n",
      "F1: 0.90\n"
     ]
    }
   ],
   "source": [
    "print('Accuracy: {0:.2f}'.format(accuracy_score(y_train, y_train_predict)))\n",
    "print('Precision: {0:.2f}'.format(precision_score(y_train, y_train_predict)))\n",
    "print('Recall: {0:.2f}'.format(recall_score(y_train, y_train_predict)))\n",
    "print('F1: {0:.2f}'.format(f1_score(y_train, y_train_predict)))"
   ]
  },
  {
   "cell_type": "code",
   "execution_count": 49,
   "metadata": {
    "collapsed": false
   },
   "outputs": [
    {
     "data": {
      "text/html": [
       "<div>\n",
       "<table border=\"1\" class=\"dataframe\">\n",
       "  <thead>\n",
       "    <tr style=\"text-align: right;\">\n",
       "      <th>Predicted</th>\n",
       "      <th>0.0</th>\n",
       "      <th>1.0</th>\n",
       "      <th>All</th>\n",
       "    </tr>\n",
       "    <tr>\n",
       "      <th>Actual</th>\n",
       "      <th></th>\n",
       "      <th></th>\n",
       "      <th></th>\n",
       "    </tr>\n",
       "  </thead>\n",
       "  <tbody>\n",
       "    <tr>\n",
       "      <th>0.0</th>\n",
       "      <td>859</td>\n",
       "      <td>1498</td>\n",
       "      <td>2357</td>\n",
       "    </tr>\n",
       "    <tr>\n",
       "      <th>1.0</th>\n",
       "      <td>2510</td>\n",
       "      <td>4319</td>\n",
       "      <td>6829</td>\n",
       "    </tr>\n",
       "    <tr>\n",
       "      <th>All</th>\n",
       "      <td>3369</td>\n",
       "      <td>5817</td>\n",
       "      <td>9186</td>\n",
       "    </tr>\n",
       "  </tbody>\n",
       "</table>\n",
       "</div>"
      ],
      "text/plain": [
       "Predicted   0.0   1.0   All\n",
       "Actual                     \n",
       "0.0         859  1498  2357\n",
       "1.0        2510  4319  6829\n",
       "All        3369  5817  9186"
      ]
     },
     "execution_count": 49,
     "metadata": {},
     "output_type": "execute_result"
    }
   ],
   "source": [
    "pd.crosstab(\n",
    "    pd.Series(y_train, name='Actual'),\n",
    "    pd.Series(y_train_predict, name='Predicted'),\n",
    "    margins=True\n",
    ")"
   ]
  },
  {
   "cell_type": "code",
   "execution_count": 50,
   "metadata": {
    "collapsed": false
   },
   "outputs": [
    {
     "name": "stdout",
     "output_type": "stream",
     "text": [
      "             precision    recall  f1-score   support\n",
      "\n",
      "          0       0.75      0.88      0.81      3800\n",
      "          1       0.94      0.87      0.90      8450\n",
      "\n",
      "avg / total       0.88      0.87      0.87     12250\n",
      "\n"
     ]
    }
   ],
   "source": [
    "print(classification_report(y_train, y_train_predict))"
   ]
  },
  {
   "cell_type": "markdown",
   "metadata": {},
   "source": [
    "**Validation on test:**"
   ]
  },
  {
   "cell_type": "code",
   "execution_count": 51,
   "metadata": {
    "collapsed": false
   },
   "outputs": [],
   "source": [
    "y_val_predict = clf.predict(X_test)"
   ]
  },
  {
   "cell_type": "code",
   "execution_count": 52,
   "metadata": {
    "collapsed": false
   },
   "outputs": [
    {
     "name": "stdout",
     "output_type": "stream",
     "text": [
      "Accuracy: 0.79\n",
      "Precision: 0.87\n",
      "Recall: 0.82\n",
      "F1: 0.84\n"
     ]
    }
   ],
   "source": [
    "print('Accuracy: {0:.2f}'.format(accuracy_score(y_test, y_val_predict)))\n",
    "print('Precision: {0:.2f}'.format(precision_score(y_test, y_val_predict)))\n",
    "print('Recall: {0:.2f}'.format(recall_score(y_test, y_val_predict)))\n",
    "print('F1: {0:.2f}'.format(f1_score(y_test, y_val_predict)))"
   ]
  },
  {
   "cell_type": "code",
   "execution_count": 53,
   "metadata": {
    "collapsed": false
   },
   "outputs": [
    {
     "data": {
      "text/html": [
       "<div>\n",
       "<table border=\"1\" class=\"dataframe\">\n",
       "  <thead>\n",
       "    <tr style=\"text-align: right;\">\n",
       "      <th>Predicted</th>\n",
       "      <th>0.0</th>\n",
       "      <th>1.0</th>\n",
       "      <th>All</th>\n",
       "    </tr>\n",
       "    <tr>\n",
       "      <th>Actual</th>\n",
       "      <th></th>\n",
       "      <th></th>\n",
       "      <th></th>\n",
       "    </tr>\n",
       "  </thead>\n",
       "  <tbody>\n",
       "    <tr>\n",
       "      <th>0.0</th>\n",
       "      <td>80</td>\n",
       "      <td>169</td>\n",
       "      <td>249</td>\n",
       "    </tr>\n",
       "    <tr>\n",
       "      <th>1.0</th>\n",
       "      <td>275</td>\n",
       "      <td>481</td>\n",
       "      <td>756</td>\n",
       "    </tr>\n",
       "    <tr>\n",
       "      <th>All</th>\n",
       "      <td>355</td>\n",
       "      <td>650</td>\n",
       "      <td>1005</td>\n",
       "    </tr>\n",
       "  </tbody>\n",
       "</table>\n",
       "</div>"
      ],
      "text/plain": [
       "Predicted  0.0  1.0   All\n",
       "Actual                   \n",
       "0.0         80  169   249\n",
       "1.0        275  481   756\n",
       "All        355  650  1005"
      ]
     },
     "execution_count": 53,
     "metadata": {},
     "output_type": "execute_result"
    }
   ],
   "source": [
    "pd.crosstab(\n",
    "    pd.Series(y_test, name='Actual'),\n",
    "    pd.Series(y_val_predict, name='Predicted'),\n",
    "    margins=True\n",
    ")"
   ]
  },
  {
   "cell_type": "code",
   "execution_count": 54,
   "metadata": {
    "collapsed": false
   },
   "outputs": [
    {
     "name": "stdout",
     "output_type": "stream",
     "text": [
      "             precision    recall  f1-score   support\n",
      "\n",
      "          0       0.65      0.72      0.69      1289\n",
      "          1       0.87      0.82      0.84      2795\n",
      "\n",
      "avg / total       0.80      0.79      0.79      4084\n",
      "\n"
     ]
    }
   ],
   "source": [
    "print(classification_report(y_test, y_val_predict))"
   ]
  },
  {
   "cell_type": "markdown",
   "metadata": {},
   "source": [
    "**Validation on December data:**"
   ]
  },
  {
   "cell_type": "code",
   "execution_count": 55,
   "metadata": {
    "collapsed": false
   },
   "outputs": [
    {
     "name": "stdout",
     "output_type": "stream",
     "text": [
      "condition_em_construcao\n",
      "condition_ruina\n",
      "construction_year_decade_1700\n",
      "construction_year_decade_1750\n",
      "construction_year_decade_1820\n",
      "construction_year_decade_1850\n",
      "construction_year_decade_1890\n",
      "construction_year_decade_1910\n",
      "construction_year_decade_1920\n",
      "construction_year_decade_2020\n"
     ]
    }
   ],
   "source": [
    "for col in X.columns:\n",
    "    if col not in X_cv.columns:\n",
    "        print(col)\n",
    "        X_cv[col] = 0"
   ]
  },
  {
   "cell_type": "code",
   "execution_count": 56,
   "metadata": {
    "collapsed": false
   },
   "outputs": [],
   "source": [
    "for col in X_cv.columns:\n",
    "    if col not in X.columns:\n",
    "        print(col)\n",
    "        X_cv = X_cv.drop(col, axis=1)"
   ]
  },
  {
   "cell_type": "code",
   "execution_count": 57,
   "metadata": {
    "collapsed": true
   },
   "outputs": [],
   "source": [
    "selected_columns = X.columns "
   ]
  },
  {
   "cell_type": "code",
   "execution_count": 58,
   "metadata": {
    "collapsed": false
   },
   "outputs": [],
   "source": [
    "y_cv_predict = clf.predict(X_cv[selected_columns])"
   ]
  },
  {
   "cell_type": "code",
   "execution_count": 59,
   "metadata": {
    "collapsed": false
   },
   "outputs": [
    {
     "name": "stdout",
     "output_type": "stream",
     "text": [
      "Accuracy: 0.81\n",
      "Precision: 0.88\n",
      "Recall: 0.82\n",
      "F1: 0.85\n"
     ]
    }
   ],
   "source": [
    "print('Accuracy: {0:.2f}'.format(accuracy_score(y_cv, y_cv_predict)))\n",
    "print('Precision: {0:.2f}'.format(precision_score(y_cv,  y_cv_predict)))\n",
    "print('Recall: {0:.2f}'.format(recall_score(y_cv, y_cv_predict)))\n",
    "print('F1: {0:.2f}'.format(f1_score(y_cv,  y_cv_predict)))"
   ]
  },
  {
   "cell_type": "code",
   "execution_count": 60,
   "metadata": {
    "collapsed": false
   },
   "outputs": [
    {
     "data": {
      "text/html": [
       "<div>\n",
       "<table border=\"1\" class=\"dataframe\">\n",
       "  <thead>\n",
       "    <tr style=\"text-align: right;\">\n",
       "      <th>Predicted</th>\n",
       "      <th>0</th>\n",
       "      <th>1</th>\n",
       "      <th>All</th>\n",
       "    </tr>\n",
       "    <tr>\n",
       "      <th>Actual</th>\n",
       "      <th></th>\n",
       "      <th></th>\n",
       "      <th></th>\n",
       "    </tr>\n",
       "  </thead>\n",
       "  <tbody>\n",
       "    <tr>\n",
       "      <th>0</th>\n",
       "      <td>592</td>\n",
       "      <td>153</td>\n",
       "      <td>745</td>\n",
       "    </tr>\n",
       "    <tr>\n",
       "      <th>1</th>\n",
       "      <td>251</td>\n",
       "      <td>1122</td>\n",
       "      <td>1373</td>\n",
       "    </tr>\n",
       "    <tr>\n",
       "      <th>All</th>\n",
       "      <td>843</td>\n",
       "      <td>1275</td>\n",
       "      <td>2118</td>\n",
       "    </tr>\n",
       "  </tbody>\n",
       "</table>\n",
       "</div>"
      ],
      "text/plain": [
       "Predicted    0     1   All\n",
       "Actual                    \n",
       "0          592   153   745\n",
       "1          251  1122  1373\n",
       "All        843  1275  2118"
      ]
     },
     "execution_count": 60,
     "metadata": {},
     "output_type": "execute_result"
    }
   ],
   "source": [
    "pd.crosstab(\n",
    "    pd.Series(y_cv, name='Actual'),\n",
    "    pd.Series(y_cv_predict, name='Predicted'),\n",
    "    margins=True\n",
    ")"
   ]
  },
  {
   "cell_type": "code",
   "execution_count": 61,
   "metadata": {
    "collapsed": false
   },
   "outputs": [
    {
     "name": "stdout",
     "output_type": "stream",
     "text": [
      "             precision    recall  f1-score   support\n",
      "\n",
      "          0       0.70      0.79      0.75       745\n",
      "          1       0.88      0.82      0.85      1373\n",
      "\n",
      "avg / total       0.82      0.81      0.81      2118\n",
      "\n"
     ]
    }
   ],
   "source": [
    "print(classification_report(y_cv, y_cv_predict))"
   ]
  },
  {
   "cell_type": "code",
   "execution_count": 62,
   "metadata": {
    "collapsed": false
   },
   "outputs": [
    {
     "data": {
      "text/html": [
       "\n",
       "    <style>\n",
       "    table.eli5-weights tr:hover {\n",
       "        filter: brightness(85%);\n",
       "    }\n",
       "</style>\n",
       "\n",
       "\n",
       "\n",
       "    \n",
       "\n",
       "    \n",
       "\n",
       "    \n",
       "\n",
       "    \n",
       "\n",
       "    \n",
       "\n",
       "    \n",
       "\n",
       "\n",
       "    \n",
       "\n",
       "    \n",
       "\n",
       "    \n",
       "\n",
       "    \n",
       "\n",
       "    \n",
       "\n",
       "    \n",
       "\n",
       "\n",
       "    \n",
       "\n",
       "    \n",
       "\n",
       "    \n",
       "\n",
       "    \n",
       "\n",
       "    \n",
       "        <table class=\"eli5-weights eli5-feature-importances\" style=\"border-collapse: collapse; border: none; margin-top: 0em; table-layout: auto;\">\n",
       "    <thead>\n",
       "    <tr style=\"border: none;\">\n",
       "        <th style=\"padding: 0 1em 0 0.5em; text-align: right; border: none;\">Weight</th>\n",
       "        <th style=\"padding: 0 0.5em 0 0.5em; text-align: left; border: none;\">Feature</th>\n",
       "    </tr>\n",
       "    </thead>\n",
       "    <tbody>\n",
       "    \n",
       "        <tr style=\"background-color: hsl(120, 100.00%, 80.00%); border: none;\">\n",
       "            <td style=\"padding: 0 1em 0 0.5em; text-align: right; border: none;\">\n",
       "                0.2017\n",
       "                \n",
       "            </td>\n",
       "            <td style=\"padding: 0 0.5em 0 0.5em; text-align: left; border: none;\">\n",
       "                private_business\n",
       "            </td>\n",
       "        </tr>\n",
       "    \n",
       "        <tr style=\"background-color: hsl(120, 100.00%, 88.45%); border: none;\">\n",
       "            <td style=\"padding: 0 1em 0 0.5em; text-align: right; border: none;\">\n",
       "                0.0921\n",
       "                \n",
       "            </td>\n",
       "            <td style=\"padding: 0 0.5em 0 0.5em; text-align: left; border: none;\">\n",
       "                street_info\n",
       "            </td>\n",
       "        </tr>\n",
       "    \n",
       "        <tr style=\"background-color: hsl(120, 100.00%, 90.88%); border: none;\">\n",
       "            <td style=\"padding: 0 1em 0 0.5em; text-align: right; border: none;\">\n",
       "                0.0657\n",
       "                \n",
       "            </td>\n",
       "            <td style=\"padding: 0 0.5em 0 0.5em; text-align: left; border: none;\">\n",
       "                higher_city_room_mean\n",
       "            </td>\n",
       "        </tr>\n",
       "    \n",
       "        <tr style=\"background-color: hsl(120, 100.00%, 92.22%); border: none;\">\n",
       "            <td style=\"padding: 0 1em 0 0.5em; text-align: right; border: none;\">\n",
       "                0.0524\n",
       "                \n",
       "            </td>\n",
       "            <td style=\"padding: 0 0.5em 0 0.5em; text-align: left; border: none;\">\n",
       "                mysql_search_price\n",
       "            </td>\n",
       "        </tr>\n",
       "    \n",
       "        <tr style=\"background-color: hsl(120, 100.00%, 93.62%); border: none;\">\n",
       "            <td style=\"padding: 0 1em 0 0.5em; text-align: right; border: none;\">\n",
       "                0.0394\n",
       "                \n",
       "            </td>\n",
       "            <td style=\"padding: 0 0.5em 0 0.5em; text-align: left; border: none;\">\n",
       "                construction_year_decade_2000\n",
       "            </td>\n",
       "        </tr>\n",
       "    \n",
       "        <tr style=\"background-color: hsl(120, 100.00%, 94.58%); border: none;\">\n",
       "            <td style=\"padding: 0 1em 0 0.5em; text-align: right; border: none;\">\n",
       "                0.0312\n",
       "                \n",
       "            </td>\n",
       "            <td style=\"padding: 0 0.5em 0 0.5em; text-align: left; border: none;\">\n",
       "                negotiable_no\n",
       "            </td>\n",
       "        </tr>\n",
       "    \n",
       "        <tr style=\"background-color: hsl(120, 100.00%, 94.59%); border: none;\">\n",
       "            <td style=\"padding: 0 1em 0 0.5em; text-align: right; border: none;\">\n",
       "                0.0312\n",
       "                \n",
       "            </td>\n",
       "            <td style=\"padding: 0 0.5em 0 0.5em; text-align: left; border: none;\">\n",
       "                was_paid_for_post\n",
       "            </td>\n",
       "        </tr>\n",
       "    \n",
       "        <tr style=\"background-color: hsl(120, 100.00%, 94.69%); border: none;\">\n",
       "            <td style=\"padding: 0 1em 0 0.5em; text-align: right; border: none;\">\n",
       "                0.0304\n",
       "                \n",
       "            </td>\n",
       "            <td style=\"padding: 0 0.5em 0 0.5em; text-align: left; border: none;\">\n",
       "                city_id\n",
       "            </td>\n",
       "        </tr>\n",
       "    \n",
       "        <tr style=\"background-color: hsl(120, 100.00%, 94.70%); border: none;\">\n",
       "            <td style=\"padding: 0 1em 0 0.5em; text-align: right; border: none;\">\n",
       "                0.0303\n",
       "                \n",
       "            </td>\n",
       "            <td style=\"padding: 0 0.5em 0 0.5em; text-align: left; border: none;\">\n",
       "                rooms_num_4\n",
       "            </td>\n",
       "        </tr>\n",
       "    \n",
       "        <tr style=\"background-color: hsl(120, 100.00%, 94.90%); border: none;\">\n",
       "            <td style=\"padding: 0 1em 0 0.5em; text-align: right; border: none;\">\n",
       "                0.0287\n",
       "                \n",
       "            </td>\n",
       "            <td style=\"padding: 0 0.5em 0 0.5em; text-align: left; border: none;\">\n",
       "                price_diff\n",
       "            </td>\n",
       "        </tr>\n",
       "    \n",
       "        <tr style=\"background-color: hsl(120, 100.00%, 95.37%); border: none;\">\n",
       "            <td style=\"padding: 0 1em 0 0.5em; text-align: right; border: none;\">\n",
       "                0.0249\n",
       "                \n",
       "            </td>\n",
       "            <td style=\"padding: 0 0.5em 0 0.5em; text-align: left; border: none;\">\n",
       "                rooms_num_1\n",
       "            </td>\n",
       "        </tr>\n",
       "    \n",
       "        <tr style=\"background-color: hsl(120, 100.00%, 95.70%); border: none;\">\n",
       "            <td style=\"padding: 0 1em 0 0.5em; text-align: right; border: none;\">\n",
       "                0.0224\n",
       "                \n",
       "            </td>\n",
       "            <td style=\"padding: 0 0.5em 0 0.5em; text-align: left; border: none;\">\n",
       "                is_paid_for_post\n",
       "            </td>\n",
       "        </tr>\n",
       "    \n",
       "        <tr style=\"background-color: hsl(120, 100.00%, 95.98%); border: none;\">\n",
       "            <td style=\"padding: 0 1em 0 0.5em; text-align: right; border: none;\">\n",
       "                0.0203\n",
       "                \n",
       "            </td>\n",
       "            <td style=\"padding: 0 0.5em 0 0.5em; text-align: left; border: none;\">\n",
       "                avg_price\n",
       "            </td>\n",
       "        </tr>\n",
       "    \n",
       "        <tr style=\"background-color: hsl(120, 100.00%, 96.12%); border: none;\">\n",
       "            <td style=\"padding: 0 1em 0 0.5em; text-align: right; border: none;\">\n",
       "                0.0194\n",
       "                \n",
       "            </td>\n",
       "            <td style=\"padding: 0 0.5em 0 0.5em; text-align: left; border: none;\">\n",
       "                construction_year_decade_no_0\n",
       "            </td>\n",
       "        </tr>\n",
       "    \n",
       "        <tr style=\"background-color: hsl(120, 100.00%, 96.17%); border: none;\">\n",
       "            <td style=\"padding: 0 1em 0 0.5em; text-align: right; border: none;\">\n",
       "                0.0190\n",
       "                \n",
       "            </td>\n",
       "            <td style=\"padding: 0 0.5em 0 0.5em; text-align: left; border: none;\">\n",
       "                bathrooms_num_no\n",
       "            </td>\n",
       "        </tr>\n",
       "    \n",
       "        <tr style=\"background-color: hsl(120, 100.00%, 96.20%); border: none;\">\n",
       "            <td style=\"padding: 0 1em 0 0.5em; text-align: right; border: none;\">\n",
       "                0.0188\n",
       "                \n",
       "            </td>\n",
       "            <td style=\"padding: 0 0.5em 0 0.5em; text-align: left; border: none;\">\n",
       "                n_images2\n",
       "            </td>\n",
       "        </tr>\n",
       "    \n",
       "        <tr style=\"background-color: hsl(120, 100.00%, 96.25%); border: none;\">\n",
       "            <td style=\"padding: 0 1em 0 0.5em; text-align: right; border: none;\">\n",
       "                0.0184\n",
       "                \n",
       "            </td>\n",
       "            <td style=\"padding: 0 0.5em 0 0.5em; text-align: left; border: none;\">\n",
       "                negotiable_0.0\n",
       "            </td>\n",
       "        </tr>\n",
       "    \n",
       "        <tr style=\"background-color: hsl(120, 100.00%, 96.39%); border: none;\">\n",
       "            <td style=\"padding: 0 1em 0 0.5em; text-align: right; border: none;\">\n",
       "                0.0175\n",
       "                \n",
       "            </td>\n",
       "            <td style=\"padding: 0 0.5em 0 0.5em; text-align: left; border: none;\">\n",
       "                negotiable_1.0\n",
       "            </td>\n",
       "        </tr>\n",
       "    \n",
       "        <tr style=\"background-color: hsl(120, 100.00%, 96.46%); border: none;\">\n",
       "            <td style=\"padding: 0 1em 0 0.5em; text-align: right; border: none;\">\n",
       "                0.0170\n",
       "                \n",
       "            </td>\n",
       "            <td style=\"padding: 0 0.5em 0 0.5em; text-align: left; border: none;\">\n",
       "                condition_usado\n",
       "            </td>\n",
       "        </tr>\n",
       "    \n",
       "        <tr style=\"background-color: hsl(120, 100.00%, 96.49%); border: none;\">\n",
       "            <td style=\"padding: 0 1em 0 0.5em; text-align: right; border: none;\">\n",
       "                0.0168\n",
       "                \n",
       "            </td>\n",
       "            <td style=\"padding: 0 0.5em 0 0.5em; text-align: left; border: none;\">\n",
       "                mysql_search_m\n",
       "            </td>\n",
       "        </tr>\n",
       "    \n",
       "    \n",
       "        \n",
       "            <tr style=\"background-color: hsl(120, 100.00%, 96.49%); border: none;\">\n",
       "                <td colspan=\"2\" style=\"padding: 0 0.5em 0 0.5em; text-align: center; border: none; white-space: nowrap;\">\n",
       "                    <i>&hellip; 37 more &hellip;</i>\n",
       "                </td>\n",
       "            </tr>\n",
       "        \n",
       "    \n",
       "    </tbody>\n",
       "</table>\n",
       "    \n",
       "\n",
       "    \n",
       "\n",
       "\n",
       "    \n",
       "\n",
       "    \n",
       "\n",
       "    \n",
       "\n",
       "    \n",
       "\n",
       "    \n",
       "\n",
       "    \n",
       "\n",
       "\n",
       "\n"
      ],
      "text/plain": [
       "<IPython.core.display.HTML object>"
      ]
     },
     "execution_count": 62,
     "metadata": {},
     "output_type": "execute_result"
    }
   ],
   "source": [
    "from eli5 import show_weights\n",
    "show_weights(clf)"
   ]
  },
  {
   "cell_type": "markdown",
   "metadata": {},
   "source": [
    "**Average price for city_id/rooms_num combination**"
   ]
  },
  {
   "cell_type": "code",
   "execution_count": 63,
   "metadata": {
    "collapsed": true
   },
   "outputs": [],
   "source": [
    "avg_city = dataset_full.pipe(select_category, category_id = 102)\\\n",
    ".pipe(remove_outliers, col='mysql_search_price', lower_bound=100, upper_bound=2000)\\\n",
    ".pipe(filter_values, col='rooms_num', values_list=['0', '1', '2', '3', '4', '5', '6'])\\\n",
    ".pipe(remove_outliers, col='mysql_search_m', lower_bound=20, upper_bound=200)\\\n",
    ".pipe(count_avg_price_city_ap_type)"
   ]
  },
  {
   "cell_type": "code",
   "execution_count": 64,
   "metadata": {
    "collapsed": false
   },
   "outputs": [
    {
     "data": {
      "text/html": [
       "<div>\n",
       "<table border=\"1\" class=\"dataframe\">\n",
       "  <thead>\n",
       "    <tr style=\"text-align: right;\">\n",
       "      <th></th>\n",
       "      <th>city_id</th>\n",
       "      <th>rooms_num</th>\n",
       "      <th>avg_price</th>\n",
       "    </tr>\n",
       "  </thead>\n",
       "  <tbody>\n",
       "    <tr>\n",
       "      <th>589</th>\n",
       "      <td>11539464</td>\n",
       "      <td>1</td>\n",
       "      <td>895.000000</td>\n",
       "    </tr>\n",
       "    <tr>\n",
       "      <th>590</th>\n",
       "      <td>11539464</td>\n",
       "      <td>2</td>\n",
       "      <td>1222.839506</td>\n",
       "    </tr>\n",
       "    <tr>\n",
       "      <th>591</th>\n",
       "      <td>11539464</td>\n",
       "      <td>3</td>\n",
       "      <td>1525.173913</td>\n",
       "    </tr>\n",
       "    <tr>\n",
       "      <th>592</th>\n",
       "      <td>11539464</td>\n",
       "      <td>4</td>\n",
       "      <td>1310.666667</td>\n",
       "    </tr>\n",
       "    <tr>\n",
       "      <th>593</th>\n",
       "      <td>11539464</td>\n",
       "      <td>5</td>\n",
       "      <td>1925.000000</td>\n",
       "    </tr>\n",
       "  </tbody>\n",
       "</table>\n",
       "</div>"
      ],
      "text/plain": [
       "      city_id rooms_num    avg_price\n",
       "589  11539464         1   895.000000\n",
       "590  11539464         2  1222.839506\n",
       "591  11539464         3  1525.173913\n",
       "592  11539464         4  1310.666667\n",
       "593  11539464         5  1925.000000"
      ]
     },
     "execution_count": 64,
     "metadata": {},
     "output_type": "execute_result"
    }
   ],
   "source": [
    "avg_city[avg_city['city_id'] == 11539464]"
   ]
  },
  {
   "cell_type": "code",
   "execution_count": 65,
   "metadata": {
    "collapsed": true
   },
   "outputs": [],
   "source": [
    "avg_city.rooms_num = avg_city.rooms_num.astype('int')"
   ]
  },
  {
   "cell_type": "code",
   "execution_count": 66,
   "metadata": {
    "collapsed": true
   },
   "outputs": [],
   "source": [
    "avg_city.to_csv(\"avg_city_price_imo_rent_02.csv\", index=None)"
   ]
  },
  {
   "cell_type": "markdown",
   "metadata": {},
   "source": [
    "**Save model columns**"
   ]
  },
  {
   "cell_type": "code",
   "execution_count": 67,
   "metadata": {
    "collapsed": false
   },
   "outputs": [
    {
     "data": {
      "text/plain": [
       "['model_columns_xgb_imo_rent_02.pkl']"
      ]
     },
     "execution_count": 67,
     "metadata": {},
     "output_type": "execute_result"
    }
   ],
   "source": [
    "model_columns = list(X_train.columns)\n",
    "joblib.dump(model_columns, 'model_columns_xgb_imo_rent_02.pkl')"
   ]
  },
  {
   "cell_type": "markdown",
   "metadata": {},
   "source": [
    "### Example how it works as a service ###\n",
    "\n",
    "Input example:"
   ]
  },
  {
   "cell_type": "code",
   "execution_count": 68,
   "metadata": {
    "collapsed": true
   },
   "outputs": [],
   "source": [
    "data = {\n",
    "        \"city_id\": 11539464,\n",
    "        \"title\": 30,\n",
    "        \"description\": 1000,\n",
    "        \"private_business\": \"private\",\n",
    "        \"street_name\" : \"Vodickova\",\n",
    "        \"rooms_num\": 2,\n",
    "        \"mysql_search_m\": 80,\n",
    "        \"mysql_search_price\": 490,\n",
    "        \"construction_year\": 1998,\n",
    "        \"n_images2\": 10,\n",
    "    }"
   ]
  },
  {
   "cell_type": "code",
   "execution_count": 69,
   "metadata": {
    "collapsed": true
   },
   "outputs": [],
   "source": [
    "def get_dataframe(json):\n",
    "    df = pd.DataFrame.from_dict([dict(json)])\n",
    "    return df"
   ]
  },
  {
   "cell_type": "code",
   "execution_count": 70,
   "metadata": {
    "collapsed": true
   },
   "outputs": [],
   "source": [
    "t1 = get_dataframe(data)"
   ]
  },
  {
   "cell_type": "code",
   "execution_count": 71,
   "metadata": {
    "collapsed": false
   },
   "outputs": [
    {
     "name": "stdout",
     "output_type": "stream",
     "text": [
      "<class 'pandas.core.frame.DataFrame'>\n",
      "RangeIndex: 1 entries, 0 to 0\n",
      "Data columns (total 10 columns):\n",
      "city_id               1 non-null int64\n",
      "construction_year     1 non-null int64\n",
      "description           1 non-null int64\n",
      "mysql_search_m        1 non-null int64\n",
      "mysql_search_price    1 non-null int64\n",
      "n_images2             1 non-null int64\n",
      "private_business      1 non-null object\n",
      "rooms_num             1 non-null int64\n",
      "street_name           1 non-null object\n",
      "title                 1 non-null int64\n",
      "dtypes: int64(8), object(2)\n",
      "memory usage: 160.0+ bytes\n"
     ]
    }
   ],
   "source": [
    "t1.info()"
   ]
  },
  {
   "cell_type": "code",
   "execution_count": 72,
   "metadata": {
    "collapsed": true
   },
   "outputs": [],
   "source": [
    "t1 = t1.merge(avg_city, on= ['city_id', 'rooms_num'])"
   ]
  },
  {
   "cell_type": "code",
   "execution_count": 73,
   "metadata": {
    "collapsed": true
   },
   "outputs": [],
   "source": [
    "model_columns = ['city_id', \n",
    "                 'title', \n",
    "                 'description', \n",
    "                 'private_business',\n",
    "                 'n_images2', \n",
    "                 'was_paid_for_post', \n",
    "                 'is_paid_for_post', \n",
    "                 'mysql_search_m',\n",
    "                 'mysql_search_price', \n",
    "                 'rooms_num',\n",
    "                 'bathrooms_num', \n",
    "                 'condition', \n",
    "                 'energy_certificate', \n",
    "                 'construction_year',\n",
    "                 'negotiable',\n",
    "                 'exchange',  \n",
    "                 'avg_price',\n",
    "                 'higher_city_room_mean', \n",
    "                 'construction_year']"
   ]
  },
  {
   "cell_type": "code",
   "execution_count": 74,
   "metadata": {
    "collapsed": false
   },
   "outputs": [
    {
     "name": "stdout",
     "output_type": "stream",
     "text": [
      "was_paid_for_post\n",
      "is_paid_for_post\n",
      "bathrooms_num\n",
      "condition\n",
      "energy_certificate\n",
      "negotiable\n",
      "exchange\n",
      "higher_city_room_mean\n"
     ]
    }
   ],
   "source": [
    "for col in model_columns:\n",
    "    if col not in t1.columns:\n",
    "        print(col)\n",
    "        t1[col] = None"
   ]
  },
  {
   "cell_type": "code",
   "execution_count": 75,
   "metadata": {
    "collapsed": false
   },
   "outputs": [
    {
     "data": {
      "text/html": [
       "<div>\n",
       "<table border=\"1\" class=\"dataframe\">\n",
       "  <thead>\n",
       "    <tr style=\"text-align: right;\">\n",
       "      <th></th>\n",
       "      <th>city_id</th>\n",
       "      <th>construction_year</th>\n",
       "      <th>description</th>\n",
       "      <th>mysql_search_m</th>\n",
       "      <th>mysql_search_price</th>\n",
       "      <th>n_images2</th>\n",
       "      <th>private_business</th>\n",
       "      <th>rooms_num</th>\n",
       "      <th>street_name</th>\n",
       "      <th>title</th>\n",
       "      <th>avg_price</th>\n",
       "      <th>was_paid_for_post</th>\n",
       "      <th>is_paid_for_post</th>\n",
       "      <th>bathrooms_num</th>\n",
       "      <th>condition</th>\n",
       "      <th>energy_certificate</th>\n",
       "      <th>negotiable</th>\n",
       "      <th>exchange</th>\n",
       "      <th>higher_city_room_mean</th>\n",
       "    </tr>\n",
       "  </thead>\n",
       "  <tbody>\n",
       "    <tr>\n",
       "      <th>0</th>\n",
       "      <td>11539464</td>\n",
       "      <td>1998</td>\n",
       "      <td>1000</td>\n",
       "      <td>80</td>\n",
       "      <td>490</td>\n",
       "      <td>10</td>\n",
       "      <td>private</td>\n",
       "      <td>2</td>\n",
       "      <td>Vodickova</td>\n",
       "      <td>30</td>\n",
       "      <td>1222.839506</td>\n",
       "      <td>None</td>\n",
       "      <td>None</td>\n",
       "      <td>None</td>\n",
       "      <td>None</td>\n",
       "      <td>None</td>\n",
       "      <td>None</td>\n",
       "      <td>None</td>\n",
       "      <td>None</td>\n",
       "    </tr>\n",
       "  </tbody>\n",
       "</table>\n",
       "</div>"
      ],
      "text/plain": [
       "    city_id  construction_year  description  mysql_search_m  \\\n",
       "0  11539464               1998         1000              80   \n",
       "\n",
       "   mysql_search_price  n_images2 private_business  rooms_num street_name  \\\n",
       "0                 490         10          private          2   Vodickova   \n",
       "\n",
       "   title    avg_price was_paid_for_post is_paid_for_post bathrooms_num  \\\n",
       "0     30  1222.839506              None             None          None   \n",
       "\n",
       "  condition energy_certificate negotiable exchange higher_city_room_mean  \n",
       "0      None               None       None     None                  None  "
      ]
     },
     "execution_count": 75,
     "metadata": {},
     "output_type": "execute_result"
    }
   ],
   "source": [
    "t1"
   ]
  },
  {
   "cell_type": "code",
   "execution_count": 76,
   "metadata": {
    "collapsed": false
   },
   "outputs": [],
   "source": [
    "f2 = t1\\\n",
    ".pipe(add_higher_city_room_avg)\\\n",
    ".pipe(private_business_binarization)\\\n",
    ".pipe(column_info, col='construction_year', new_column_name='construction_year_info')\\\n",
    ".pipe(create_construction_decade)\\\n",
    ".pipe(column_info, col='street_name', new_column_name='street_info', drop=True)\\\n",
    ".pipe(column_info, col='energy_certificate', new_column_name='energy_certificate')\\\n",
    ".pipe(column_info, col='bathrooms_num', new_column_name='bathrooms_info')\\\n",
    ".pipe(column_info, col='condition', new_column_name='condition_info')\\\n",
    ".pipe(create_avg_price_diff, avg_price_col='avg_price', price_col='mysql_search_price', new_column_name= 'price_diff')"
   ]
  },
  {
   "cell_type": "code",
   "execution_count": 77,
   "metadata": {
    "collapsed": false
   },
   "outputs": [
    {
     "data": {
      "text/html": [
       "<div>\n",
       "<table border=\"1\" class=\"dataframe\">\n",
       "  <thead>\n",
       "    <tr style=\"text-align: right;\">\n",
       "      <th></th>\n",
       "      <th>city_id</th>\n",
       "      <th>description</th>\n",
       "      <th>mysql_search_m</th>\n",
       "      <th>mysql_search_price</th>\n",
       "      <th>n_images2</th>\n",
       "      <th>private_business</th>\n",
       "      <th>rooms_num</th>\n",
       "      <th>title</th>\n",
       "      <th>avg_price</th>\n",
       "      <th>was_paid_for_post</th>\n",
       "      <th>...</th>\n",
       "      <th>energy_certificate</th>\n",
       "      <th>negotiable</th>\n",
       "      <th>exchange</th>\n",
       "      <th>higher_city_room_mean</th>\n",
       "      <th>construction_year_info</th>\n",
       "      <th>construction_year_decade</th>\n",
       "      <th>street_info</th>\n",
       "      <th>bathrooms_info</th>\n",
       "      <th>condition_info</th>\n",
       "      <th>price_diff</th>\n",
       "    </tr>\n",
       "  </thead>\n",
       "  <tbody>\n",
       "    <tr>\n",
       "      <th>0</th>\n",
       "      <td>11539464</td>\n",
       "      <td>1000</td>\n",
       "      <td>80</td>\n",
       "      <td>490</td>\n",
       "      <td>10</td>\n",
       "      <td>1</td>\n",
       "      <td>2</td>\n",
       "      <td>30</td>\n",
       "      <td>1222.839506</td>\n",
       "      <td>None</td>\n",
       "      <td>...</td>\n",
       "      <td>0</td>\n",
       "      <td>None</td>\n",
       "      <td>None</td>\n",
       "      <td>0</td>\n",
       "      <td>1</td>\n",
       "      <td>1990</td>\n",
       "      <td>1</td>\n",
       "      <td>0</td>\n",
       "      <td>0</td>\n",
       "      <td>-0.599293</td>\n",
       "    </tr>\n",
       "  </tbody>\n",
       "</table>\n",
       "<p>1 rows × 23 columns</p>\n",
       "</div>"
      ],
      "text/plain": [
       "    city_id  description  mysql_search_m  mysql_search_price  n_images2  \\\n",
       "0  11539464         1000              80                 490         10   \n",
       "\n",
       "   private_business  rooms_num  title    avg_price was_paid_for_post  \\\n",
       "0                 1          2     30  1222.839506              None   \n",
       "\n",
       "      ...     energy_certificate negotiable exchange  higher_city_room_mean  \\\n",
       "0     ...                      0       None     None                      0   \n",
       "\n",
       "  construction_year_info construction_year_decade  street_info  \\\n",
       "0                      1                     1990            1   \n",
       "\n",
       "   bathrooms_info condition_info  price_diff  \n",
       "0               0              0   -0.599293  \n",
       "\n",
       "[1 rows x 23 columns]"
      ]
     },
     "execution_count": 77,
     "metadata": {},
     "output_type": "execute_result"
    }
   ],
   "source": [
    "f2"
   ]
  },
  {
   "cell_type": "code",
   "execution_count": 78,
   "metadata": {
    "collapsed": true
   },
   "outputs": [],
   "source": [
    "f2[num_columns] = f2[num_columns].fillna(0)"
   ]
  },
  {
   "cell_type": "code",
   "execution_count": 79,
   "metadata": {
    "collapsed": false
   },
   "outputs": [],
   "source": [
    "f2[cat_columns] = f2[cat_columns].fillna('no_info')"
   ]
  },
  {
   "cell_type": "code",
   "execution_count": 80,
   "metadata": {
    "collapsed": true
   },
   "outputs": [],
   "source": [
    "f2[cat_columns] = f2[cat_columns].astype('str')"
   ]
  },
  {
   "cell_type": "code",
   "execution_count": 81,
   "metadata": {
    "collapsed": true
   },
   "outputs": [],
   "source": [
    "f2 = pd.get_dummies(f2)"
   ]
  },
  {
   "cell_type": "code",
   "execution_count": 82,
   "metadata": {
    "collapsed": false
   },
   "outputs": [
    {
     "data": {
      "text/html": [
       "<div>\n",
       "<table border=\"1\" class=\"dataframe\">\n",
       "  <thead>\n",
       "    <tr style=\"text-align: right;\">\n",
       "      <th></th>\n",
       "      <th>city_id</th>\n",
       "      <th>description</th>\n",
       "      <th>mysql_search_m</th>\n",
       "      <th>mysql_search_price</th>\n",
       "      <th>n_images2</th>\n",
       "      <th>private_business</th>\n",
       "      <th>title</th>\n",
       "      <th>avg_price</th>\n",
       "      <th>higher_city_room_mean</th>\n",
       "      <th>construction_year_info</th>\n",
       "      <th>...</th>\n",
       "      <th>bathrooms_info</th>\n",
       "      <th>condition_info</th>\n",
       "      <th>price_diff</th>\n",
       "      <th>rooms_num_2</th>\n",
       "      <th>bathrooms_num_no_info</th>\n",
       "      <th>condition_no_info</th>\n",
       "      <th>energy_certificate_0</th>\n",
       "      <th>negotiable_no_info</th>\n",
       "      <th>exchange_no_info</th>\n",
       "      <th>construction_year_decade_1990</th>\n",
       "    </tr>\n",
       "  </thead>\n",
       "  <tbody>\n",
       "    <tr>\n",
       "      <th>0</th>\n",
       "      <td>11539464</td>\n",
       "      <td>1000</td>\n",
       "      <td>80</td>\n",
       "      <td>490</td>\n",
       "      <td>10</td>\n",
       "      <td>1</td>\n",
       "      <td>30</td>\n",
       "      <td>1222.839506</td>\n",
       "      <td>0</td>\n",
       "      <td>1</td>\n",
       "      <td>...</td>\n",
       "      <td>0</td>\n",
       "      <td>0</td>\n",
       "      <td>-0.599293</td>\n",
       "      <td>1</td>\n",
       "      <td>1</td>\n",
       "      <td>1</td>\n",
       "      <td>1</td>\n",
       "      <td>1</td>\n",
       "      <td>1</td>\n",
       "      <td>1</td>\n",
       "    </tr>\n",
       "  </tbody>\n",
       "</table>\n",
       "<p>1 rows × 21 columns</p>\n",
       "</div>"
      ],
      "text/plain": [
       "    city_id  description  mysql_search_m  mysql_search_price  n_images2  \\\n",
       "0  11539464         1000              80                 490         10   \n",
       "\n",
       "   private_business  title    avg_price  higher_city_room_mean  \\\n",
       "0                 1     30  1222.839506                      0   \n",
       "\n",
       "   construction_year_info              ...                bathrooms_info  \\\n",
       "0                       1              ...                             0   \n",
       "\n",
       "   condition_info  price_diff  rooms_num_2  bathrooms_num_no_info  \\\n",
       "0               0   -0.599293            1                      1   \n",
       "\n",
       "   condition_no_info  energy_certificate_0  negotiable_no_info  \\\n",
       "0                  1                     1                   1   \n",
       "\n",
       "   exchange_no_info  construction_year_decade_1990  \n",
       "0                 1                              1  \n",
       "\n",
       "[1 rows x 21 columns]"
      ]
     },
     "execution_count": 82,
     "metadata": {},
     "output_type": "execute_result"
    }
   ],
   "source": [
    "f2"
   ]
  },
  {
   "cell_type": "code",
   "execution_count": 83,
   "metadata": {
    "collapsed": false
   },
   "outputs": [
    {
     "name": "stdout",
     "output_type": "stream",
     "text": [
      "was_paid_for_post\n",
      "is_paid_for_post\n",
      "rooms_num_1\n",
      "rooms_num_3\n",
      "rooms_num_4\n",
      "bathrooms_num_1\n",
      "bathrooms_num_2\n",
      "bathrooms_num_3\n",
      "bathrooms_num_4_ou_mais\n",
      "bathrooms_num_no\n",
      "condition_em_construcao\n",
      "condition_no\n",
      "condition_novo\n",
      "condition_para_recuperar\n",
      "condition_renovado\n",
      "condition_ruina\n",
      "condition_usado\n",
      "energy_certificate_1\n",
      "negotiable_0.0\n",
      "negotiable_1.0\n",
      "negotiable_no\n",
      "exchange_0.0\n",
      "exchange_no\n",
      "construction_year_decade_1700\n",
      "construction_year_decade_1750\n",
      "construction_year_decade_1820\n",
      "construction_year_decade_1850\n",
      "construction_year_decade_1890\n",
      "construction_year_decade_1900\n",
      "construction_year_decade_1910\n",
      "construction_year_decade_1920\n",
      "construction_year_decade_1930\n",
      "construction_year_decade_1940\n",
      "construction_year_decade_1950\n",
      "construction_year_decade_1960\n",
      "construction_year_decade_1970\n",
      "construction_year_decade_1980\n",
      "construction_year_decade_2000\n",
      "construction_year_decade_2010\n",
      "construction_year_decade_2020\n",
      "construction_year_decade_no_0\n"
     ]
    }
   ],
   "source": [
    "for col in X_train.columns:\n",
    "    if col not in f2.columns:\n",
    "        print(col)\n",
    "        f2[col] = 0"
   ]
  },
  {
   "cell_type": "code",
   "execution_count": 84,
   "metadata": {
    "collapsed": true
   },
   "outputs": [],
   "source": [
    "sel_cols = X_train.columns"
   ]
  },
  {
   "cell_type": "code",
   "execution_count": 85,
   "metadata": {
    "collapsed": true
   },
   "outputs": [],
   "source": [
    "f2 = f2[sel_cols]"
   ]
  },
  {
   "cell_type": "code",
   "execution_count": 86,
   "metadata": {
    "collapsed": false
   },
   "outputs": [
    {
     "data": {
      "text/plain": [
       "array([[0.09179032, 0.9082097 ]], dtype=float32)"
      ]
     },
     "execution_count": 86,
     "metadata": {},
     "output_type": "execute_result"
    }
   ],
   "source": [
    "clf.predict_proba(f2)"
   ]
  },
  {
   "cell_type": "code",
   "execution_count": 87,
   "metadata": {
    "collapsed": true
   },
   "outputs": [],
   "source": [
    "test_f2 = f2.iloc[0]"
   ]
  },
  {
   "cell_type": "code",
   "execution_count": 88,
   "metadata": {
    "collapsed": false
   },
   "outputs": [
    {
     "data": {
      "text/html": [
       "\n",
       "    <style>\n",
       "    table.eli5-weights tr:hover {\n",
       "        filter: brightness(85%);\n",
       "    }\n",
       "</style>\n",
       "\n",
       "\n",
       "\n",
       "    \n",
       "\n",
       "    \n",
       "\n",
       "    \n",
       "\n",
       "    \n",
       "\n",
       "    \n",
       "\n",
       "    \n",
       "\n",
       "\n",
       "    \n",
       "\n",
       "    \n",
       "\n",
       "    \n",
       "\n",
       "    \n",
       "        \n",
       "\n",
       "    \n",
       "\n",
       "        \n",
       "            \n",
       "                \n",
       "                \n",
       "    \n",
       "        <p style=\"margin-bottom: 0.5em; margin-top: 0em\">\n",
       "            <b>\n",
       "    \n",
       "        y=1\n",
       "    \n",
       "</b>\n",
       "\n",
       "    \n",
       "    (probability <b>0.908</b>, score <b>2.292</b>)\n",
       "\n",
       "top features\n",
       "        </p>\n",
       "    \n",
       "    <table class=\"eli5-weights\"\n",
       "           style=\"border-collapse: collapse; border: none; margin-top: 0em; table-layout: auto; margin-bottom: 2em;\">\n",
       "        <thead>\n",
       "        <tr style=\"border: none;\">\n",
       "            \n",
       "                <th style=\"padding: 0 1em 0 0.5em; text-align: right; border: none;\" title=\"Feature contribution already accounts for the feature value (for linear models, contribution = weight * feature value), and the sum of feature contributions is equal to the score or, for some classifiers, to the probability. Feature values are shown if &quot;show_feature_values&quot; is True.\">\n",
       "                    Contribution<sup>?</sup>\n",
       "                </th>\n",
       "            \n",
       "            <th style=\"padding: 0 0.5em 0 0.5em; text-align: left; border: none;\">Feature</th>\n",
       "            \n",
       "                <th style=\"padding: 0 0.5em 0 1em; text-align: right; border: none;\">Value</th>\n",
       "            \n",
       "        </tr>\n",
       "        </thead>\n",
       "        <tbody>\n",
       "        \n",
       "            <tr style=\"background-color: hsl(120, 100.00%, 80.00%); border: none;\">\n",
       "    <td style=\"padding: 0 1em 0 0.5em; text-align: right; border: none;\">\n",
       "        +1.224\n",
       "    </td>\n",
       "    <td style=\"padding: 0 0.5em 0 0.5em; text-align: left; border: none;\">\n",
       "        private_business\n",
       "    </td>\n",
       "    \n",
       "        <td style=\"padding: 0 0.5em 0 1em; text-align: right; border: none;\">\n",
       "            1.000\n",
       "        </td>\n",
       "    \n",
       "</tr>\n",
       "        \n",
       "            <tr style=\"background-color: hsl(120, 100.00%, 87.50%); border: none;\">\n",
       "    <td style=\"padding: 0 1em 0 0.5em; text-align: right; border: none;\">\n",
       "        +0.625\n",
       "    </td>\n",
       "    <td style=\"padding: 0 0.5em 0 0.5em; text-align: left; border: none;\">\n",
       "        mysql_search_price\n",
       "    </td>\n",
       "    \n",
       "        <td style=\"padding: 0 0.5em 0 1em; text-align: right; border: none;\">\n",
       "            490.000\n",
       "        </td>\n",
       "    \n",
       "</tr>\n",
       "        \n",
       "            <tr style=\"background-color: hsl(120, 100.00%, 93.02%); border: none;\">\n",
       "    <td style=\"padding: 0 1em 0 0.5em; text-align: right; border: none;\">\n",
       "        +0.272\n",
       "    </td>\n",
       "    <td style=\"padding: 0 0.5em 0 0.5em; text-align: left; border: none;\">\n",
       "        price_diff\n",
       "    </td>\n",
       "    \n",
       "        <td style=\"padding: 0 0.5em 0 1em; text-align: right; border: none;\">\n",
       "            -0.599\n",
       "        </td>\n",
       "    \n",
       "</tr>\n",
       "        \n",
       "            <tr style=\"background-color: hsl(120, 100.00%, 94.46%); border: none;\">\n",
       "    <td style=\"padding: 0 1em 0 0.5em; text-align: right; border: none;\">\n",
       "        +0.196\n",
       "    </td>\n",
       "    <td style=\"padding: 0 0.5em 0 0.5em; text-align: left; border: none;\">\n",
       "        mysql_search_m\n",
       "    </td>\n",
       "    \n",
       "        <td style=\"padding: 0 0.5em 0 1em; text-align: right; border: none;\">\n",
       "            80.000\n",
       "        </td>\n",
       "    \n",
       "</tr>\n",
       "        \n",
       "            <tr style=\"background-color: hsl(120, 100.00%, 95.20%); border: none;\">\n",
       "    <td style=\"padding: 0 1em 0 0.5em; text-align: right; border: none;\">\n",
       "        +0.159\n",
       "    </td>\n",
       "    <td style=\"padding: 0 0.5em 0 0.5em; text-align: left; border: none;\">\n",
       "        street_info\n",
       "    </td>\n",
       "    \n",
       "        <td style=\"padding: 0 0.5em 0 1em; text-align: right; border: none;\">\n",
       "            1.000\n",
       "        </td>\n",
       "    \n",
       "</tr>\n",
       "        \n",
       "            <tr style=\"background-color: hsl(120, 100.00%, 95.99%); border: none;\">\n",
       "    <td style=\"padding: 0 1em 0 0.5em; text-align: right; border: none;\">\n",
       "        +0.123\n",
       "    </td>\n",
       "    <td style=\"padding: 0 0.5em 0 0.5em; text-align: left; border: none;\">\n",
       "        was_paid_for_post\n",
       "    </td>\n",
       "    \n",
       "        <td style=\"padding: 0 0.5em 0 1em; text-align: right; border: none;\">\n",
       "            0.000\n",
       "        </td>\n",
       "    \n",
       "</tr>\n",
       "        \n",
       "            <tr style=\"background-color: hsl(120, 100.00%, 97.59%); border: none;\">\n",
       "    <td style=\"padding: 0 1em 0 0.5em; text-align: right; border: none;\">\n",
       "        +0.059\n",
       "    </td>\n",
       "    <td style=\"padding: 0 0.5em 0 0.5em; text-align: left; border: none;\">\n",
       "        is_paid_for_post\n",
       "    </td>\n",
       "    \n",
       "        <td style=\"padding: 0 0.5em 0 1em; text-align: right; border: none;\">\n",
       "            0.000\n",
       "        </td>\n",
       "    \n",
       "</tr>\n",
       "        \n",
       "        \n",
       "            <tr style=\"background-color: hsl(120, 100.00%, 97.59%); border: none;\">\n",
       "                <td colspan=\"3\" style=\"padding: 0 0.5em 0 0.5em; text-align: center; border: none; white-space: nowrap;\">\n",
       "                    <i>&hellip; 11 more positive &hellip;</i>\n",
       "                </td>\n",
       "            </tr>\n",
       "        \n",
       "\n",
       "        \n",
       "            <tr style=\"background-color: hsl(0, 100.00%, 97.15%); border: none;\">\n",
       "                <td colspan=\"3\" style=\"padding: 0 0.5em 0 0.5em; text-align: center; border: none; white-space: nowrap;\">\n",
       "                    <i>&hellip; 14 more negative &hellip;</i>\n",
       "                </td>\n",
       "            </tr>\n",
       "        \n",
       "        \n",
       "            <tr style=\"background-color: hsl(0, 100.00%, 97.15%); border: none;\">\n",
       "    <td style=\"padding: 0 1em 0 0.5em; text-align: right; border: none;\">\n",
       "        -0.076\n",
       "    </td>\n",
       "    <td style=\"padding: 0 0.5em 0 0.5em; text-align: left; border: none;\">\n",
       "        title\n",
       "    </td>\n",
       "    \n",
       "        <td style=\"padding: 0 0.5em 0 1em; text-align: right; border: none;\">\n",
       "            30.000\n",
       "        </td>\n",
       "    \n",
       "</tr>\n",
       "        \n",
       "            <tr style=\"background-color: hsl(0, 100.00%, 95.90%); border: none;\">\n",
       "    <td style=\"padding: 0 1em 0 0.5em; text-align: right; border: none;\">\n",
       "        -0.127\n",
       "    </td>\n",
       "    <td style=\"padding: 0 0.5em 0 0.5em; text-align: left; border: none;\">\n",
       "        description\n",
       "    </td>\n",
       "    \n",
       "        <td style=\"padding: 0 0.5em 0 1em; text-align: right; border: none;\">\n",
       "            1000.000\n",
       "        </td>\n",
       "    \n",
       "</tr>\n",
       "        \n",
       "            <tr style=\"background-color: hsl(0, 100.00%, 93.61%); border: none;\">\n",
       "    <td style=\"padding: 0 1em 0 0.5em; text-align: right; border: none;\">\n",
       "        -0.240\n",
       "    </td>\n",
       "    <td style=\"padding: 0 0.5em 0 0.5em; text-align: left; border: none;\">\n",
       "        avg_price\n",
       "    </td>\n",
       "    \n",
       "        <td style=\"padding: 0 0.5em 0 1em; text-align: right; border: none;\">\n",
       "            1222.840\n",
       "        </td>\n",
       "    \n",
       "</tr>\n",
       "        \n",
       "\n",
       "        </tbody>\n",
       "    </table>\n",
       "\n",
       "            \n",
       "        \n",
       "\n",
       "        \n",
       "\n",
       "\n",
       "\n",
       "    \n",
       "\n",
       "    \n",
       "\n",
       "    \n",
       "\n",
       "    \n",
       "\n",
       "\n",
       "    \n",
       "\n",
       "    \n",
       "\n",
       "    \n",
       "\n",
       "    \n",
       "\n",
       "    \n",
       "\n",
       "    \n",
       "\n",
       "\n",
       "    \n",
       "\n",
       "    \n",
       "\n",
       "    \n",
       "\n",
       "    \n",
       "\n",
       "    \n",
       "\n",
       "    \n",
       "\n",
       "\n",
       "\n"
      ],
      "text/plain": [
       "<IPython.core.display.HTML object>"
      ]
     },
     "execution_count": 88,
     "metadata": {},
     "output_type": "execute_result"
    }
   ],
   "source": [
    "from eli5 import show_prediction\n",
    "show_prediction(clf, test_f2, show_feature_values=True, top=10)"
   ]
  },
  {
   "cell_type": "code",
   "execution_count": null,
   "metadata": {
    "collapsed": true
   },
   "outputs": [],
   "source": []
  }
 ],
 "metadata": {
  "kernelspec": {
   "display_name": "Python 3",
   "language": "python",
   "name": "python3"
  },
  "language_info": {
   "codemirror_mode": {
    "name": "ipython",
    "version": 3
   },
   "file_extension": ".py",
   "mimetype": "text/x-python",
   "name": "python",
   "nbconvert_exporter": "python",
   "pygments_lexer": "ipython3",
   "version": "3.6.0"
  }
 },
 "nbformat": 4,
 "nbformat_minor": 2
}
