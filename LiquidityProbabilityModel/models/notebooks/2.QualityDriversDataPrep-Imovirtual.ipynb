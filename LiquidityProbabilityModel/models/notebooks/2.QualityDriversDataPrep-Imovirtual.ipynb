{
 "cells": [
  {
   "cell_type": "markdown",
   "metadata": {},
   "source": [
    "### What is this notebook for? ###\n",
    "\n",
    "The main purpose of this notebook is building dataset for training Liquidity's probability model.\n",
    "Here we will enrich listings attributes with replies(within 7 days after creation) and javascript events(within 7 days after creation). In addition we will fix the issue  with 0 images for inactive listings.\n",
    "\n",
    "JS events:\n",
    "\n",
    "* 'reply_phone_show',\n",
    "* 'reply_phone_call',\n",
    "* 'reply_phone_sms',\n",
    "* 'reply_phone_cancel',\n",
    "* 'reply_message_sent',\n",
    "* 'reply_message_click',\n",
    "* 'reply_chat_sent'\n",
    "\n",
    "**Prerequisities:**  \n",
    "\n",
    "* csv file with listings attributes \"imovirtual_Jun_Dec.csv\". Can be obtained with sql code in the file `sql_queries/imovirtual.sql`, section 1.\n",
    "* parsed attributes \"ads_with_featuresImo.csv\". Can be obtained with `ParamsImovirtual.ipynb`\n",
    "* replies \"imovirtual_replies_Jun_Dec.csv\". Can be obtained with sql code in the file `sql_queries/imovirtual.sql`, section 2.\n",
    "* js events within 7 days \"imovirtual_js_events_Jun_Dec.csv\". Can be obtained with sql code in the file `sql_queries/imovirtual.sql`, section 3.\n",
    "* listigs images amount \"imo_images_Jun_Dec.csv\". Can be obtained with sql code in the file`sql_queries/imovirtual.sql`, section 4.\n",
    "* [optional] views within 7 days imovirtual_views_Jun_Dec.csv. Can be obtained with sql code in the file `sql_queries/imovirtual.sql`, section 5.\n",
    "\n",
    "**Output:**\n",
    "\"ml_dataset_imovirtual.tsv\", separated with \"\\t\""
   ]
  },
  {
   "cell_type": "code",
   "execution_count": 7,
   "metadata": {
    "collapsed": true
   },
   "outputs": [],
   "source": [
    "import pandas as pd\n",
    "import numpy as np\n",
    "import datetime\n",
    "\n",
    "%matplotlib inline\n",
    "import matplotlib.pyplot as plt\n",
    "import seaborn as sns"
   ]
  },
  {
   "cell_type": "code",
   "execution_count": 2,
   "metadata": {
    "collapsed": false
   },
   "outputs": [
    {
     "name": "stderr",
     "output_type": "stream",
     "text": [
      "/anaconda/lib/python3.6/site-packages/IPython/core/interactiveshell.py:2717: DtypeWarning: Columns (19) have mixed types. Specify dtype option on import or set low_memory=False.\n",
      "  interactivity=interactivity, compiler=compiler, result=result)\n"
     ]
    }
   ],
   "source": [
    "ads = pd.read_csv('data/Imovirtual/imovirtual_Jun_Dec.csv', header=None)"
   ]
  },
  {
   "cell_type": "code",
   "execution_count": 3,
   "metadata": {
    "collapsed": false
   },
   "outputs": [
    {
     "data": {
      "text/html": [
       "<div>\n",
       "<table border=\"1\" class=\"dataframe\">\n",
       "  <thead>\n",
       "    <tr style=\"text-align: right;\">\n",
       "      <th></th>\n",
       "      <th>0</th>\n",
       "      <th>1</th>\n",
       "      <th>2</th>\n",
       "      <th>3</th>\n",
       "      <th>4</th>\n",
       "      <th>5</th>\n",
       "      <th>6</th>\n",
       "      <th>7</th>\n",
       "      <th>8</th>\n",
       "      <th>9</th>\n",
       "      <th>...</th>\n",
       "      <th>29</th>\n",
       "      <th>30</th>\n",
       "      <th>31</th>\n",
       "      <th>32</th>\n",
       "      <th>33</th>\n",
       "      <th>34</th>\n",
       "      <th>35</th>\n",
       "      <th>36</th>\n",
       "      <th>37</th>\n",
       "      <th>38</th>\n",
       "    </tr>\n",
       "  </thead>\n",
       "  <tbody>\n",
       "    <tr>\n",
       "      <th>0</th>\n",
       "      <td>6832896</td>\n",
       "      <td>1</td>\n",
       "      <td>101</td>\n",
       "      <td>5</td>\n",
       "      <td>NaN</td>\n",
       "      <td>1053706</td>\n",
       "      <td>34925</td>\n",
       "      <td>NaN</td>\n",
       "      <td>2017-06-02 20:08:08.000000</td>\n",
       "      <td>2016-11-01 00:00:00.000000</td>\n",
       "      <td>...</td>\n",
       "      <td>0</td>\n",
       "      <td>75.0</td>\n",
       "      <td>99000</td>\n",
       "      <td>1320</td>\n",
       "      <td>NaN</td>\n",
       "      <td>0</td>\n",
       "      <td>25</td>\n",
       "      <td>-8.691601</td>\n",
       "      <td>40.557465</td>\n",
       "      <td>1</td>\n",
       "    </tr>\n",
       "    <tr>\n",
       "      <th>1</th>\n",
       "      <td>6832910</td>\n",
       "      <td>1</td>\n",
       "      <td>401</td>\n",
       "      <td>5</td>\n",
       "      <td>NaN</td>\n",
       "      <td>1053697</td>\n",
       "      <td>34925</td>\n",
       "      <td>NaN</td>\n",
       "      <td>2017-06-02 20:09:05.000000</td>\n",
       "      <td>2016-11-01 00:00:00.000000</td>\n",
       "      <td>...</td>\n",
       "      <td>0</td>\n",
       "      <td>0.0</td>\n",
       "      <td>225000</td>\n",
       "      <td>0</td>\n",
       "      <td>NaN</td>\n",
       "      <td>0</td>\n",
       "      <td>25</td>\n",
       "      <td>-8.628854</td>\n",
       "      <td>40.599466</td>\n",
       "      <td>1</td>\n",
       "    </tr>\n",
       "    <tr>\n",
       "      <th>2</th>\n",
       "      <td>6832982</td>\n",
       "      <td>1</td>\n",
       "      <td>101</td>\n",
       "      <td>10</td>\n",
       "      <td>NaN</td>\n",
       "      <td>1058821</td>\n",
       "      <td>34925</td>\n",
       "      <td>NaN</td>\n",
       "      <td>2017-06-02 20:09:17.000000</td>\n",
       "      <td>2016-11-01 00:00:00.000000</td>\n",
       "      <td>...</td>\n",
       "      <td>0</td>\n",
       "      <td>75.0</td>\n",
       "      <td>250000</td>\n",
       "      <td>3333</td>\n",
       "      <td>NaN</td>\n",
       "      <td>0</td>\n",
       "      <td>25</td>\n",
       "      <td>-8.751462</td>\n",
       "      <td>40.613227</td>\n",
       "      <td>1</td>\n",
       "    </tr>\n",
       "    <tr>\n",
       "      <th>3</th>\n",
       "      <td>6832984</td>\n",
       "      <td>1</td>\n",
       "      <td>101</td>\n",
       "      <td>5</td>\n",
       "      <td>NaN</td>\n",
       "      <td>1053713</td>\n",
       "      <td>34925</td>\n",
       "      <td>NaN</td>\n",
       "      <td>2017-06-02 20:09:17.000000</td>\n",
       "      <td>2016-11-01 00:00:00.000000</td>\n",
       "      <td>...</td>\n",
       "      <td>0</td>\n",
       "      <td>153.0</td>\n",
       "      <td>152000</td>\n",
       "      <td>993</td>\n",
       "      <td>NaN</td>\n",
       "      <td>2</td>\n",
       "      <td>25</td>\n",
       "      <td>-8.622305</td>\n",
       "      <td>40.660020</td>\n",
       "      <td>1</td>\n",
       "    </tr>\n",
       "    <tr>\n",
       "      <th>4</th>\n",
       "      <td>8003800</td>\n",
       "      <td>11</td>\n",
       "      <td>302</td>\n",
       "      <td>153</td>\n",
       "      <td>NaN</td>\n",
       "      <td>11540490</td>\n",
       "      <td>401552</td>\n",
       "      <td>NaN</td>\n",
       "      <td>2017-06-02 05:41:44.000000</td>\n",
       "      <td>2017-06-02 10:59:20.000000</td>\n",
       "      <td>...</td>\n",
       "      <td>0</td>\n",
       "      <td>0.0</td>\n",
       "      <td>350</td>\n",
       "      <td>0</td>\n",
       "      <td>NaN</td>\n",
       "      <td>32</td>\n",
       "      <td>100</td>\n",
       "      <td>NaN</td>\n",
       "      <td>NaN</td>\n",
       "      <td>1</td>\n",
       "    </tr>\n",
       "  </tbody>\n",
       "</table>\n",
       "<p>5 rows × 39 columns</p>\n",
       "</div>"
      ],
      "text/plain": [
       "        0   1    2    3   4         5       6   7   \\\n",
       "0  6832896   1  101    5 NaN   1053706   34925 NaN   \n",
       "1  6832910   1  401    5 NaN   1053697   34925 NaN   \n",
       "2  6832982   1  101   10 NaN   1058821   34925 NaN   \n",
       "3  6832984   1  101    5 NaN   1053713   34925 NaN   \n",
       "4  8003800  11  302  153 NaN  11540490  401552 NaN   \n",
       "\n",
       "                           8                           9  ... 29     30  \\\n",
       "0  2017-06-02 20:08:08.000000  2016-11-01 00:00:00.000000 ...  0   75.0   \n",
       "1  2017-06-02 20:09:05.000000  2016-11-01 00:00:00.000000 ...  0    0.0   \n",
       "2  2017-06-02 20:09:17.000000  2016-11-01 00:00:00.000000 ...  0   75.0   \n",
       "3  2017-06-02 20:09:17.000000  2016-11-01 00:00:00.000000 ...  0  153.0   \n",
       "4  2017-06-02 05:41:44.000000  2017-06-02 10:59:20.000000 ...  0    0.0   \n",
       "\n",
       "       31    32   33  34   35        36         37 38  \n",
       "0   99000  1320  NaN   0   25 -8.691601  40.557465  1  \n",
       "1  225000     0  NaN   0   25 -8.628854  40.599466  1  \n",
       "2  250000  3333  NaN   0   25 -8.751462  40.613227  1  \n",
       "3  152000   993  NaN   2   25 -8.622305  40.660020  1  \n",
       "4     350     0  NaN  32  100       NaN        NaN  1  \n",
       "\n",
       "[5 rows x 39 columns]"
      ]
     },
     "execution_count": 3,
     "metadata": {},
     "output_type": "execute_result"
    }
   ],
   "source": [
    "ads.head()"
   ]
  },
  {
   "cell_type": "code",
   "execution_count": 4,
   "metadata": {
    "collapsed": false
   },
   "outputs": [],
   "source": [
    "ads.columns = [\"ad_id\", \"region_id\", \"category_id\", \"subregion_id\", \"district_id\", \"city_id\", \"user_id\", \n",
    "               \"last_update_date\", \"created_at_first\", \"valid_to\", \"status\", \"title\", \"description\",\n",
    "               \"params\", \"map_address\", \"private_business\", \n",
    "\"images_counter\", \"paidads_id_index\", \"paidads_id_payment\", \"paidads_valid_to\", \"was_paid_for_post\",\n",
    "\"is_paid_for_post\", \"export_olx_to\", \"brand_program_id\", \"user_quality_score\", \"updated_at\",\n",
    "\"street_name\", \"street_id\", \"panorama\", \"mysql_search_rooms_num\", \"mysql_search_m\",\n",
    "\"mysql_search_price\", \"mysql_search_price_per_m\", \"movie\", \"ad_quality_score\", \"user_quality_score2\",\n",
    "\"map_lon\", \"map_lat\", \"net_ad_counted\"]"
   ]
  },
  {
   "cell_type": "code",
   "execution_count": 5,
   "metadata": {
    "collapsed": false
   },
   "outputs": [
    {
     "data": {
      "text/plain": [
       "312639"
      ]
     },
     "execution_count": 5,
     "metadata": {},
     "output_type": "execute_result"
    }
   ],
   "source": [
    "ads['ad_id'].nunique()"
   ]
  },
  {
   "cell_type": "code",
   "execution_count": 8,
   "metadata": {
    "collapsed": false
   },
   "outputs": [],
   "source": [
    "# Convert to datetime\n",
    "ads['created_at_dt'] = ads.apply(\n",
    "    lambda row: datetime.datetime.strptime(row['created_at_first'], '%Y-%m-%d %H:%M:%S.%f').date()\n",
    "    if len(str(row['created_at_first'])) > 5 else 'false', axis=1) "
   ]
  },
  {
   "cell_type": "code",
   "execution_count": 9,
   "metadata": {
    "collapsed": false
   },
   "outputs": [
    {
     "data": {
      "text/plain": [
       "<matplotlib.axes._subplots.AxesSubplot at 0x118bd4d30>"
      ]
     },
     "execution_count": 9,
     "metadata": {},
     "output_type": "execute_result"
    },
    {
     "data": {
      "image/png": "[encoded data removed]",
      "text/plain": [
       "<matplotlib.figure.Figure at 0x1192a29b0>"
      ]
     },
     "metadata": {},
     "output_type": "display_data"
    }
   ],
   "source": [
    "ads['month'] = ads['created_at_dt'].apply(lambda x: x.month)\n",
    "ads.groupby(['month'])['ad_id'].nunique().plot(kind=\"bar\")"
   ]
  },
  {
   "cell_type": "code",
   "execution_count": 10,
   "metadata": {
    "collapsed": false
   },
   "outputs": [
    {
     "data": {
      "text/plain": [
       "datetime.date(2017, 12, 31)"
      ]
     },
     "execution_count": 10,
     "metadata": {},
     "output_type": "execute_result"
    }
   ],
   "source": [
    "ads['created_at_dt'].max()"
   ]
  },
  {
   "cell_type": "markdown",
   "metadata": {
    "collapsed": true
   },
   "source": [
    "Add parsed parameters"
   ]
  },
  {
   "cell_type": "code",
   "execution_count": 11,
   "metadata": {
    "collapsed": false
   },
   "outputs": [
    {
     "name": "stderr",
     "output_type": "stream",
     "text": [
      "/anaconda/lib/python3.6/site-packages/IPython/core/interactiveshell.py:2717: DtypeWarning: Columns (9,21) have mixed types. Specify dtype option on import or set low_memory=False.\n",
      "  interactivity=interactivity, compiler=compiler, result=result)\n"
     ]
    }
   ],
   "source": [
    "features = pd.read_csv(\"ads_with_featuresImo.csv\")"
   ]
  },
  {
   "cell_type": "code",
   "execution_count": 12,
   "metadata": {
    "collapsed": true
   },
   "outputs": [],
   "source": [
    "features = features.fillna('no')"
   ]
  },
  {
   "cell_type": "code",
   "execution_count": 13,
   "metadata": {
    "collapsed": false
   },
   "outputs": [
    {
     "data": {
      "text/html": [
       "<div>\n",
       "<table border=\"1\" class=\"dataframe\">\n",
       "  <thead>\n",
       "    <tr style=\"text-align: right;\">\n",
       "      <th></th>\n",
       "      <th>ad_id</th>\n",
       "      <th>area_gross</th>\n",
       "      <th>bathrooms_num</th>\n",
       "      <th>condition</th>\n",
       "      <th>construction_license</th>\n",
       "      <th>construction_year</th>\n",
       "      <th>divisions_num</th>\n",
       "      <th>energy_certificate</th>\n",
       "      <th>exchange</th>\n",
       "      <th>floors</th>\n",
       "      <th>...</th>\n",
       "      <th>price</th>\n",
       "      <th>price[currency]</th>\n",
       "      <th>price_per_m</th>\n",
       "      <th>purpose</th>\n",
       "      <th>register_number</th>\n",
       "      <th>rooms_num</th>\n",
       "      <th>slope</th>\n",
       "      <th>storage_space</th>\n",
       "      <th>terrain_area</th>\n",
       "      <th>type</th>\n",
       "    </tr>\n",
       "  </thead>\n",
       "  <tbody>\n",
       "    <tr>\n",
       "      <th>0</th>\n",
       "      <td>6816590</td>\n",
       "      <td>no</td>\n",
       "      <td>1</td>\n",
       "      <td>usado</td>\n",
       "      <td>no</td>\n",
       "      <td>1980</td>\n",
       "      <td>no</td>\n",
       "      <td>no</td>\n",
       "      <td>no</td>\n",
       "      <td>no</td>\n",
       "      <td>...</td>\n",
       "      <td>85000.0</td>\n",
       "      <td>EUR</td>\n",
       "      <td>653.85</td>\n",
       "      <td>no</td>\n",
       "      <td>no</td>\n",
       "      <td>2</td>\n",
       "      <td>no</td>\n",
       "      <td>no</td>\n",
       "      <td>no</td>\n",
       "      <td>no</td>\n",
       "    </tr>\n",
       "    <tr>\n",
       "      <th>1</th>\n",
       "      <td>6816592</td>\n",
       "      <td>no</td>\n",
       "      <td>2</td>\n",
       "      <td>usado</td>\n",
       "      <td>no</td>\n",
       "      <td>1996</td>\n",
       "      <td>no</td>\n",
       "      <td>d</td>\n",
       "      <td>0</td>\n",
       "      <td>no</td>\n",
       "      <td>...</td>\n",
       "      <td>123000.0</td>\n",
       "      <td>EUR</td>\n",
       "      <td>1268.04</td>\n",
       "      <td>no</td>\n",
       "      <td>no</td>\n",
       "      <td>2</td>\n",
       "      <td>no</td>\n",
       "      <td>no</td>\n",
       "      <td>no</td>\n",
       "      <td>no</td>\n",
       "    </tr>\n",
       "    <tr>\n",
       "      <th>2</th>\n",
       "      <td>6816594</td>\n",
       "      <td>no</td>\n",
       "      <td>1</td>\n",
       "      <td>renovado</td>\n",
       "      <td>no</td>\n",
       "      <td>1965</td>\n",
       "      <td>no</td>\n",
       "      <td>d</td>\n",
       "      <td>no</td>\n",
       "      <td>no</td>\n",
       "      <td>...</td>\n",
       "      <td>999.0</td>\n",
       "      <td>EUR</td>\n",
       "      <td>39.96</td>\n",
       "      <td>no</td>\n",
       "      <td>no</td>\n",
       "      <td>zero</td>\n",
       "      <td>no</td>\n",
       "      <td>no</td>\n",
       "      <td>no</td>\n",
       "      <td>no</td>\n",
       "    </tr>\n",
       "    <tr>\n",
       "      <th>3</th>\n",
       "      <td>6816596</td>\n",
       "      <td>no</td>\n",
       "      <td>no</td>\n",
       "      <td>usado</td>\n",
       "      <td>no</td>\n",
       "      <td>no</td>\n",
       "      <td>no</td>\n",
       "      <td>b</td>\n",
       "      <td>no</td>\n",
       "      <td>no</td>\n",
       "      <td>...</td>\n",
       "      <td>190000.0</td>\n",
       "      <td>EUR</td>\n",
       "      <td>1328.67</td>\n",
       "      <td>no</td>\n",
       "      <td>no</td>\n",
       "      <td>3</td>\n",
       "      <td>no</td>\n",
       "      <td>no</td>\n",
       "      <td>no</td>\n",
       "      <td>no</td>\n",
       "    </tr>\n",
       "    <tr>\n",
       "      <th>4</th>\n",
       "      <td>6816598</td>\n",
       "      <td>no</td>\n",
       "      <td>no</td>\n",
       "      <td>usado</td>\n",
       "      <td>no</td>\n",
       "      <td>no</td>\n",
       "      <td>no</td>\n",
       "      <td>no</td>\n",
       "      <td>no</td>\n",
       "      <td>no</td>\n",
       "      <td>...</td>\n",
       "      <td>3800.0</td>\n",
       "      <td>EUR</td>\n",
       "      <td>3.02</td>\n",
       "      <td>no</td>\n",
       "      <td>no</td>\n",
       "      <td>no</td>\n",
       "      <td>no</td>\n",
       "      <td>no</td>\n",
       "      <td>no</td>\n",
       "      <td>no</td>\n",
       "    </tr>\n",
       "  </tbody>\n",
       "</table>\n",
       "<p>5 rows × 27 columns</p>\n",
       "</div>"
      ],
      "text/plain": [
       "     ad_id area_gross bathrooms_num condition construction_license  \\\n",
       "0  6816590         no             1     usado                   no   \n",
       "1  6816592         no             2     usado                   no   \n",
       "2  6816594         no             1  renovado                   no   \n",
       "3  6816596         no            no     usado                   no   \n",
       "4  6816598         no            no     usado                   no   \n",
       "\n",
       "  construction_year divisions_num energy_certificate exchange floors ...   \\\n",
       "0              1980            no                 no       no     no ...    \n",
       "1              1996            no                  d        0     no ...    \n",
       "2              1965            no                  d       no     no ...    \n",
       "3                no            no                  b       no     no ...    \n",
       "4                no            no                 no       no     no ...    \n",
       "\n",
       "      price price[currency] price_per_m purpose register_number rooms_num  \\\n",
       "0   85000.0             EUR      653.85      no              no         2   \n",
       "1  123000.0             EUR     1268.04      no              no         2   \n",
       "2     999.0             EUR       39.96      no              no      zero   \n",
       "3  190000.0             EUR     1328.67      no              no         3   \n",
       "4    3800.0             EUR        3.02      no              no        no   \n",
       "\n",
       "  slope  storage_space terrain_area type  \n",
       "0    no             no           no   no  \n",
       "1    no             no           no   no  \n",
       "2    no             no           no   no  \n",
       "3    no             no           no   no  \n",
       "4    no             no           no   no  \n",
       "\n",
       "[5 rows x 27 columns]"
      ]
     },
     "execution_count": 13,
     "metadata": {},
     "output_type": "execute_result"
    }
   ],
   "source": [
    "features.head()"
   ]
  },
  {
   "cell_type": "code",
   "execution_count": 14,
   "metadata": {
    "collapsed": false
   },
   "outputs": [],
   "source": [
    "ads = ads.merge(features, how=\"left\", on=\"ad_id\")"
   ]
  },
  {
   "cell_type": "code",
   "execution_count": 15,
   "metadata": {
    "collapsed": false
   },
   "outputs": [
    {
     "data": {
      "text/plain": [
       "312639"
      ]
     },
     "execution_count": 15,
     "metadata": {},
     "output_type": "execute_result"
    }
   ],
   "source": [
    "ads['ad_id'].nunique()"
   ]
  },
  {
   "cell_type": "code",
   "execution_count": 16,
   "metadata": {
    "collapsed": false
   },
   "outputs": [
    {
     "data": {
      "text/plain": [
       "(312639, 67)"
      ]
     },
     "execution_count": 16,
     "metadata": {},
     "output_type": "execute_result"
    }
   ],
   "source": [
    "ads.shape"
   ]
  },
  {
   "cell_type": "markdown",
   "metadata": {},
   "source": [
    "**  Add replies in 7 days **"
   ]
  },
  {
   "cell_type": "code",
   "execution_count": 18,
   "metadata": {
    "collapsed": false
   },
   "outputs": [],
   "source": [
    "answers = pd.read_csv('data/Imovirtual/imovirtual_replies_Jun_Dec.csv', header=None)"
   ]
  },
  {
   "cell_type": "code",
   "execution_count": 19,
   "metadata": {
    "collapsed": false
   },
   "outputs": [],
   "source": [
    "answers.columns = ['ad_id', 'ad_created', 'reply_id', 'reply_parent_id', 'reply_sender_id', 'reply_posted_at']"
   ]
  },
  {
   "cell_type": "code",
   "execution_count": 20,
   "metadata": {
    "collapsed": false
   },
   "outputs": [
    {
     "data": {
      "text/html": [
       "<div>\n",
       "<table border=\"1\" class=\"dataframe\">\n",
       "  <thead>\n",
       "    <tr style=\"text-align: right;\">\n",
       "      <th></th>\n",
       "      <th>ad_id</th>\n",
       "      <th>ad_created</th>\n",
       "      <th>reply_id</th>\n",
       "      <th>reply_parent_id</th>\n",
       "      <th>reply_sender_id</th>\n",
       "      <th>reply_posted_at</th>\n",
       "    </tr>\n",
       "  </thead>\n",
       "  <tbody>\n",
       "    <tr>\n",
       "      <th>0</th>\n",
       "      <td>6817896</td>\n",
       "      <td>2017-06-01 10:05:28.000000</td>\n",
       "      <td>18712134</td>\n",
       "      <td>0</td>\n",
       "      <td>1079435</td>\n",
       "      <td>2017-06-01 11:10:37.000000</td>\n",
       "    </tr>\n",
       "    <tr>\n",
       "      <th>1</th>\n",
       "      <td>6816848</td>\n",
       "      <td>2017-06-01 05:13:18.000000</td>\n",
       "      <td>18712324</td>\n",
       "      <td>0</td>\n",
       "      <td>1082500</td>\n",
       "      <td>2017-06-01 11:44:44.000000</td>\n",
       "    </tr>\n",
       "    <tr>\n",
       "      <th>2</th>\n",
       "      <td>6816848</td>\n",
       "      <td>2017-06-01 05:13:18.000000</td>\n",
       "      <td>18714570</td>\n",
       "      <td>0</td>\n",
       "      <td>1007722</td>\n",
       "      <td>2017-06-01 17:11:49.000000</td>\n",
       "    </tr>\n",
       "    <tr>\n",
       "      <th>3</th>\n",
       "      <td>6816754</td>\n",
       "      <td>2017-06-01 04:20:04.000000</td>\n",
       "      <td>18715142</td>\n",
       "      <td>0</td>\n",
       "      <td>85284</td>\n",
       "      <td>2017-06-01 18:41:07.000000</td>\n",
       "    </tr>\n",
       "    <tr>\n",
       "      <th>4</th>\n",
       "      <td>6819704</td>\n",
       "      <td>2017-06-01 16:25:20.000000</td>\n",
       "      <td>18717050</td>\n",
       "      <td>0</td>\n",
       "      <td>351872</td>\n",
       "      <td>2017-06-01 22:37:34.000000</td>\n",
       "    </tr>\n",
       "  </tbody>\n",
       "</table>\n",
       "</div>"
      ],
      "text/plain": [
       "     ad_id                  ad_created  reply_id  reply_parent_id  \\\n",
       "0  6817896  2017-06-01 10:05:28.000000  18712134                0   \n",
       "1  6816848  2017-06-01 05:13:18.000000  18712324                0   \n",
       "2  6816848  2017-06-01 05:13:18.000000  18714570                0   \n",
       "3  6816754  2017-06-01 04:20:04.000000  18715142                0   \n",
       "4  6819704  2017-06-01 16:25:20.000000  18717050                0   \n",
       "\n",
       "   reply_sender_id             reply_posted_at  \n",
       "0          1079435  2017-06-01 11:10:37.000000  \n",
       "1          1082500  2017-06-01 11:44:44.000000  \n",
       "2          1007722  2017-06-01 17:11:49.000000  \n",
       "3            85284  2017-06-01 18:41:07.000000  \n",
       "4           351872  2017-06-01 22:37:34.000000  "
      ]
     },
     "execution_count": 20,
     "metadata": {},
     "output_type": "execute_result"
    }
   ],
   "source": [
    "answers.head()"
   ]
  },
  {
   "cell_type": "code",
   "execution_count": 21,
   "metadata": {
    "collapsed": false
   },
   "outputs": [
    {
     "data": {
      "text/plain": [
       "(1313909, 6)"
      ]
     },
     "execution_count": 21,
     "metadata": {},
     "output_type": "execute_result"
    }
   ],
   "source": [
    "answers.shape"
   ]
  },
  {
   "cell_type": "code",
   "execution_count": 22,
   "metadata": {
    "collapsed": false
   },
   "outputs": [],
   "source": [
    "answers['replied_at_dt'] =  answers.apply(\n",
    "    lambda row: datetime.datetime.strptime(row['reply_posted_at'], '%Y-%m-%d %H:%M:%S.%f').date()\n",
    "    if pd.notnull(row['reply_posted_at']) else 'false', axis=1) "
   ]
  },
  {
   "cell_type": "code",
   "execution_count": 23,
   "metadata": {
    "collapsed": true
   },
   "outputs": [],
   "source": [
    "answers['ad_created'] =  answers.apply(\n",
    "    lambda row: datetime.datetime.strptime(row['ad_created'], '%Y-%m-%d %H:%M:%S.%f').date()\n",
    "    if pd.notnull(row['ad_created']) else 'false', axis=1) "
   ]
  },
  {
   "cell_type": "code",
   "execution_count": 24,
   "metadata": {
    "collapsed": false
   },
   "outputs": [
    {
     "data": {
      "text/html": [
       "<div>\n",
       "<table border=\"1\" class=\"dataframe\">\n",
       "  <thead>\n",
       "    <tr style=\"text-align: right;\">\n",
       "      <th></th>\n",
       "      <th>ad_id</th>\n",
       "      <th>ad_created</th>\n",
       "      <th>reply_id</th>\n",
       "      <th>reply_parent_id</th>\n",
       "      <th>reply_sender_id</th>\n",
       "      <th>reply_posted_at</th>\n",
       "      <th>replied_at_dt</th>\n",
       "    </tr>\n",
       "  </thead>\n",
       "  <tbody>\n",
       "    <tr>\n",
       "      <th>0</th>\n",
       "      <td>6817896</td>\n",
       "      <td>2017-06-01</td>\n",
       "      <td>18712134</td>\n",
       "      <td>0</td>\n",
       "      <td>1079435</td>\n",
       "      <td>2017-06-01 11:10:37.000000</td>\n",
       "      <td>2017-06-01</td>\n",
       "    </tr>\n",
       "    <tr>\n",
       "      <th>1</th>\n",
       "      <td>6816848</td>\n",
       "      <td>2017-06-01</td>\n",
       "      <td>18712324</td>\n",
       "      <td>0</td>\n",
       "      <td>1082500</td>\n",
       "      <td>2017-06-01 11:44:44.000000</td>\n",
       "      <td>2017-06-01</td>\n",
       "    </tr>\n",
       "    <tr>\n",
       "      <th>2</th>\n",
       "      <td>6816848</td>\n",
       "      <td>2017-06-01</td>\n",
       "      <td>18714570</td>\n",
       "      <td>0</td>\n",
       "      <td>1007722</td>\n",
       "      <td>2017-06-01 17:11:49.000000</td>\n",
       "      <td>2017-06-01</td>\n",
       "    </tr>\n",
       "    <tr>\n",
       "      <th>3</th>\n",
       "      <td>6816754</td>\n",
       "      <td>2017-06-01</td>\n",
       "      <td>18715142</td>\n",
       "      <td>0</td>\n",
       "      <td>85284</td>\n",
       "      <td>2017-06-01 18:41:07.000000</td>\n",
       "      <td>2017-06-01</td>\n",
       "    </tr>\n",
       "    <tr>\n",
       "      <th>4</th>\n",
       "      <td>6819704</td>\n",
       "      <td>2017-06-01</td>\n",
       "      <td>18717050</td>\n",
       "      <td>0</td>\n",
       "      <td>351872</td>\n",
       "      <td>2017-06-01 22:37:34.000000</td>\n",
       "      <td>2017-06-01</td>\n",
       "    </tr>\n",
       "  </tbody>\n",
       "</table>\n",
       "</div>"
      ],
      "text/plain": [
       "     ad_id  ad_created  reply_id  reply_parent_id  reply_sender_id  \\\n",
       "0  6817896  2017-06-01  18712134                0          1079435   \n",
       "1  6816848  2017-06-01  18712324                0          1082500   \n",
       "2  6816848  2017-06-01  18714570                0          1007722   \n",
       "3  6816754  2017-06-01  18715142                0            85284   \n",
       "4  6819704  2017-06-01  18717050                0           351872   \n",
       "\n",
       "              reply_posted_at replied_at_dt  \n",
       "0  2017-06-01 11:10:37.000000    2017-06-01  \n",
       "1  2017-06-01 11:44:44.000000    2017-06-01  \n",
       "2  2017-06-01 17:11:49.000000    2017-06-01  \n",
       "3  2017-06-01 18:41:07.000000    2017-06-01  \n",
       "4  2017-06-01 22:37:34.000000    2017-06-01  "
      ]
     },
     "execution_count": 24,
     "metadata": {},
     "output_type": "execute_result"
    }
   ],
   "source": [
    "answers.head()"
   ]
  },
  {
   "cell_type": "markdown",
   "metadata": {},
   "source": [
    "**Count difference in days between creation date and reply date**"
   ]
  },
  {
   "cell_type": "code",
   "execution_count": 25,
   "metadata": {
    "collapsed": false
   },
   "outputs": [],
   "source": [
    "answers['replied_days_diff'] = answers.apply(lambda row: (row['replied_at_dt'] - row['ad_created']).days\n",
    "                     if pd.notnull(row['replied_at_dt']) else None, axis=1)"
   ]
  },
  {
   "cell_type": "code",
   "execution_count": 27,
   "metadata": {
    "collapsed": false
   },
   "outputs": [
    {
     "data": {
      "text/html": [
       "<div>\n",
       "<table border=\"1\" class=\"dataframe\">\n",
       "  <thead>\n",
       "    <tr style=\"text-align: right;\">\n",
       "      <th></th>\n",
       "      <th>ad_id</th>\n",
       "      <th>ad_created</th>\n",
       "      <th>reply_id</th>\n",
       "      <th>reply_parent_id</th>\n",
       "      <th>reply_sender_id</th>\n",
       "      <th>reply_posted_at</th>\n",
       "      <th>replied_at_dt</th>\n",
       "      <th>replied_days_diff</th>\n",
       "    </tr>\n",
       "  </thead>\n",
       "  <tbody>\n",
       "    <tr>\n",
       "      <th>1</th>\n",
       "      <td>6816848</td>\n",
       "      <td>2017-06-01</td>\n",
       "      <td>18712324</td>\n",
       "      <td>0</td>\n",
       "      <td>1082500</td>\n",
       "      <td>2017-06-01 11:44:44.000000</td>\n",
       "      <td>2017-06-01</td>\n",
       "      <td>0</td>\n",
       "    </tr>\n",
       "    <tr>\n",
       "      <th>2</th>\n",
       "      <td>6816848</td>\n",
       "      <td>2017-06-01</td>\n",
       "      <td>18714570</td>\n",
       "      <td>0</td>\n",
       "      <td>1007722</td>\n",
       "      <td>2017-06-01 17:11:49.000000</td>\n",
       "      <td>2017-06-01</td>\n",
       "      <td>0</td>\n",
       "    </tr>\n",
       "    <tr>\n",
       "      <th>5</th>\n",
       "      <td>6816848</td>\n",
       "      <td>2017-06-01</td>\n",
       "      <td>18717332</td>\n",
       "      <td>0</td>\n",
       "      <td>1046378</td>\n",
       "      <td>2017-06-01 23:11:06.000000</td>\n",
       "      <td>2017-06-01</td>\n",
       "      <td>0</td>\n",
       "    </tr>\n",
       "    <tr>\n",
       "      <th>6</th>\n",
       "      <td>6816848</td>\n",
       "      <td>2017-06-01</td>\n",
       "      <td>18719158</td>\n",
       "      <td>0</td>\n",
       "      <td>1024988</td>\n",
       "      <td>2017-06-02 10:18:01.000000</td>\n",
       "      <td>2017-06-02</td>\n",
       "      <td>1</td>\n",
       "    </tr>\n",
       "    <tr>\n",
       "      <th>19</th>\n",
       "      <td>6816848</td>\n",
       "      <td>2017-06-01</td>\n",
       "      <td>118714800</td>\n",
       "      <td>0</td>\n",
       "      <td>1059552</td>\n",
       "      <td>2017-06-01 17:46:25.000000</td>\n",
       "      <td>2017-06-01</td>\n",
       "      <td>0</td>\n",
       "    </tr>\n",
       "    <tr>\n",
       "      <th>23</th>\n",
       "      <td>6816848</td>\n",
       "      <td>2017-06-01</td>\n",
       "      <td>118719158</td>\n",
       "      <td>0</td>\n",
       "      <td>1024988</td>\n",
       "      <td>2017-06-02 10:18:01.000000</td>\n",
       "      <td>2017-06-02</td>\n",
       "      <td>1</td>\n",
       "    </tr>\n",
       "    <tr>\n",
       "      <th>1601</th>\n",
       "      <td>6816848</td>\n",
       "      <td>2017-06-01</td>\n",
       "      <td>18716550</td>\n",
       "      <td>0</td>\n",
       "      <td>1082937</td>\n",
       "      <td>2017-06-01 21:45:29.000000</td>\n",
       "      <td>2017-06-01</td>\n",
       "      <td>0</td>\n",
       "    </tr>\n",
       "    <tr>\n",
       "      <th>1604</th>\n",
       "      <td>6816848</td>\n",
       "      <td>2017-06-01</td>\n",
       "      <td>18716838</td>\n",
       "      <td>0</td>\n",
       "      <td>1082972</td>\n",
       "      <td>2017-06-01 22:13:58.000000</td>\n",
       "      <td>2017-06-01</td>\n",
       "      <td>0</td>\n",
       "    </tr>\n",
       "    <tr>\n",
       "      <th>3181</th>\n",
       "      <td>6816848</td>\n",
       "      <td>2017-06-01</td>\n",
       "      <td>18714990</td>\n",
       "      <td>0</td>\n",
       "      <td>1025041</td>\n",
       "      <td>2017-06-01 18:15:30.000000</td>\n",
       "      <td>2017-06-01</td>\n",
       "      <td>0</td>\n",
       "    </tr>\n",
       "    <tr>\n",
       "      <th>3189</th>\n",
       "      <td>6816848</td>\n",
       "      <td>2017-06-01</td>\n",
       "      <td>18718750</td>\n",
       "      <td>0</td>\n",
       "      <td>29789</td>\n",
       "      <td>2017-06-02 09:04:50.000000</td>\n",
       "      <td>2017-06-02</td>\n",
       "      <td>1</td>\n",
       "    </tr>\n",
       "    <tr>\n",
       "      <th>4771</th>\n",
       "      <td>6816848</td>\n",
       "      <td>2017-06-01</td>\n",
       "      <td>18713814</td>\n",
       "      <td>0</td>\n",
       "      <td>1082670</td>\n",
       "      <td>2017-06-01 15:30:27.000000</td>\n",
       "      <td>2017-06-01</td>\n",
       "      <td>0</td>\n",
       "    </tr>\n",
       "    <tr>\n",
       "      <th>4792</th>\n",
       "      <td>6816848</td>\n",
       "      <td>2017-06-01</td>\n",
       "      <td>118715104</td>\n",
       "      <td>0</td>\n",
       "      <td>1057447</td>\n",
       "      <td>2017-06-01 18:35:53.000000</td>\n",
       "      <td>2017-06-01</td>\n",
       "      <td>0</td>\n",
       "    </tr>\n",
       "    <tr>\n",
       "      <th>4794</th>\n",
       "      <td>6816848</td>\n",
       "      <td>2017-06-01</td>\n",
       "      <td>118716196</td>\n",
       "      <td>0</td>\n",
       "      <td>1082901</td>\n",
       "      <td>2017-06-01 21:05:44.000000</td>\n",
       "      <td>2017-06-01</td>\n",
       "      <td>0</td>\n",
       "    </tr>\n",
       "    <tr>\n",
       "      <th>6360</th>\n",
       "      <td>6816848</td>\n",
       "      <td>2017-06-01</td>\n",
       "      <td>18711326</td>\n",
       "      <td>0</td>\n",
       "      <td>5451</td>\n",
       "      <td>2017-06-01 07:38:42.000000</td>\n",
       "      <td>2017-06-01</td>\n",
       "      <td>0</td>\n",
       "    </tr>\n",
       "    <tr>\n",
       "      <th>6361</th>\n",
       "      <td>6816848</td>\n",
       "      <td>2017-06-01</td>\n",
       "      <td>18711700</td>\n",
       "      <td>0</td>\n",
       "      <td>538242</td>\n",
       "      <td>2017-06-01 09:47:22.000000</td>\n",
       "      <td>2017-06-01</td>\n",
       "      <td>0</td>\n",
       "    </tr>\n",
       "    <tr>\n",
       "      <th>6363</th>\n",
       "      <td>6816848</td>\n",
       "      <td>2017-06-01</td>\n",
       "      <td>18713414</td>\n",
       "      <td>0</td>\n",
       "      <td>1038589</td>\n",
       "      <td>2017-06-01 14:30:09.000000</td>\n",
       "      <td>2017-06-01</td>\n",
       "      <td>0</td>\n",
       "    </tr>\n",
       "    <tr>\n",
       "      <th>6366</th>\n",
       "      <td>6816848</td>\n",
       "      <td>2017-06-01</td>\n",
       "      <td>18714624</td>\n",
       "      <td>0</td>\n",
       "      <td>1078635</td>\n",
       "      <td>2017-06-01 17:19:34.000000</td>\n",
       "      <td>2017-06-01</td>\n",
       "      <td>0</td>\n",
       "    </tr>\n",
       "    <tr>\n",
       "      <th>6376</th>\n",
       "      <td>6816848</td>\n",
       "      <td>2017-06-01</td>\n",
       "      <td>18718958</td>\n",
       "      <td>0</td>\n",
       "      <td>1001682</td>\n",
       "      <td>2017-06-02 09:48:18.000000</td>\n",
       "      <td>2017-06-02</td>\n",
       "      <td>1</td>\n",
       "    </tr>\n",
       "    <tr>\n",
       "      <th>6394</th>\n",
       "      <td>6816848</td>\n",
       "      <td>2017-06-01</td>\n",
       "      <td>118713136</td>\n",
       "      <td>0</td>\n",
       "      <td>1082588</td>\n",
       "      <td>2017-06-01 13:50:52.000000</td>\n",
       "      <td>2017-06-01</td>\n",
       "      <td>0</td>\n",
       "    </tr>\n",
       "    <tr>\n",
       "      <th>6395</th>\n",
       "      <td>6816848</td>\n",
       "      <td>2017-06-01</td>\n",
       "      <td>118713564</td>\n",
       "      <td>0</td>\n",
       "      <td>1082640</td>\n",
       "      <td>2017-06-01 14:54:01.000000</td>\n",
       "      <td>2017-06-01</td>\n",
       "      <td>0</td>\n",
       "    </tr>\n",
       "    <tr>\n",
       "      <th>6400</th>\n",
       "      <td>6816848</td>\n",
       "      <td>2017-06-01</td>\n",
       "      <td>118716110</td>\n",
       "      <td>0</td>\n",
       "      <td>1082889</td>\n",
       "      <td>2017-06-01 20:52:17.000000</td>\n",
       "      <td>2017-06-01</td>\n",
       "      <td>0</td>\n",
       "    </tr>\n",
       "    <tr>\n",
       "      <th>6837</th>\n",
       "      <td>6816848</td>\n",
       "      <td>2017-06-01</td>\n",
       "      <td>18712022</td>\n",
       "      <td>0</td>\n",
       "      <td>86791</td>\n",
       "      <td>2017-06-01 10:47:34.000000</td>\n",
       "      <td>2017-06-01</td>\n",
       "      <td>0</td>\n",
       "    </tr>\n",
       "    <tr>\n",
       "      <th>6841</th>\n",
       "      <td>6816848</td>\n",
       "      <td>2017-06-01</td>\n",
       "      <td>18714876</td>\n",
       "      <td>0</td>\n",
       "      <td>1079226</td>\n",
       "      <td>2017-06-01 17:58:53.000000</td>\n",
       "      <td>2017-06-01</td>\n",
       "      <td>0</td>\n",
       "    </tr>\n",
       "    <tr>\n",
       "      <th>6842</th>\n",
       "      <td>6816848</td>\n",
       "      <td>2017-06-01</td>\n",
       "      <td>18715384</td>\n",
       "      <td>0</td>\n",
       "      <td>1078953</td>\n",
       "      <td>2017-06-01 19:17:52.000000</td>\n",
       "      <td>2017-06-01</td>\n",
       "      <td>0</td>\n",
       "    </tr>\n",
       "    <tr>\n",
       "      <th>6843</th>\n",
       "      <td>6816848</td>\n",
       "      <td>2017-06-01</td>\n",
       "      <td>18716030</td>\n",
       "      <td>0</td>\n",
       "      <td>563238</td>\n",
       "      <td>2017-06-01 20:40:47.000000</td>\n",
       "      <td>2017-06-01</td>\n",
       "      <td>0</td>\n",
       "    </tr>\n",
       "    <tr>\n",
       "      <th>6846</th>\n",
       "      <td>6816848</td>\n",
       "      <td>2017-06-01</td>\n",
       "      <td>18716760</td>\n",
       "      <td>0</td>\n",
       "      <td>569600</td>\n",
       "      <td>2017-06-01 22:07:46.000000</td>\n",
       "      <td>2017-06-01</td>\n",
       "      <td>0</td>\n",
       "    </tr>\n",
       "    <tr>\n",
       "      <th>6864</th>\n",
       "      <td>6816848</td>\n",
       "      <td>2017-06-01</td>\n",
       "      <td>118711506</td>\n",
       "      <td>0</td>\n",
       "      <td>541476</td>\n",
       "      <td>2017-06-01 09:10:03.000000</td>\n",
       "      <td>2017-06-01</td>\n",
       "      <td>0</td>\n",
       "    </tr>\n",
       "    <tr>\n",
       "      <th>6869</th>\n",
       "      <td>6816848</td>\n",
       "      <td>2017-06-01</td>\n",
       "      <td>118716550</td>\n",
       "      <td>0</td>\n",
       "      <td>1082937</td>\n",
       "      <td>2017-06-01 21:45:29.000000</td>\n",
       "      <td>2017-06-01</td>\n",
       "      <td>0</td>\n",
       "    </tr>\n",
       "    <tr>\n",
       "      <th>6876</th>\n",
       "      <td>6816848</td>\n",
       "      <td>2017-06-01</td>\n",
       "      <td>118719258</td>\n",
       "      <td>0</td>\n",
       "      <td>1083187</td>\n",
       "      <td>2017-06-02 10:33:10.000000</td>\n",
       "      <td>2017-06-02</td>\n",
       "      <td>1</td>\n",
       "    </tr>\n",
       "    <tr>\n",
       "      <th>9703</th>\n",
       "      <td>6816848</td>\n",
       "      <td>2017-06-01</td>\n",
       "      <td>18715294</td>\n",
       "      <td>0</td>\n",
       "      <td>1082805</td>\n",
       "      <td>2017-06-01 19:03:02.000000</td>\n",
       "      <td>2017-06-01</td>\n",
       "      <td>0</td>\n",
       "    </tr>\n",
       "    <tr>\n",
       "      <th>...</th>\n",
       "      <td>...</td>\n",
       "      <td>...</td>\n",
       "      <td>...</td>\n",
       "      <td>...</td>\n",
       "      <td>...</td>\n",
       "      <td>...</td>\n",
       "      <td>...</td>\n",
       "      <td>...</td>\n",
       "    </tr>\n",
       "    <tr>\n",
       "      <th>50088</th>\n",
       "      <td>6816848</td>\n",
       "      <td>2017-06-01</td>\n",
       "      <td>18713136</td>\n",
       "      <td>0</td>\n",
       "      <td>1082588</td>\n",
       "      <td>2017-06-01 13:50:52.000000</td>\n",
       "      <td>2017-06-01</td>\n",
       "      <td>0</td>\n",
       "    </tr>\n",
       "    <tr>\n",
       "      <th>50089</th>\n",
       "      <td>6816848</td>\n",
       "      <td>2017-06-01</td>\n",
       "      <td>18713674</td>\n",
       "      <td>0</td>\n",
       "      <td>1016102</td>\n",
       "      <td>2017-06-01 15:07:19.000000</td>\n",
       "      <td>2017-06-01</td>\n",
       "      <td>0</td>\n",
       "    </tr>\n",
       "    <tr>\n",
       "      <th>50095</th>\n",
       "      <td>6816848</td>\n",
       "      <td>2017-06-01</td>\n",
       "      <td>18718446</td>\n",
       "      <td>0</td>\n",
       "      <td>564456</td>\n",
       "      <td>2017-06-02 06:30:02.000000</td>\n",
       "      <td>2017-06-02</td>\n",
       "      <td>1</td>\n",
       "    </tr>\n",
       "    <tr>\n",
       "      <th>50107</th>\n",
       "      <td>6816848</td>\n",
       "      <td>2017-06-01</td>\n",
       "      <td>118714876</td>\n",
       "      <td>0</td>\n",
       "      <td>1079226</td>\n",
       "      <td>2017-06-01 17:58:53.000000</td>\n",
       "      <td>2017-06-01</td>\n",
       "      <td>0</td>\n",
       "    </tr>\n",
       "    <tr>\n",
       "      <th>50110</th>\n",
       "      <td>6816848</td>\n",
       "      <td>2017-06-01</td>\n",
       "      <td>118716888</td>\n",
       "      <td>0</td>\n",
       "      <td>1044638</td>\n",
       "      <td>2017-06-01 22:18:50.000000</td>\n",
       "      <td>2017-06-01</td>\n",
       "      <td>0</td>\n",
       "    </tr>\n",
       "    <tr>\n",
       "      <th>50114</th>\n",
       "      <td>6816848</td>\n",
       "      <td>2017-06-01</td>\n",
       "      <td>118717910</td>\n",
       "      <td>0</td>\n",
       "      <td>570378</td>\n",
       "      <td>2017-06-02 00:41:53.000000</td>\n",
       "      <td>2017-06-02</td>\n",
       "      <td>1</td>\n",
       "    </tr>\n",
       "    <tr>\n",
       "      <th>51040</th>\n",
       "      <td>6816848</td>\n",
       "      <td>2017-06-01</td>\n",
       "      <td>18712484</td>\n",
       "      <td>0</td>\n",
       "      <td>567264</td>\n",
       "      <td>2017-06-01 12:04:45.000000</td>\n",
       "      <td>2017-06-01</td>\n",
       "      <td>0</td>\n",
       "    </tr>\n",
       "    <tr>\n",
       "      <th>51041</th>\n",
       "      <td>6816848</td>\n",
       "      <td>2017-06-01</td>\n",
       "      <td>18712594</td>\n",
       "      <td>0</td>\n",
       "      <td>1082529</td>\n",
       "      <td>2017-06-01 12:21:58.000000</td>\n",
       "      <td>2017-06-01</td>\n",
       "      <td>0</td>\n",
       "    </tr>\n",
       "    <tr>\n",
       "      <th>51049</th>\n",
       "      <td>6816848</td>\n",
       "      <td>2017-06-01</td>\n",
       "      <td>18716752</td>\n",
       "      <td>0</td>\n",
       "      <td>1082966</td>\n",
       "      <td>2017-06-01 22:07:05.000000</td>\n",
       "      <td>2017-06-01</td>\n",
       "      <td>0</td>\n",
       "    </tr>\n",
       "    <tr>\n",
       "      <th>51050</th>\n",
       "      <td>6816848</td>\n",
       "      <td>2017-06-01</td>\n",
       "      <td>18717890</td>\n",
       "      <td>0</td>\n",
       "      <td>1080239</td>\n",
       "      <td>2017-06-02 00:35:29.000000</td>\n",
       "      <td>2017-06-02</td>\n",
       "      <td>1</td>\n",
       "    </tr>\n",
       "    <tr>\n",
       "      <th>51071</th>\n",
       "      <td>6816848</td>\n",
       "      <td>2017-06-01</td>\n",
       "      <td>118714238</td>\n",
       "      <td>0</td>\n",
       "      <td>1063347</td>\n",
       "      <td>2017-06-01 16:26:23.000000</td>\n",
       "      <td>2017-06-01</td>\n",
       "      <td>0</td>\n",
       "    </tr>\n",
       "    <tr>\n",
       "      <th>51072</th>\n",
       "      <td>6816848</td>\n",
       "      <td>2017-06-01</td>\n",
       "      <td>118714624</td>\n",
       "      <td>0</td>\n",
       "      <td>1078635</td>\n",
       "      <td>2017-06-01 17:19:34.000000</td>\n",
       "      <td>2017-06-01</td>\n",
       "      <td>0</td>\n",
       "    </tr>\n",
       "    <tr>\n",
       "      <th>51073</th>\n",
       "      <td>6816848</td>\n",
       "      <td>2017-06-01</td>\n",
       "      <td>118714990</td>\n",
       "      <td>0</td>\n",
       "      <td>1025041</td>\n",
       "      <td>2017-06-01 18:15:30.000000</td>\n",
       "      <td>2017-06-01</td>\n",
       "      <td>0</td>\n",
       "    </tr>\n",
       "    <tr>\n",
       "      <th>51076</th>\n",
       "      <td>6816848</td>\n",
       "      <td>2017-06-01</td>\n",
       "      <td>118716458</td>\n",
       "      <td>0</td>\n",
       "      <td>1082919</td>\n",
       "      <td>2017-06-01 21:29:37.000000</td>\n",
       "      <td>2017-06-01</td>\n",
       "      <td>0</td>\n",
       "    </tr>\n",
       "    <tr>\n",
       "      <th>51078</th>\n",
       "      <td>6816848</td>\n",
       "      <td>2017-06-01</td>\n",
       "      <td>118718196</td>\n",
       "      <td>0</td>\n",
       "      <td>1083109</td>\n",
       "      <td>2017-06-02 01:50:53.000000</td>\n",
       "      <td>2017-06-02</td>\n",
       "      <td>1</td>\n",
       "    </tr>\n",
       "    <tr>\n",
       "      <th>51518</th>\n",
       "      <td>6816848</td>\n",
       "      <td>2017-06-01</td>\n",
       "      <td>18712828</td>\n",
       "      <td>0</td>\n",
       "      <td>568980</td>\n",
       "      <td>2017-06-01 13:00:06.000000</td>\n",
       "      <td>2017-06-01</td>\n",
       "      <td>0</td>\n",
       "    </tr>\n",
       "    <tr>\n",
       "      <th>51520</th>\n",
       "      <td>6816848</td>\n",
       "      <td>2017-06-01</td>\n",
       "      <td>18713682</td>\n",
       "      <td>0</td>\n",
       "      <td>559200</td>\n",
       "      <td>2017-06-01 15:08:33.000000</td>\n",
       "      <td>2017-06-01</td>\n",
       "      <td>0</td>\n",
       "    </tr>\n",
       "    <tr>\n",
       "      <th>55339</th>\n",
       "      <td>6816848</td>\n",
       "      <td>2017-06-01</td>\n",
       "      <td>18716196</td>\n",
       "      <td>0</td>\n",
       "      <td>1082901</td>\n",
       "      <td>2017-06-01 21:05:44.000000</td>\n",
       "      <td>2017-06-01</td>\n",
       "      <td>0</td>\n",
       "    </tr>\n",
       "    <tr>\n",
       "      <th>55341</th>\n",
       "      <td>6816848</td>\n",
       "      <td>2017-06-01</td>\n",
       "      <td>18716888</td>\n",
       "      <td>0</td>\n",
       "      <td>1044638</td>\n",
       "      <td>2017-06-01 22:18:50.000000</td>\n",
       "      <td>2017-06-01</td>\n",
       "      <td>0</td>\n",
       "    </tr>\n",
       "    <tr>\n",
       "      <th>55342</th>\n",
       "      <td>6816848</td>\n",
       "      <td>2017-06-01</td>\n",
       "      <td>18717910</td>\n",
       "      <td>0</td>\n",
       "      <td>570378</td>\n",
       "      <td>2017-06-02 00:41:53.000000</td>\n",
       "      <td>2017-06-02</td>\n",
       "      <td>1</td>\n",
       "    </tr>\n",
       "    <tr>\n",
       "      <th>55343</th>\n",
       "      <td>6816848</td>\n",
       "      <td>2017-06-01</td>\n",
       "      <td>18718196</td>\n",
       "      <td>0</td>\n",
       "      <td>1083109</td>\n",
       "      <td>2017-06-02 01:50:53.000000</td>\n",
       "      <td>2017-06-02</td>\n",
       "      <td>1</td>\n",
       "    </tr>\n",
       "    <tr>\n",
       "      <th>55353</th>\n",
       "      <td>6816848</td>\n",
       "      <td>2017-06-01</td>\n",
       "      <td>118711828</td>\n",
       "      <td>0</td>\n",
       "      <td>1082458</td>\n",
       "      <td>2017-06-01 10:19:39.000000</td>\n",
       "      <td>2017-06-01</td>\n",
       "      <td>0</td>\n",
       "    </tr>\n",
       "    <tr>\n",
       "      <th>55357</th>\n",
       "      <td>6816848</td>\n",
       "      <td>2017-06-01</td>\n",
       "      <td>118714354</td>\n",
       "      <td>0</td>\n",
       "      <td>1082722</td>\n",
       "      <td>2017-06-01 16:42:14.000000</td>\n",
       "      <td>2017-06-01</td>\n",
       "      <td>0</td>\n",
       "    </tr>\n",
       "    <tr>\n",
       "      <th>55358</th>\n",
       "      <td>6816848</td>\n",
       "      <td>2017-06-01</td>\n",
       "      <td>118715372</td>\n",
       "      <td>0</td>\n",
       "      <td>1057224</td>\n",
       "      <td>2017-06-01 19:14:30.000000</td>\n",
       "      <td>2017-06-01</td>\n",
       "      <td>0</td>\n",
       "    </tr>\n",
       "    <tr>\n",
       "      <th>59469</th>\n",
       "      <td>6816848</td>\n",
       "      <td>2017-06-01</td>\n",
       "      <td>18715372</td>\n",
       "      <td>0</td>\n",
       "      <td>1057224</td>\n",
       "      <td>2017-06-01 19:14:30.000000</td>\n",
       "      <td>2017-06-01</td>\n",
       "      <td>0</td>\n",
       "    </tr>\n",
       "    <tr>\n",
       "      <th>59489</th>\n",
       "      <td>6816848</td>\n",
       "      <td>2017-06-01</td>\n",
       "      <td>118711418</td>\n",
       "      <td>0</td>\n",
       "      <td>1082415</td>\n",
       "      <td>2017-06-01 08:35:44.000000</td>\n",
       "      <td>2017-06-01</td>\n",
       "      <td>0</td>\n",
       "    </tr>\n",
       "    <tr>\n",
       "      <th>66348</th>\n",
       "      <td>6816848</td>\n",
       "      <td>2017-06-01</td>\n",
       "      <td>118712484</td>\n",
       "      <td>0</td>\n",
       "      <td>567264</td>\n",
       "      <td>2017-06-01 12:04:45.000000</td>\n",
       "      <td>2017-06-01</td>\n",
       "      <td>0</td>\n",
       "    </tr>\n",
       "    <tr>\n",
       "      <th>121753</th>\n",
       "      <td>6816848</td>\n",
       "      <td>2017-06-01</td>\n",
       "      <td>118713576</td>\n",
       "      <td>0</td>\n",
       "      <td>569570</td>\n",
       "      <td>2017-06-01 14:54:53.000000</td>\n",
       "      <td>2017-06-01</td>\n",
       "      <td>0</td>\n",
       "    </tr>\n",
       "    <tr>\n",
       "      <th>340013</th>\n",
       "      <td>6816848</td>\n",
       "      <td>2017-06-01</td>\n",
       "      <td>118716082</td>\n",
       "      <td>0</td>\n",
       "      <td>569630</td>\n",
       "      <td>2017-06-01 20:48:58.000000</td>\n",
       "      <td>2017-06-01</td>\n",
       "      <td>0</td>\n",
       "    </tr>\n",
       "    <tr>\n",
       "      <th>554371</th>\n",
       "      <td>6816848</td>\n",
       "      <td>2017-06-01</td>\n",
       "      <td>118717742</td>\n",
       "      <td>0</td>\n",
       "      <td>516794</td>\n",
       "      <td>2017-06-02 00:11:38.000000</td>\n",
       "      <td>2017-06-02</td>\n",
       "      <td>1</td>\n",
       "    </tr>\n",
       "  </tbody>\n",
       "</table>\n",
       "<p>188 rows × 8 columns</p>\n",
       "</div>"
      ],
      "text/plain": [
       "          ad_id  ad_created   reply_id  reply_parent_id  reply_sender_id  \\\n",
       "1       6816848  2017-06-01   18712324                0          1082500   \n",
       "2       6816848  2017-06-01   18714570                0          1007722   \n",
       "5       6816848  2017-06-01   18717332                0          1046378   \n",
       "6       6816848  2017-06-01   18719158                0          1024988   \n",
       "19      6816848  2017-06-01  118714800                0          1059552   \n",
       "23      6816848  2017-06-01  118719158                0          1024988   \n",
       "1601    6816848  2017-06-01   18716550                0          1082937   \n",
       "1604    6816848  2017-06-01   18716838                0          1082972   \n",
       "3181    6816848  2017-06-01   18714990                0          1025041   \n",
       "3189    6816848  2017-06-01   18718750                0            29789   \n",
       "4771    6816848  2017-06-01   18713814                0          1082670   \n",
       "4792    6816848  2017-06-01  118715104                0          1057447   \n",
       "4794    6816848  2017-06-01  118716196                0          1082901   \n",
       "6360    6816848  2017-06-01   18711326                0             5451   \n",
       "6361    6816848  2017-06-01   18711700                0           538242   \n",
       "6363    6816848  2017-06-01   18713414                0          1038589   \n",
       "6366    6816848  2017-06-01   18714624                0          1078635   \n",
       "6376    6816848  2017-06-01   18718958                0          1001682   \n",
       "6394    6816848  2017-06-01  118713136                0          1082588   \n",
       "6395    6816848  2017-06-01  118713564                0          1082640   \n",
       "6400    6816848  2017-06-01  118716110                0          1082889   \n",
       "6837    6816848  2017-06-01   18712022                0            86791   \n",
       "6841    6816848  2017-06-01   18714876                0          1079226   \n",
       "6842    6816848  2017-06-01   18715384                0          1078953   \n",
       "6843    6816848  2017-06-01   18716030                0           563238   \n",
       "6846    6816848  2017-06-01   18716760                0           569600   \n",
       "6864    6816848  2017-06-01  118711506                0           541476   \n",
       "6869    6816848  2017-06-01  118716550                0          1082937   \n",
       "6876    6816848  2017-06-01  118719258                0          1083187   \n",
       "9703    6816848  2017-06-01   18715294                0          1082805   \n",
       "...         ...         ...        ...              ...              ...   \n",
       "50088   6816848  2017-06-01   18713136                0          1082588   \n",
       "50089   6816848  2017-06-01   18713674                0          1016102   \n",
       "50095   6816848  2017-06-01   18718446                0           564456   \n",
       "50107   6816848  2017-06-01  118714876                0          1079226   \n",
       "50110   6816848  2017-06-01  118716888                0          1044638   \n",
       "50114   6816848  2017-06-01  118717910                0           570378   \n",
       "51040   6816848  2017-06-01   18712484                0           567264   \n",
       "51041   6816848  2017-06-01   18712594                0          1082529   \n",
       "51049   6816848  2017-06-01   18716752                0          1082966   \n",
       "51050   6816848  2017-06-01   18717890                0          1080239   \n",
       "51071   6816848  2017-06-01  118714238                0          1063347   \n",
       "51072   6816848  2017-06-01  118714624                0          1078635   \n",
       "51073   6816848  2017-06-01  118714990                0          1025041   \n",
       "51076   6816848  2017-06-01  118716458                0          1082919   \n",
       "51078   6816848  2017-06-01  118718196                0          1083109   \n",
       "51518   6816848  2017-06-01   18712828                0           568980   \n",
       "51520   6816848  2017-06-01   18713682                0           559200   \n",
       "55339   6816848  2017-06-01   18716196                0          1082901   \n",
       "55341   6816848  2017-06-01   18716888                0          1044638   \n",
       "55342   6816848  2017-06-01   18717910                0           570378   \n",
       "55343   6816848  2017-06-01   18718196                0          1083109   \n",
       "55353   6816848  2017-06-01  118711828                0          1082458   \n",
       "55357   6816848  2017-06-01  118714354                0          1082722   \n",
       "55358   6816848  2017-06-01  118715372                0          1057224   \n",
       "59469   6816848  2017-06-01   18715372                0          1057224   \n",
       "59489   6816848  2017-06-01  118711418                0          1082415   \n",
       "66348   6816848  2017-06-01  118712484                0           567264   \n",
       "121753  6816848  2017-06-01  118713576                0           569570   \n",
       "340013  6816848  2017-06-01  118716082                0           569630   \n",
       "554371  6816848  2017-06-01  118717742                0           516794   \n",
       "\n",
       "                   reply_posted_at replied_at_dt  replied_days_diff  \n",
       "1       2017-06-01 11:44:44.000000    2017-06-01                  0  \n",
       "2       2017-06-01 17:11:49.000000    2017-06-01                  0  \n",
       "5       2017-06-01 23:11:06.000000    2017-06-01                  0  \n",
       "6       2017-06-02 10:18:01.000000    2017-06-02                  1  \n",
       "19      2017-06-01 17:46:25.000000    2017-06-01                  0  \n",
       "23      2017-06-02 10:18:01.000000    2017-06-02                  1  \n",
       "1601    2017-06-01 21:45:29.000000    2017-06-01                  0  \n",
       "1604    2017-06-01 22:13:58.000000    2017-06-01                  0  \n",
       "3181    2017-06-01 18:15:30.000000    2017-06-01                  0  \n",
       "3189    2017-06-02 09:04:50.000000    2017-06-02                  1  \n",
       "4771    2017-06-01 15:30:27.000000    2017-06-01                  0  \n",
       "4792    2017-06-01 18:35:53.000000    2017-06-01                  0  \n",
       "4794    2017-06-01 21:05:44.000000    2017-06-01                  0  \n",
       "6360    2017-06-01 07:38:42.000000    2017-06-01                  0  \n",
       "6361    2017-06-01 09:47:22.000000    2017-06-01                  0  \n",
       "6363    2017-06-01 14:30:09.000000    2017-06-01                  0  \n",
       "6366    2017-06-01 17:19:34.000000    2017-06-01                  0  \n",
       "6376    2017-06-02 09:48:18.000000    2017-06-02                  1  \n",
       "6394    2017-06-01 13:50:52.000000    2017-06-01                  0  \n",
       "6395    2017-06-01 14:54:01.000000    2017-06-01                  0  \n",
       "6400    2017-06-01 20:52:17.000000    2017-06-01                  0  \n",
       "6837    2017-06-01 10:47:34.000000    2017-06-01                  0  \n",
       "6841    2017-06-01 17:58:53.000000    2017-06-01                  0  \n",
       "6842    2017-06-01 19:17:52.000000    2017-06-01                  0  \n",
       "6843    2017-06-01 20:40:47.000000    2017-06-01                  0  \n",
       "6846    2017-06-01 22:07:46.000000    2017-06-01                  0  \n",
       "6864    2017-06-01 09:10:03.000000    2017-06-01                  0  \n",
       "6869    2017-06-01 21:45:29.000000    2017-06-01                  0  \n",
       "6876    2017-06-02 10:33:10.000000    2017-06-02                  1  \n",
       "9703    2017-06-01 19:03:02.000000    2017-06-01                  0  \n",
       "...                            ...           ...                ...  \n",
       "50088   2017-06-01 13:50:52.000000    2017-06-01                  0  \n",
       "50089   2017-06-01 15:07:19.000000    2017-06-01                  0  \n",
       "50095   2017-06-02 06:30:02.000000    2017-06-02                  1  \n",
       "50107   2017-06-01 17:58:53.000000    2017-06-01                  0  \n",
       "50110   2017-06-01 22:18:50.000000    2017-06-01                  0  \n",
       "50114   2017-06-02 00:41:53.000000    2017-06-02                  1  \n",
       "51040   2017-06-01 12:04:45.000000    2017-06-01                  0  \n",
       "51041   2017-06-01 12:21:58.000000    2017-06-01                  0  \n",
       "51049   2017-06-01 22:07:05.000000    2017-06-01                  0  \n",
       "51050   2017-06-02 00:35:29.000000    2017-06-02                  1  \n",
       "51071   2017-06-01 16:26:23.000000    2017-06-01                  0  \n",
       "51072   2017-06-01 17:19:34.000000    2017-06-01                  0  \n",
       "51073   2017-06-01 18:15:30.000000    2017-06-01                  0  \n",
       "51076   2017-06-01 21:29:37.000000    2017-06-01                  0  \n",
       "51078   2017-06-02 01:50:53.000000    2017-06-02                  1  \n",
       "51518   2017-06-01 13:00:06.000000    2017-06-01                  0  \n",
       "51520   2017-06-01 15:08:33.000000    2017-06-01                  0  \n",
       "55339   2017-06-01 21:05:44.000000    2017-06-01                  0  \n",
       "55341   2017-06-01 22:18:50.000000    2017-06-01                  0  \n",
       "55342   2017-06-02 00:41:53.000000    2017-06-02                  1  \n",
       "55343   2017-06-02 01:50:53.000000    2017-06-02                  1  \n",
       "55353   2017-06-01 10:19:39.000000    2017-06-01                  0  \n",
       "55357   2017-06-01 16:42:14.000000    2017-06-01                  0  \n",
       "55358   2017-06-01 19:14:30.000000    2017-06-01                  0  \n",
       "59469   2017-06-01 19:14:30.000000    2017-06-01                  0  \n",
       "59489   2017-06-01 08:35:44.000000    2017-06-01                  0  \n",
       "66348   2017-06-01 12:04:45.000000    2017-06-01                  0  \n",
       "121753  2017-06-01 14:54:53.000000    2017-06-01                  0  \n",
       "340013  2017-06-01 20:48:58.000000    2017-06-01                  0  \n",
       "554371  2017-06-02 00:11:38.000000    2017-06-02                  1  \n",
       "\n",
       "[188 rows x 8 columns]"
      ]
     },
     "execution_count": 27,
     "metadata": {},
     "output_type": "execute_result"
    }
   ],
   "source": [
    "answers[answers['ad_id'] == 6816848]"
   ]
  },
  {
   "cell_type": "markdown",
   "metadata": {},
   "source": [
    "Answers can be in thread. The first message in the thread have reply_parent_id = 0. We intrested only in that type of replies."
   ]
  },
  {
   "cell_type": "code",
   "execution_count": 28,
   "metadata": {
    "collapsed": true
   },
   "outputs": [],
   "source": [
    "answers = answers[answers['reply_parent_id'] == 0]"
   ]
  },
  {
   "cell_type": "markdown",
   "metadata": {},
   "source": [
    "We interested in 7 days window:"
   ]
  },
  {
   "cell_type": "code",
   "execution_count": 32,
   "metadata": {
    "collapsed": true
   },
   "outputs": [],
   "source": [
    "answers = answers[(answers['replied_days_diff'] < 7) & (answers['replied_days_diff'] >= 0)]"
   ]
  },
  {
   "cell_type": "code",
   "execution_count": 34,
   "metadata": {
    "collapsed": false
   },
   "outputs": [
    {
     "data": {
      "text/html": [
       "<div>\n",
       "<table border=\"1\" class=\"dataframe\">\n",
       "  <thead>\n",
       "    <tr style=\"text-align: right;\">\n",
       "      <th></th>\n",
       "      <th>ad_id</th>\n",
       "      <th>ad_created</th>\n",
       "      <th>reply_id</th>\n",
       "      <th>reply_parent_id</th>\n",
       "      <th>reply_sender_id</th>\n",
       "      <th>reply_posted_at</th>\n",
       "      <th>replied_at_dt</th>\n",
       "      <th>replied_days_diff</th>\n",
       "    </tr>\n",
       "  </thead>\n",
       "  <tbody>\n",
       "    <tr>\n",
       "      <th>1</th>\n",
       "      <td>6816848</td>\n",
       "      <td>2017-06-01</td>\n",
       "      <td>18712324</td>\n",
       "      <td>0</td>\n",
       "      <td>1082500</td>\n",
       "      <td>2017-06-01 11:44:44.000000</td>\n",
       "      <td>2017-06-01</td>\n",
       "      <td>0</td>\n",
       "    </tr>\n",
       "    <tr>\n",
       "      <th>2</th>\n",
       "      <td>6816848</td>\n",
       "      <td>2017-06-01</td>\n",
       "      <td>18714570</td>\n",
       "      <td>0</td>\n",
       "      <td>1007722</td>\n",
       "      <td>2017-06-01 17:11:49.000000</td>\n",
       "      <td>2017-06-01</td>\n",
       "      <td>0</td>\n",
       "    </tr>\n",
       "    <tr>\n",
       "      <th>5</th>\n",
       "      <td>6816848</td>\n",
       "      <td>2017-06-01</td>\n",
       "      <td>18717332</td>\n",
       "      <td>0</td>\n",
       "      <td>1046378</td>\n",
       "      <td>2017-06-01 23:11:06.000000</td>\n",
       "      <td>2017-06-01</td>\n",
       "      <td>0</td>\n",
       "    </tr>\n",
       "    <tr>\n",
       "      <th>6</th>\n",
       "      <td>6816848</td>\n",
       "      <td>2017-06-01</td>\n",
       "      <td>18719158</td>\n",
       "      <td>0</td>\n",
       "      <td>1024988</td>\n",
       "      <td>2017-06-02 10:18:01.000000</td>\n",
       "      <td>2017-06-02</td>\n",
       "      <td>1</td>\n",
       "    </tr>\n",
       "    <tr>\n",
       "      <th>19</th>\n",
       "      <td>6816848</td>\n",
       "      <td>2017-06-01</td>\n",
       "      <td>118714800</td>\n",
       "      <td>0</td>\n",
       "      <td>1059552</td>\n",
       "      <td>2017-06-01 17:46:25.000000</td>\n",
       "      <td>2017-06-01</td>\n",
       "      <td>0</td>\n",
       "    </tr>\n",
       "  </tbody>\n",
       "</table>\n",
       "</div>"
      ],
      "text/plain": [
       "      ad_id  ad_created   reply_id  reply_parent_id  reply_sender_id  \\\n",
       "1   6816848  2017-06-01   18712324                0          1082500   \n",
       "2   6816848  2017-06-01   18714570                0          1007722   \n",
       "5   6816848  2017-06-01   18717332                0          1046378   \n",
       "6   6816848  2017-06-01   18719158                0          1024988   \n",
       "19  6816848  2017-06-01  118714800                0          1059552   \n",
       "\n",
       "               reply_posted_at replied_at_dt  replied_days_diff  \n",
       "1   2017-06-01 11:44:44.000000    2017-06-01                  0  \n",
       "2   2017-06-01 17:11:49.000000    2017-06-01                  0  \n",
       "5   2017-06-01 23:11:06.000000    2017-06-01                  0  \n",
       "6   2017-06-02 10:18:01.000000    2017-06-02                  1  \n",
       "19  2017-06-01 17:46:25.000000    2017-06-01                  0  "
      ]
     },
     "execution_count": 34,
     "metadata": {},
     "output_type": "execute_result"
    }
   ],
   "source": [
    "answers[answers['ad_id'] == 6816848].head()"
   ]
  },
  {
   "cell_type": "code",
   "execution_count": 36,
   "metadata": {
    "collapsed": false
   },
   "outputs": [
    {
     "data": {
      "text/plain": [
       "(335841, 8)"
      ]
     },
     "execution_count": 36,
     "metadata": {},
     "output_type": "execute_result"
    }
   ],
   "source": [
    "answers.shape"
   ]
  },
  {
   "cell_type": "markdown",
   "metadata": {},
   "source": [
    "**Count senders/unique senders amount within 7 days **"
   ]
  },
  {
   "cell_type": "code",
   "execution_count": 37,
   "metadata": {
    "collapsed": true
   },
   "outputs": [],
   "source": [
    "liquidity_leads = answers.groupby('ad_id')['reply_sender_id'].nunique()\n",
    "all_leads = answers.groupby('ad_id')['reply_sender_id'].count()\n",
    "replies = pd.concat([liquidity_leads, all_leads], axis=1)"
   ]
  },
  {
   "cell_type": "code",
   "execution_count": 38,
   "metadata": {
    "collapsed": false
   },
   "outputs": [
    {
     "data": {
      "text/html": [
       "<div>\n",
       "<table border=\"1\" class=\"dataframe\">\n",
       "  <thead>\n",
       "    <tr style=\"text-align: right;\">\n",
       "      <th></th>\n",
       "      <th>reply_sender_id</th>\n",
       "      <th>reply_sender_id</th>\n",
       "    </tr>\n",
       "    <tr>\n",
       "      <th>ad_id</th>\n",
       "      <th></th>\n",
       "      <th></th>\n",
       "    </tr>\n",
       "  </thead>\n",
       "  <tbody>\n",
       "    <tr>\n",
       "      <th>6816594</th>\n",
       "      <td>16</td>\n",
       "      <td>32</td>\n",
       "    </tr>\n",
       "    <tr>\n",
       "      <th>6816618</th>\n",
       "      <td>2</td>\n",
       "      <td>4</td>\n",
       "    </tr>\n",
       "    <tr>\n",
       "      <th>6816620</th>\n",
       "      <td>1</td>\n",
       "      <td>2</td>\n",
       "    </tr>\n",
       "    <tr>\n",
       "      <th>6816626</th>\n",
       "      <td>1</td>\n",
       "      <td>2</td>\n",
       "    </tr>\n",
       "    <tr>\n",
       "      <th>6816640</th>\n",
       "      <td>1</td>\n",
       "      <td>2</td>\n",
       "    </tr>\n",
       "  </tbody>\n",
       "</table>\n",
       "</div>"
      ],
      "text/plain": [
       "         reply_sender_id  reply_sender_id\n",
       "ad_id                                    \n",
       "6816594               16               32\n",
       "6816618                2                4\n",
       "6816620                1                2\n",
       "6816626                1                2\n",
       "6816640                1                2"
      ]
     },
     "execution_count": 38,
     "metadata": {},
     "output_type": "execute_result"
    }
   ],
   "source": [
    "replies.head()"
   ]
  },
  {
   "cell_type": "code",
   "execution_count": 39,
   "metadata": {
    "collapsed": false
   },
   "outputs": [],
   "source": [
    "replies['ad_id'] = replies.index"
   ]
  },
  {
   "cell_type": "markdown",
   "metadata": {},
   "source": [
    "Sanity checks:"
   ]
  },
  {
   "cell_type": "code",
   "execution_count": 40,
   "metadata": {
    "collapsed": false
   },
   "outputs": [
    {
     "data": {
      "text/html": [
       "<div>\n",
       "<table border=\"1\" class=\"dataframe\">\n",
       "  <thead>\n",
       "    <tr style=\"text-align: right;\">\n",
       "      <th></th>\n",
       "      <th>reply_sender_id</th>\n",
       "      <th>reply_sender_id</th>\n",
       "      <th>ad_id</th>\n",
       "    </tr>\n",
       "    <tr>\n",
       "      <th>ad_id</th>\n",
       "      <th></th>\n",
       "      <th></th>\n",
       "      <th></th>\n",
       "    </tr>\n",
       "  </thead>\n",
       "  <tbody>\n",
       "    <tr>\n",
       "      <th>8752690</th>\n",
       "      <td>1</td>\n",
       "      <td>2</td>\n",
       "      <td>8752690</td>\n",
       "    </tr>\n",
       "  </tbody>\n",
       "</table>\n",
       "</div>"
      ],
      "text/plain": [
       "         reply_sender_id  reply_sender_id    ad_id\n",
       "ad_id                                             \n",
       "8752690                1                2  8752690"
      ]
     },
     "execution_count": 40,
     "metadata": {},
     "output_type": "execute_result"
    }
   ],
   "source": [
    "replies[replies['ad_id'] == 8752690]"
   ]
  },
  {
   "cell_type": "code",
   "execution_count": 41,
   "metadata": {
    "collapsed": true
   },
   "outputs": [],
   "source": [
    "replies.columns = ['unique_replies', 'total_replies', 'ad_id']"
   ]
  },
  {
   "cell_type": "code",
   "execution_count": 42,
   "metadata": {
    "collapsed": false
   },
   "outputs": [
    {
     "data": {
      "text/html": [
       "<div>\n",
       "<table border=\"1\" class=\"dataframe\">\n",
       "  <thead>\n",
       "    <tr style=\"text-align: right;\">\n",
       "      <th></th>\n",
       "      <th>unique_replies</th>\n",
       "      <th>total_replies</th>\n",
       "      <th>ad_id</th>\n",
       "    </tr>\n",
       "    <tr>\n",
       "      <th>ad_id</th>\n",
       "      <th></th>\n",
       "      <th></th>\n",
       "      <th></th>\n",
       "    </tr>\n",
       "  </thead>\n",
       "  <tbody>\n",
       "    <tr>\n",
       "      <th>6816594</th>\n",
       "      <td>16</td>\n",
       "      <td>32</td>\n",
       "      <td>6816594</td>\n",
       "    </tr>\n",
       "    <tr>\n",
       "      <th>6816618</th>\n",
       "      <td>2</td>\n",
       "      <td>4</td>\n",
       "      <td>6816618</td>\n",
       "    </tr>\n",
       "    <tr>\n",
       "      <th>6816620</th>\n",
       "      <td>1</td>\n",
       "      <td>2</td>\n",
       "      <td>6816620</td>\n",
       "    </tr>\n",
       "    <tr>\n",
       "      <th>6816626</th>\n",
       "      <td>1</td>\n",
       "      <td>2</td>\n",
       "      <td>6816626</td>\n",
       "    </tr>\n",
       "    <tr>\n",
       "      <th>6816640</th>\n",
       "      <td>1</td>\n",
       "      <td>2</td>\n",
       "      <td>6816640</td>\n",
       "    </tr>\n",
       "  </tbody>\n",
       "</table>\n",
       "</div>"
      ],
      "text/plain": [
       "         unique_replies  total_replies    ad_id\n",
       "ad_id                                          \n",
       "6816594              16             32  6816594\n",
       "6816618               2              4  6816618\n",
       "6816620               1              2  6816620\n",
       "6816626               1              2  6816626\n",
       "6816640               1              2  6816640"
      ]
     },
     "execution_count": 42,
     "metadata": {},
     "output_type": "execute_result"
    }
   ],
   "source": [
    "replies.head()"
   ]
  },
  {
   "cell_type": "code",
   "execution_count": 43,
   "metadata": {
    "collapsed": false
   },
   "outputs": [
    {
     "data": {
      "text/html": [
       "<div>\n",
       "<table border=\"1\" class=\"dataframe\">\n",
       "  <thead>\n",
       "    <tr style=\"text-align: right;\">\n",
       "      <th></th>\n",
       "      <th>unique_replies</th>\n",
       "      <th>total_replies</th>\n",
       "      <th>ad_id</th>\n",
       "    </tr>\n",
       "    <tr>\n",
       "      <th>ad_id</th>\n",
       "      <th></th>\n",
       "      <th></th>\n",
       "      <th></th>\n",
       "    </tr>\n",
       "  </thead>\n",
       "  <tbody>\n",
       "    <tr>\n",
       "      <th>8752690</th>\n",
       "      <td>1</td>\n",
       "      <td>2</td>\n",
       "      <td>8752690</td>\n",
       "    </tr>\n",
       "  </tbody>\n",
       "</table>\n",
       "</div>"
      ],
      "text/plain": [
       "         unique_replies  total_replies    ad_id\n",
       "ad_id                                          \n",
       "8752690               1              2  8752690"
      ]
     },
     "execution_count": 43,
     "metadata": {},
     "output_type": "execute_result"
    }
   ],
   "source": [
    "replies[replies['ad_id'] == 8752690]"
   ]
  },
  {
   "cell_type": "markdown",
   "metadata": {},
   "source": [
    "#### Prepare js events"
   ]
  },
  {
   "cell_type": "code",
   "execution_count": 44,
   "metadata": {
    "collapsed": false
   },
   "outputs": [],
   "source": [
    "js_events = pd.read_csv(\"data/Imovirtual/imovirtual_js_events_Jun_Dec.csv\", header=None)"
   ]
  },
  {
   "cell_type": "code",
   "execution_count": 45,
   "metadata": {
    "collapsed": false
   },
   "outputs": [
    {
     "data": {
      "text/html": [
       "<div>\n",
       "<table border=\"1\" class=\"dataframe\">\n",
       "  <thead>\n",
       "    <tr style=\"text-align: right;\">\n",
       "      <th></th>\n",
       "      <th>0</th>\n",
       "      <th>1</th>\n",
       "      <th>2</th>\n",
       "    </tr>\n",
       "  </thead>\n",
       "  <tbody>\n",
       "    <tr>\n",
       "      <th>0</th>\n",
       "      <td>8984980</td>\n",
       "      <td>1</td>\n",
       "      <td>3</td>\n",
       "    </tr>\n",
       "    <tr>\n",
       "      <th>1</th>\n",
       "      <td>8400259</td>\n",
       "      <td>1</td>\n",
       "      <td>2</td>\n",
       "    </tr>\n",
       "    <tr>\n",
       "      <th>2</th>\n",
       "      <td>8550175</td>\n",
       "      <td>37</td>\n",
       "      <td>65</td>\n",
       "    </tr>\n",
       "    <tr>\n",
       "      <th>3</th>\n",
       "      <td>8716951</td>\n",
       "      <td>7</td>\n",
       "      <td>13</td>\n",
       "    </tr>\n",
       "    <tr>\n",
       "      <th>4</th>\n",
       "      <td>9012649</td>\n",
       "      <td>73</td>\n",
       "      <td>137</td>\n",
       "    </tr>\n",
       "  </tbody>\n",
       "</table>\n",
       "</div>"
      ],
      "text/plain": [
       "         0   1    2\n",
       "0  8984980   1    3\n",
       "1  8400259   1    2\n",
       "2  8550175  37   65\n",
       "3  8716951   7   13\n",
       "4  9012649  73  137"
      ]
     },
     "execution_count": 45,
     "metadata": {},
     "output_type": "execute_result"
    }
   ],
   "source": [
    "js_events.head()"
   ]
  },
  {
   "cell_type": "code",
   "execution_count": 46,
   "metadata": {
    "collapsed": true
   },
   "outputs": [],
   "source": [
    "js_events.columns = ['ad_id', 'unique_js_events', 'total_events']"
   ]
  },
  {
   "cell_type": "code",
   "execution_count": 47,
   "metadata": {
    "collapsed": false
   },
   "outputs": [
    {
     "data": {
      "text/plain": [
       "(88366, 3)"
      ]
     },
     "execution_count": 47,
     "metadata": {},
     "output_type": "execute_result"
    }
   ],
   "source": [
    "js_events.shape"
   ]
  },
  {
   "cell_type": "markdown",
   "metadata": {},
   "source": [
    "**Combine together replies and js events**"
   ]
  },
  {
   "cell_type": "code",
   "execution_count": 49,
   "metadata": {
    "collapsed": false
   },
   "outputs": [
    {
     "data": {
      "text/html": [
       "<div>\n",
       "<table border=\"1\" class=\"dataframe\">\n",
       "  <thead>\n",
       "    <tr style=\"text-align: right;\">\n",
       "      <th></th>\n",
       "      <th>unique_replies</th>\n",
       "      <th>total_replies</th>\n",
       "      <th>ad_id</th>\n",
       "    </tr>\n",
       "    <tr>\n",
       "      <th>ad_id</th>\n",
       "      <th></th>\n",
       "      <th></th>\n",
       "      <th></th>\n",
       "    </tr>\n",
       "  </thead>\n",
       "  <tbody>\n",
       "    <tr>\n",
       "      <th>6816594</th>\n",
       "      <td>16</td>\n",
       "      <td>32</td>\n",
       "      <td>6816594</td>\n",
       "    </tr>\n",
       "    <tr>\n",
       "      <th>6816618</th>\n",
       "      <td>2</td>\n",
       "      <td>4</td>\n",
       "      <td>6816618</td>\n",
       "    </tr>\n",
       "    <tr>\n",
       "      <th>6816620</th>\n",
       "      <td>1</td>\n",
       "      <td>2</td>\n",
       "      <td>6816620</td>\n",
       "    </tr>\n",
       "    <tr>\n",
       "      <th>6816626</th>\n",
       "      <td>1</td>\n",
       "      <td>2</td>\n",
       "      <td>6816626</td>\n",
       "    </tr>\n",
       "    <tr>\n",
       "      <th>6816640</th>\n",
       "      <td>1</td>\n",
       "      <td>2</td>\n",
       "      <td>6816640</td>\n",
       "    </tr>\n",
       "  </tbody>\n",
       "</table>\n",
       "</div>"
      ],
      "text/plain": [
       "         unique_replies  total_replies    ad_id\n",
       "ad_id                                          \n",
       "6816594              16             32  6816594\n",
       "6816618               2              4  6816618\n",
       "6816620               1              2  6816620\n",
       "6816626               1              2  6816626\n",
       "6816640               1              2  6816640"
      ]
     },
     "execution_count": 49,
     "metadata": {},
     "output_type": "execute_result"
    }
   ],
   "source": [
    "replies.head()"
   ]
  },
  {
   "cell_type": "code",
   "execution_count": 50,
   "metadata": {
    "collapsed": false
   },
   "outputs": [
    {
     "data": {
      "text/html": [
       "<div>\n",
       "<table border=\"1\" class=\"dataframe\">\n",
       "  <thead>\n",
       "    <tr style=\"text-align: right;\">\n",
       "      <th></th>\n",
       "      <th>ad_id</th>\n",
       "      <th>unique_js_events</th>\n",
       "      <th>total_events</th>\n",
       "    </tr>\n",
       "  </thead>\n",
       "  <tbody>\n",
       "    <tr>\n",
       "      <th>0</th>\n",
       "      <td>8984980</td>\n",
       "      <td>1</td>\n",
       "      <td>3</td>\n",
       "    </tr>\n",
       "    <tr>\n",
       "      <th>1</th>\n",
       "      <td>8400259</td>\n",
       "      <td>1</td>\n",
       "      <td>2</td>\n",
       "    </tr>\n",
       "    <tr>\n",
       "      <th>2</th>\n",
       "      <td>8550175</td>\n",
       "      <td>37</td>\n",
       "      <td>65</td>\n",
       "    </tr>\n",
       "    <tr>\n",
       "      <th>3</th>\n",
       "      <td>8716951</td>\n",
       "      <td>7</td>\n",
       "      <td>13</td>\n",
       "    </tr>\n",
       "    <tr>\n",
       "      <th>4</th>\n",
       "      <td>9012649</td>\n",
       "      <td>73</td>\n",
       "      <td>137</td>\n",
       "    </tr>\n",
       "  </tbody>\n",
       "</table>\n",
       "</div>"
      ],
      "text/plain": [
       "     ad_id  unique_js_events  total_events\n",
       "0  8984980                 1             3\n",
       "1  8400259                 1             2\n",
       "2  8550175                37            65\n",
       "3  8716951                 7            13\n",
       "4  9012649                73           137"
      ]
     },
     "execution_count": 50,
     "metadata": {},
     "output_type": "execute_result"
    }
   ],
   "source": [
    "js_events.head()"
   ]
  },
  {
   "cell_type": "code",
   "execution_count": 51,
   "metadata": {
    "collapsed": false
   },
   "outputs": [
    {
     "data": {
      "text/html": [
       "<div>\n",
       "<table border=\"1\" class=\"dataframe\">\n",
       "  <thead>\n",
       "    <tr style=\"text-align: right;\">\n",
       "      <th></th>\n",
       "      <th>ad_id</th>\n",
       "      <th>region_id</th>\n",
       "      <th>category_id</th>\n",
       "      <th>subregion_id</th>\n",
       "      <th>district_id</th>\n",
       "      <th>city_id</th>\n",
       "      <th>user_id</th>\n",
       "      <th>last_update_date</th>\n",
       "      <th>created_at_first</th>\n",
       "      <th>valid_to</th>\n",
       "      <th>...</th>\n",
       "      <th>price</th>\n",
       "      <th>price[currency]</th>\n",
       "      <th>price_per_m</th>\n",
       "      <th>purpose</th>\n",
       "      <th>register_number</th>\n",
       "      <th>rooms_num</th>\n",
       "      <th>slope</th>\n",
       "      <th>storage_space</th>\n",
       "      <th>terrain_area</th>\n",
       "      <th>type</th>\n",
       "    </tr>\n",
       "  </thead>\n",
       "  <tbody>\n",
       "    <tr>\n",
       "      <th>0</th>\n",
       "      <td>6832896</td>\n",
       "      <td>1</td>\n",
       "      <td>101</td>\n",
       "      <td>5</td>\n",
       "      <td>NaN</td>\n",
       "      <td>1053706</td>\n",
       "      <td>34925</td>\n",
       "      <td>NaN</td>\n",
       "      <td>2017-06-02 20:08:08.000000</td>\n",
       "      <td>2016-11-01 00:00:00.000000</td>\n",
       "      <td>...</td>\n",
       "      <td>99000.0</td>\n",
       "      <td>EUR</td>\n",
       "      <td>1320</td>\n",
       "      <td>no</td>\n",
       "      <td>no</td>\n",
       "      <td>2</td>\n",
       "      <td>no</td>\n",
       "      <td>no</td>\n",
       "      <td>no</td>\n",
       "      <td>no</td>\n",
       "    </tr>\n",
       "    <tr>\n",
       "      <th>1</th>\n",
       "      <td>6832910</td>\n",
       "      <td>1</td>\n",
       "      <td>401</td>\n",
       "      <td>5</td>\n",
       "      <td>NaN</td>\n",
       "      <td>1053697</td>\n",
       "      <td>34925</td>\n",
       "      <td>NaN</td>\n",
       "      <td>2017-06-02 20:09:05.000000</td>\n",
       "      <td>2016-11-01 00:00:00.000000</td>\n",
       "      <td>...</td>\n",
       "      <td>225000.0</td>\n",
       "      <td>EUR</td>\n",
       "      <td>78.13</td>\n",
       "      <td>no</td>\n",
       "      <td>no</td>\n",
       "      <td>no</td>\n",
       "      <td>no</td>\n",
       "      <td>no</td>\n",
       "      <td>no</td>\n",
       "      <td>no</td>\n",
       "    </tr>\n",
       "    <tr>\n",
       "      <th>2</th>\n",
       "      <td>6832982</td>\n",
       "      <td>1</td>\n",
       "      <td>101</td>\n",
       "      <td>10</td>\n",
       "      <td>NaN</td>\n",
       "      <td>1058821</td>\n",
       "      <td>34925</td>\n",
       "      <td>NaN</td>\n",
       "      <td>2017-06-02 20:09:17.000000</td>\n",
       "      <td>2016-11-01 00:00:00.000000</td>\n",
       "      <td>...</td>\n",
       "      <td>250000.0</td>\n",
       "      <td>EUR</td>\n",
       "      <td>3333.33</td>\n",
       "      <td>no</td>\n",
       "      <td>no</td>\n",
       "      <td>2</td>\n",
       "      <td>no</td>\n",
       "      <td>no</td>\n",
       "      <td>no</td>\n",
       "      <td>no</td>\n",
       "    </tr>\n",
       "    <tr>\n",
       "      <th>3</th>\n",
       "      <td>6832984</td>\n",
       "      <td>1</td>\n",
       "      <td>101</td>\n",
       "      <td>5</td>\n",
       "      <td>NaN</td>\n",
       "      <td>1053713</td>\n",
       "      <td>34925</td>\n",
       "      <td>NaN</td>\n",
       "      <td>2017-06-02 20:09:17.000000</td>\n",
       "      <td>2016-11-01 00:00:00.000000</td>\n",
       "      <td>...</td>\n",
       "      <td>152000.0</td>\n",
       "      <td>EUR</td>\n",
       "      <td>993.46</td>\n",
       "      <td>no</td>\n",
       "      <td>no</td>\n",
       "      <td>3</td>\n",
       "      <td>no</td>\n",
       "      <td>no</td>\n",
       "      <td>no</td>\n",
       "      <td>no</td>\n",
       "    </tr>\n",
       "    <tr>\n",
       "      <th>4</th>\n",
       "      <td>8003800</td>\n",
       "      <td>11</td>\n",
       "      <td>302</td>\n",
       "      <td>153</td>\n",
       "      <td>NaN</td>\n",
       "      <td>11540490</td>\n",
       "      <td>401552</td>\n",
       "      <td>NaN</td>\n",
       "      <td>2017-06-02 05:41:44.000000</td>\n",
       "      <td>2017-06-02 10:59:20.000000</td>\n",
       "      <td>...</td>\n",
       "      <td>350.0</td>\n",
       "      <td>EUR</td>\n",
       "      <td>4.38</td>\n",
       "      <td>no</td>\n",
       "      <td>no</td>\n",
       "      <td>no</td>\n",
       "      <td>no</td>\n",
       "      <td>no</td>\n",
       "      <td>no</td>\n",
       "      <td>no</td>\n",
       "    </tr>\n",
       "  </tbody>\n",
       "</table>\n",
       "<p>5 rows × 67 columns</p>\n",
       "</div>"
      ],
      "text/plain": [
       "     ad_id  region_id  category_id  subregion_id  district_id   city_id  \\\n",
       "0  6832896          1          101             5          NaN   1053706   \n",
       "1  6832910          1          401             5          NaN   1053697   \n",
       "2  6832982          1          101            10          NaN   1058821   \n",
       "3  6832984          1          101             5          NaN   1053713   \n",
       "4  8003800         11          302           153          NaN  11540490   \n",
       "\n",
       "   user_id  last_update_date            created_at_first  \\\n",
       "0    34925               NaN  2017-06-02 20:08:08.000000   \n",
       "1    34925               NaN  2017-06-02 20:09:05.000000   \n",
       "2    34925               NaN  2017-06-02 20:09:17.000000   \n",
       "3    34925               NaN  2017-06-02 20:09:17.000000   \n",
       "4   401552               NaN  2017-06-02 05:41:44.000000   \n",
       "\n",
       "                     valid_to ...      price  price[currency]  price_per_m  \\\n",
       "0  2016-11-01 00:00:00.000000 ...    99000.0              EUR         1320   \n",
       "1  2016-11-01 00:00:00.000000 ...   225000.0              EUR        78.13   \n",
       "2  2016-11-01 00:00:00.000000 ...   250000.0              EUR      3333.33   \n",
       "3  2016-11-01 00:00:00.000000 ...   152000.0              EUR       993.46   \n",
       "4  2017-06-02 10:59:20.000000 ...      350.0              EUR         4.38   \n",
       "\n",
       "  purpose  register_number rooms_num  slope  storage_space  terrain_area type  \n",
       "0      no               no         2     no             no            no   no  \n",
       "1      no               no        no     no             no            no   no  \n",
       "2      no               no         2     no             no            no   no  \n",
       "3      no               no         3     no             no            no   no  \n",
       "4      no               no        no     no             no            no   no  \n",
       "\n",
       "[5 rows x 67 columns]"
      ]
     },
     "execution_count": 51,
     "metadata": {},
     "output_type": "execute_result"
    }
   ],
   "source": [
    "ads.head()"
   ]
  },
  {
   "cell_type": "code",
   "execution_count": 52,
   "metadata": {
    "collapsed": false
   },
   "outputs": [],
   "source": [
    "ads = ads.merge(replies, how='left', on='ad_id')"
   ]
  },
  {
   "cell_type": "code",
   "execution_count": 53,
   "metadata": {
    "collapsed": true
   },
   "outputs": [],
   "source": [
    "ads = ads.merge(js_events, how='left', on='ad_id')"
   ]
  },
  {
   "cell_type": "code",
   "execution_count": 54,
   "metadata": {
    "collapsed": false
   },
   "outputs": [],
   "source": [
    "ads[['unique_replies', 'total_replies', 'unique_js_events', 'total_events']] = ads[['unique_replies', 'total_replies','unique_js_events', 'total_events']].fillna(0)"
   ]
  },
  {
   "cell_type": "code",
   "execution_count": 55,
   "metadata": {
    "collapsed": true
   },
   "outputs": [],
   "source": [
    "ads['unique_senders'] = ads['unique_replies'] + ads['unique_js_events']"
   ]
  },
  {
   "cell_type": "code",
   "execution_count": 56,
   "metadata": {
    "collapsed": true
   },
   "outputs": [],
   "source": [
    "ads['total_leads'] = ads['total_replies'] + ads['total_events']"
   ]
  },
  {
   "cell_type": "code",
   "execution_count": 58,
   "metadata": {
    "collapsed": false
   },
   "outputs": [
    {
     "data": {
      "text/html": [
       "<div>\n",
       "<table border=\"1\" class=\"dataframe\">\n",
       "  <thead>\n",
       "    <tr style=\"text-align: right;\">\n",
       "      <th></th>\n",
       "      <th>ad_id</th>\n",
       "      <th>region_id</th>\n",
       "      <th>category_id</th>\n",
       "      <th>subregion_id</th>\n",
       "      <th>district_id</th>\n",
       "      <th>city_id</th>\n",
       "      <th>user_id</th>\n",
       "      <th>last_update_date</th>\n",
       "      <th>created_at_first</th>\n",
       "      <th>valid_to</th>\n",
       "      <th>...</th>\n",
       "      <th>slope</th>\n",
       "      <th>storage_space</th>\n",
       "      <th>terrain_area</th>\n",
       "      <th>type</th>\n",
       "      <th>unique_replies</th>\n",
       "      <th>total_replies</th>\n",
       "      <th>unique_js_events</th>\n",
       "      <th>total_events</th>\n",
       "      <th>unique_senders</th>\n",
       "      <th>total_leads</th>\n",
       "    </tr>\n",
       "  </thead>\n",
       "  <tbody>\n",
       "    <tr>\n",
       "      <th>0</th>\n",
       "      <td>6832896</td>\n",
       "      <td>1</td>\n",
       "      <td>101</td>\n",
       "      <td>5</td>\n",
       "      <td>NaN</td>\n",
       "      <td>1053706</td>\n",
       "      <td>34925</td>\n",
       "      <td>NaN</td>\n",
       "      <td>2017-06-02 20:08:08.000000</td>\n",
       "      <td>2016-11-01 00:00:00.000000</td>\n",
       "      <td>...</td>\n",
       "      <td>no</td>\n",
       "      <td>no</td>\n",
       "      <td>no</td>\n",
       "      <td>no</td>\n",
       "      <td>0.0</td>\n",
       "      <td>0.0</td>\n",
       "      <td>0.0</td>\n",
       "      <td>0.0</td>\n",
       "      <td>0.0</td>\n",
       "      <td>0.0</td>\n",
       "    </tr>\n",
       "    <tr>\n",
       "      <th>1</th>\n",
       "      <td>6832910</td>\n",
       "      <td>1</td>\n",
       "      <td>401</td>\n",
       "      <td>5</td>\n",
       "      <td>NaN</td>\n",
       "      <td>1053697</td>\n",
       "      <td>34925</td>\n",
       "      <td>NaN</td>\n",
       "      <td>2017-06-02 20:09:05.000000</td>\n",
       "      <td>2016-11-01 00:00:00.000000</td>\n",
       "      <td>...</td>\n",
       "      <td>no</td>\n",
       "      <td>no</td>\n",
       "      <td>no</td>\n",
       "      <td>no</td>\n",
       "      <td>0.0</td>\n",
       "      <td>0.0</td>\n",
       "      <td>0.0</td>\n",
       "      <td>0.0</td>\n",
       "      <td>0.0</td>\n",
       "      <td>0.0</td>\n",
       "    </tr>\n",
       "    <tr>\n",
       "      <th>2</th>\n",
       "      <td>6832982</td>\n",
       "      <td>1</td>\n",
       "      <td>101</td>\n",
       "      <td>10</td>\n",
       "      <td>NaN</td>\n",
       "      <td>1058821</td>\n",
       "      <td>34925</td>\n",
       "      <td>NaN</td>\n",
       "      <td>2017-06-02 20:09:17.000000</td>\n",
       "      <td>2016-11-01 00:00:00.000000</td>\n",
       "      <td>...</td>\n",
       "      <td>no</td>\n",
       "      <td>no</td>\n",
       "      <td>no</td>\n",
       "      <td>no</td>\n",
       "      <td>0.0</td>\n",
       "      <td>0.0</td>\n",
       "      <td>0.0</td>\n",
       "      <td>0.0</td>\n",
       "      <td>0.0</td>\n",
       "      <td>0.0</td>\n",
       "    </tr>\n",
       "    <tr>\n",
       "      <th>3</th>\n",
       "      <td>6832984</td>\n",
       "      <td>1</td>\n",
       "      <td>101</td>\n",
       "      <td>5</td>\n",
       "      <td>NaN</td>\n",
       "      <td>1053713</td>\n",
       "      <td>34925</td>\n",
       "      <td>NaN</td>\n",
       "      <td>2017-06-02 20:09:17.000000</td>\n",
       "      <td>2016-11-01 00:00:00.000000</td>\n",
       "      <td>...</td>\n",
       "      <td>no</td>\n",
       "      <td>no</td>\n",
       "      <td>no</td>\n",
       "      <td>no</td>\n",
       "      <td>0.0</td>\n",
       "      <td>0.0</td>\n",
       "      <td>0.0</td>\n",
       "      <td>0.0</td>\n",
       "      <td>0.0</td>\n",
       "      <td>0.0</td>\n",
       "    </tr>\n",
       "    <tr>\n",
       "      <th>4</th>\n",
       "      <td>8003800</td>\n",
       "      <td>11</td>\n",
       "      <td>302</td>\n",
       "      <td>153</td>\n",
       "      <td>NaN</td>\n",
       "      <td>11540490</td>\n",
       "      <td>401552</td>\n",
       "      <td>NaN</td>\n",
       "      <td>2017-06-02 05:41:44.000000</td>\n",
       "      <td>2017-06-02 10:59:20.000000</td>\n",
       "      <td>...</td>\n",
       "      <td>no</td>\n",
       "      <td>no</td>\n",
       "      <td>no</td>\n",
       "      <td>no</td>\n",
       "      <td>0.0</td>\n",
       "      <td>0.0</td>\n",
       "      <td>0.0</td>\n",
       "      <td>0.0</td>\n",
       "      <td>0.0</td>\n",
       "      <td>0.0</td>\n",
       "    </tr>\n",
       "  </tbody>\n",
       "</table>\n",
       "<p>5 rows × 73 columns</p>\n",
       "</div>"
      ],
      "text/plain": [
       "     ad_id  region_id  category_id  subregion_id  district_id   city_id  \\\n",
       "0  6832896          1          101             5          NaN   1053706   \n",
       "1  6832910          1          401             5          NaN   1053697   \n",
       "2  6832982          1          101            10          NaN   1058821   \n",
       "3  6832984          1          101             5          NaN   1053713   \n",
       "4  8003800         11          302           153          NaN  11540490   \n",
       "\n",
       "   user_id  last_update_date            created_at_first  \\\n",
       "0    34925               NaN  2017-06-02 20:08:08.000000   \n",
       "1    34925               NaN  2017-06-02 20:09:05.000000   \n",
       "2    34925               NaN  2017-06-02 20:09:17.000000   \n",
       "3    34925               NaN  2017-06-02 20:09:17.000000   \n",
       "4   401552               NaN  2017-06-02 05:41:44.000000   \n",
       "\n",
       "                     valid_to     ...     slope  storage_space  terrain_area  \\\n",
       "0  2016-11-01 00:00:00.000000     ...        no             no            no   \n",
       "1  2016-11-01 00:00:00.000000     ...        no             no            no   \n",
       "2  2016-11-01 00:00:00.000000     ...        no             no            no   \n",
       "3  2016-11-01 00:00:00.000000     ...        no             no            no   \n",
       "4  2017-06-02 10:59:20.000000     ...        no             no            no   \n",
       "\n",
       "  type  unique_replies total_replies  unique_js_events  total_events  \\\n",
       "0   no             0.0           0.0               0.0           0.0   \n",
       "1   no             0.0           0.0               0.0           0.0   \n",
       "2   no             0.0           0.0               0.0           0.0   \n",
       "3   no             0.0           0.0               0.0           0.0   \n",
       "4   no             0.0           0.0               0.0           0.0   \n",
       "\n",
       "   unique_senders total_leads  \n",
       "0             0.0         0.0  \n",
       "1             0.0         0.0  \n",
       "2             0.0         0.0  \n",
       "3             0.0         0.0  \n",
       "4             0.0         0.0  \n",
       "\n",
       "[5 rows x 73 columns]"
      ]
     },
     "execution_count": 58,
     "metadata": {},
     "output_type": "execute_result"
    }
   ],
   "source": [
    "ads.head()"
   ]
  },
  {
   "cell_type": "markdown",
   "metadata": {},
   "source": [
    "**Categories list**\n",
    "\n",
    "* 101 - apartments to buy\n",
    "* 102 - apartments for rent\n",
    "* 103 - apartments for vacations\n",
    "* 201 - houses to buy\n",
    "* 202 - houses for rent\n",
    "* 203 - houses for vacations\n",
    "* 302 - rooms for rent\n",
    "* 401 - land to buy\n",
    "* 402 - land for rent\n",
    "* 501 - stores to buy\n",
    "* 502 - stors for rent\n",
    "* 601 - warehouses to buy\n",
    "* 602 - warehosues for rent\n",
    "* 701 - garages to buy\n",
    "* 702 - garages for rent\n",
    "* 801 - offices to buy\n",
    "* 802 - offices for rent\n",
    "* 901 - buildings to buy\n",
    "* 902 - building for rent\n",
    "* 1101 - farms and estates to buy\n",
    "* 1102 - farms and estates for rent\n",
    "* 1201 - goodwill to buy\n",
    "\n",
    "**Category distribution**"
   ]
  },
  {
   "cell_type": "code",
   "execution_count": 60,
   "metadata": {
    "collapsed": false
   },
   "outputs": [
    {
     "data": {
      "text/plain": [
       "101     138246\n",
       "201      70564\n",
       "401      25702\n",
       "102      23732\n",
       "501      11851\n",
       "901       7038\n",
       "302       5918\n",
       "502       5049\n",
       "1101      4368\n",
       "601       3869\n",
       "202       3393\n",
       "802       2788\n",
       "801       2533\n",
       "701       1789\n",
       "602       1769\n",
       "1201      1536\n",
       "103       1000\n",
       "203        716\n",
       "702        454\n",
       "402        154\n",
       "902        105\n",
       "1102        65\n",
       "Name: category_id, dtype: int64"
      ]
     },
     "execution_count": 60,
     "metadata": {},
     "output_type": "execute_result"
    }
   ],
   "source": [
    "ads['category_id'].value_counts()"
   ]
  },
  {
   "cell_type": "markdown",
   "metadata": {},
   "source": [
    "#### Liquidity definition ####\n",
    "\n",
    "**Liquidity** - binary metric. Equal to 1 if listings obtained 3 or more contacts from unique persons within 7 days after creation. Let's calculate liquidity for Imovirtual:"
   ]
  },
  {
   "cell_type": "code",
   "execution_count": 64,
   "metadata": {
    "collapsed": false
   },
   "outputs": [
    {
     "data": {
      "text/plain": [
       "0.12744731143587332"
      ]
     },
     "execution_count": 64,
     "metadata": {},
     "output_type": "execute_result"
    }
   ],
   "source": [
    "sum(ads['unique_senders']  >= 3)/len(ads)"
   ]
  },
  {
   "cell_type": "markdown",
   "metadata": {},
   "source": [
    "**Transform image number to integer**"
   ]
  },
  {
   "cell_type": "code",
   "execution_count": 65,
   "metadata": {
    "collapsed": false
   },
   "outputs": [
    {
     "name": "stdout",
     "output_type": "stream",
     "text": [
      "11111111111111\n",
      "14\n"
     ]
    }
   ],
   "source": [
    "import numpy as np\n",
    "import pandas as pd\n",
    "np.binary_repr(int(1.638300e+04))\n",
    "print(np.binary_repr(int(1.638300e+04)))\n",
    "print(len(np.binary_repr(int(1.638300e+04))))"
   ]
  },
  {
   "cell_type": "code",
   "execution_count": 66,
   "metadata": {
    "collapsed": true
   },
   "outputs": [],
   "source": [
    "def get_number_of_images(coded_number):\n",
    "    if pd.isnull(coded_number):\n",
    "        return 0\n",
    "    binary_repr = np.binary_repr(int(coded_number))\n",
    "    binary_repr  = binary_repr.replace('0', '')\n",
    "    return len(binary_repr)"
   ]
  },
  {
   "cell_type": "code",
   "execution_count": 67,
   "metadata": {
    "collapsed": false
   },
   "outputs": [
    {
     "data": {
      "text/plain": [
       "2"
      ]
     },
     "execution_count": 67,
     "metadata": {},
     "output_type": "execute_result"
    }
   ],
   "source": [
    "get_number_of_images(12)"
   ]
  },
  {
   "cell_type": "code",
   "execution_count": 68,
   "metadata": {
    "collapsed": false
   },
   "outputs": [],
   "source": [
    "test = get_number_of_images(1.638300e+04)\n"
   ]
  },
  {
   "cell_type": "code",
   "execution_count": 69,
   "metadata": {
    "collapsed": false
   },
   "outputs": [],
   "source": [
    "ads['n_images'] = ads['images_counter'].apply(lambda x: get_number_of_images(x))"
   ]
  },
  {
   "cell_type": "code",
   "execution_count": 71,
   "metadata": {
    "collapsed": false
   },
   "outputs": [
    {
     "data": {
      "text/plain": [
       "0     0.167532\n",
       "12    0.056484\n",
       "5     0.050115\n",
       "9     0.045490\n",
       "10    0.045388\n",
       "Name: n_images, dtype: float64"
      ]
     },
     "execution_count": 71,
     "metadata": {},
     "output_type": "execute_result"
    }
   ],
   "source": [
    "ads['n_images'].value_counts(normalize=True).head()"
   ]
  },
  {
   "cell_type": "code",
   "execution_count": 74,
   "metadata": {
    "collapsed": false
   },
   "outputs": [
    {
     "data": {
      "text/plain": [
       "removed_by_user         50656\n",
       "outdated                  723\n",
       "outdated_by_package       449\n",
       "active                    182\n",
       "disabled                  162\n",
       "removed_by_moderator      132\n",
       "moderated                  63\n",
       "unpaid                     10\n",
       "Name: status, dtype: int64"
      ]
     },
     "execution_count": 74,
     "metadata": {},
     "output_type": "execute_result"
    }
   ],
   "source": [
    "ads[ads['n_images']  == 0].status.value_counts()"
   ]
  },
  {
   "cell_type": "markdown",
   "metadata": {},
   "source": [
    "16.75% of all listings have zero images. Mostly they have status `removed_by_user`. To obtain the original amount of images we use \"imo_images_Jun_Dec.csv\"."
   ]
  },
  {
   "cell_type": "code",
   "execution_count": 76,
   "metadata": {
    "collapsed": false
   },
   "outputs": [],
   "source": [
    "n_images = pd.read_csv(\"data/Imovirtual/imo_images_Jun_Dec.csv\", header=None)\n",
    "n_images.columns = ['ad_id', 'image_mapping', 'cnt']\n",
    "n_images['n_images2'] = n_images['image_mapping'].apply(lambda x: get_number_of_images(x))\n",
    "max_n = n_images.groupby('ad_id')['n_images2'].max()\n",
    "img = pd.DataFrame(max_n)\n",
    "img['ad_id'] = img.index"
   ]
  },
  {
   "cell_type": "code",
   "execution_count": 77,
   "metadata": {
    "collapsed": false
   },
   "outputs": [
    {
     "data": {
      "text/html": [
       "<div>\n",
       "<table border=\"1\" class=\"dataframe\">\n",
       "  <thead>\n",
       "    <tr style=\"text-align: right;\">\n",
       "      <th></th>\n",
       "      <th>n_images2</th>\n",
       "      <th>ad_id</th>\n",
       "    </tr>\n",
       "    <tr>\n",
       "      <th>ad_id</th>\n",
       "      <th></th>\n",
       "      <th></th>\n",
       "    </tr>\n",
       "  </thead>\n",
       "  <tbody>\n",
       "    <tr>\n",
       "      <th>6816588</th>\n",
       "      <td>15</td>\n",
       "      <td>6816588</td>\n",
       "    </tr>\n",
       "    <tr>\n",
       "      <th>6816590</th>\n",
       "      <td>12</td>\n",
       "      <td>6816590</td>\n",
       "    </tr>\n",
       "    <tr>\n",
       "      <th>6816592</th>\n",
       "      <td>14</td>\n",
       "      <td>6816592</td>\n",
       "    </tr>\n",
       "    <tr>\n",
       "      <th>6816594</th>\n",
       "      <td>11</td>\n",
       "      <td>6816594</td>\n",
       "    </tr>\n",
       "    <tr>\n",
       "      <th>6816596</th>\n",
       "      <td>19</td>\n",
       "      <td>6816596</td>\n",
       "    </tr>\n",
       "  </tbody>\n",
       "</table>\n",
       "</div>"
      ],
      "text/plain": [
       "         n_images2    ad_id\n",
       "ad_id                      \n",
       "6816588         15  6816588\n",
       "6816590         12  6816590\n",
       "6816592         14  6816592\n",
       "6816594         11  6816594\n",
       "6816596         19  6816596"
      ]
     },
     "execution_count": 77,
     "metadata": {},
     "output_type": "execute_result"
    }
   ],
   "source": [
    "img.head()"
   ]
  },
  {
   "cell_type": "code",
   "execution_count": 78,
   "metadata": {
    "collapsed": false
   },
   "outputs": [],
   "source": [
    "ads = ads.merge(img, how='left', on='ad_id')\n",
    "ads['n_images2'] = ads['n_images2'].fillna(0)"
   ]
  },
  {
   "cell_type": "code",
   "execution_count": 80,
   "metadata": {
    "collapsed": false
   },
   "outputs": [
    {
     "data": {
      "text/plain": [
       "12.0    0.076024\n",
       "5.0     0.060149\n",
       "10.0    0.055166\n",
       "9.0     0.054373\n",
       "8.0     0.053029\n",
       "Name: n_images2, dtype: float64"
      ]
     },
     "execution_count": 80,
     "metadata": {},
     "output_type": "execute_result"
    }
   ],
   "source": [
    "ads['n_images2'].value_counts(normalize=True).head()"
   ]
  },
  {
   "cell_type": "markdown",
   "metadata": {},
   "source": [
    "Save results"
   ]
  },
  {
   "cell_type": "code",
   "execution_count": 81,
   "metadata": {
    "collapsed": true
   },
   "outputs": [],
   "source": [
    "ads.to_csv(\"ml_dataset_imovirtual.tsv\", sep=\"\\t\")"
   ]
  },
  {
   "cell_type": "markdown",
   "metadata": {},
   "source": [
    "**[Optional] Add views**.\n",
    "\n",
    "We expereminted with contacts per views metric (which is defined as number of unique contacts within days divided by unique views amount during that period). In our models we don't use this attributes."
   ]
  },
  {
   "cell_type": "code",
   "execution_count": 82,
   "metadata": {
    "collapsed": true
   },
   "outputs": [],
   "source": [
    "views = pd.read_csv(\"data/Imovirtual/imovirtual_views_Jun_Dec.csv\", header=None)"
   ]
  },
  {
   "cell_type": "code",
   "execution_count": 83,
   "metadata": {
    "collapsed": false
   },
   "outputs": [
    {
     "data": {
      "text/html": [
       "<div>\n",
       "<table border=\"1\" class=\"dataframe\">\n",
       "  <thead>\n",
       "    <tr style=\"text-align: right;\">\n",
       "      <th></th>\n",
       "      <th>0</th>\n",
       "      <th>1</th>\n",
       "      <th>2</th>\n",
       "    </tr>\n",
       "  </thead>\n",
       "  <tbody>\n",
       "    <tr>\n",
       "      <th>0</th>\n",
       "      <td>8011456</td>\n",
       "      <td>81</td>\n",
       "      <td>122</td>\n",
       "    </tr>\n",
       "    <tr>\n",
       "      <th>1</th>\n",
       "      <td>8013082</td>\n",
       "      <td>251</td>\n",
       "      <td>430</td>\n",
       "    </tr>\n",
       "    <tr>\n",
       "      <th>2</th>\n",
       "      <td>8010028</td>\n",
       "      <td>14</td>\n",
       "      <td>22</td>\n",
       "    </tr>\n",
       "    <tr>\n",
       "      <th>3</th>\n",
       "      <td>8025424</td>\n",
       "      <td>83</td>\n",
       "      <td>132</td>\n",
       "    </tr>\n",
       "    <tr>\n",
       "      <th>4</th>\n",
       "      <td>8000953</td>\n",
       "      <td>182</td>\n",
       "      <td>286</td>\n",
       "    </tr>\n",
       "  </tbody>\n",
       "</table>\n",
       "</div>"
      ],
      "text/plain": [
       "         0    1    2\n",
       "0  8011456   81  122\n",
       "1  8013082  251  430\n",
       "2  8010028   14   22\n",
       "3  8025424   83  132\n",
       "4  8000953  182  286"
      ]
     },
     "execution_count": 83,
     "metadata": {},
     "output_type": "execute_result"
    }
   ],
   "source": [
    "views.head()"
   ]
  },
  {
   "cell_type": "code",
   "execution_count": 84,
   "metadata": {
    "collapsed": true
   },
   "outputs": [],
   "source": [
    "views.columns = ['ad_id', 'unique_week_views', 'week_views']"
   ]
  },
  {
   "cell_type": "code",
   "execution_count": 85,
   "metadata": {
    "collapsed": true
   },
   "outputs": [],
   "source": [
    "ads = ads.merge(views, how='left', on='ad_id')"
   ]
  },
  {
   "cell_type": "code",
   "execution_count": 86,
   "metadata": {
    "collapsed": true
   },
   "outputs": [],
   "source": [
    "ads.to_csv(\"ml_dataset_imovirtual.tsv\", sep=\"\\t\")"
   ]
  },
  {
   "cell_type": "markdown",
   "metadata": {},
   "source": [
    "Next steps described in the `3.1QualityScoreImovirtual-v.0.2.ipynb` for sell and in the `3.2QualityScoreImovirtual-Rent-v0.2`"
   ]
  },
  {
   "cell_type": "code",
   "execution_count": null,
   "metadata": {
    "collapsed": true
   },
   "outputs": [],
   "source": []
  }
 ],
 "metadata": {
  "kernelspec": {
   "display_name": "Python 3",
   "language": "python",
   "name": "python3"
  },
  "language_info": {
   "codemirror_mode": {
    "name": "ipython",
    "version": 3
   },
   "file_extension": ".py",
   "mimetype": "text/x-python",
   "name": "python",
   "nbconvert_exporter": "python",
   "pygments_lexer": "ipython3",
   "version": "3.6.0"
  }
 },
 "nbformat": 4,
 "nbformat_minor": 2
}
