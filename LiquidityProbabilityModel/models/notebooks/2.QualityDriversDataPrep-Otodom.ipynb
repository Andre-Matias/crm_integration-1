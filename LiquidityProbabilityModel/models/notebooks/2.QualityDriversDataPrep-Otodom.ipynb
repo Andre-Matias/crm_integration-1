{
 "cells": [
  {
   "cell_type": "markdown",
   "metadata": {},
   "source": [
    "### What is this notebook for? ###\n",
    "\n",
    "The main purpose of this notebook is building dataset for training Liquidity's probability model.\n",
    "Here we will enrich listings attributes with replies(within 7 days after creation) and javascript events(within 7 days after creation). \n",
    "\n",
    "JS events:\n",
    "\n",
    "* 'reply_phone_show',\n",
    "* 'reply_phone_call',\n",
    "* 'reply_phone_sms',\n",
    "* 'reply_phone_cancel',\n",
    "* 'reply_message_sent',\n",
    "* 'reply_message_click',\n",
    "* 'reply_chat_sent'\n",
    "\n",
    "**Prerequisities:**  \n",
    "\n",
    "* csv file with listings attributes \"otodom_Jun_Dec.csv\". Can be obtained with sql code in the file `sql_queries/otodom.sql`, section 1.\n",
    "* parsed attributes \"ads_with_featuresOtodom.csv\". Can be obtained with `ParamsOtodom.ipynb`\n",
    "* replies \"otodom_replies_Jun_Dec.csv\". Can be obtained with sql code in the file `sql_queries/otodom.sql`, section 2.\n",
    "* js events within 7 days \"otodom_events_Jun_Dec.csv\". Can be obtained with sql code in the file `sql_queries/otodom.sql`, section 3.\n",
    "* [optional] views within 7 days \"otodom_views_Jun_Dec.csv\". Can be obtained with sql code in the file `sql_queries/otodom.sql`, section 4.\n",
    "\n",
    "**Output:**\n",
    "\"ml_dataset_otodompl.tsv\", separated with \"\\t\""
   ]
  },
  {
   "cell_type": "code",
   "execution_count": 1,
   "metadata": {
    "collapsed": true
   },
   "outputs": [],
   "source": [
    "import pandas as pd\n",
    "import numpy as np\n",
    "import datetime\n",
    "\n",
    "%matplotlib inline\n",
    "import matplotlib.pyplot as plt\n",
    "import seaborn as sns"
   ]
  },
  {
   "cell_type": "code",
   "execution_count": 2,
   "metadata": {
    "collapsed": false
   },
   "outputs": [],
   "source": [
    "ads = pd.read_csv('../data/Otodom/otodom_Jun_Dec.csv', header=None)"
   ]
  },
  {
   "cell_type": "code",
   "execution_count": 3,
   "metadata": {
    "collapsed": false
   },
   "outputs": [
    {
     "data": {
      "text/plain": [
       "(1084786, 39)"
      ]
     },
     "execution_count": 3,
     "metadata": {},
     "output_type": "execute_result"
    }
   ],
   "source": [
    "ads.shape"
   ]
  },
  {
   "cell_type": "code",
   "execution_count": 4,
   "metadata": {
    "collapsed": false
   },
   "outputs": [
    {
     "data": {
      "text/html": [
       "<div>\n",
       "<table border=\"1\" class=\"dataframe\">\n",
       "  <thead>\n",
       "    <tr style=\"text-align: right;\">\n",
       "      <th></th>\n",
       "      <th>0</th>\n",
       "      <th>1</th>\n",
       "      <th>2</th>\n",
       "      <th>3</th>\n",
       "      <th>4</th>\n",
       "      <th>5</th>\n",
       "      <th>6</th>\n",
       "      <th>7</th>\n",
       "      <th>8</th>\n",
       "      <th>9</th>\n",
       "      <th>...</th>\n",
       "      <th>29</th>\n",
       "      <th>30</th>\n",
       "      <th>31</th>\n",
       "      <th>32</th>\n",
       "      <th>33</th>\n",
       "      <th>34</th>\n",
       "      <th>35</th>\n",
       "      <th>36</th>\n",
       "      <th>37</th>\n",
       "      <th>38</th>\n",
       "    </tr>\n",
       "  </thead>\n",
       "  <tbody>\n",
       "    <tr>\n",
       "      <th>0</th>\n",
       "      <td>48451134</td>\n",
       "      <td>16</td>\n",
       "      <td>302</td>\n",
       "      <td>371</td>\n",
       "      <td>159.0</td>\n",
       "      <td>213</td>\n",
       "      <td>1071655</td>\n",
       "      <td>NaN</td>\n",
       "      <td>2017-06-01 07:37:26.000000</td>\n",
       "      <td>2017-07-01 07:37:26.000000</td>\n",
       "      <td>...</td>\n",
       "      <td>0</td>\n",
       "      <td>0.0</td>\n",
       "      <td>530</td>\n",
       "      <td>0</td>\n",
       "      <td>NaN</td>\n",
       "      <td>20</td>\n",
       "      <td>0</td>\n",
       "      <td>14.527340</td>\n",
       "      <td>53.401570</td>\n",
       "      <td>1</td>\n",
       "    </tr>\n",
       "    <tr>\n",
       "      <th>1</th>\n",
       "      <td>48452110</td>\n",
       "      <td>7</td>\n",
       "      <td>102</td>\n",
       "      <td>197</td>\n",
       "      <td>117.0</td>\n",
       "      <td>26</td>\n",
       "      <td>232572</td>\n",
       "      <td>NaN</td>\n",
       "      <td>2017-06-01 09:21:45.000000</td>\n",
       "      <td>2017-06-08 09:40:50.000000</td>\n",
       "      <td>...</td>\n",
       "      <td>1</td>\n",
       "      <td>33.0</td>\n",
       "      <td>1600</td>\n",
       "      <td>48</td>\n",
       "      <td>NaN</td>\n",
       "      <td>10</td>\n",
       "      <td>50</td>\n",
       "      <td>20.932984</td>\n",
       "      <td>52.240101</td>\n",
       "      <td>1</td>\n",
       "    </tr>\n",
       "    <tr>\n",
       "      <th>2</th>\n",
       "      <td>48452396</td>\n",
       "      <td>16</td>\n",
       "      <td>201</td>\n",
       "      <td>364</td>\n",
       "      <td>NaN</td>\n",
       "      <td>2123</td>\n",
       "      <td>231932</td>\n",
       "      <td>NaN</td>\n",
       "      <td>2017-06-01 09:40:50.000000</td>\n",
       "      <td>2017-06-19 14:21:15.000000</td>\n",
       "      <td>...</td>\n",
       "      <td>4</td>\n",
       "      <td>190.0</td>\n",
       "      <td>785000</td>\n",
       "      <td>4131</td>\n",
       "      <td>NaN</td>\n",
       "      <td>8</td>\n",
       "      <td>52</td>\n",
       "      <td>14.876430</td>\n",
       "      <td>53.357060</td>\n",
       "      <td>1</td>\n",
       "    </tr>\n",
       "    <tr>\n",
       "      <th>3</th>\n",
       "      <td>48452430</td>\n",
       "      <td>7</td>\n",
       "      <td>102</td>\n",
       "      <td>197</td>\n",
       "      <td>39.0</td>\n",
       "      <td>26</td>\n",
       "      <td>757739</td>\n",
       "      <td>NaN</td>\n",
       "      <td>2017-06-01 09:42:34.000000</td>\n",
       "      <td>2017-06-14 23:13:04.000000</td>\n",
       "      <td>...</td>\n",
       "      <td>4</td>\n",
       "      <td>117.0</td>\n",
       "      <td>9500</td>\n",
       "      <td>81</td>\n",
       "      <td>NaN</td>\n",
       "      <td>33</td>\n",
       "      <td>47</td>\n",
       "      <td>21.033785</td>\n",
       "      <td>52.185715</td>\n",
       "      <td>1</td>\n",
       "    </tr>\n",
       "    <tr>\n",
       "      <th>4</th>\n",
       "      <td>48452522</td>\n",
       "      <td>7</td>\n",
       "      <td>102</td>\n",
       "      <td>197</td>\n",
       "      <td>41.0</td>\n",
       "      <td>26</td>\n",
       "      <td>757739</td>\n",
       "      <td>NaN</td>\n",
       "      <td>2017-06-01 09:45:47.000000</td>\n",
       "      <td>2017-06-14 23:13:20.000000</td>\n",
       "      <td>...</td>\n",
       "      <td>3</td>\n",
       "      <td>125.0</td>\n",
       "      <td>6200</td>\n",
       "      <td>49</td>\n",
       "      <td>NaN</td>\n",
       "      <td>23</td>\n",
       "      <td>47</td>\n",
       "      <td>21.051807</td>\n",
       "      <td>52.232840</td>\n",
       "      <td>1</td>\n",
       "    </tr>\n",
       "  </tbody>\n",
       "</table>\n",
       "<p>5 rows × 39 columns</p>\n",
       "</div>"
      ],
      "text/plain": [
       "         0   1    2    3      4     5        6   7   \\\n",
       "0  48451134  16  302  371  159.0   213  1071655 NaN   \n",
       "1  48452110   7  102  197  117.0    26   232572 NaN   \n",
       "2  48452396  16  201  364    NaN  2123   231932 NaN   \n",
       "3  48452430   7  102  197   39.0    26   757739 NaN   \n",
       "4  48452522   7  102  197   41.0    26   757739 NaN   \n",
       "\n",
       "                           8                           9  ... 29     30  \\\n",
       "0  2017-06-01 07:37:26.000000  2017-07-01 07:37:26.000000 ...  0    0.0   \n",
       "1  2017-06-01 09:21:45.000000  2017-06-08 09:40:50.000000 ...  1   33.0   \n",
       "2  2017-06-01 09:40:50.000000  2017-06-19 14:21:15.000000 ...  4  190.0   \n",
       "3  2017-06-01 09:42:34.000000  2017-06-14 23:13:04.000000 ...  4  117.0   \n",
       "4  2017-06-01 09:45:47.000000  2017-06-14 23:13:20.000000 ...  3  125.0   \n",
       "\n",
       "       31    32   33  34  35         36         37 38  \n",
       "0     530     0  NaN  20   0  14.527340  53.401570  1  \n",
       "1    1600    48  NaN  10  50  20.932984  52.240101  1  \n",
       "2  785000  4131  NaN   8  52  14.876430  53.357060  1  \n",
       "3    9500    81  NaN  33  47  21.033785  52.185715  1  \n",
       "4    6200    49  NaN  23  47  21.051807  52.232840  1  \n",
       "\n",
       "[5 rows x 39 columns]"
      ]
     },
     "execution_count": 4,
     "metadata": {},
     "output_type": "execute_result"
    }
   ],
   "source": [
    "ads.head()"
   ]
  },
  {
   "cell_type": "code",
   "execution_count": 5,
   "metadata": {
    "collapsed": true
   },
   "outputs": [],
   "source": [
    "ads.columns = [\"ad_id\", \"region_id\", \"category_id\", \"subregion_id\", \"district_id\", \"city_id\", \"user_id\", \n",
    "               \"last_update_date\", \"created_at_first\", \"valid_to\", \"status\", \"title\", \"description\",\n",
    "               \"params\", \"map_address\", \"private_business\", \n",
    "\"images_counter\", \"paidads_id_index\", \"paidads_id_payment\", \"paidads_valid_to\", \"was_paid_for_post\",\n",
    "\"is_paid_for_post\", \"export_olx_to\", \"brand_program_id\", \"user_quality_score\", \"updated_at\",\n",
    "\"street_name\", \"street_id\", \"panorama\", \"mysql_search_rooms_num\", \"mysql_search_m\",\n",
    "\"mysql_search_price\", \"mysql_search_price_per_m\", \"movie\", \"ad_quality_score\", \"user_quality_score2\",\n",
    "\"map_lon\", \"map_lat\", \"net_ad_counted\"]"
   ]
  },
  {
   "cell_type": "code",
   "execution_count": 6,
   "metadata": {
    "collapsed": false
   },
   "outputs": [
    {
     "data": {
      "text/plain": [
       "1084786"
      ]
     },
     "execution_count": 6,
     "metadata": {},
     "output_type": "execute_result"
    }
   ],
   "source": [
    "ads['ad_id'].nunique()"
   ]
  },
  {
   "cell_type": "code",
   "execution_count": 7,
   "metadata": {
    "collapsed": false
   },
   "outputs": [],
   "source": [
    "# Convert to datetime\n",
    "ads['created_at_dt'] = ads.apply(\n",
    "    lambda row: datetime.datetime.strptime(row['created_at_first'], '%Y-%m-%d %H:%M:%S.%f').date()\n",
    "    if len(str(row['created_at_first'])) > 5 else 'false', axis=1) "
   ]
  },
  {
   "cell_type": "code",
   "execution_count": 8,
   "metadata": {
    "collapsed": false
   },
   "outputs": [
    {
     "name": "stdout",
     "output_type": "stream",
     "text": [
      "2017-12-31\n",
      "2017-06-01\n"
     ]
    }
   ],
   "source": [
    "print(max(ads.created_at_dt))\n",
    "print(min(ads.created_at_dt))"
   ]
  },
  {
   "cell_type": "code",
   "execution_count": 9,
   "metadata": {
    "collapsed": false
   },
   "outputs": [
    {
     "data": {
      "text/plain": [
       "<matplotlib.axes._subplots.AxesSubplot at 0x14768ee48>"
      ]
     },
     "execution_count": 9,
     "metadata": {},
     "output_type": "execute_result"
    },
    {
     "data": {
      "image/png": "[encoded data removed]",
      "text/plain": [
       "<matplotlib.figure.Figure at 0x110f72240>"
      ]
     },
     "metadata": {},
     "output_type": "display_data"
    }
   ],
   "source": [
    "ads['month'] = ads['created_at_dt'].apply(lambda x: x.month)\n",
    "ads.groupby(['month'])['ad_id'].nunique().plot(kind=\"bar\")"
   ]
  },
  {
   "cell_type": "markdown",
   "metadata": {
    "collapsed": true
   },
   "source": [
    "**Add parsed parameters**"
   ]
  },
  {
   "cell_type": "code",
   "execution_count": 10,
   "metadata": {
    "collapsed": false
   },
   "outputs": [
    {
     "name": "stderr",
     "output_type": "stream",
     "text": [
      "/anaconda/lib/python3.6/site-packages/IPython/core/interactiveshell.py:2717: DtypeWarning: Columns (4,17,30,34,53,59) have mixed types. Specify dtype option on import or set low_memory=False.\n",
      "  interactivity=interactivity, compiler=compiler, result=result)\n"
     ]
    }
   ],
   "source": [
    "features = pd.read_csv(\"ads_with_featuresOtodom.csv\")"
   ]
  },
  {
   "cell_type": "code",
   "execution_count": 11,
   "metadata": {
    "collapsed": false
   },
   "outputs": [
    {
     "data": {
      "text/html": [
       "<div>\n",
       "<table border=\"1\" class=\"dataframe\">\n",
       "  <thead>\n",
       "    <tr style=\"text-align: right;\">\n",
       "      <th></th>\n",
       "      <th>ad_id</th>\n",
       "      <th>access_types</th>\n",
       "      <th>area_from</th>\n",
       "      <th>area_to</th>\n",
       "      <th>begin_date</th>\n",
       "      <th>build_year</th>\n",
       "      <th>building_floors_num</th>\n",
       "      <th>building_material</th>\n",
       "      <th>building_ownership</th>\n",
       "      <th>building_type</th>\n",
       "      <th>...</th>\n",
       "      <th>security_types</th>\n",
       "      <th>social_facilities</th>\n",
       "      <th>state</th>\n",
       "      <th>structure</th>\n",
       "      <th>terrain_area</th>\n",
       "      <th>type</th>\n",
       "      <th>use_types</th>\n",
       "      <th>vicinity_types</th>\n",
       "      <th>web</th>\n",
       "      <th>windows_type</th>\n",
       "    </tr>\n",
       "  </thead>\n",
       "  <tbody>\n",
       "    <tr>\n",
       "      <th>0</th>\n",
       "      <td>48449224</td>\n",
       "      <td>NaN</td>\n",
       "      <td>NaN</td>\n",
       "      <td>NaN</td>\n",
       "      <td>NaN</td>\n",
       "      <td>NaN</td>\n",
       "      <td>5.0</td>\n",
       "      <td>brick</td>\n",
       "      <td>full_ownership</td>\n",
       "      <td>tenement</td>\n",
       "      <td>...</td>\n",
       "      <td>entryphone</td>\n",
       "      <td>NaN</td>\n",
       "      <td>NaN</td>\n",
       "      <td>NaN</td>\n",
       "      <td>NaN</td>\n",
       "      <td>NaN</td>\n",
       "      <td>NaN</td>\n",
       "      <td>NaN</td>\n",
       "      <td>NaN</td>\n",
       "      <td>plastic</td>\n",
       "    </tr>\n",
       "    <tr>\n",
       "      <th>1</th>\n",
       "      <td>48449226</td>\n",
       "      <td>NaN</td>\n",
       "      <td>NaN</td>\n",
       "      <td>NaN</td>\n",
       "      <td>NaN</td>\n",
       "      <td>NaN</td>\n",
       "      <td>NaN</td>\n",
       "      <td>NaN</td>\n",
       "      <td>NaN</td>\n",
       "      <td>NaN</td>\n",
       "      <td>...</td>\n",
       "      <td>NaN</td>\n",
       "      <td>NaN</td>\n",
       "      <td>NaN</td>\n",
       "      <td>NaN</td>\n",
       "      <td>NaN</td>\n",
       "      <td>NaN</td>\n",
       "      <td>NaN</td>\n",
       "      <td>NaN</td>\n",
       "      <td>NaN</td>\n",
       "      <td>NaN</td>\n",
       "    </tr>\n",
       "    <tr>\n",
       "      <th>2</th>\n",
       "      <td>48449228</td>\n",
       "      <td>0</td>\n",
       "      <td>NaN</td>\n",
       "      <td>NaN</td>\n",
       "      <td>NaN</td>\n",
       "      <td>NaN</td>\n",
       "      <td>NaN</td>\n",
       "      <td>NaN</td>\n",
       "      <td>NaN</td>\n",
       "      <td>NaN</td>\n",
       "      <td>...</td>\n",
       "      <td>0</td>\n",
       "      <td>NaN</td>\n",
       "      <td>NaN</td>\n",
       "      <td>NaN</td>\n",
       "      <td>800.0</td>\n",
       "      <td>NaN</td>\n",
       "      <td>NaN</td>\n",
       "      <td>0</td>\n",
       "      <td>NaN</td>\n",
       "      <td>NaN</td>\n",
       "    </tr>\n",
       "    <tr>\n",
       "      <th>3</th>\n",
       "      <td>48449230</td>\n",
       "      <td>hard_surfaced</td>\n",
       "      <td>NaN</td>\n",
       "      <td>NaN</td>\n",
       "      <td>NaN</td>\n",
       "      <td>2018.0</td>\n",
       "      <td>NaN</td>\n",
       "      <td>NaN</td>\n",
       "      <td>NaN</td>\n",
       "      <td>semi_detached</td>\n",
       "      <td>...</td>\n",
       "      <td>NaN</td>\n",
       "      <td>NaN</td>\n",
       "      <td>NaN</td>\n",
       "      <td>NaN</td>\n",
       "      <td>276.0</td>\n",
       "      <td>NaN</td>\n",
       "      <td>NaN</td>\n",
       "      <td>NaN</td>\n",
       "      <td>NaN</td>\n",
       "      <td>plastic</td>\n",
       "    </tr>\n",
       "    <tr>\n",
       "      <th>4</th>\n",
       "      <td>48449234</td>\n",
       "      <td>hard_surfaced</td>\n",
       "      <td>NaN</td>\n",
       "      <td>NaN</td>\n",
       "      <td>NaN</td>\n",
       "      <td>2018.0</td>\n",
       "      <td>NaN</td>\n",
       "      <td>NaN</td>\n",
       "      <td>NaN</td>\n",
       "      <td>semi_detached</td>\n",
       "      <td>...</td>\n",
       "      <td>NaN</td>\n",
       "      <td>NaN</td>\n",
       "      <td>NaN</td>\n",
       "      <td>NaN</td>\n",
       "      <td>276.0</td>\n",
       "      <td>NaN</td>\n",
       "      <td>NaN</td>\n",
       "      <td>NaN</td>\n",
       "      <td>NaN</td>\n",
       "      <td>plastic</td>\n",
       "    </tr>\n",
       "  </tbody>\n",
       "</table>\n",
       "<p>5 rows × 61 columns</p>\n",
       "</div>"
      ],
      "text/plain": [
       "      ad_id   access_types  area_from  area_to begin_date  build_year  \\\n",
       "0  48449224            NaN        NaN      NaN        NaN         NaN   \n",
       "1  48449226            NaN        NaN      NaN        NaN         NaN   \n",
       "2  48449228              0        NaN      NaN        NaN         NaN   \n",
       "3  48449230  hard_surfaced        NaN      NaN        NaN      2018.0   \n",
       "4  48449234  hard_surfaced        NaN      NaN        NaN      2018.0   \n",
       "\n",
       "   building_floors_num building_material building_ownership  building_type  \\\n",
       "0                  5.0             brick     full_ownership       tenement   \n",
       "1                  NaN               NaN                NaN            NaN   \n",
       "2                  NaN               NaN                NaN            NaN   \n",
       "3                  NaN               NaN                NaN  semi_detached   \n",
       "4                  NaN               NaN                NaN  semi_detached   \n",
       "\n",
       "      ...      security_types social_facilities state structure terrain_area  \\\n",
       "0     ...          entryphone               NaN   NaN       NaN          NaN   \n",
       "1     ...                 NaN               NaN   NaN       NaN          NaN   \n",
       "2     ...                   0               NaN   NaN       NaN        800.0   \n",
       "3     ...                 NaN               NaN   NaN       NaN        276.0   \n",
       "4     ...                 NaN               NaN   NaN       NaN        276.0   \n",
       "\n",
       "  type use_types vicinity_types  web windows_type  \n",
       "0  NaN       NaN            NaN  NaN      plastic  \n",
       "1  NaN       NaN            NaN  NaN          NaN  \n",
       "2  NaN       NaN              0  NaN          NaN  \n",
       "3  NaN       NaN            NaN  NaN      plastic  \n",
       "4  NaN       NaN            NaN  NaN      plastic  \n",
       "\n",
       "[5 rows x 61 columns]"
      ]
     },
     "execution_count": 11,
     "metadata": {},
     "output_type": "execute_result"
    }
   ],
   "source": [
    "features.head()"
   ]
  },
  {
   "cell_type": "code",
   "execution_count": 12,
   "metadata": {
    "collapsed": false
   },
   "outputs": [],
   "source": [
    "ads = ads.merge(features, how=\"left\", on=\"ad_id\")"
   ]
  },
  {
   "cell_type": "markdown",
   "metadata": {},
   "source": [
    "**Replies in 7 days**"
   ]
  },
  {
   "cell_type": "code",
   "execution_count": 13,
   "metadata": {
    "collapsed": false
   },
   "outputs": [],
   "source": [
    "answers = pd.read_csv('../data/Otodom/otodom_replies_Jun_Dec.csv', header=None)"
   ]
  },
  {
   "cell_type": "code",
   "execution_count": 14,
   "metadata": {
    "collapsed": false
   },
   "outputs": [],
   "source": [
    "answers.columns = ['ad_id', 'ad_created', 'reply_id', 'reply_parent_id', 'reply_sender_id', 'reply_posted_at']"
   ]
  },
  {
   "cell_type": "code",
   "execution_count": 15,
   "metadata": {
    "collapsed": false
   },
   "outputs": [
    {
     "data": {
      "text/html": [
       "<div>\n",
       "<table border=\"1\" class=\"dataframe\">\n",
       "  <thead>\n",
       "    <tr style=\"text-align: right;\">\n",
       "      <th></th>\n",
       "      <th>ad_id</th>\n",
       "      <th>ad_created</th>\n",
       "      <th>reply_id</th>\n",
       "      <th>reply_parent_id</th>\n",
       "      <th>reply_sender_id</th>\n",
       "      <th>reply_posted_at</th>\n",
       "    </tr>\n",
       "  </thead>\n",
       "  <tbody>\n",
       "    <tr>\n",
       "      <th>0</th>\n",
       "      <td>48449710</td>\n",
       "      <td>2017-06-01 01:27:06.000000</td>\n",
       "      <td>9325896</td>\n",
       "      <td>0</td>\n",
       "      <td>1549013</td>\n",
       "      <td>2017-06-01 06:19:29.000000</td>\n",
       "    </tr>\n",
       "    <tr>\n",
       "      <th>1</th>\n",
       "      <td>48450552</td>\n",
       "      <td>2017-06-01 01:57:46.000000</td>\n",
       "      <td>9328400</td>\n",
       "      <td>0</td>\n",
       "      <td>2076768</td>\n",
       "      <td>2017-06-01 10:54:23.000000</td>\n",
       "    </tr>\n",
       "    <tr>\n",
       "      <th>2</th>\n",
       "      <td>48452534</td>\n",
       "      <td>2017-06-01 09:45:55.000000</td>\n",
       "      <td>9331486</td>\n",
       "      <td>0</td>\n",
       "      <td>2460442</td>\n",
       "      <td>2017-06-01 14:19:53.000000</td>\n",
       "    </tr>\n",
       "    <tr>\n",
       "      <th>3</th>\n",
       "      <td>48458338</td>\n",
       "      <td>2017-06-01 15:35:23.000000</td>\n",
       "      <td>9332726</td>\n",
       "      <td>0</td>\n",
       "      <td>999969</td>\n",
       "      <td>2017-06-01 15:57:58.000000</td>\n",
       "    </tr>\n",
       "    <tr>\n",
       "      <th>4</th>\n",
       "      <td>48449242</td>\n",
       "      <td>2017-06-01 00:05:51.000000</td>\n",
       "      <td>9333770</td>\n",
       "      <td>0</td>\n",
       "      <td>2659524</td>\n",
       "      <td>2017-06-01 17:08:09.000000</td>\n",
       "    </tr>\n",
       "  </tbody>\n",
       "</table>\n",
       "</div>"
      ],
      "text/plain": [
       "      ad_id                  ad_created  reply_id  reply_parent_id  \\\n",
       "0  48449710  2017-06-01 01:27:06.000000   9325896                0   \n",
       "1  48450552  2017-06-01 01:57:46.000000   9328400                0   \n",
       "2  48452534  2017-06-01 09:45:55.000000   9331486                0   \n",
       "3  48458338  2017-06-01 15:35:23.000000   9332726                0   \n",
       "4  48449242  2017-06-01 00:05:51.000000   9333770                0   \n",
       "\n",
       "   reply_sender_id             reply_posted_at  \n",
       "0          1549013  2017-06-01 06:19:29.000000  \n",
       "1          2076768  2017-06-01 10:54:23.000000  \n",
       "2          2460442  2017-06-01 14:19:53.000000  \n",
       "3           999969  2017-06-01 15:57:58.000000  \n",
       "4          2659524  2017-06-01 17:08:09.000000  "
      ]
     },
     "execution_count": 15,
     "metadata": {},
     "output_type": "execute_result"
    }
   ],
   "source": [
    "answers.head()"
   ]
  },
  {
   "cell_type": "code",
   "execution_count": 16,
   "metadata": {
    "collapsed": false
   },
   "outputs": [
    {
     "data": {
      "text/plain": [
       "(1144050, 6)"
      ]
     },
     "execution_count": 16,
     "metadata": {},
     "output_type": "execute_result"
    }
   ],
   "source": [
    "answers.shape"
   ]
  },
  {
   "cell_type": "code",
   "execution_count": 17,
   "metadata": {
    "collapsed": true
   },
   "outputs": [],
   "source": [
    "answers['ad_created'] =  answers.apply(\n",
    "    lambda row: datetime.datetime.strptime(row['ad_created'], '%Y-%m-%d %H:%M:%S.%f').date()\n",
    "    if pd.notnull(row['ad_created']) else 'false', axis=1) "
   ]
  },
  {
   "cell_type": "code",
   "execution_count": 18,
   "metadata": {
    "collapsed": true
   },
   "outputs": [],
   "source": [
    "answers['replied_at_dt'] =  answers.apply(\n",
    "    lambda row: datetime.datetime.strptime(row['reply_posted_at'], '%Y-%m-%d %H:%M:%S.%f').date()\n",
    "    if pd.notnull(row['reply_posted_at']) else 'false', axis=1) "
   ]
  },
  {
   "cell_type": "code",
   "execution_count": 19,
   "metadata": {
    "collapsed": false
   },
   "outputs": [
    {
     "data": {
      "text/html": [
       "<div>\n",
       "<table border=\"1\" class=\"dataframe\">\n",
       "  <thead>\n",
       "    <tr style=\"text-align: right;\">\n",
       "      <th></th>\n",
       "      <th>ad_id</th>\n",
       "      <th>ad_created</th>\n",
       "      <th>reply_id</th>\n",
       "      <th>reply_parent_id</th>\n",
       "      <th>reply_sender_id</th>\n",
       "      <th>reply_posted_at</th>\n",
       "      <th>replied_at_dt</th>\n",
       "    </tr>\n",
       "  </thead>\n",
       "  <tbody>\n",
       "    <tr>\n",
       "      <th>0</th>\n",
       "      <td>48449710</td>\n",
       "      <td>2017-06-01</td>\n",
       "      <td>9325896</td>\n",
       "      <td>0</td>\n",
       "      <td>1549013</td>\n",
       "      <td>2017-06-01 06:19:29.000000</td>\n",
       "      <td>2017-06-01</td>\n",
       "    </tr>\n",
       "    <tr>\n",
       "      <th>1</th>\n",
       "      <td>48450552</td>\n",
       "      <td>2017-06-01</td>\n",
       "      <td>9328400</td>\n",
       "      <td>0</td>\n",
       "      <td>2076768</td>\n",
       "      <td>2017-06-01 10:54:23.000000</td>\n",
       "      <td>2017-06-01</td>\n",
       "    </tr>\n",
       "    <tr>\n",
       "      <th>2</th>\n",
       "      <td>48452534</td>\n",
       "      <td>2017-06-01</td>\n",
       "      <td>9331486</td>\n",
       "      <td>0</td>\n",
       "      <td>2460442</td>\n",
       "      <td>2017-06-01 14:19:53.000000</td>\n",
       "      <td>2017-06-01</td>\n",
       "    </tr>\n",
       "    <tr>\n",
       "      <th>3</th>\n",
       "      <td>48458338</td>\n",
       "      <td>2017-06-01</td>\n",
       "      <td>9332726</td>\n",
       "      <td>0</td>\n",
       "      <td>999969</td>\n",
       "      <td>2017-06-01 15:57:58.000000</td>\n",
       "      <td>2017-06-01</td>\n",
       "    </tr>\n",
       "    <tr>\n",
       "      <th>4</th>\n",
       "      <td>48449242</td>\n",
       "      <td>2017-06-01</td>\n",
       "      <td>9333770</td>\n",
       "      <td>0</td>\n",
       "      <td>2659524</td>\n",
       "      <td>2017-06-01 17:08:09.000000</td>\n",
       "      <td>2017-06-01</td>\n",
       "    </tr>\n",
       "  </tbody>\n",
       "</table>\n",
       "</div>"
      ],
      "text/plain": [
       "      ad_id  ad_created  reply_id  reply_parent_id  reply_sender_id  \\\n",
       "0  48449710  2017-06-01   9325896                0          1549013   \n",
       "1  48450552  2017-06-01   9328400                0          2076768   \n",
       "2  48452534  2017-06-01   9331486                0          2460442   \n",
       "3  48458338  2017-06-01   9332726                0           999969   \n",
       "4  48449242  2017-06-01   9333770                0          2659524   \n",
       "\n",
       "              reply_posted_at replied_at_dt  \n",
       "0  2017-06-01 06:19:29.000000    2017-06-01  \n",
       "1  2017-06-01 10:54:23.000000    2017-06-01  \n",
       "2  2017-06-01 14:19:53.000000    2017-06-01  \n",
       "3  2017-06-01 15:57:58.000000    2017-06-01  \n",
       "4  2017-06-01 17:08:09.000000    2017-06-01  "
      ]
     },
     "execution_count": 19,
     "metadata": {},
     "output_type": "execute_result"
    }
   ],
   "source": [
    "answers.head()"
   ]
  },
  {
   "cell_type": "markdown",
   "metadata": {},
   "source": [
    "**Count difference in days between creation date and reply date**"
   ]
  },
  {
   "cell_type": "code",
   "execution_count": 20,
   "metadata": {
    "collapsed": false
   },
   "outputs": [],
   "source": [
    "answers['replied_days_diff'] = answers.apply(lambda row: (row['replied_at_dt'] - row['ad_created']).days\n",
    "                     if pd.notnull(row['replied_at_dt']) else None, axis=1)"
   ]
  },
  {
   "cell_type": "markdown",
   "metadata": {
    "collapsed": false
   },
   "source": [
    "Answers can be in thread. The first message in the thread have reply_parent_id = 0. We intrested only in that type of replies."
   ]
  },
  {
   "cell_type": "code",
   "execution_count": 21,
   "metadata": {
    "collapsed": true
   },
   "outputs": [],
   "source": [
    "answers = answers[answers['reply_parent_id'] == 0]"
   ]
  },
  {
   "cell_type": "markdown",
   "metadata": {},
   "source": [
    "We interested in 7 days window:"
   ]
  },
  {
   "cell_type": "code",
   "execution_count": 22,
   "metadata": {
    "collapsed": true
   },
   "outputs": [],
   "source": [
    "answers = answers[(answers['replied_days_diff'] < 7) & (answers['replied_days_diff'] >= 0)]"
   ]
  },
  {
   "cell_type": "code",
   "execution_count": 23,
   "metadata": {
    "collapsed": false
   },
   "outputs": [
    {
     "data": {
      "text/plain": [
       "1    80089\n",
       "0    67978\n",
       "2    44851\n",
       "3    33590\n",
       "4    28024\n",
       "5    24424\n",
       "6    22201\n",
       "Name: replied_days_diff, dtype: int64"
      ]
     },
     "execution_count": 23,
     "metadata": {},
     "output_type": "execute_result"
    }
   ],
   "source": [
    "answers['replied_days_diff'].value_counts()"
   ]
  },
  {
   "cell_type": "code",
   "execution_count": 24,
   "metadata": {
    "collapsed": false
   },
   "outputs": [
    {
     "data": {
      "text/plain": [
       "(301157, 8)"
      ]
     },
     "execution_count": 24,
     "metadata": {},
     "output_type": "execute_result"
    }
   ],
   "source": [
    "answers.shape"
   ]
  },
  {
   "cell_type": "markdown",
   "metadata": {},
   "source": [
    "**Count senders/unique senders amount within 7 days **"
   ]
  },
  {
   "cell_type": "code",
   "execution_count": 25,
   "metadata": {
    "collapsed": true
   },
   "outputs": [],
   "source": [
    "liquidity_leads = answers.groupby('ad_id')['reply_sender_id'].nunique()\n",
    "all_leads = answers.groupby('ad_id')['reply_sender_id'].count()\n",
    "replies = pd.concat([liquidity_leads, all_leads], axis=1)"
   ]
  },
  {
   "cell_type": "code",
   "execution_count": 26,
   "metadata": {
    "collapsed": false
   },
   "outputs": [
    {
     "data": {
      "text/html": [
       "<div>\n",
       "<table border=\"1\" class=\"dataframe\">\n",
       "  <thead>\n",
       "    <tr style=\"text-align: right;\">\n",
       "      <th></th>\n",
       "      <th>reply_sender_id</th>\n",
       "      <th>reply_sender_id</th>\n",
       "    </tr>\n",
       "    <tr>\n",
       "      <th>ad_id</th>\n",
       "      <th></th>\n",
       "      <th></th>\n",
       "    </tr>\n",
       "  </thead>\n",
       "  <tbody>\n",
       "    <tr>\n",
       "      <th>48449224</th>\n",
       "      <td>1</td>\n",
       "      <td>1</td>\n",
       "    </tr>\n",
       "    <tr>\n",
       "      <th>48449242</th>\n",
       "      <td>1</td>\n",
       "      <td>2</td>\n",
       "    </tr>\n",
       "    <tr>\n",
       "      <th>48449276</th>\n",
       "      <td>2</td>\n",
       "      <td>4</td>\n",
       "    </tr>\n",
       "    <tr>\n",
       "      <th>48449298</th>\n",
       "      <td>1</td>\n",
       "      <td>2</td>\n",
       "    </tr>\n",
       "    <tr>\n",
       "      <th>48449348</th>\n",
       "      <td>1</td>\n",
       "      <td>2</td>\n",
       "    </tr>\n",
       "  </tbody>\n",
       "</table>\n",
       "</div>"
      ],
      "text/plain": [
       "          reply_sender_id  reply_sender_id\n",
       "ad_id                                     \n",
       "48449224                1                1\n",
       "48449242                1                2\n",
       "48449276                2                4\n",
       "48449298                1                2\n",
       "48449348                1                2"
      ]
     },
     "execution_count": 26,
     "metadata": {},
     "output_type": "execute_result"
    }
   ],
   "source": [
    "replies.head()"
   ]
  },
  {
   "cell_type": "code",
   "execution_count": 27,
   "metadata": {
    "collapsed": true
   },
   "outputs": [],
   "source": [
    "replies['ad_id'] = replies.index"
   ]
  },
  {
   "cell_type": "code",
   "execution_count": 28,
   "metadata": {
    "collapsed": false
   },
   "outputs": [
    {
     "data": {
      "text/html": [
       "<div>\n",
       "<table border=\"1\" class=\"dataframe\">\n",
       "  <thead>\n",
       "    <tr style=\"text-align: right;\">\n",
       "      <th></th>\n",
       "      <th>reply_sender_id</th>\n",
       "      <th>reply_sender_id</th>\n",
       "      <th>ad_id</th>\n",
       "    </tr>\n",
       "    <tr>\n",
       "      <th>ad_id</th>\n",
       "      <th></th>\n",
       "      <th></th>\n",
       "      <th></th>\n",
       "    </tr>\n",
       "  </thead>\n",
       "  <tbody>\n",
       "    <tr>\n",
       "      <th>49845708</th>\n",
       "      <td>2</td>\n",
       "      <td>4</td>\n",
       "      <td>49845708</td>\n",
       "    </tr>\n",
       "  </tbody>\n",
       "</table>\n",
       "</div>"
      ],
      "text/plain": [
       "          reply_sender_id  reply_sender_id     ad_id\n",
       "ad_id                                               \n",
       "49845708                2                4  49845708"
      ]
     },
     "execution_count": 28,
     "metadata": {},
     "output_type": "execute_result"
    }
   ],
   "source": [
    "replies[replies['ad_id'] == 49845708]"
   ]
  },
  {
   "cell_type": "code",
   "execution_count": 29,
   "metadata": {
    "collapsed": true
   },
   "outputs": [],
   "source": [
    "replies.columns = ['unique_replies', 'total_replies', 'ad_id']"
   ]
  },
  {
   "cell_type": "code",
   "execution_count": 30,
   "metadata": {
    "collapsed": false
   },
   "outputs": [
    {
     "data": {
      "text/html": [
       "<div>\n",
       "<table border=\"1\" class=\"dataframe\">\n",
       "  <thead>\n",
       "    <tr style=\"text-align: right;\">\n",
       "      <th></th>\n",
       "      <th>unique_replies</th>\n",
       "      <th>total_replies</th>\n",
       "      <th>ad_id</th>\n",
       "    </tr>\n",
       "    <tr>\n",
       "      <th>ad_id</th>\n",
       "      <th></th>\n",
       "      <th></th>\n",
       "      <th></th>\n",
       "    </tr>\n",
       "  </thead>\n",
       "  <tbody>\n",
       "    <tr>\n",
       "      <th>48449224</th>\n",
       "      <td>1</td>\n",
       "      <td>1</td>\n",
       "      <td>48449224</td>\n",
       "    </tr>\n",
       "    <tr>\n",
       "      <th>48449242</th>\n",
       "      <td>1</td>\n",
       "      <td>2</td>\n",
       "      <td>48449242</td>\n",
       "    </tr>\n",
       "    <tr>\n",
       "      <th>48449276</th>\n",
       "      <td>2</td>\n",
       "      <td>4</td>\n",
       "      <td>48449276</td>\n",
       "    </tr>\n",
       "    <tr>\n",
       "      <th>48449298</th>\n",
       "      <td>1</td>\n",
       "      <td>2</td>\n",
       "      <td>48449298</td>\n",
       "    </tr>\n",
       "    <tr>\n",
       "      <th>48449348</th>\n",
       "      <td>1</td>\n",
       "      <td>2</td>\n",
       "      <td>48449348</td>\n",
       "    </tr>\n",
       "  </tbody>\n",
       "</table>\n",
       "</div>"
      ],
      "text/plain": [
       "          unique_replies  total_replies     ad_id\n",
       "ad_id                                            \n",
       "48449224               1              1  48449224\n",
       "48449242               1              2  48449242\n",
       "48449276               2              4  48449276\n",
       "48449298               1              2  48449298\n",
       "48449348               1              2  48449348"
      ]
     },
     "execution_count": 30,
     "metadata": {},
     "output_type": "execute_result"
    }
   ],
   "source": [
    "replies.head()"
   ]
  },
  {
   "cell_type": "markdown",
   "metadata": {},
   "source": [
    "#### Prepare js events"
   ]
  },
  {
   "cell_type": "code",
   "execution_count": 31,
   "metadata": {
    "collapsed": false
   },
   "outputs": [],
   "source": [
    "js_events = pd.read_csv(\"../data/Otodom/otodom_events_Jun_Dec.csv\", header=None)"
   ]
  },
  {
   "cell_type": "code",
   "execution_count": 32,
   "metadata": {
    "collapsed": false
   },
   "outputs": [
    {
     "data": {
      "text/html": [
       "<div>\n",
       "<table border=\"1\" class=\"dataframe\">\n",
       "  <thead>\n",
       "    <tr style=\"text-align: right;\">\n",
       "      <th></th>\n",
       "      <th>0</th>\n",
       "      <th>1</th>\n",
       "      <th>2</th>\n",
       "    </tr>\n",
       "  </thead>\n",
       "  <tbody>\n",
       "    <tr>\n",
       "      <th>0</th>\n",
       "      <td>49434232</td>\n",
       "      <td>7</td>\n",
       "      <td>11</td>\n",
       "    </tr>\n",
       "    <tr>\n",
       "      <th>1</th>\n",
       "      <td>48514156</td>\n",
       "      <td>1</td>\n",
       "      <td>1</td>\n",
       "    </tr>\n",
       "    <tr>\n",
       "      <th>2</th>\n",
       "      <td>48537030</td>\n",
       "      <td>10</td>\n",
       "      <td>19</td>\n",
       "    </tr>\n",
       "    <tr>\n",
       "      <th>3</th>\n",
       "      <td>48530992</td>\n",
       "      <td>2</td>\n",
       "      <td>2</td>\n",
       "    </tr>\n",
       "    <tr>\n",
       "      <th>4</th>\n",
       "      <td>48565706</td>\n",
       "      <td>4</td>\n",
       "      <td>7</td>\n",
       "    </tr>\n",
       "  </tbody>\n",
       "</table>\n",
       "</div>"
      ],
      "text/plain": [
       "          0   1   2\n",
       "0  49434232   7  11\n",
       "1  48514156   1   1\n",
       "2  48537030  10  19\n",
       "3  48530992   2   2\n",
       "4  48565706   4   7"
      ]
     },
     "execution_count": 32,
     "metadata": {},
     "output_type": "execute_result"
    }
   ],
   "source": [
    "js_events.head()"
   ]
  },
  {
   "cell_type": "code",
   "execution_count": 33,
   "metadata": {
    "collapsed": true
   },
   "outputs": [],
   "source": [
    "js_events.columns = ['ad_id', 'unique_js_events', 'total_events']"
   ]
  },
  {
   "cell_type": "markdown",
   "metadata": {
    "collapsed": false
   },
   "source": [
    "**Combine together replies and js events**"
   ]
  },
  {
   "cell_type": "code",
   "execution_count": 34,
   "metadata": {
    "collapsed": true
   },
   "outputs": [],
   "source": [
    "ads = ads.merge(replies, how='left', on='ad_id')"
   ]
  },
  {
   "cell_type": "code",
   "execution_count": 35,
   "metadata": {
    "collapsed": true
   },
   "outputs": [],
   "source": [
    "ads = ads.merge(js_events, how='left', on='ad_id')"
   ]
  },
  {
   "cell_type": "code",
   "execution_count": 36,
   "metadata": {
    "collapsed": false
   },
   "outputs": [],
   "source": [
    "ads[['unique_replies', 'total_replies', 'unique_js_events', 'total_events']] = ads[['unique_replies', 'total_replies','unique_js_events', 'total_events']].fillna(0)\n"
   ]
  },
  {
   "cell_type": "code",
   "execution_count": 37,
   "metadata": {
    "collapsed": true
   },
   "outputs": [],
   "source": [
    "ads['unique_senders'] = ads['unique_replies'] + ads['unique_js_events']"
   ]
  },
  {
   "cell_type": "code",
   "execution_count": 38,
   "metadata": {
    "collapsed": true
   },
   "outputs": [],
   "source": [
    "ads['total_leads'] = ads['total_replies'] + ads['total_events']"
   ]
  },
  {
   "cell_type": "markdown",
   "metadata": {},
   "source": [
    "**Categories list**\n",
    "\n",
    "* 101 - apartments to buy\n",
    "* 102 - apartments for rent\n",
    "* 103 - apartments for vacations\n",
    "* 201 - houses to buy\n",
    "* 202 - houses for rent\n",
    "* 203 - houses for vacations\n",
    "* 302 - rooms for rent\n",
    "* 401 - land to buy\n",
    "* 402 - land for rent\n",
    "* 501 - stores to buy\n",
    "* 502 - stors for rent\n",
    "* 601 - warehouses to buy\n",
    "* 602 - warehosues for rent\n",
    "* 701 - garages to buy\n",
    "* 702 - garages for rent\n",
    "* 801 - offices to buy\n",
    "* 802 - offices for rent\n",
    "* 901 - buildings to buy\n",
    "* 902 - building for rent\n",
    "* 1101 - farms and estates to buy\n",
    "* 1102 - farms and estates for rent\n",
    "* 1201 - goodwill to buy\n",
    "\n",
    "**Category distribution**"
   ]
  },
  {
   "cell_type": "code",
   "execution_count": 39,
   "metadata": {
    "collapsed": false
   },
   "outputs": [
    {
     "data": {
      "text/plain": [
       "101    549234\n",
       "102    135932\n",
       "201    129599\n",
       "401    103807\n",
       "502     80916\n",
       "501     23440\n",
       "602     22135\n",
       "302     19462\n",
       "202     13517\n",
       "601      3396\n",
       "402      1574\n",
       "701       806\n",
       "702       578\n",
       "11        390\n",
       "Name: category_id, dtype: int64"
      ]
     },
     "execution_count": 39,
     "metadata": {},
     "output_type": "execute_result"
    }
   ],
   "source": [
    "ads['category_id'].value_counts()"
   ]
  },
  {
   "cell_type": "markdown",
   "metadata": {},
   "source": [
    "#### Liquidity definition ####\n",
    "\n",
    "**Liquidity** - binary metric. Equal to 1 if listings obtained 3 or more contacts from unique persons within 7 days after creation. Let's calculate liquidity for Otodom:"
   ]
  },
  {
   "cell_type": "code",
   "execution_count": 40,
   "metadata": {
    "collapsed": false
   },
   "outputs": [
    {
     "data": {
      "text/plain": [
       "0.1429636813159462"
      ]
     },
     "execution_count": 40,
     "metadata": {},
     "output_type": "execute_result"
    }
   ],
   "source": [
    "sum(ads['unique_senders']  >= 3)/len(ads)"
   ]
  },
  {
   "cell_type": "markdown",
   "metadata": {},
   "source": [
    "**Transform image number to integer**"
   ]
  },
  {
   "cell_type": "code",
   "execution_count": 41,
   "metadata": {
    "collapsed": false
   },
   "outputs": [
    {
     "name": "stdout",
     "output_type": "stream",
     "text": [
      "11111111111111\n",
      "14\n"
     ]
    }
   ],
   "source": [
    "np.binary_repr(int(1.638300e+04))\n",
    "print(np.binary_repr(int(1.638300e+04)))\n",
    "print(len(np.binary_repr(int(1.638300e+04))))"
   ]
  },
  {
   "cell_type": "code",
   "execution_count": 42,
   "metadata": {
    "collapsed": true
   },
   "outputs": [],
   "source": [
    "def get_number_of_images(coded_number):\n",
    "    if pd.isnull(coded_number):\n",
    "        return 0\n",
    "    binary_repr = np.binary_repr(int(coded_number))\n",
    "    binary_repr  = binary_repr.replace('0', '')\n",
    "    return len(binary_repr)\n"
   ]
  },
  {
   "cell_type": "code",
   "execution_count": 43,
   "metadata": {
    "collapsed": false
   },
   "outputs": [
    {
     "data": {
      "text/plain": [
       "2"
      ]
     },
     "execution_count": 43,
     "metadata": {},
     "output_type": "execute_result"
    }
   ],
   "source": [
    "get_number_of_images(12)"
   ]
  },
  {
   "cell_type": "code",
   "execution_count": 44,
   "metadata": {
    "collapsed": false
   },
   "outputs": [
    {
     "data": {
      "text/plain": [
       "14"
      ]
     },
     "execution_count": 44,
     "metadata": {},
     "output_type": "execute_result"
    }
   ],
   "source": [
    "test = get_number_of_images(1.638300e+04)\n",
    "test"
   ]
  },
  {
   "cell_type": "code",
   "execution_count": 45,
   "metadata": {
    "collapsed": true
   },
   "outputs": [],
   "source": [
    "ads['n_images'] = ads['images_counter'].apply(lambda x: get_number_of_images(x))"
   ]
  },
  {
   "cell_type": "code",
   "execution_count": 46,
   "metadata": {
    "collapsed": false
   },
   "outputs": [
    {
     "data": {
      "text/plain": [
       "5     0.080760\n",
       "4     0.080664\n",
       "8     0.080546\n",
       "6     0.078863\n",
       "7     0.074134\n",
       "3     0.067667\n",
       "10    0.064694\n",
       "9     0.062364\n",
       "1     0.056607\n",
       "2     0.052185\n",
       "Name: n_images, dtype: float64"
      ]
     },
     "execution_count": 46,
     "metadata": {},
     "output_type": "execute_result"
    }
   ],
   "source": [
    "ads['n_images'].value_counts(normalize=True).head(10)"
   ]
  },
  {
   "cell_type": "code",
   "execution_count": 47,
   "metadata": {
    "collapsed": true
   },
   "outputs": [],
   "source": [
    "ads.to_csv(\"ml_dataset_otodompl.tsv\", sep=\"\\t\")"
   ]
  },
  {
   "cell_type": "markdown",
   "metadata": {},
   "source": [
    "**[Optional] Add views**.\n",
    "\n",
    "We expereminted with contacts per views metric (which is defined as number of unique contacts within days divided by unique views amount during that period). In our models we don't use this attributes."
   ]
  },
  {
   "cell_type": "code",
   "execution_count": 48,
   "metadata": {
    "collapsed": true
   },
   "outputs": [],
   "source": [
    "views = pd.read_csv(\"../data/Otodom/otodom_views_Jun_Dec.csv\", header=None)"
   ]
  },
  {
   "cell_type": "code",
   "execution_count": 49,
   "metadata": {
    "collapsed": false
   },
   "outputs": [
    {
     "data": {
      "text/html": [
       "<div>\n",
       "<table border=\"1\" class=\"dataframe\">\n",
       "  <thead>\n",
       "    <tr style=\"text-align: right;\">\n",
       "      <th></th>\n",
       "      <th>0</th>\n",
       "      <th>1</th>\n",
       "      <th>2</th>\n",
       "    </tr>\n",
       "  </thead>\n",
       "  <tbody>\n",
       "    <tr>\n",
       "      <th>0</th>\n",
       "      <td>49209054</td>\n",
       "      <td>46</td>\n",
       "      <td>46</td>\n",
       "    </tr>\n",
       "    <tr>\n",
       "      <th>1</th>\n",
       "      <td>48683106</td>\n",
       "      <td>2</td>\n",
       "      <td>2</td>\n",
       "    </tr>\n",
       "    <tr>\n",
       "      <th>2</th>\n",
       "      <td>51159400</td>\n",
       "      <td>179</td>\n",
       "      <td>419</td>\n",
       "    </tr>\n",
       "    <tr>\n",
       "      <th>3</th>\n",
       "      <td>48671746</td>\n",
       "      <td>16</td>\n",
       "      <td>18</td>\n",
       "    </tr>\n",
       "    <tr>\n",
       "      <th>4</th>\n",
       "      <td>49668171</td>\n",
       "      <td>457</td>\n",
       "      <td>580</td>\n",
       "    </tr>\n",
       "  </tbody>\n",
       "</table>\n",
       "</div>"
      ],
      "text/plain": [
       "          0    1    2\n",
       "0  49209054   46   46\n",
       "1  48683106    2    2\n",
       "2  51159400  179  419\n",
       "3  48671746   16   18\n",
       "4  49668171  457  580"
      ]
     },
     "execution_count": 49,
     "metadata": {},
     "output_type": "execute_result"
    }
   ],
   "source": [
    "views.head()"
   ]
  },
  {
   "cell_type": "code",
   "execution_count": 50,
   "metadata": {
    "collapsed": true
   },
   "outputs": [],
   "source": [
    "views.columns = ['ad_id', 'unique_week_views', 'week_views']"
   ]
  },
  {
   "cell_type": "code",
   "execution_count": 51,
   "metadata": {
    "collapsed": true
   },
   "outputs": [],
   "source": [
    "ads = ads.merge(views, how='left', on='ad_id')"
   ]
  },
  {
   "cell_type": "code",
   "execution_count": 52,
   "metadata": {
    "collapsed": false
   },
   "outputs": [
    {
     "data": {
      "text/html": [
       "<div>\n",
       "<table border=\"1\" class=\"dataframe\">\n",
       "  <thead>\n",
       "    <tr style=\"text-align: right;\">\n",
       "      <th></th>\n",
       "      <th>ad_id</th>\n",
       "      <th>region_id</th>\n",
       "      <th>category_id</th>\n",
       "      <th>subregion_id</th>\n",
       "      <th>district_id</th>\n",
       "      <th>city_id</th>\n",
       "      <th>user_id</th>\n",
       "      <th>last_update_date</th>\n",
       "      <th>created_at_first</th>\n",
       "      <th>valid_to</th>\n",
       "      <th>...</th>\n",
       "      <th>windows_type</th>\n",
       "      <th>unique_replies</th>\n",
       "      <th>total_replies</th>\n",
       "      <th>unique_js_events</th>\n",
       "      <th>total_events</th>\n",
       "      <th>unique_senders</th>\n",
       "      <th>total_leads</th>\n",
       "      <th>n_images</th>\n",
       "      <th>unique_week_views</th>\n",
       "      <th>week_views</th>\n",
       "    </tr>\n",
       "  </thead>\n",
       "  <tbody>\n",
       "    <tr>\n",
       "      <th>0</th>\n",
       "      <td>48451134</td>\n",
       "      <td>16</td>\n",
       "      <td>302</td>\n",
       "      <td>371</td>\n",
       "      <td>159.0</td>\n",
       "      <td>213</td>\n",
       "      <td>1071655</td>\n",
       "      <td>NaN</td>\n",
       "      <td>2017-06-01 07:37:26.000000</td>\n",
       "      <td>2017-07-01 07:37:26.000000</td>\n",
       "      <td>...</td>\n",
       "      <td>NaN</td>\n",
       "      <td>0.0</td>\n",
       "      <td>0.0</td>\n",
       "      <td>2.0</td>\n",
       "      <td>2.0</td>\n",
       "      <td>2.0</td>\n",
       "      <td>2.0</td>\n",
       "      <td>2</td>\n",
       "      <td>19.0</td>\n",
       "      <td>20.0</td>\n",
       "    </tr>\n",
       "    <tr>\n",
       "      <th>1</th>\n",
       "      <td>48452110</td>\n",
       "      <td>7</td>\n",
       "      <td>102</td>\n",
       "      <td>197</td>\n",
       "      <td>117.0</td>\n",
       "      <td>26</td>\n",
       "      <td>232572</td>\n",
       "      <td>NaN</td>\n",
       "      <td>2017-06-01 09:21:45.000000</td>\n",
       "      <td>2017-06-08 09:40:50.000000</td>\n",
       "      <td>...</td>\n",
       "      <td>NaN</td>\n",
       "      <td>0.0</td>\n",
       "      <td>0.0</td>\n",
       "      <td>1.0</td>\n",
       "      <td>1.0</td>\n",
       "      <td>1.0</td>\n",
       "      <td>1.0</td>\n",
       "      <td>6</td>\n",
       "      <td>64.0</td>\n",
       "      <td>70.0</td>\n",
       "    </tr>\n",
       "    <tr>\n",
       "      <th>2</th>\n",
       "      <td>48452396</td>\n",
       "      <td>16</td>\n",
       "      <td>201</td>\n",
       "      <td>364</td>\n",
       "      <td>NaN</td>\n",
       "      <td>2123</td>\n",
       "      <td>231932</td>\n",
       "      <td>NaN</td>\n",
       "      <td>2017-06-01 09:40:50.000000</td>\n",
       "      <td>2017-06-19 14:21:15.000000</td>\n",
       "      <td>...</td>\n",
       "      <td>NaN</td>\n",
       "      <td>0.0</td>\n",
       "      <td>0.0</td>\n",
       "      <td>0.0</td>\n",
       "      <td>0.0</td>\n",
       "      <td>0.0</td>\n",
       "      <td>0.0</td>\n",
       "      <td>2</td>\n",
       "      <td>53.0</td>\n",
       "      <td>54.0</td>\n",
       "    </tr>\n",
       "    <tr>\n",
       "      <th>3</th>\n",
       "      <td>48452430</td>\n",
       "      <td>7</td>\n",
       "      <td>102</td>\n",
       "      <td>197</td>\n",
       "      <td>39.0</td>\n",
       "      <td>26</td>\n",
       "      <td>757739</td>\n",
       "      <td>NaN</td>\n",
       "      <td>2017-06-01 09:42:34.000000</td>\n",
       "      <td>2017-06-14 23:13:04.000000</td>\n",
       "      <td>...</td>\n",
       "      <td>NaN</td>\n",
       "      <td>0.0</td>\n",
       "      <td>0.0</td>\n",
       "      <td>0.0</td>\n",
       "      <td>0.0</td>\n",
       "      <td>0.0</td>\n",
       "      <td>0.0</td>\n",
       "      <td>7</td>\n",
       "      <td>2.0</td>\n",
       "      <td>2.0</td>\n",
       "    </tr>\n",
       "    <tr>\n",
       "      <th>4</th>\n",
       "      <td>48452522</td>\n",
       "      <td>7</td>\n",
       "      <td>102</td>\n",
       "      <td>197</td>\n",
       "      <td>41.0</td>\n",
       "      <td>26</td>\n",
       "      <td>757739</td>\n",
       "      <td>NaN</td>\n",
       "      <td>2017-06-01 09:45:47.000000</td>\n",
       "      <td>2017-06-14 23:13:20.000000</td>\n",
       "      <td>...</td>\n",
       "      <td>NaN</td>\n",
       "      <td>0.0</td>\n",
       "      <td>0.0</td>\n",
       "      <td>0.0</td>\n",
       "      <td>0.0</td>\n",
       "      <td>0.0</td>\n",
       "      <td>0.0</td>\n",
       "      <td>10</td>\n",
       "      <td>1.0</td>\n",
       "      <td>1.0</td>\n",
       "    </tr>\n",
       "  </tbody>\n",
       "</table>\n",
       "<p>5 rows × 110 columns</p>\n",
       "</div>"
      ],
      "text/plain": [
       "      ad_id  region_id  category_id  subregion_id  district_id  city_id  \\\n",
       "0  48451134         16          302           371        159.0      213   \n",
       "1  48452110          7          102           197        117.0       26   \n",
       "2  48452396         16          201           364          NaN     2123   \n",
       "3  48452430          7          102           197         39.0       26   \n",
       "4  48452522          7          102           197         41.0       26   \n",
       "\n",
       "   user_id  last_update_date            created_at_first  \\\n",
       "0  1071655               NaN  2017-06-01 07:37:26.000000   \n",
       "1   232572               NaN  2017-06-01 09:21:45.000000   \n",
       "2   231932               NaN  2017-06-01 09:40:50.000000   \n",
       "3   757739               NaN  2017-06-01 09:42:34.000000   \n",
       "4   757739               NaN  2017-06-01 09:45:47.000000   \n",
       "\n",
       "                     valid_to    ...     windows_type  unique_replies  \\\n",
       "0  2017-07-01 07:37:26.000000    ...              NaN             0.0   \n",
       "1  2017-06-08 09:40:50.000000    ...              NaN             0.0   \n",
       "2  2017-06-19 14:21:15.000000    ...              NaN             0.0   \n",
       "3  2017-06-14 23:13:04.000000    ...              NaN             0.0   \n",
       "4  2017-06-14 23:13:20.000000    ...              NaN             0.0   \n",
       "\n",
       "   total_replies unique_js_events  total_events unique_senders  total_leads  \\\n",
       "0            0.0              2.0           2.0            2.0          2.0   \n",
       "1            0.0              1.0           1.0            1.0          1.0   \n",
       "2            0.0              0.0           0.0            0.0          0.0   \n",
       "3            0.0              0.0           0.0            0.0          0.0   \n",
       "4            0.0              0.0           0.0            0.0          0.0   \n",
       "\n",
       "   n_images  unique_week_views week_views  \n",
       "0         2               19.0       20.0  \n",
       "1         6               64.0       70.0  \n",
       "2         2               53.0       54.0  \n",
       "3         7                2.0        2.0  \n",
       "4        10                1.0        1.0  \n",
       "\n",
       "[5 rows x 110 columns]"
      ]
     },
     "execution_count": 52,
     "metadata": {},
     "output_type": "execute_result"
    }
   ],
   "source": [
    "ads.head()"
   ]
  },
  {
   "cell_type": "code",
   "execution_count": 53,
   "metadata": {
    "collapsed": true
   },
   "outputs": [],
   "source": [
    "ads.to_csv(\"ml_dataset_otodompl.tsv\", sep=\"\\t\")"
   ]
  },
  {
   "cell_type": "code",
   "execution_count": null,
   "metadata": {
    "collapsed": true
   },
   "outputs": [],
   "source": []
  }
 ],
 "metadata": {
  "kernelspec": {
   "display_name": "Python 3",
   "language": "python",
   "name": "python3"
  },
  "language_info": {
   "codemirror_mode": {
    "name": "ipython",
    "version": 3
   },
   "file_extension": ".py",
   "mimetype": "text/x-python",
   "name": "python",
   "nbconvert_exporter": "python",
   "pygments_lexer": "ipython3",
   "version": "3.6.0"
  }
 },
 "nbformat": 4,
 "nbformat_minor": 2
}
