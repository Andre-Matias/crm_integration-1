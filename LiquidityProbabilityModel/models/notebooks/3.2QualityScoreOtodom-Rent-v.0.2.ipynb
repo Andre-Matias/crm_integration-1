{
 "cells": [
  {
   "cell_type": "markdown",
   "metadata": {},
   "source": [
    "### What is this notebook for? ###\n",
    "\n",
    "The main purpose of this notebook is buiding Liquidity's probability model for the Otodom.pl, category \"apartments for rent\".\n",
    "\n",
    "**Prerequisities:** \"ml_dataset_otodompl.tsv\". Can be obtained with `2.QualityDriversDataPrep-Otodom.ipynb`\n",
    "\n",
    "**Output:**\n",
    "\n",
    "* Stored model: `xgb_otodom_rent_02.pkl`\n",
    "* Average price for city/rooms_num: `avg_city_price_otodom_rent_02.csv`\n",
    "* Model columns name: `model_columns_xgb_otodom_rent_02.pkl`"
   ]
  },
  {
   "cell_type": "code",
   "execution_count": 1,
   "metadata": {
    "collapsed": false
   },
   "outputs": [
    {
     "name": "stderr",
     "output_type": "stream",
     "text": [
      "/anaconda/lib/python3.6/site-packages/sklearn/cross_validation.py:44: DeprecationWarning: This module was deprecated in version 0.18 in favor of the model_selection module into which all the refactored classes and functions are moved. Also note that the interface of the new CV iterators are different from that of this module. This module will be removed in 0.20.\n",
      "  \"This module will be removed in 0.20.\", DeprecationWarning)\n"
     ]
    }
   ],
   "source": [
    "import pandas as pd\n",
    "import numpy as np\n",
    "\n",
    "from sklearn.externals import joblib\n",
    "from xgboost.sklearn import XGBClassifier\n",
    "from sklearn.model_selection import train_test_split\n",
    "from sklearn.metrics import precision_score, recall_score, f1_score, accuracy_score, roc_auc_score, classification_report\n",
    "\n",
    "import matplotlib.pyplot as plt\n",
    "%matplotlib inline"
   ]
  },
  {
   "cell_type": "code",
   "execution_count": 2,
   "metadata": {
    "collapsed": true
   },
   "outputs": [],
   "source": [
    "import warnings\n",
    "warnings.filterwarnings('ignore')"
   ]
  },
  {
   "cell_type": "code",
   "execution_count": 3,
   "metadata": {
    "collapsed": false
   },
   "outputs": [],
   "source": [
    "otodom_full = pd.read_csv(\"ml_dataset_otodompl.tsv\", sep =\"\\t\")"
   ]
  },
  {
   "cell_type": "markdown",
   "metadata": {},
   "source": [
    "Select only listings in category 102, apartments for rent."
   ]
  },
  {
   "cell_type": "code",
   "execution_count": 4,
   "metadata": {
    "collapsed": false
   },
   "outputs": [],
   "source": [
    "otodom_full = otodom_full[otodom_full['category_id'] == 102]"
   ]
  },
  {
   "cell_type": "markdown",
   "metadata": {},
   "source": [
    "We will train our model on Jun-Nov data:"
   ]
  },
  {
   "cell_type": "code",
   "execution_count": 5,
   "metadata": {
    "collapsed": true
   },
   "outputs": [],
   "source": [
    "otodom_train_full = otodom_full[otodom_full['month'] !=12]"
   ]
  },
  {
   "cell_type": "markdown",
   "metadata": {},
   "source": [
    "Data validation on December data:"
   ]
  },
  {
   "cell_type": "code",
   "execution_count": 6,
   "metadata": {
    "collapsed": true
   },
   "outputs": [],
   "source": [
    "otodom_test_full = otodom_full[otodom_full['month'] ==12]"
   ]
  },
  {
   "cell_type": "code",
   "execution_count": 7,
   "metadata": {
    "collapsed": true
   },
   "outputs": [],
   "source": [
    "def create_liquid_field(dataframe):\n",
    "    dataframe['unique_senders'] = dataframe['unique_senders'].fillna(0).astype('int')\n",
    "    dataframe['liquid'] = (dataframe['unique_senders'] >= 3).astype('int')\n",
    "    return dataframe"
   ]
  },
  {
   "cell_type": "code",
   "execution_count": 8,
   "metadata": {
    "collapsed": true
   },
   "outputs": [],
   "source": [
    "def select_category(dataframe, category_id):\n",
    "    dataframe = dataframe[dataframe['category_id'] == category_id]\n",
    "    return dataframe"
   ]
  },
  {
   "cell_type": "code",
   "execution_count": 9,
   "metadata": {
    "collapsed": true
   },
   "outputs": [],
   "source": [
    "def filter_currency(dataframe, currency):\n",
    "    dataframe = dataframe[dataframe['price[currency]'] == currency]\n",
    "    return dataframe"
   ]
  },
  {
   "cell_type": "code",
   "execution_count": 10,
   "metadata": {
    "collapsed": true
   },
   "outputs": [],
   "source": [
    "def select_columns(dataframe, columns):\n",
    "    dataframe = dataframe[columns]\n",
    "    return dataframe"
   ]
  },
  {
   "cell_type": "code",
   "execution_count": 11,
   "metadata": {
    "collapsed": true
   },
   "outputs": [],
   "source": [
    "columns = ['ad_id', \n",
    "           'city_id', \n",
    "           'street_name', \n",
    "           'title', \n",
    "           'is_paid_for_post',\n",
    "           'was_paid_for_post',\n",
    "           'description', \n",
    "           'mysql_search_rooms_num', \n",
    "           'mysql_search_m', \n",
    "           'mysql_search_price', \n",
    "           'build_year', \n",
    "           'building_floors_num',  \n",
    "           'building_material', \n",
    "           'building_type',\n",
    "           'construction_status', \n",
    "           'equipment_types', \n",
    "           'extras_types', \n",
    "           'floor_no',\n",
    "           'rent_to_students',\n",
    "           'heating', \n",
    "           'private_business', \n",
    "           'media_types',  \n",
    "           'security_types', \n",
    "           'windows_type',\n",
    "           'unique_senders',\n",
    "           'n_images']"
   ]
  },
  {
   "cell_type": "code",
   "execution_count": 12,
   "metadata": {
    "collapsed": true
   },
   "outputs": [],
   "source": [
    "def filter_values(dataframe, col, values_list):\n",
    "    dataframe = dataframe[dataframe[col].isin(values_list)]\n",
    "    return dataframe"
   ]
  },
  {
   "cell_type": "code",
   "execution_count": 13,
   "metadata": {
    "collapsed": true
   },
   "outputs": [],
   "source": [
    "def remove_outliers(dataframe, col, lower_bound, upper_bound):\n",
    "    dataframe = dataframe[(dataframe[col] >= lower_bound) & (dataframe[col] <= upper_bound)]\n",
    "    return dataframe"
   ]
  },
  {
   "cell_type": "code",
   "execution_count": 14,
   "metadata": {
    "collapsed": true
   },
   "outputs": [],
   "source": [
    "def add_avg_price_city_ap_type(dataframe):\n",
    "    city_n = pd.DataFrame({'city_n': dataframe.groupby(['city_id'])['ad_id'].nunique()}).reset_index()\n",
    "    city_room_avg_price = pd.DataFrame({'avg_price': dataframe.groupby(['city_id', 'mysql_search_rooms_num'])['mysql_search_price'].mean()}).reset_index()\n",
    "    dataframe = dataframe.merge(city_n, on='city_id', how='left')\n",
    "    dataframe = dataframe.merge(city_room_avg_price, on = ['city_id', 'mysql_search_rooms_num'], how='left')\n",
    "    #dataframe = dataframe[dataframe[\"city_n\"] >= 30]\n",
    "    dataframe = dataframe.drop('ad_id', axis=1)\n",
    "    return dataframe\n"
   ]
  },
  {
   "cell_type": "code",
   "execution_count": 15,
   "metadata": {
    "collapsed": true
   },
   "outputs": [],
   "source": [
    "def count_avg_price_city_ap_type(dataframe):\n",
    "    city_n = pd.DataFrame({'city_n': dataframe.groupby(['city_id'])['ad_id'].nunique()}).reset_index()\n",
    "    city_room_avg_price = pd.DataFrame({'avg_price': dataframe.groupby(['city_id', 'mysql_search_rooms_num'])['mysql_search_price'].mean()}).reset_index()\n",
    "    return city_room_avg_price"
   ]
  },
  {
   "cell_type": "code",
   "execution_count": 16,
   "metadata": {
    "collapsed": true
   },
   "outputs": [],
   "source": [
    "def add_higher_city_room_avg(dataframe):\n",
    "    dataframe['higher_city_room_mean'] = (dataframe['mysql_search_price'] > dataframe['avg_price']).astype('int')\n",
    "    return dataframe"
   ]
  },
  {
   "cell_type": "code",
   "execution_count": 17,
   "metadata": {
    "collapsed": true
   },
   "outputs": [],
   "source": [
    "def private_business_binarization(dataframe):\n",
    "    dataframe.private_business = dataframe.private_business.replace({'private': 1, 'business':0})\n",
    "    dataframe.private_business = dataframe.private_business.fillna('no_info')\n",
    "    return dataframe"
   ]
  },
  {
   "cell_type": "code",
   "execution_count": 18,
   "metadata": {
    "collapsed": true
   },
   "outputs": [],
   "source": [
    "def column_info(dataframe, col, new_column_name, drop=False):\n",
    "    dataframe[new_column_name] = pd.notnull(dataframe[col]).astype('int')\n",
    "    if drop:\n",
    "        dataframe = dataframe.drop(col, axis=1)\n",
    "    return dataframe"
   ]
  },
  {
   "cell_type": "code",
   "execution_count": 19,
   "metadata": {
    "collapsed": true
   },
   "outputs": [],
   "source": [
    "def media_types_processing(dataframe):\n",
    "    mt_test = dataframe.media_types.fillna(\"no_media\")\n",
    "    all_categories = []\n",
    "    \n",
    "    vals = mt_test.value_counts().index.tolist()\n",
    "    \n",
    "    \n",
    "    for v in vals:\n",
    "        possible_values = v.split(\"<->\")\n",
    "        for x in possible_values:\n",
    "            if x not in all_categories:\n",
    "                all_categories.append(x)\n",
    "            \n",
    "    categories = mt_test.apply(lambda x: x.split(\"<->\"))\n",
    "    \n",
    "    for x in all_categories:\n",
    "        print(x)\n",
    "        dataframe[x] = categories.map(lambda current: x in current).astype('int')\n",
    "    return dataframe\n",
    "    "
   ]
  },
  {
   "cell_type": "code",
   "execution_count": 20,
   "metadata": {
    "collapsed": true
   },
   "outputs": [],
   "source": [
    "def equipment_types_processing(dataframe):\n",
    "    mt_test = dataframe.equipment_types.fillna(\"no_equipment\")\n",
    "    all_categories = []\n",
    "    \n",
    "    vals = mt_test.value_counts().index.tolist()\n",
    "    \n",
    "    \n",
    "    for v in vals:\n",
    "        possible_values = v.split(\"<->\")\n",
    "        for x in possible_values:\n",
    "            if x not in all_categories:\n",
    "                all_categories.append(x)\n",
    "            \n",
    "    categories = mt_test.apply(lambda x: x.split(\"<->\"))\n",
    "    \n",
    "    for x in all_categories:\n",
    "        print(x)\n",
    "        dataframe[x] = categories.map(lambda current: x in current).astype('int')\n",
    "    return dataframe"
   ]
  },
  {
   "cell_type": "code",
   "execution_count": 21,
   "metadata": {
    "collapsed": true
   },
   "outputs": [],
   "source": [
    "def security_types_processing(dataframe):\n",
    "    mt_test = dataframe.security_types.fillna(\"no_security\")\n",
    "    all_categories = []\n",
    "    \n",
    "    vals = mt_test.value_counts().index.tolist()\n",
    "    \n",
    "    \n",
    "    for v in vals:\n",
    "        possible_values = v.split(\"<->\")\n",
    "        for x in possible_values:\n",
    "            if x not in all_categories:\n",
    "                all_categories.append(x)\n",
    "            \n",
    "    categories = mt_test.apply(lambda x: x.split(\"<->\"))\n",
    "    \n",
    "    for x in all_categories:\n",
    "        print(x)\n",
    "        dataframe[x] = categories.map(lambda current: x in current).astype('int')\n",
    "    return dataframe\n",
    "    "
   ]
  },
  {
   "cell_type": "code",
   "execution_count": 22,
   "metadata": {
    "collapsed": true
   },
   "outputs": [],
   "source": [
    "def extras_types_processing(dataframe):\n",
    "    mt_test = dataframe.extras_types.fillna(\"no_extras\")\n",
    "    all_categories = []\n",
    "    \n",
    "    vals = mt_test.value_counts().index.tolist()\n",
    "    \n",
    "    \n",
    "    for v in vals:\n",
    "        possible_values = v.split(\"<->\")\n",
    "        for x in possible_values:\n",
    "            if x not in all_categories:\n",
    "                all_categories.append(x)\n",
    "            \n",
    "    categories = mt_test.apply(lambda x: x.split(\"<->\"))\n",
    "    \n",
    "    for x in all_categories:\n",
    "        print(x)\n",
    "        dataframe[x] = categories.map(lambda current: x in current).astype('int')\n",
    "    return dataframe"
   ]
  },
  {
   "cell_type": "code",
   "execution_count": 23,
   "metadata": {
    "collapsed": true
   },
   "outputs": [],
   "source": [
    "def create_construction_decade(dataframe):\n",
    "    dataframe['construction_year_decade'] = dataframe['build_year'].fillna(0)\\\n",
    "    .apply(lambda year: year if (year > 1000 and year < 2030) else 0)\\\n",
    "    .apply(lambda year: year // 10)\n",
    "    dataframe = dataframe.drop('build_year', axis=1)\n",
    "    return dataframe"
   ]
  },
  {
   "cell_type": "code",
   "execution_count": 24,
   "metadata": {
    "collapsed": true
   },
   "outputs": [],
   "source": [
    "def market_primary_binarization(dataframe):\n",
    "    dataframe['market_primary'] = dataframe['market'].replace({'primary': 1, 'secondary':0})\n",
    "    dataframe['market_primary'] = dataframe.market_primary.fillna('no_info')\n",
    "    dataframe = dataframe.drop('market', axis=1)\n",
    "    return dataframe"
   ]
  },
  {
   "cell_type": "code",
   "execution_count": 25,
   "metadata": {
    "collapsed": true
   },
   "outputs": [],
   "source": [
    "def create_avg_price_diff(dataframe, avg_price_col, price_col, new_column_name):\n",
    "    dataframe[new_column_name] = (dataframe[price_col] - dataframe[avg_price_col])/dataframe[avg_price_col]\n",
    "    return dataframe"
   ]
  },
  {
   "cell_type": "code",
   "execution_count": 26,
   "metadata": {
    "collapsed": false
   },
   "outputs": [
    {
     "name": "stdout",
     "output_type": "stream",
     "text": [
      "no_media\n",
      "cable-television\n",
      "internet\n",
      "phone\n",
      "0\n",
      "no_equipment\n",
      "furniture\n",
      "dishwasher\n",
      "fridge\n",
      "oven\n",
      "stove\n",
      "tv\n",
      "washing_machine\n",
      "0\n",
      "no_security\n",
      "entryphone\n",
      "monitoring\n",
      "anti_burglary_door\n",
      "0\n",
      "closed_area\n",
      "alarm\n",
      "roller_shutters\n",
      "no_extras\n",
      "balcony\n",
      "lift\n",
      "garage\n",
      "basement\n",
      "0\n",
      "separate_kitchen\n",
      "usable_room\n",
      "terrace\n",
      "air_conditioning\n",
      "non_smokers_only\n",
      "garden\n",
      "two_storey\n"
     ]
    }
   ],
   "source": [
    "otodom_train_rent = otodom_train_full.pipe(filter_currency, currency = 'PLN')\\\n",
    ".pipe(select_columns, columns=columns)\\\n",
    ".pipe(create_liquid_field)\\\n",
    ".pipe(remove_outliers, col='mysql_search_m', lower_bound=20, upper_bound=200)\\\n",
    ".pipe(filter_values, col='mysql_search_rooms_num', values_list=['0', '1', '2', '3', '4', '5', '6'])\\\n",
    ".pipe(remove_outliers, col='mysql_search_price', lower_bound=900, upper_bound=6500)\\\n",
    ".pipe(add_avg_price_city_ap_type)\\\n",
    ".pipe(add_higher_city_room_avg)\\\n",
    ".pipe(private_business_binarization)\\\n",
    ".pipe(column_info, col='build_year', new_column_name='construction_year_info')\\\n",
    ".pipe(create_construction_decade)\\\n",
    ".pipe(column_info, col='street_name', new_column_name='street_info', drop=True)\\\n",
    ".pipe(media_types_processing)\\\n",
    ".pipe(equipment_types_processing)\\\n",
    ".pipe(security_types_processing)\\\n",
    ".pipe(extras_types_processing)\\\n",
    ".pipe(column_info, col='extras_types', new_column_name='extras_types_info', drop=True)\\\n",
    ".pipe(column_info, col='media_types', new_column_name='media_types_info', drop=True)\\\n",
    ".pipe(column_info, col='security_types', new_column_name='security_types_info', drop=True)\\\n",
    ".pipe(column_info, col='equipment_types', new_column_name='equipment_types_info', drop=True)\\\n",
    ".pipe(column_info, col='heating', new_column_name='heating_info', drop=False)\\\n",
    ".pipe(create_avg_price_diff, avg_price_col='avg_price', price_col='mysql_search_price', new_column_name= 'price_diff')\n"
   ]
  },
  {
   "cell_type": "code",
   "execution_count": 27,
   "metadata": {
    "collapsed": false
   },
   "outputs": [
    {
     "name": "stdout",
     "output_type": "stream",
     "text": [
      "no_media\n",
      "cable-television\n",
      "internet\n",
      "phone\n",
      "0\n",
      "no_equipment\n",
      "furniture\n",
      "dishwasher\n",
      "fridge\n",
      "oven\n",
      "stove\n",
      "tv\n",
      "washing_machine\n",
      "0\n",
      "no_security\n",
      "monitoring\n",
      "entryphone\n",
      "anti_burglary_door\n",
      "closed_area\n",
      "0\n",
      "roller_shutters\n",
      "alarm\n",
      "no_extras\n",
      "balcony\n",
      "garage\n",
      "lift\n",
      "basement\n",
      "0\n",
      "separate_kitchen\n",
      "usable_room\n",
      "terrace\n",
      "non_smokers_only\n",
      "air_conditioning\n",
      "garden\n",
      "two_storey\n"
     ]
    }
   ],
   "source": [
    "otodom_test_rent = otodom_test_full.pipe(filter_currency, currency = 'PLN')\\\n",
    ".pipe(select_columns, columns=columns)\\\n",
    ".pipe(create_liquid_field)\\\n",
    ".pipe(remove_outliers, col='mysql_search_m', lower_bound=20, upper_bound=200)\\\n",
    ".pipe(filter_values, col='mysql_search_rooms_num', values_list=['0', '1', '2', '3', '4', '5', '6'])\\\n",
    ".pipe(remove_outliers, col='mysql_search_price', lower_bound=900, upper_bound=6500)\\\n",
    ".pipe(add_avg_price_city_ap_type)\\\n",
    ".pipe(add_higher_city_room_avg)\\\n",
    ".pipe(private_business_binarization)\\\n",
    ".pipe(column_info, col='build_year', new_column_name='construction_year_info')\\\n",
    ".pipe(create_construction_decade)\\\n",
    ".pipe(column_info, col='street_name', new_column_name='street_info', drop=True)\\\n",
    ".pipe(media_types_processing)\\\n",
    ".pipe(equipment_types_processing)\\\n",
    ".pipe(security_types_processing)\\\n",
    ".pipe(extras_types_processing)\\\n",
    ".pipe(column_info, col='extras_types', new_column_name='extras_types_info', drop=True)\\\n",
    ".pipe(column_info, col='media_types', new_column_name='media_types_info', drop=True)\\\n",
    ".pipe(column_info, col='security_types', new_column_name='security_types_info', drop=True)\\\n",
    ".pipe(column_info, col='equipment_types', new_column_name='equipment_types_info', drop=True)\\\n",
    ".pipe(create_avg_price_diff, avg_price_col='avg_price', price_col='mysql_search_price', new_column_name= 'price_diff')\n"
   ]
  },
  {
   "cell_type": "code",
   "execution_count": 28,
   "metadata": {
    "collapsed": false
   },
   "outputs": [
    {
     "name": "stdout",
     "output_type": "stream",
     "text": [
      "city_id\n",
      "title\n",
      "is_paid_for_post\n",
      "was_paid_for_post\n",
      "description\n",
      "mysql_search_rooms_num\n",
      "mysql_search_m\n",
      "mysql_search_price\n",
      "building_floors_num\n",
      "building_material\n",
      "building_type\n",
      "construction_status\n",
      "floor_no\n",
      "rent_to_students\n",
      "heating\n",
      "private_business\n",
      "windows_type\n",
      "unique_senders\n",
      "n_images\n",
      "liquid\n",
      "city_n\n",
      "avg_price\n",
      "higher_city_room_mean\n",
      "construction_year_info\n",
      "construction_year_decade\n",
      "street_info\n",
      "no_media\n",
      "cable-television\n",
      "internet\n",
      "phone\n",
      "0\n",
      "no_equipment\n",
      "furniture\n",
      "dishwasher\n",
      "fridge\n",
      "oven\n",
      "stove\n",
      "tv\n",
      "washing_machine\n",
      "no_security\n",
      "entryphone\n",
      "monitoring\n",
      "anti_burglary_door\n",
      "closed_area\n",
      "alarm\n",
      "roller_shutters\n",
      "no_extras\n",
      "balcony\n",
      "lift\n",
      "garage\n",
      "basement\n",
      "separate_kitchen\n",
      "usable_room\n",
      "terrace\n",
      "air_conditioning\n",
      "non_smokers_only\n",
      "garden\n",
      "two_storey\n",
      "extras_types_info\n",
      "media_types_info\n",
      "security_types_info\n",
      "equipment_types_info\n",
      "heating_info\n",
      "price_diff\n"
     ]
    }
   ],
   "source": [
    "for col in otodom_train_rent:\n",
    "    print(col)"
   ]
  },
  {
   "cell_type": "code",
   "execution_count": 29,
   "metadata": {
    "collapsed": true
   },
   "outputs": [],
   "source": [
    "cat_columns = [\n",
    "                  'mysql_search_rooms_num',\n",
    "                  'building_material',\n",
    "                  'building_type',\n",
    "                  'construction_status',\n",
    "                  'floor_no',\n",
    "                  'windows_type', \n",
    "                  'rent_to_students',\n",
    "                   'heating']"
   ]
  },
  {
   "cell_type": "code",
   "execution_count": 30,
   "metadata": {
    "collapsed": false
   },
   "outputs": [],
   "source": [
    "otodom_train_rent[cat_columns] = otodom_train_rent[cat_columns].fillna('no_info').astype('str')\n",
    "otodom_test_rent[cat_columns] = otodom_test_rent[cat_columns].fillna('no_info').astype('str')"
   ]
  },
  {
   "cell_type": "code",
   "execution_count": 31,
   "metadata": {
    "collapsed": true
   },
   "outputs": [],
   "source": [
    "train_dataset = pd.get_dummies(otodom_train_rent)\n",
    "test_dataset = pd.get_dummies(otodom_test_rent)"
   ]
  },
  {
   "cell_type": "code",
   "execution_count": 32,
   "metadata": {
    "collapsed": true
   },
   "outputs": [],
   "source": [
    "num_columns = ['title', 'description', 'mysql_search_m', 'mysql_search_price', 'building_floors_num', 'n_images', 'avg_price']"
   ]
  },
  {
   "cell_type": "code",
   "execution_count": 33,
   "metadata": {
    "collapsed": false
   },
   "outputs": [],
   "source": [
    "train_dataset[num_columns] = train_dataset[num_columns].fillna(0)\n",
    "test_dataset[num_columns] = test_dataset[num_columns].fillna(0)"
   ]
  },
  {
   "cell_type": "code",
   "execution_count": 34,
   "metadata": {
    "collapsed": true
   },
   "outputs": [],
   "source": [
    "y = train_dataset['liquid']\n",
    "y_cv = test_dataset['liquid']"
   ]
  },
  {
   "cell_type": "code",
   "execution_count": 35,
   "metadata": {
    "collapsed": true
   },
   "outputs": [],
   "source": [
    "X = train_dataset.drop(['liquid', 'unique_senders', 'city_n'], axis=1)\n",
    "X_cv = test_dataset.drop(['liquid', 'unique_senders', 'city_n'], axis=1)"
   ]
  },
  {
   "cell_type": "code",
   "execution_count": 36,
   "metadata": {
    "collapsed": true
   },
   "outputs": [],
   "source": [
    "X_train, X_test, y_train, y_test = train_test_split(X, y, random_state=432)"
   ]
  },
  {
   "cell_type": "code",
   "execution_count": 37,
   "metadata": {
    "collapsed": false
   },
   "outputs": [
    {
     "data": {
      "text/plain": [
       "2.228410055310058"
      ]
     },
     "execution_count": 37,
     "metadata": {},
     "output_type": "execute_result"
    }
   ],
   "source": [
    "ratio = float(np.sum(y == 0)) / np.sum(y == 1)\n",
    "ratio"
   ]
  },
  {
   "cell_type": "code",
   "execution_count": 38,
   "metadata": {
    "collapsed": true
   },
   "outputs": [],
   "source": [
    "default_params = {\n",
    "    'objective': 'binary:logistic',\n",
    "    'max_depth':7,\n",
    "    'learning_rate': 0.1,\n",
    "    'silent': False,\n",
    "    'min_child_weight': 9,\n",
    "    'subsample': 0.8, \n",
    "    'colsample_bytree': 0.8,\n",
    "    'scale_pos_weight': ratio,\n",
    "    'n_estimators': 2500\n",
    "}\n",
    "\n"
   ]
  },
  {
   "cell_type": "code",
   "execution_count": 39,
   "metadata": {
    "collapsed": true
   },
   "outputs": [],
   "source": [
    "clf = XGBClassifier(**default_params)"
   ]
  },
  {
   "cell_type": "code",
   "execution_count": 40,
   "metadata": {
    "collapsed": false
   },
   "outputs": [
    {
     "data": {
      "text/plain": [
       "XGBClassifier(base_score=0.5, colsample_bylevel=1, colsample_bytree=0.8,\n",
       "       gamma=0, learning_rate=0.1, max_delta_step=0, max_depth=7,\n",
       "       min_child_weight=9, missing=None, n_estimators=2500, nthread=-1,\n",
       "       objective='binary:logistic', reg_alpha=0, reg_lambda=1,\n",
       "       scale_pos_weight=2.228410055310058, seed=0, silent=False,\n",
       "       subsample=0.8)"
      ]
     },
     "execution_count": 40,
     "metadata": {},
     "output_type": "execute_result"
    }
   ],
   "source": [
    "clf.fit(X_train, y_train, \n",
    "        eval_set=[(X_train, y_train), (X_test, y_test)], \n",
    "        eval_metric='logloss', \n",
    "        verbose=False, early_stopping_rounds=10)"
   ]
  },
  {
   "cell_type": "code",
   "execution_count": 41,
   "metadata": {
    "collapsed": false
   },
   "outputs": [
    {
     "data": {
      "text/plain": [
       "['xgb_otodom_rent_02.pkl']"
      ]
     },
     "execution_count": 41,
     "metadata": {},
     "output_type": "execute_result"
    }
   ],
   "source": [
    "joblib.dump(clf, 'xgb_otodom_rent_02.pkl') \n",
    "#clf = joblib.load('xgb_otodom_rent_02.pkl') "
   ]
  },
  {
   "cell_type": "code",
   "execution_count": 42,
   "metadata": {
    "collapsed": true
   },
   "outputs": [],
   "source": [
    "def my_plot_importance(booster, figsize, **kwargs): \n",
    "    from matplotlib import pyplot as plt\n",
    "    from xgboost import plot_importance\n",
    "    fig, ax = plt.subplots(1,1,figsize=figsize)\n",
    "    return plot_importance(booster=booster, ax=ax, **kwargs)"
   ]
  },
  {
   "cell_type": "code",
   "execution_count": 43,
   "metadata": {
    "collapsed": false
   },
   "outputs": [
    {
     "data": {
      "text/plain": [
       "<matplotlib.axes._subplots.AxesSubplot at 0x119ed80b8>"
      ]
     },
     "execution_count": 43,
     "metadata": {},
     "output_type": "execute_result"
    },
    {
     "data": {
      "image/png": "[encoded data removed]",
      "text/plain": [
       "<matplotlib.figure.Figure at 0x119ed7ac8>"
      ]
     },
     "metadata": {},
     "output_type": "display_data"
    }
   ],
   "source": [
    "my_plot_importance(clf, figsize=(10, 30),  importance_type='gain' )"
   ]
  },
  {
   "cell_type": "markdown",
   "metadata": {
    "collapsed": false
   },
   "source": [
    "**Validation on train:**"
   ]
  },
  {
   "cell_type": "code",
   "execution_count": 44,
   "metadata": {
    "collapsed": false
   },
   "outputs": [],
   "source": [
    "y_train_predict = clf.predict(X_train)"
   ]
  },
  {
   "cell_type": "code",
   "execution_count": 45,
   "metadata": {
    "collapsed": false
   },
   "outputs": [
    {
     "name": "stdout",
     "output_type": "stream",
     "text": [
      "Accuracy: 0.86\n",
      "Precision: 0.73\n",
      "Recall: 0.84\n",
      "F1: 0.78\n"
     ]
    }
   ],
   "source": [
    "print('Accuracy: {0:.2f}'.format(accuracy_score(y_train, y_train_predict)))\n",
    "print('Precision: {0:.2f}'.format(precision_score(y_train,  y_train_predict)))\n",
    "print('Recall: {0:.2f}'.format(recall_score(y_train,  y_train_predict)))\n",
    "print('F1: {0:.2f}'.format(f1_score(y_train,  y_train_predict)))"
   ]
  },
  {
   "cell_type": "code",
   "execution_count": 46,
   "metadata": {
    "collapsed": false
   },
   "outputs": [
    {
     "data": {
      "text/html": [
       "<div>\n",
       "<table border=\"1\" class=\"dataframe\">\n",
       "  <thead>\n",
       "    <tr style=\"text-align: right;\">\n",
       "      <th>Predicted</th>\n",
       "      <th>0.0</th>\n",
       "      <th>1.0</th>\n",
       "      <th>All</th>\n",
       "    </tr>\n",
       "    <tr>\n",
       "      <th>Actual</th>\n",
       "      <th></th>\n",
       "      <th></th>\n",
       "      <th></th>\n",
       "    </tr>\n",
       "  </thead>\n",
       "  <tbody>\n",
       "    <tr>\n",
       "      <th>0.0</th>\n",
       "      <td>26087</td>\n",
       "      <td>14508</td>\n",
       "      <td>40595</td>\n",
       "    </tr>\n",
       "    <tr>\n",
       "      <th>1.0</th>\n",
       "      <td>13772</td>\n",
       "      <td>7701</td>\n",
       "      <td>21473</td>\n",
       "    </tr>\n",
       "    <tr>\n",
       "      <th>All</th>\n",
       "      <td>39859</td>\n",
       "      <td>22209</td>\n",
       "      <td>62068</td>\n",
       "    </tr>\n",
       "  </tbody>\n",
       "</table>\n",
       "</div>"
      ],
      "text/plain": [
       "Predicted    0.0    1.0    All\n",
       "Actual                        \n",
       "0.0        26087  14508  40595\n",
       "1.0        13772   7701  21473\n",
       "All        39859  22209  62068"
      ]
     },
     "execution_count": 46,
     "metadata": {},
     "output_type": "execute_result"
    }
   ],
   "source": [
    "pd.crosstab(\n",
    "    pd.Series(y_train, name='Actual'),\n",
    "    pd.Series(y_train_predict, name='Predicted'),\n",
    "    margins=True\n",
    ")"
   ]
  },
  {
   "cell_type": "code",
   "execution_count": 47,
   "metadata": {
    "collapsed": false
   },
   "outputs": [
    {
     "name": "stdout",
     "output_type": "stream",
     "text": [
      "             precision    recall  f1-score   support\n",
      "\n",
      "          0       0.93      0.86      0.89     57211\n",
      "          1       0.73      0.84      0.78     25527\n",
      "\n",
      "avg / total       0.87      0.86      0.86     82738\n",
      "\n"
     ]
    }
   ],
   "source": [
    "print(classification_report(y_train, y_train_predict))"
   ]
  },
  {
   "cell_type": "markdown",
   "metadata": {},
   "source": [
    "**Validation on test:**"
   ]
  },
  {
   "cell_type": "code",
   "execution_count": 48,
   "metadata": {
    "collapsed": false
   },
   "outputs": [],
   "source": [
    "y_val_predict = clf.predict(X_test)"
   ]
  },
  {
   "cell_type": "code",
   "execution_count": 49,
   "metadata": {
    "collapsed": false
   },
   "outputs": [
    {
     "name": "stdout",
     "output_type": "stream",
     "text": [
      "Accuracy: 0.81\n",
      "Precision: 0.68\n",
      "Recall: 0.77\n",
      "F1: 0.72\n"
     ]
    }
   ],
   "source": [
    "print('Accuracy: {0:.2f}'.format(accuracy_score(y_test, y_val_predict)))\n",
    "print('Precision: {0:.2f}'.format(precision_score(y_test, y_val_predict)))\n",
    "print('Recall: {0:.2f}'.format(recall_score(y_test, y_val_predict)))\n",
    "print('F1: {0:.2f}'.format(f1_score(y_test, y_val_predict)))"
   ]
  },
  {
   "cell_type": "code",
   "execution_count": 50,
   "metadata": {
    "collapsed": false
   },
   "outputs": [
    {
     "data": {
      "text/html": [
       "<div>\n",
       "<table border=\"1\" class=\"dataframe\">\n",
       "  <thead>\n",
       "    <tr style=\"text-align: right;\">\n",
       "      <th>Predicted</th>\n",
       "      <th>0.0</th>\n",
       "      <th>1.0</th>\n",
       "      <th>All</th>\n",
       "    </tr>\n",
       "    <tr>\n",
       "      <th>Actual</th>\n",
       "      <th></th>\n",
       "      <th></th>\n",
       "      <th></th>\n",
       "    </tr>\n",
       "  </thead>\n",
       "  <tbody>\n",
       "    <tr>\n",
       "      <th>0.0</th>\n",
       "      <td>2326</td>\n",
       "      <td>1346</td>\n",
       "      <td>3672</td>\n",
       "    </tr>\n",
       "    <tr>\n",
       "      <th>1.0</th>\n",
       "      <td>2028</td>\n",
       "      <td>1159</td>\n",
       "      <td>3187</td>\n",
       "    </tr>\n",
       "    <tr>\n",
       "      <th>All</th>\n",
       "      <td>4354</td>\n",
       "      <td>2505</td>\n",
       "      <td>6859</td>\n",
       "    </tr>\n",
       "  </tbody>\n",
       "</table>\n",
       "</div>"
      ],
      "text/plain": [
       "Predicted   0.0   1.0   All\n",
       "Actual                     \n",
       "0.0        2326  1346  3672\n",
       "1.0        2028  1159  3187\n",
       "All        4354  2505  6859"
      ]
     },
     "execution_count": 50,
     "metadata": {},
     "output_type": "execute_result"
    }
   ],
   "source": [
    "pd.crosstab(\n",
    "    pd.Series(y_test, name='Actual'),\n",
    "    pd.Series(y_val_predict, name='Predicted'),\n",
    "    margins=True\n",
    ")"
   ]
  },
  {
   "cell_type": "code",
   "execution_count": 51,
   "metadata": {
    "collapsed": false
   },
   "outputs": [
    {
     "name": "stdout",
     "output_type": "stream",
     "text": [
      "             precision    recall  f1-score   support\n",
      "\n",
      "          0       0.89      0.83      0.86     18936\n",
      "          1       0.68      0.77      0.72      8644\n",
      "\n",
      "avg / total       0.82      0.81      0.82     27580\n",
      "\n"
     ]
    }
   ],
   "source": [
    "print(classification_report(y_test, y_val_predict))"
   ]
  },
  {
   "cell_type": "markdown",
   "metadata": {},
   "source": [
    "**Validation on December data:**"
   ]
  },
  {
   "cell_type": "code",
   "execution_count": 52,
   "metadata": {
    "collapsed": false
   },
   "outputs": [
    {
     "name": "stdout",
     "output_type": "stream",
     "text": [
      "heating_info\n"
     ]
    }
   ],
   "source": [
    "for col in X.columns:\n",
    "    if col not in X_cv.columns:\n",
    "        print(col)\n",
    "        X_cv[col] = 0"
   ]
  },
  {
   "cell_type": "code",
   "execution_count": 53,
   "metadata": {
    "collapsed": false
   },
   "outputs": [],
   "source": [
    "for col in X_cv.columns:\n",
    "    if col not in X.columns:\n",
    "        print(col)\n",
    "        X_cv = X_cv.drop(col, axis=1)"
   ]
  },
  {
   "cell_type": "code",
   "execution_count": 54,
   "metadata": {
    "collapsed": true
   },
   "outputs": [],
   "source": [
    "selected_columns = X.columns "
   ]
  },
  {
   "cell_type": "code",
   "execution_count": 55,
   "metadata": {
    "collapsed": false
   },
   "outputs": [],
   "source": [
    "y_cv_predict = clf.predict(X_cv[selected_columns])"
   ]
  },
  {
   "cell_type": "code",
   "execution_count": 56,
   "metadata": {
    "collapsed": false
   },
   "outputs": [
    {
     "name": "stdout",
     "output_type": "stream",
     "text": [
      "Accuracy: 0.82\n",
      "Precision: 0.65\n",
      "Recall: 0.78\n",
      "F1: 0.71\n"
     ]
    }
   ],
   "source": [
    "print('Accuracy: {0:.2f}'.format(accuracy_score(y_cv,  y_cv_predict)))\n",
    "print('Precision: {0:.2f}'.format(precision_score(y_cv,  y_cv_predict)))\n",
    "print('Recall: {0:.2f}'.format(recall_score(y_cv,  y_cv_predict)))\n",
    "print('F1: {0:.2f}'.format(f1_score(y_cv,  y_cv_predict)))"
   ]
  },
  {
   "cell_type": "code",
   "execution_count": 57,
   "metadata": {
    "collapsed": false
   },
   "outputs": [
    {
     "data": {
      "text/html": [
       "<div>\n",
       "<table border=\"1\" class=\"dataframe\">\n",
       "  <thead>\n",
       "    <tr style=\"text-align: right;\">\n",
       "      <th>Predicted</th>\n",
       "      <th>0</th>\n",
       "      <th>1</th>\n",
       "      <th>All</th>\n",
       "    </tr>\n",
       "    <tr>\n",
       "      <th>Actual</th>\n",
       "      <th></th>\n",
       "      <th></th>\n",
       "      <th></th>\n",
       "    </tr>\n",
       "  </thead>\n",
       "  <tbody>\n",
       "    <tr>\n",
       "      <th>0</th>\n",
       "      <td>7186</td>\n",
       "      <td>1459</td>\n",
       "      <td>8645</td>\n",
       "    </tr>\n",
       "    <tr>\n",
       "      <th>1</th>\n",
       "      <td>746</td>\n",
       "      <td>2673</td>\n",
       "      <td>3419</td>\n",
       "    </tr>\n",
       "    <tr>\n",
       "      <th>All</th>\n",
       "      <td>7932</td>\n",
       "      <td>4132</td>\n",
       "      <td>12064</td>\n",
       "    </tr>\n",
       "  </tbody>\n",
       "</table>\n",
       "</div>"
      ],
      "text/plain": [
       "Predicted     0     1    All\n",
       "Actual                      \n",
       "0          7186  1459   8645\n",
       "1           746  2673   3419\n",
       "All        7932  4132  12064"
      ]
     },
     "execution_count": 57,
     "metadata": {},
     "output_type": "execute_result"
    }
   ],
   "source": [
    "pd.crosstab(\n",
    "    pd.Series(y_cv, name='Actual'),\n",
    "    pd.Series(y_cv_predict, name='Predicted'),\n",
    "    margins=True\n",
    ")"
   ]
  },
  {
   "cell_type": "code",
   "execution_count": 58,
   "metadata": {
    "collapsed": false
   },
   "outputs": [
    {
     "name": "stdout",
     "output_type": "stream",
     "text": [
      "             precision    recall  f1-score   support\n",
      "\n",
      "          0       0.91      0.83      0.87      8645\n",
      "          1       0.65      0.78      0.71      3419\n",
      "\n",
      "avg / total       0.83      0.82      0.82     12064\n",
      "\n"
     ]
    }
   ],
   "source": [
    "print(classification_report(y_cv, y_cv_predict))"
   ]
  },
  {
   "cell_type": "code",
   "execution_count": 59,
   "metadata": {
    "collapsed": false
   },
   "outputs": [
    {
     "data": {
      "text/html": [
       "\n",
       "    <style>\n",
       "    table.eli5-weights tr:hover {\n",
       "        filter: brightness(85%);\n",
       "    }\n",
       "</style>\n",
       "\n",
       "\n",
       "\n",
       "    \n",
       "\n",
       "    \n",
       "\n",
       "    \n",
       "\n",
       "    \n",
       "\n",
       "    \n",
       "\n",
       "    \n",
       "\n",
       "\n",
       "    \n",
       "\n",
       "    \n",
       "\n",
       "    \n",
       "\n",
       "    \n",
       "\n",
       "    \n",
       "\n",
       "    \n",
       "\n",
       "\n",
       "    \n",
       "\n",
       "    \n",
       "\n",
       "    \n",
       "\n",
       "    \n",
       "\n",
       "    \n",
       "        <table class=\"eli5-weights eli5-feature-importances\" style=\"border-collapse: collapse; border: none; margin-top: 0em; table-layout: auto;\">\n",
       "    <thead>\n",
       "    <tr style=\"border: none;\">\n",
       "        <th style=\"padding: 0 1em 0 0.5em; text-align: right; border: none;\">Weight</th>\n",
       "        <th style=\"padding: 0 0.5em 0 0.5em; text-align: left; border: none;\">Feature</th>\n",
       "    </tr>\n",
       "    </thead>\n",
       "    <tbody>\n",
       "    \n",
       "        <tr style=\"background-color: hsl(120, 100.00%, 80.00%); border: none;\">\n",
       "            <td style=\"padding: 0 1em 0 0.5em; text-align: right; border: none;\">\n",
       "                0.5062\n",
       "                \n",
       "            </td>\n",
       "            <td style=\"padding: 0 0.5em 0 0.5em; text-align: left; border: none;\">\n",
       "                private_business\n",
       "            </td>\n",
       "        </tr>\n",
       "    \n",
       "        <tr style=\"background-color: hsl(120, 100.00%, 91.91%); border: none;\">\n",
       "            <td style=\"padding: 0 1em 0 0.5em; text-align: right; border: none;\">\n",
       "                0.1390\n",
       "                \n",
       "            </td>\n",
       "            <td style=\"padding: 0 0.5em 0 0.5em; text-align: left; border: none;\">\n",
       "                rent_to_students_no_info\n",
       "            </td>\n",
       "        </tr>\n",
       "    \n",
       "        <tr style=\"background-color: hsl(120, 100.00%, 97.49%); border: none;\">\n",
       "            <td style=\"padding: 0 1em 0 0.5em; text-align: right; border: none;\">\n",
       "                0.0261\n",
       "                \n",
       "            </td>\n",
       "            <td style=\"padding: 0 0.5em 0 0.5em; text-align: left; border: none;\">\n",
       "                mysql_search_price\n",
       "            </td>\n",
       "        </tr>\n",
       "    \n",
       "        <tr style=\"background-color: hsl(120, 100.00%, 97.65%); border: none;\">\n",
       "            <td style=\"padding: 0 1em 0 0.5em; text-align: right; border: none;\">\n",
       "                0.0237\n",
       "                \n",
       "            </td>\n",
       "            <td style=\"padding: 0 0.5em 0 0.5em; text-align: left; border: none;\">\n",
       "                higher_city_room_mean\n",
       "            </td>\n",
       "        </tr>\n",
       "    \n",
       "        <tr style=\"background-color: hsl(120, 100.00%, 98.65%); border: none;\">\n",
       "            <td style=\"padding: 0 1em 0 0.5em; text-align: right; border: none;\">\n",
       "                0.0107\n",
       "                \n",
       "            </td>\n",
       "            <td style=\"padding: 0 0.5em 0 0.5em; text-align: left; border: none;\">\n",
       "                stove\n",
       "            </td>\n",
       "        </tr>\n",
       "    \n",
       "        <tr style=\"background-color: hsl(120, 100.00%, 98.87%); border: none;\">\n",
       "            <td style=\"padding: 0 1em 0 0.5em; text-align: right; border: none;\">\n",
       "                0.0084\n",
       "                \n",
       "            </td>\n",
       "            <td style=\"padding: 0 0.5em 0 0.5em; text-align: left; border: none;\">\n",
       "                price_diff\n",
       "            </td>\n",
       "        </tr>\n",
       "    \n",
       "        <tr style=\"background-color: hsl(120, 100.00%, 98.89%); border: none;\">\n",
       "            <td style=\"padding: 0 1em 0 0.5em; text-align: right; border: none;\">\n",
       "                0.0081\n",
       "                \n",
       "            </td>\n",
       "            <td style=\"padding: 0 0.5em 0 0.5em; text-align: left; border: none;\">\n",
       "                non_smokers_only\n",
       "            </td>\n",
       "        </tr>\n",
       "    \n",
       "        <tr style=\"background-color: hsl(120, 100.00%, 99.01%); border: none;\">\n",
       "            <td style=\"padding: 0 1em 0 0.5em; text-align: right; border: none;\">\n",
       "                0.0069\n",
       "                \n",
       "            </td>\n",
       "            <td style=\"padding: 0 0.5em 0 0.5em; text-align: left; border: none;\">\n",
       "                city_id\n",
       "            </td>\n",
       "        </tr>\n",
       "    \n",
       "        <tr style=\"background-color: hsl(120, 100.00%, 99.06%); border: none;\">\n",
       "            <td style=\"padding: 0 1em 0 0.5em; text-align: right; border: none;\">\n",
       "                0.0064\n",
       "                \n",
       "            </td>\n",
       "            <td style=\"padding: 0 0.5em 0 0.5em; text-align: left; border: none;\">\n",
       "                avg_price\n",
       "            </td>\n",
       "        </tr>\n",
       "    \n",
       "        <tr style=\"background-color: hsl(120, 100.00%, 99.09%); border: none;\">\n",
       "            <td style=\"padding: 0 1em 0 0.5em; text-align: right; border: none;\">\n",
       "                0.0061\n",
       "                \n",
       "            </td>\n",
       "            <td style=\"padding: 0 0.5em 0 0.5em; text-align: left; border: none;\">\n",
       "                was_paid_for_post\n",
       "            </td>\n",
       "        </tr>\n",
       "    \n",
       "        <tr style=\"background-color: hsl(120, 100.00%, 99.15%); border: none;\">\n",
       "            <td style=\"padding: 0 1em 0 0.5em; text-align: right; border: none;\">\n",
       "                0.0055\n",
       "                \n",
       "            </td>\n",
       "            <td style=\"padding: 0 0.5em 0 0.5em; text-align: left; border: none;\">\n",
       "                no_security\n",
       "            </td>\n",
       "        </tr>\n",
       "    \n",
       "        <tr style=\"background-color: hsl(120, 100.00%, 99.19%); border: none;\">\n",
       "            <td style=\"padding: 0 1em 0 0.5em; text-align: right; border: none;\">\n",
       "                0.0052\n",
       "                \n",
       "            </td>\n",
       "            <td style=\"padding: 0 0.5em 0 0.5em; text-align: left; border: none;\">\n",
       "                fridge\n",
       "            </td>\n",
       "        </tr>\n",
       "    \n",
       "        <tr style=\"background-color: hsl(120, 100.00%, 99.31%); border: none;\">\n",
       "            <td style=\"padding: 0 1em 0 0.5em; text-align: right; border: none;\">\n",
       "                0.0041\n",
       "                \n",
       "            </td>\n",
       "            <td style=\"padding: 0 0.5em 0 0.5em; text-align: left; border: none;\">\n",
       "                extras_types_info\n",
       "            </td>\n",
       "        </tr>\n",
       "    \n",
       "        <tr style=\"background-color: hsl(120, 100.00%, 99.31%); border: none;\">\n",
       "            <td style=\"padding: 0 1em 0 0.5em; text-align: right; border: none;\">\n",
       "                0.0041\n",
       "                \n",
       "            </td>\n",
       "            <td style=\"padding: 0 0.5em 0 0.5em; text-align: left; border: none;\">\n",
       "                security_types_info\n",
       "            </td>\n",
       "        </tr>\n",
       "    \n",
       "        <tr style=\"background-color: hsl(120, 100.00%, 99.31%); border: none;\">\n",
       "            <td style=\"padding: 0 1em 0 0.5em; text-align: right; border: none;\">\n",
       "                0.0041\n",
       "                \n",
       "            </td>\n",
       "            <td style=\"padding: 0 0.5em 0 0.5em; text-align: left; border: none;\">\n",
       "                n_images\n",
       "            </td>\n",
       "        </tr>\n",
       "    \n",
       "        <tr style=\"background-color: hsl(120, 100.00%, 99.31%); border: none;\">\n",
       "            <td style=\"padding: 0 1em 0 0.5em; text-align: right; border: none;\">\n",
       "                0.0041\n",
       "                \n",
       "            </td>\n",
       "            <td style=\"padding: 0 0.5em 0 0.5em; text-align: left; border: none;\">\n",
       "                entryphone\n",
       "            </td>\n",
       "        </tr>\n",
       "    \n",
       "        <tr style=\"background-color: hsl(120, 100.00%, 99.33%); border: none;\">\n",
       "            <td style=\"padding: 0 1em 0 0.5em; text-align: right; border: none;\">\n",
       "                0.0040\n",
       "                \n",
       "            </td>\n",
       "            <td style=\"padding: 0 0.5em 0 0.5em; text-align: left; border: none;\">\n",
       "                construction_year_info\n",
       "            </td>\n",
       "        </tr>\n",
       "    \n",
       "        <tr style=\"background-color: hsl(120, 100.00%, 99.33%); border: none;\">\n",
       "            <td style=\"padding: 0 1em 0 0.5em; text-align: right; border: none;\">\n",
       "                0.0039\n",
       "                \n",
       "            </td>\n",
       "            <td style=\"padding: 0 0.5em 0 0.5em; text-align: left; border: none;\">\n",
       "                usable_room\n",
       "            </td>\n",
       "        </tr>\n",
       "    \n",
       "        <tr style=\"background-color: hsl(120, 100.00%, 99.34%); border: none;\">\n",
       "            <td style=\"padding: 0 1em 0 0.5em; text-align: right; border: none;\">\n",
       "                0.0038\n",
       "                \n",
       "            </td>\n",
       "            <td style=\"padding: 0 0.5em 0 0.5em; text-align: left; border: none;\">\n",
       "                0\n",
       "            </td>\n",
       "        </tr>\n",
       "    \n",
       "        <tr style=\"background-color: hsl(120, 100.00%, 99.35%); border: none;\">\n",
       "            <td style=\"padding: 0 1em 0 0.5em; text-align: right; border: none;\">\n",
       "                0.0038\n",
       "                \n",
       "            </td>\n",
       "            <td style=\"padding: 0 0.5em 0 0.5em; text-align: left; border: none;\">\n",
       "                no_extras\n",
       "            </td>\n",
       "        </tr>\n",
       "    \n",
       "    \n",
       "        \n",
       "            <tr style=\"background-color: hsl(120, 100.00%, 99.35%); border: none;\">\n",
       "                <td colspan=\"2\" style=\"padding: 0 0.5em 0 0.5em; text-align: center; border: none; white-space: nowrap;\">\n",
       "                    <i>&hellip; 91 more &hellip;</i>\n",
       "                </td>\n",
       "            </tr>\n",
       "        \n",
       "    \n",
       "    </tbody>\n",
       "</table>\n",
       "    \n",
       "\n",
       "    \n",
       "\n",
       "\n",
       "    \n",
       "\n",
       "    \n",
       "\n",
       "    \n",
       "\n",
       "    \n",
       "\n",
       "    \n",
       "\n",
       "    \n",
       "\n",
       "\n",
       "\n"
      ],
      "text/plain": [
       "<IPython.core.display.HTML object>"
      ]
     },
     "execution_count": 59,
     "metadata": {},
     "output_type": "execute_result"
    }
   ],
   "source": [
    "from eli5 import show_weights\n",
    "show_weights(clf)"
   ]
  },
  {
   "cell_type": "markdown",
   "metadata": {},
   "source": [
    "For usage model as a service we need to store:\n",
    "\n",
    "* average price for city_id/rooms_num combination\n",
    "* model columns \n",
    "* model"
   ]
  },
  {
   "cell_type": "markdown",
   "metadata": {},
   "source": [
    "**Average price for city_id/rooms_num combination**"
   ]
  },
  {
   "cell_type": "code",
   "execution_count": 60,
   "metadata": {
    "collapsed": false
   },
   "outputs": [],
   "source": [
    "avg_city = otodom_full.pipe(create_liquid_field)\\\n",
    ".pipe(select_category, category_id = 102)\\\n",
    ".pipe(filter_currency, currency = 'PLN')\\\n",
    ".pipe(select_columns, columns=columns)\\\n",
    ".pipe(remove_outliers, col='mysql_search_m', lower_bound=20, upper_bound=200)\\\n",
    ".pipe(filter_values, col='mysql_search_rooms_num', values_list=['0', '1', '2', '3', '4', '5', '6'])\\\n",
    ".pipe(count_avg_price_city_ap_type)\n"
   ]
  },
  {
   "cell_type": "code",
   "execution_count": 61,
   "metadata": {
    "collapsed": true
   },
   "outputs": [],
   "source": [
    "avg_city.to_csv(\"avg_city_price_otodom_rent_02.csv\", index=None)"
   ]
  },
  {
   "cell_type": "markdown",
   "metadata": {},
   "source": [
    "**Save model columns**"
   ]
  },
  {
   "cell_type": "code",
   "execution_count": 62,
   "metadata": {
    "collapsed": false
   },
   "outputs": [
    {
     "data": {
      "text/plain": [
       "['model_columns_xgb_otodom_rent_02.pkl']"
      ]
     },
     "execution_count": 62,
     "metadata": {},
     "output_type": "execute_result"
    }
   ],
   "source": [
    "model_columns = list(X_train.columns)\n",
    "joblib.dump(model_columns, 'model_columns_xgb_otodom_rent_02.pkl')"
   ]
  },
  {
   "cell_type": "markdown",
   "metadata": {},
   "source": [
    "### Example how it works as a service ###"
   ]
  },
  {
   "cell_type": "code",
   "execution_count": 63,
   "metadata": {
    "collapsed": true
   },
   "outputs": [],
   "source": [
    "data = {\"city_id\": 26, \n",
    "        \"mysql_search_rooms_num\": 3, \n",
    "        \"mysql_search_m\": 88, \n",
    "        \"mysql_search_price\": 2000,\n",
    "        \"mysql_search_price_per_m\": 50,\n",
    "        \"title\": 30,\n",
    "        \"description\": 1786,\n",
    "        \"rent_to_students\": 1,\n",
    "        \"private_business\": \"business\",\n",
    "        \"street_name\" : \"Chorzovska\",\n",
    "        \"build_year\" : 2000,\n",
    "        \"building_floors_num\": 5, \n",
    "        \"building_material\": \"brick\",\n",
    "        \"construction_status\": \"ready_to_use\",\n",
    "        \"extras_types\": \"balcony<->garage<->lift<->separate_kitchen\",\n",
    "        \"heating\": \"urban\",\n",
    "        \"media_types\": \"cable-television<->internet\",\n",
    "        \"security_types\": \"monitoring\",\n",
    "        \"windows_type\": \"wooden\"\n",
    "    }"
   ]
  },
  {
   "cell_type": "code",
   "execution_count": 64,
   "metadata": {
    "collapsed": true
   },
   "outputs": [],
   "source": [
    "def get_dataframe(json):\n",
    "    df = pd.DataFrame.from_dict([dict(json)])\n",
    "    return df"
   ]
  },
  {
   "cell_type": "code",
   "execution_count": 65,
   "metadata": {
    "collapsed": true
   },
   "outputs": [],
   "source": [
    "t1 = get_dataframe(data)"
   ]
  },
  {
   "cell_type": "code",
   "execution_count": 66,
   "metadata": {
    "collapsed": true
   },
   "outputs": [],
   "source": [
    "df_avg_city_prices = pd.read_csv(\"avg_city_price_otodom_rent_02.csv\")"
   ]
  },
  {
   "cell_type": "code",
   "execution_count": 67,
   "metadata": {
    "collapsed": false
   },
   "outputs": [],
   "source": [
    "df_avg_city_prices.mysql_search_rooms_num = df_avg_city_prices.mysql_search_rooms_num.astype('int')\n",
    "t1.mysql_search_rooms_num = t1.mysql_search_rooms_num.astype('int')"
   ]
  },
  {
   "cell_type": "code",
   "execution_count": 68,
   "metadata": {
    "collapsed": true
   },
   "outputs": [],
   "source": [
    "df_aggregated = pd.merge(t1, df_avg_city_prices, on=['city_id', 'mysql_search_rooms_num'])"
   ]
  },
  {
   "cell_type": "code",
   "execution_count": 69,
   "metadata": {
    "collapsed": false
   },
   "outputs": [
    {
     "data": {
      "text/html": [
       "<div>\n",
       "<table border=\"1\" class=\"dataframe\">\n",
       "  <thead>\n",
       "    <tr style=\"text-align: right;\">\n",
       "      <th></th>\n",
       "      <th>build_year</th>\n",
       "      <th>building_floors_num</th>\n",
       "      <th>building_material</th>\n",
       "      <th>city_id</th>\n",
       "      <th>construction_status</th>\n",
       "      <th>description</th>\n",
       "      <th>extras_types</th>\n",
       "      <th>heating</th>\n",
       "      <th>media_types</th>\n",
       "      <th>mysql_search_m</th>\n",
       "      <th>mysql_search_price</th>\n",
       "      <th>mysql_search_price_per_m</th>\n",
       "      <th>mysql_search_rooms_num</th>\n",
       "      <th>private_business</th>\n",
       "      <th>rent_to_students</th>\n",
       "      <th>security_types</th>\n",
       "      <th>street_name</th>\n",
       "      <th>title</th>\n",
       "      <th>windows_type</th>\n",
       "      <th>avg_price</th>\n",
       "    </tr>\n",
       "  </thead>\n",
       "  <tbody>\n",
       "    <tr>\n",
       "      <th>0</th>\n",
       "      <td>2000</td>\n",
       "      <td>5</td>\n",
       "      <td>brick</td>\n",
       "      <td>26</td>\n",
       "      <td>ready_to_use</td>\n",
       "      <td>1786</td>\n",
       "      <td>balcony&lt;-&gt;garage&lt;-&gt;lift&lt;-&gt;separate_kitchen</td>\n",
       "      <td>urban</td>\n",
       "      <td>cable-television&lt;-&gt;internet</td>\n",
       "      <td>88</td>\n",
       "      <td>2000</td>\n",
       "      <td>50</td>\n",
       "      <td>3</td>\n",
       "      <td>business</td>\n",
       "      <td>1</td>\n",
       "      <td>monitoring</td>\n",
       "      <td>Chorzovska</td>\n",
       "      <td>30</td>\n",
       "      <td>wooden</td>\n",
       "      <td>4370.744431</td>\n",
       "    </tr>\n",
       "  </tbody>\n",
       "</table>\n",
       "</div>"
      ],
      "text/plain": [
       "   build_year  building_floors_num building_material  city_id  \\\n",
       "0        2000                    5             brick       26   \n",
       "\n",
       "  construction_status  description  \\\n",
       "0        ready_to_use         1786   \n",
       "\n",
       "                                 extras_types heating  \\\n",
       "0  balcony<->garage<->lift<->separate_kitchen   urban   \n",
       "\n",
       "                   media_types  mysql_search_m  mysql_search_price  \\\n",
       "0  cable-television<->internet              88                2000   \n",
       "\n",
       "   mysql_search_price_per_m  mysql_search_rooms_num private_business  \\\n",
       "0                        50                       3         business   \n",
       "\n",
       "   rent_to_students security_types street_name  title windows_type  \\\n",
       "0                 1     monitoring  Chorzovska     30       wooden   \n",
       "\n",
       "     avg_price  \n",
       "0  4370.744431  "
      ]
     },
     "execution_count": 69,
     "metadata": {},
     "output_type": "execute_result"
    }
   ],
   "source": [
    "df_aggregated"
   ]
  },
  {
   "cell_type": "code",
   "execution_count": 70,
   "metadata": {
    "collapsed": false
   },
   "outputs": [],
   "source": [
    "model_columns = [\n",
    "           'city_id', \n",
    "           'street_name', \n",
    "           'title', \n",
    "           'description', \n",
    "           'mysql_search_rooms_num', \n",
    "           'mysql_search_m', \n",
    "           'mysql_search_price', \n",
    "           'build_year', \n",
    "           'building_floors_num',  \n",
    "           'building_material', \n",
    "           'building_type',\n",
    "           'construction_status', \n",
    "           'equipment_types', \n",
    "           'extras_types', \n",
    "           'floor_no',\n",
    "           'rent_to_students',\n",
    "           'heating', \n",
    "           'private_business', \n",
    "           'media_types',  \n",
    "           'security_types', \n",
    "           'windows_type',\n",
    "           'n_images']"
   ]
  },
  {
   "cell_type": "code",
   "execution_count": 71,
   "metadata": {
    "collapsed": false
   },
   "outputs": [
    {
     "name": "stdout",
     "output_type": "stream",
     "text": [
      "building_type\n",
      "equipment_types\n",
      "floor_no\n",
      "n_images\n"
     ]
    }
   ],
   "source": [
    "for col in model_columns:\n",
    "    if col not in df_aggregated.columns:\n",
    "        print(col)\n",
    "        df_aggregated[col] = None"
   ]
  },
  {
   "cell_type": "code",
   "execution_count": 72,
   "metadata": {
    "collapsed": false
   },
   "outputs": [
    {
     "name": "stdout",
     "output_type": "stream",
     "text": [
      "cable-television\n",
      "internet\n",
      "no_equipment\n",
      "monitoring\n",
      "balcony\n",
      "garage\n",
      "lift\n",
      "separate_kitchen\n"
     ]
    }
   ],
   "source": [
    "df_aggregated = df_aggregated.pipe(add_higher_city_room_avg)\\\n",
    ".pipe(private_business_binarization)\\\n",
    ".pipe(column_info, col='build_year', new_column_name='construction_year_info')\\\n",
    ".pipe(create_construction_decade)\\\n",
    ".pipe(column_info, col='street_name', new_column_name='street_info', drop=True)\\\n",
    ".pipe(media_types_processing)\\\n",
    ".pipe(equipment_types_processing)\\\n",
    ".pipe(security_types_processing)\\\n",
    ".pipe(extras_types_processing)\\\n",
    ".pipe(column_info, col='extras_types', new_column_name='extras_types_info', drop=True)\\\n",
    ".pipe(column_info, col='media_types', new_column_name='media_types_info', drop=True)\\\n",
    ".pipe(column_info, col='security_types', new_column_name='security_types_info', drop=True)\\\n",
    ".pipe(column_info, col='equipment_types', new_column_name='equipment_types_info', drop=True)\\\n",
    ".pipe(column_info, col='heating', new_column_name='heating_info', drop=False)\\\n",
    ".pipe(create_avg_price_diff, avg_price_col='avg_price', price_col='mysql_search_price', new_column_name= 'price_diff')\n"
   ]
  },
  {
   "cell_type": "code",
   "execution_count": 73,
   "metadata": {
    "collapsed": false
   },
   "outputs": [],
   "source": [
    "df_aggregated[cat_columns] = df_aggregated[cat_columns].fillna('no_info').astype('str')"
   ]
  },
  {
   "cell_type": "code",
   "execution_count": 74,
   "metadata": {
    "collapsed": true
   },
   "outputs": [],
   "source": [
    "df_aggregated[num_columns] = df_aggregated[num_columns].fillna(0)"
   ]
  },
  {
   "cell_type": "code",
   "execution_count": 75,
   "metadata": {
    "collapsed": false
   },
   "outputs": [
    {
     "name": "stdout",
     "output_type": "stream",
     "text": [
      "is_paid_for_post\n",
      "was_paid_for_post\n",
      "no_media\n",
      "phone\n",
      "0\n",
      "furniture\n",
      "dishwasher\n",
      "fridge\n",
      "oven\n",
      "stove\n",
      "tv\n",
      "washing_machine\n",
      "no_security\n",
      "entryphone\n",
      "anti_burglary_door\n",
      "closed_area\n",
      "alarm\n",
      "roller_shutters\n",
      "no_extras\n",
      "basement\n",
      "usable_room\n",
      "terrace\n",
      "air_conditioning\n",
      "non_smokers_only\n",
      "garden\n",
      "two_storey\n",
      "mysql_search_rooms_num_1\n",
      "mysql_search_rooms_num_2\n",
      "mysql_search_rooms_num_3\n",
      "mysql_search_rooms_num_4\n",
      "mysql_search_rooms_num_5\n",
      "mysql_search_rooms_num_6\n",
      "building_material_breezeblock\n",
      "building_material_brick\n",
      "building_material_cellular_concrete\n",
      "building_material_concrete\n",
      "building_material_concrete_plate\n",
      "building_material_hydroton\n",
      "building_material_no_info\n",
      "building_material_other\n",
      "building_material_reinforced_concrete\n",
      "building_material_silikat\n",
      "building_material_wood\n",
      "building_type_apartment\n",
      "building_type_block\n",
      "building_type_house\n",
      "building_type_infill\n",
      "building_type_loft\n",
      "building_type_no_info\n",
      "building_type_ribbon\n",
      "building_type_tenement\n",
      "construction_status_no_info\n",
      "construction_status_ready_to_use\n",
      "construction_status_to_completion\n",
      "construction_status_to_renovation\n",
      "floor_no_cellar\n",
      "floor_no_floor_1\n",
      "floor_no_floor_10\n",
      "floor_no_floor_2\n",
      "floor_no_floor_3\n",
      "floor_no_floor_4\n",
      "floor_no_floor_5\n",
      "floor_no_floor_6\n",
      "floor_no_floor_7\n",
      "floor_no_floor_8\n",
      "floor_no_floor_9\n",
      "floor_no_floor_higher_10\n",
      "floor_no_garret\n",
      "floor_no_ground_floor\n",
      "floor_no_no_info\n",
      "rent_to_students_0.0\n",
      "rent_to_students_1.0\n",
      "rent_to_students_no_info\n",
      "heating_boiler_room\n",
      "heating_electrical\n",
      "heating_gas\n",
      "heating_no_info\n",
      "heating_other\n",
      "heating_tiled_stove\n",
      "heating_urban\n",
      "windows_type_aluminium\n",
      "windows_type_no_info\n",
      "windows_type_plastic\n",
      "windows_type_wooden\n"
     ]
    }
   ],
   "source": [
    "for col in X.columns:\n",
    "    if col not in df_aggregated.columns:\n",
    "        print(col)\n",
    "        df_aggregated[col] = 0"
   ]
  },
  {
   "cell_type": "code",
   "execution_count": 76,
   "metadata": {
    "collapsed": false
   },
   "outputs": [
    {
     "name": "stdout",
     "output_type": "stream",
     "text": [
      "building_material\n",
      "construction_status\n",
      "heating\n",
      "mysql_search_price_per_m\n",
      "mysql_search_rooms_num\n",
      "rent_to_students\n",
      "windows_type\n",
      "building_type\n",
      "floor_no\n"
     ]
    }
   ],
   "source": [
    "for col in df_aggregated.columns:\n",
    "    if col not in X.columns:\n",
    "        print(col)\n",
    "        df_aggregated = df_aggregated.drop(col, axis=1)"
   ]
  },
  {
   "cell_type": "code",
   "execution_count": 77,
   "metadata": {
    "collapsed": false
   },
   "outputs": [],
   "source": [
    "selected_columns = X_train.columns"
   ]
  },
  {
   "cell_type": "code",
   "execution_count": 78,
   "metadata": {
    "collapsed": false
   },
   "outputs": [
    {
     "data": {
      "text/plain": [
       "array([[0.5433407 , 0.45665932]], dtype=float32)"
      ]
     },
     "execution_count": 78,
     "metadata": {},
     "output_type": "execute_result"
    }
   ],
   "source": [
    "clf.predict_proba(df_aggregated[selected_columns])"
   ]
  },
  {
   "cell_type": "code",
   "execution_count": 79,
   "metadata": {
    "collapsed": true
   },
   "outputs": [],
   "source": [
    "df_aggregated = df_aggregated[selected_columns]"
   ]
  },
  {
   "cell_type": "code",
   "execution_count": 80,
   "metadata": {
    "collapsed": false
   },
   "outputs": [
    {
     "data": {
      "text/html": [
       "\n",
       "    <style>\n",
       "    table.eli5-weights tr:hover {\n",
       "        filter: brightness(85%);\n",
       "    }\n",
       "</style>\n",
       "\n",
       "\n",
       "\n",
       "    \n",
       "\n",
       "    \n",
       "\n",
       "    \n",
       "\n",
       "    \n",
       "\n",
       "    \n",
       "\n",
       "    \n",
       "\n",
       "\n",
       "    \n",
       "\n",
       "    \n",
       "\n",
       "    \n",
       "\n",
       "    \n",
       "        \n",
       "\n",
       "    \n",
       "\n",
       "        \n",
       "            \n",
       "                \n",
       "                \n",
       "    \n",
       "        <p style=\"margin-bottom: 0.5em; margin-top: 0em\">\n",
       "            <b>\n",
       "    \n",
       "        y=0\n",
       "    \n",
       "</b>\n",
       "\n",
       "    \n",
       "    (probability <b>0.543</b>, score <b>-0.174</b>)\n",
       "\n",
       "top features\n",
       "        </p>\n",
       "    \n",
       "    <table class=\"eli5-weights\"\n",
       "           style=\"border-collapse: collapse; border: none; margin-top: 0em; table-layout: auto; margin-bottom: 2em;\">\n",
       "        <thead>\n",
       "        <tr style=\"border: none;\">\n",
       "            \n",
       "                <th style=\"padding: 0 1em 0 0.5em; text-align: right; border: none;\" title=\"Feature contribution already accounts for the feature value (for linear models, contribution = weight * feature value), and the sum of feature contributions is equal to the score or, for some classifiers, to the probability. Feature values are shown if &quot;show_feature_values&quot; is True.\">\n",
       "                    Contribution<sup>?</sup>\n",
       "                </th>\n",
       "            \n",
       "            <th style=\"padding: 0 0.5em 0 0.5em; text-align: left; border: none;\">Feature</th>\n",
       "            \n",
       "                <th style=\"padding: 0 0.5em 0 1em; text-align: right; border: none;\">Value</th>\n",
       "            \n",
       "        </tr>\n",
       "        </thead>\n",
       "        <tbody>\n",
       "        \n",
       "            <tr style=\"background-color: hsl(120, 100.00%, 86.35%); border: none;\">\n",
       "    <td style=\"padding: 0 1em 0 0.5em; text-align: right; border: none;\">\n",
       "        +0.775\n",
       "    </td>\n",
       "    <td style=\"padding: 0 0.5em 0 0.5em; text-align: left; border: none;\">\n",
       "        n_images\n",
       "    </td>\n",
       "    \n",
       "        <td style=\"padding: 0 0.5em 0 1em; text-align: right; border: none;\">\n",
       "            0.000\n",
       "        </td>\n",
       "    \n",
       "</tr>\n",
       "        \n",
       "            <tr style=\"background-color: hsl(120, 100.00%, 91.31%); border: none;\">\n",
       "    <td style=\"padding: 0 1em 0 0.5em; text-align: right; border: none;\">\n",
       "        +0.407\n",
       "    </td>\n",
       "    <td style=\"padding: 0 0.5em 0 0.5em; text-align: left; border: none;\">\n",
       "        private_business\n",
       "    </td>\n",
       "    \n",
       "        <td style=\"padding: 0 0.5em 0 1em; text-align: right; border: none;\">\n",
       "            0.000\n",
       "        </td>\n",
       "    \n",
       "</tr>\n",
       "        \n",
       "            <tr style=\"background-color: hsl(120, 100.00%, 93.48%); border: none;\">\n",
       "    <td style=\"padding: 0 1em 0 0.5em; text-align: right; border: none;\">\n",
       "        +0.270\n",
       "    </td>\n",
       "    <td style=\"padding: 0 0.5em 0 0.5em; text-align: left; border: none;\">\n",
       "        description\n",
       "    </td>\n",
       "    \n",
       "        <td style=\"padding: 0 0.5em 0 1em; text-align: right; border: none;\">\n",
       "            1786.000\n",
       "        </td>\n",
       "    \n",
       "</tr>\n",
       "        \n",
       "            <tr style=\"background-color: hsl(120, 100.00%, 93.77%); border: none;\">\n",
       "    <td style=\"padding: 0 1em 0 0.5em; text-align: right; border: none;\">\n",
       "        +0.253\n",
       "    </td>\n",
       "    <td style=\"padding: 0 0.5em 0 0.5em; text-align: left; border: none;\">\n",
       "        mysql_search_price\n",
       "    </td>\n",
       "    \n",
       "        <td style=\"padding: 0 0.5em 0 1em; text-align: right; border: none;\">\n",
       "            2000.000\n",
       "        </td>\n",
       "    \n",
       "</tr>\n",
       "        \n",
       "            <tr style=\"background-color: hsl(120, 100.00%, 94.91%); border: none;\">\n",
       "    <td style=\"padding: 0 1em 0 0.5em; text-align: right; border: none;\">\n",
       "        +0.190\n",
       "    </td>\n",
       "    <td style=\"padding: 0 0.5em 0 0.5em; text-align: left; border: none;\">\n",
       "        mysql_search_m\n",
       "    </td>\n",
       "    \n",
       "        <td style=\"padding: 0 0.5em 0 1em; text-align: right; border: none;\">\n",
       "            88.000\n",
       "        </td>\n",
       "    \n",
       "</tr>\n",
       "        \n",
       "            <tr style=\"background-color: hsl(120, 100.00%, 95.83%); border: none;\">\n",
       "    <td style=\"padding: 0 1em 0 0.5em; text-align: right; border: none;\">\n",
       "        +0.143\n",
       "    </td>\n",
       "    <td style=\"padding: 0 0.5em 0 0.5em; text-align: left; border: none;\">\n",
       "        building_material_no_info\n",
       "    </td>\n",
       "    \n",
       "        <td style=\"padding: 0 0.5em 0 1em; text-align: right; border: none;\">\n",
       "            0.000\n",
       "        </td>\n",
       "    \n",
       "</tr>\n",
       "        \n",
       "            <tr style=\"background-color: hsl(120, 100.00%, 96.03%); border: none;\">\n",
       "    <td style=\"padding: 0 1em 0 0.5em; text-align: right; border: none;\">\n",
       "        +0.133\n",
       "    </td>\n",
       "    <td style=\"padding: 0 0.5em 0 0.5em; text-align: left; border: none;\">\n",
       "        stove\n",
       "    </td>\n",
       "    \n",
       "        <td style=\"padding: 0 0.5em 0 1em; text-align: right; border: none;\">\n",
       "            0.000\n",
       "        </td>\n",
       "    \n",
       "</tr>\n",
       "        \n",
       "            <tr style=\"background-color: hsl(120, 100.00%, 96.88%); border: none;\">\n",
       "    <td style=\"padding: 0 1em 0 0.5em; text-align: right; border: none;\">\n",
       "        +0.094\n",
       "    </td>\n",
       "    <td style=\"padding: 0 0.5em 0 0.5em; text-align: left; border: none;\">\n",
       "        construction_status_ready_to_use\n",
       "    </td>\n",
       "    \n",
       "        <td style=\"padding: 0 0.5em 0 1em; text-align: right; border: none;\">\n",
       "            0.000\n",
       "        </td>\n",
       "    \n",
       "</tr>\n",
       "        \n",
       "            <tr style=\"background-color: hsl(120, 100.00%, 96.91%); border: none;\">\n",
       "    <td style=\"padding: 0 1em 0 0.5em; text-align: right; border: none;\">\n",
       "        +0.093\n",
       "    </td>\n",
       "    <td style=\"padding: 0 0.5em 0 0.5em; text-align: left; border: none;\">\n",
       "        title\n",
       "    </td>\n",
       "    \n",
       "        <td style=\"padding: 0 0.5em 0 1em; text-align: right; border: none;\">\n",
       "            30.000\n",
       "        </td>\n",
       "    \n",
       "</tr>\n",
       "        \n",
       "            <tr style=\"background-color: hsl(120, 100.00%, 97.04%); border: none;\">\n",
       "    <td style=\"padding: 0 1em 0 0.5em; text-align: right; border: none;\">\n",
       "        +0.087\n",
       "    </td>\n",
       "    <td style=\"padding: 0 0.5em 0 0.5em; text-align: left; border: none;\">\n",
       "        avg_price\n",
       "    </td>\n",
       "    \n",
       "        <td style=\"padding: 0 0.5em 0 1em; text-align: right; border: none;\">\n",
       "            4370.744\n",
       "        </td>\n",
       "    \n",
       "</tr>\n",
       "        \n",
       "            <tr style=\"background-color: hsl(120, 100.00%, 97.96%); border: none;\">\n",
       "    <td style=\"padding: 0 1em 0 0.5em; text-align: right; border: none;\">\n",
       "        +0.051\n",
       "    </td>\n",
       "    <td style=\"padding: 0 0.5em 0 0.5em; text-align: left; border: none;\">\n",
       "        windows_type_plastic\n",
       "    </td>\n",
       "    \n",
       "        <td style=\"padding: 0 0.5em 0 1em; text-align: right; border: none;\">\n",
       "            0.000\n",
       "        </td>\n",
       "    \n",
       "</tr>\n",
       "        \n",
       "            <tr style=\"background-color: hsl(120, 100.00%, 98.21%); border: none;\">\n",
       "    <td style=\"padding: 0 1em 0 0.5em; text-align: right; border: none;\">\n",
       "        +0.043\n",
       "    </td>\n",
       "    <td style=\"padding: 0 0.5em 0 0.5em; text-align: left; border: none;\">\n",
       "        heating_urban\n",
       "    </td>\n",
       "    \n",
       "        <td style=\"padding: 0 0.5em 0 1em; text-align: right; border: none;\">\n",
       "            0.000\n",
       "        </td>\n",
       "    \n",
       "</tr>\n",
       "        \n",
       "        \n",
       "            <tr style=\"background-color: hsl(120, 100.00%, 98.21%); border: none;\">\n",
       "                <td colspan=\"3\" style=\"padding: 0 0.5em 0 0.5em; text-align: center; border: none; white-space: nowrap;\">\n",
       "                    <i>&hellip; 41 more positive &hellip;</i>\n",
       "                </td>\n",
       "            </tr>\n",
       "        \n",
       "\n",
       "        \n",
       "            <tr style=\"background-color: hsl(0, 100.00%, 98.03%); border: none;\">\n",
       "                <td colspan=\"3\" style=\"padding: 0 0.5em 0 0.5em; text-align: center; border: none; white-space: nowrap;\">\n",
       "                    <i>&hellip; 40 more negative &hellip;</i>\n",
       "                </td>\n",
       "            </tr>\n",
       "        \n",
       "        \n",
       "            <tr style=\"background-color: hsl(0, 100.00%, 98.03%); border: none;\">\n",
       "    <td style=\"padding: 0 1em 0 0.5em; text-align: right; border: none;\">\n",
       "        -0.049\n",
       "    </td>\n",
       "    <td style=\"padding: 0 0.5em 0 0.5em; text-align: left; border: none;\">\n",
       "        street_info\n",
       "    </td>\n",
       "    \n",
       "        <td style=\"padding: 0 0.5em 0 1em; text-align: right; border: none;\">\n",
       "            1.000\n",
       "        </td>\n",
       "    \n",
       "</tr>\n",
       "        \n",
       "            <tr style=\"background-color: hsl(0, 100.00%, 97.83%); border: none;\">\n",
       "    <td style=\"padding: 0 1em 0 0.5em; text-align: right; border: none;\">\n",
       "        -0.056\n",
       "    </td>\n",
       "    <td style=\"padding: 0 0.5em 0 0.5em; text-align: left; border: none;\">\n",
       "        internet\n",
       "    </td>\n",
       "    \n",
       "        <td style=\"padding: 0 0.5em 0 1em; text-align: right; border: none;\">\n",
       "            1.000\n",
       "        </td>\n",
       "    \n",
       "</tr>\n",
       "        \n",
       "            <tr style=\"background-color: hsl(0, 100.00%, 97.77%); border: none;\">\n",
       "    <td style=\"padding: 0 1em 0 0.5em; text-align: right; border: none;\">\n",
       "        -0.058\n",
       "    </td>\n",
       "    <td style=\"padding: 0 0.5em 0 0.5em; text-align: left; border: none;\">\n",
       "        higher_city_room_mean\n",
       "    </td>\n",
       "    \n",
       "        <td style=\"padding: 0 0.5em 0 1em; text-align: right; border: none;\">\n",
       "            0.000\n",
       "        </td>\n",
       "    \n",
       "</tr>\n",
       "        \n",
       "            <tr style=\"background-color: hsl(0, 100.00%, 96.80%); border: none;\">\n",
       "    <td style=\"padding: 0 1em 0 0.5em; text-align: right; border: none;\">\n",
       "        -0.098\n",
       "    </td>\n",
       "    <td style=\"padding: 0 0.5em 0 0.5em; text-align: left; border: none;\">\n",
       "        cable-television\n",
       "    </td>\n",
       "    \n",
       "        <td style=\"padding: 0 0.5em 0 1em; text-align: right; border: none;\">\n",
       "            1.000\n",
       "        </td>\n",
       "    \n",
       "</tr>\n",
       "        \n",
       "            <tr style=\"background-color: hsl(0, 100.00%, 95.93%); border: none;\">\n",
       "    <td style=\"padding: 0 1em 0 0.5em; text-align: right; border: none;\">\n",
       "        -0.137\n",
       "    </td>\n",
       "    <td style=\"padding: 0 0.5em 0 0.5em; text-align: left; border: none;\">\n",
       "        city_id\n",
       "    </td>\n",
       "    \n",
       "        <td style=\"padding: 0 0.5em 0 1em; text-align: right; border: none;\">\n",
       "            26.000\n",
       "        </td>\n",
       "    \n",
       "</tr>\n",
       "        \n",
       "            <tr style=\"background-color: hsl(0, 100.00%, 93.23%); border: none;\">\n",
       "    <td style=\"padding: 0 1em 0 0.5em; text-align: right; border: none;\">\n",
       "        -0.285\n",
       "    </td>\n",
       "    <td style=\"padding: 0 0.5em 0 0.5em; text-align: left; border: none;\">\n",
       "        no_media\n",
       "    </td>\n",
       "    \n",
       "        <td style=\"padding: 0 0.5em 0 1em; text-align: right; border: none;\">\n",
       "            0.000\n",
       "        </td>\n",
       "    \n",
       "</tr>\n",
       "        \n",
       "            <tr style=\"background-color: hsl(0, 100.00%, 92.52%); border: none;\">\n",
       "    <td style=\"padding: 0 1em 0 0.5em; text-align: right; border: none;\">\n",
       "        -0.328\n",
       "    </td>\n",
       "    <td style=\"padding: 0 0.5em 0 0.5em; text-align: left; border: none;\">\n",
       "        rent_to_students_no_info\n",
       "    </td>\n",
       "    \n",
       "        <td style=\"padding: 0 0.5em 0 1em; text-align: right; border: none;\">\n",
       "            0.000\n",
       "        </td>\n",
       "    \n",
       "</tr>\n",
       "        \n",
       "            <tr style=\"background-color: hsl(0, 100.00%, 80.00%); border: none;\">\n",
       "    <td style=\"padding: 0 1em 0 0.5em; text-align: right; border: none;\">\n",
       "        -1.338\n",
       "    </td>\n",
       "    <td style=\"padding: 0 0.5em 0 0.5em; text-align: left; border: none;\">\n",
       "        price_diff\n",
       "    </td>\n",
       "    \n",
       "        <td style=\"padding: 0 0.5em 0 1em; text-align: right; border: none;\">\n",
       "            -0.542\n",
       "        </td>\n",
       "    \n",
       "</tr>\n",
       "        \n",
       "\n",
       "        </tbody>\n",
       "    </table>\n",
       "\n",
       "            \n",
       "        \n",
       "\n",
       "        \n",
       "\n",
       "\n",
       "\n",
       "    \n",
       "\n",
       "    \n",
       "\n",
       "    \n",
       "\n",
       "    \n",
       "\n",
       "\n",
       "    \n",
       "\n",
       "    \n",
       "\n",
       "    \n",
       "\n",
       "    \n",
       "\n",
       "    \n",
       "\n",
       "    \n",
       "\n",
       "\n",
       "    \n",
       "\n",
       "    \n",
       "\n",
       "    \n",
       "\n",
       "    \n",
       "\n",
       "    \n",
       "\n",
       "    \n",
       "\n",
       "\n",
       "\n"
      ],
      "text/plain": [
       "<IPython.core.display.HTML object>"
      ]
     },
     "execution_count": 80,
     "metadata": {},
     "output_type": "execute_result"
    }
   ],
   "source": [
    "from eli5 import show_prediction\n",
    "show_prediction(clf, df_aggregated.iloc[0], show_feature_values=True, top=20)"
   ]
  },
  {
   "cell_type": "code",
   "execution_count": null,
   "metadata": {
    "collapsed": true
   },
   "outputs": [],
   "source": []
  }
 ],
 "metadata": {
  "kernelspec": {
   "display_name": "Python 3",
   "language": "python",
   "name": "python3"
  },
  "language_info": {
   "codemirror_mode": {
    "name": "ipython",
    "version": 3
   },
   "file_extension": ".py",
   "mimetype": "text/x-python",
   "name": "python",
   "nbconvert_exporter": "python",
   "pygments_lexer": "ipython3",
   "version": "3.6.0"
  }
 },
 "nbformat": 4,
 "nbformat_minor": 2
}
