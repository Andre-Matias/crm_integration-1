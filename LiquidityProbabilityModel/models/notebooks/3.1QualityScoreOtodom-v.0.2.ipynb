{
 "cells": [
  {
   "cell_type": "markdown",
   "metadata": {},
   "source": [
    "### What is this notebook for? ###\n",
    "\n",
    "The main purpose of this notebook is buiding Liquidity's probability model for the Otodom.pl, category \"apartments for sell\".\n",
    "\n",
    "**Prerequisities:** \"ml_dataset_otodompl.tsv\". Can be obtained with `2.QualityDriversDataPrep-Otodom.ipynb`\n",
    "\n",
    "**Output:**\n",
    "\n",
    "* Stored model: `xgb_otodom_buy_02.pkl`\n",
    "* Average price for city/rooms_num: `avg_city_price_otodom_buy_02.csv`\n",
    "* Model columns name: `model_columns_xgb_otodom_buy_02.pkl`"
   ]
  },
  {
   "cell_type": "code",
   "execution_count": 1,
   "metadata": {
    "collapsed": false
   },
   "outputs": [
    {
     "name": "stderr",
     "output_type": "stream",
     "text": [
      "/anaconda/lib/python3.6/site-packages/sklearn/cross_validation.py:44: DeprecationWarning: This module was deprecated in version 0.18 in favor of the model_selection module into which all the refactored classes and functions are moved. Also note that the interface of the new CV iterators are different from that of this module. This module will be removed in 0.20.\n",
      "  \"This module will be removed in 0.20.\", DeprecationWarning)\n"
     ]
    }
   ],
   "source": [
    "import pandas as pd\n",
    "import numpy as np\n",
    "from sklearn.externals import joblib\n",
    "\n",
    "from xgboost.sklearn import XGBClassifier\n",
    "\n",
    "from sklearn.model_selection import train_test_split\n",
    "from sklearn.metrics import precision_score, recall_score, f1_score, accuracy_score, roc_auc_score, classification_report\n",
    "\n",
    "import matplotlib.pyplot as plt\n",
    "%matplotlib inline"
   ]
  },
  {
   "cell_type": "code",
   "execution_count": 2,
   "metadata": {
    "collapsed": true
   },
   "outputs": [],
   "source": [
    "import warnings\n",
    "warnings.filterwarnings('ignore')"
   ]
  },
  {
   "cell_type": "code",
   "execution_count": 3,
   "metadata": {
    "collapsed": false
   },
   "outputs": [],
   "source": [
    "otodom_full = pd.read_csv(\"ml_dataset_otodompl.tsv\", sep =\"\\t\")"
   ]
  },
  {
   "cell_type": "markdown",
   "metadata": {},
   "source": [
    "Select only listings in category 101, apartments for sell."
   ]
  },
  {
   "cell_type": "code",
   "execution_count": 4,
   "metadata": {
    "collapsed": false
   },
   "outputs": [],
   "source": [
    "otodom_full = otodom_full[otodom_full['category_id'] == 101]"
   ]
  },
  {
   "cell_type": "markdown",
   "metadata": {},
   "source": [
    "We will train our model on Jun-Nov data:"
   ]
  },
  {
   "cell_type": "code",
   "execution_count": 5,
   "metadata": {
    "collapsed": true
   },
   "outputs": [],
   "source": [
    "otodom_train_full = otodom_full[otodom_full['month'] !=12]"
   ]
  },
  {
   "cell_type": "markdown",
   "metadata": {},
   "source": [
    "Data validation on December data:"
   ]
  },
  {
   "cell_type": "code",
   "execution_count": 6,
   "metadata": {
    "collapsed": true
   },
   "outputs": [],
   "source": [
    "otodom_test_full = otodom_full[otodom_full['month'] == 12]"
   ]
  },
  {
   "cell_type": "code",
   "execution_count": 7,
   "metadata": {
    "collapsed": true
   },
   "outputs": [],
   "source": [
    "def select_category(dataframe, category_id):\n",
    "    dataframe = dataframe[dataframe['category_id'] == category_id]\n",
    "    return dataframe"
   ]
  },
  {
   "cell_type": "code",
   "execution_count": 8,
   "metadata": {
    "collapsed": true
   },
   "outputs": [],
   "source": [
    "def filter_currency(dataframe, currency):\n",
    "    dataframe = dataframe[dataframe['price[currency]'] == currency]\n",
    "    return dataframe"
   ]
  },
  {
   "cell_type": "code",
   "execution_count": 9,
   "metadata": {
    "collapsed": true
   },
   "outputs": [],
   "source": [
    "def select_columns(dataframe, columns):\n",
    "    dataframe = dataframe[columns]\n",
    "    return dataframe"
   ]
  },
  {
   "cell_type": "code",
   "execution_count": 10,
   "metadata": {
    "collapsed": true
   },
   "outputs": [],
   "source": [
    "columns = ['ad_id', \n",
    "           'city_id', \n",
    "           'street_name', \n",
    "           'title', \n",
    "           'description', \n",
    "           'mysql_search_rooms_num', \n",
    "           'mysql_search_m', \n",
    "           'mysql_search_price', \n",
    "           'build_year', \n",
    "           'building_floors_num',  \n",
    "           'building_material', \n",
    "           'building_ownership', \n",
    "           'building_type',\n",
    "           'construction_status', \n",
    "           'equipment_types', \n",
    "           'extras_types', \n",
    "           'floor_no', \n",
    "           'heating', \n",
    "           'private_business', \n",
    "           'market', \n",
    "           'media_types',  \n",
    "           'security_types', \n",
    "           'windows_type',\n",
    "           'unique_senders',\n",
    "           'n_images']"
   ]
  },
  {
   "cell_type": "code",
   "execution_count": 11,
   "metadata": {
    "collapsed": true
   },
   "outputs": [],
   "source": [
    "def filter_values(dataframe, col, values_list):\n",
    "    dataframe = dataframe[dataframe[col].isin(values_list)]\n",
    "    return dataframe"
   ]
  },
  {
   "cell_type": "code",
   "execution_count": 12,
   "metadata": {
    "collapsed": true
   },
   "outputs": [],
   "source": [
    "def remove_outliers(dataframe, col, lower_bound, upper_bound):\n",
    "    dataframe = dataframe[(dataframe[col] >= lower_bound) & (dataframe[col] <= upper_bound)]\n",
    "    return dataframe"
   ]
  },
  {
   "cell_type": "code",
   "execution_count": 13,
   "metadata": {
    "collapsed": true
   },
   "outputs": [],
   "source": [
    "def add_avg_price_city_ap_type(dataframe):\n",
    "    city_n = pd.DataFrame({'city_n': dataframe.groupby(['city_id'])['ad_id'].nunique()}).reset_index()\n",
    "    city_room_avg_price = pd.DataFrame({'avg_price': dataframe.groupby(['city_id', 'mysql_search_rooms_num'])['mysql_search_price'].mean()}).reset_index()\n",
    "    dataframe = dataframe.merge(city_n, on='city_id', how='left')\n",
    "    dataframe = dataframe.merge(city_room_avg_price, on = ['city_id', 'mysql_search_rooms_num'], how='left')\n",
    "    #dataframe = dataframe[dataframe[\"city_n\"] >= 30]\n",
    "    dataframe = dataframe.drop('ad_id', axis=1)\n",
    "    return dataframe\n"
   ]
  },
  {
   "cell_type": "code",
   "execution_count": 14,
   "metadata": {
    "collapsed": true
   },
   "outputs": [],
   "source": [
    "def count_avg_price_city_ap_type(dataframe):\n",
    "    city_n = pd.DataFrame({'city_n': dataframe.groupby(['city_id'])['ad_id'].nunique()}).reset_index()\n",
    "    city_room_avg_price = pd.DataFrame({'avg_price': dataframe.groupby(['city_id', 'mysql_search_rooms_num'])['mysql_search_price'].mean()}).reset_index()\n",
    "    return city_room_avg_price"
   ]
  },
  {
   "cell_type": "code",
   "execution_count": 15,
   "metadata": {
    "collapsed": true
   },
   "outputs": [],
   "source": [
    "def create_liquid_field(dataframe):\n",
    "    # groups the data by a column and returns the mean age per group\n",
    "    dataframe['unique_senders'] = dataframe['unique_senders'].fillna(0).astype('int')\n",
    "    dataframe['liquid'] = (dataframe['unique_senders'] >= 3).astype('int')\n",
    "    dataframe = dataframe.drop('unique_senders', axis=1)\n",
    "    return dataframe"
   ]
  },
  {
   "cell_type": "code",
   "execution_count": 16,
   "metadata": {
    "collapsed": true
   },
   "outputs": [],
   "source": [
    "def add_higher_city_room_avg(dataframe):\n",
    "    dataframe['higher_city_room_mean'] = (dataframe['mysql_search_price'] > dataframe['avg_price']).astype('int')\n",
    "    return dataframe"
   ]
  },
  {
   "cell_type": "code",
   "execution_count": 17,
   "metadata": {
    "collapsed": true
   },
   "outputs": [],
   "source": [
    "def private_business_binarization(dataframe):\n",
    "    dataframe.private_business = dataframe.private_business.replace({'private': 1, 'business':0})\n",
    "    dataframe.private_business = dataframe.private_business.fillna('no_info')\n",
    "    return dataframe"
   ]
  },
  {
   "cell_type": "code",
   "execution_count": 18,
   "metadata": {
    "collapsed": true
   },
   "outputs": [],
   "source": [
    "def column_info(dataframe, col, new_column_name, drop=False):\n",
    "    dataframe[new_column_name] = pd.notnull(dataframe[col]).astype('int')\n",
    "    if drop:\n",
    "        dataframe = dataframe.drop(col, axis=1)\n",
    "    return dataframe"
   ]
  },
  {
   "cell_type": "code",
   "execution_count": 19,
   "metadata": {
    "collapsed": true
   },
   "outputs": [],
   "source": [
    "def media_types_processing(dataframe):\n",
    "    mt_test = dataframe.media_types.fillna(\"no_media\")\n",
    "    all_categories = []\n",
    "    \n",
    "    vals = mt_test.value_counts().index.tolist()\n",
    "    \n",
    "    \n",
    "    for v in vals:\n",
    "        possible_values = v.split(\"<->\")\n",
    "        for x in possible_values:\n",
    "            if x not in all_categories:\n",
    "                all_categories.append(x)\n",
    "            \n",
    "    categories = mt_test.apply(lambda x: x.split(\"<->\"))\n",
    "    \n",
    "    for x in all_categories:\n",
    "        print(x)\n",
    "        dataframe[x] = categories.map(lambda current: x in current).astype('int')\n",
    "    return dataframe\n",
    "    "
   ]
  },
  {
   "cell_type": "code",
   "execution_count": 20,
   "metadata": {
    "collapsed": true
   },
   "outputs": [],
   "source": [
    "def equipment_types_processing(dataframe):\n",
    "    mt_test = dataframe.equipment_types.fillna(\"no_equipment\")\n",
    "    all_categories = []\n",
    "    \n",
    "    vals = mt_test.value_counts().index.tolist()\n",
    "    \n",
    "    \n",
    "    for v in vals:\n",
    "        possible_values = v.split(\"<->\")\n",
    "        for x in possible_values:\n",
    "            if x not in all_categories:\n",
    "                all_categories.append(x)\n",
    "            \n",
    "    categories = mt_test.apply(lambda x: x.split(\"<->\"))\n",
    "    \n",
    "    for x in all_categories:\n",
    "        print(x)\n",
    "        dataframe[x] = categories.map(lambda current: x in current).astype('int')\n",
    "    return dataframe"
   ]
  },
  {
   "cell_type": "code",
   "execution_count": 21,
   "metadata": {
    "collapsed": true
   },
   "outputs": [],
   "source": [
    "def security_types_processing(dataframe):\n",
    "    mt_test = dataframe.security_types.fillna(\"no_security\")\n",
    "    all_categories = []\n",
    "    \n",
    "    vals = mt_test.value_counts().index.tolist()\n",
    "    \n",
    "    \n",
    "    for v in vals:\n",
    "        possible_values = v.split(\"<->\")\n",
    "        for x in possible_values:\n",
    "            if x not in all_categories:\n",
    "                all_categories.append(x)\n",
    "            \n",
    "    categories = mt_test.apply(lambda x: x.split(\"<->\"))\n",
    "    \n",
    "    for x in all_categories:\n",
    "        print(x)\n",
    "        dataframe[x] = categories.map(lambda current: x in current).astype('int')\n",
    "    return dataframe\n",
    "    "
   ]
  },
  {
   "cell_type": "code",
   "execution_count": 22,
   "metadata": {
    "collapsed": true
   },
   "outputs": [],
   "source": [
    "def extras_types_processing(dataframe):\n",
    "    mt_test = dataframe.extras_types.fillna(\"no_extras\")\n",
    "    all_categories = []\n",
    "    \n",
    "    vals = mt_test.value_counts().index.tolist()\n",
    "    \n",
    "    \n",
    "    for v in vals:\n",
    "        possible_values = v.split(\"<->\")\n",
    "        for x in possible_values:\n",
    "            if x not in all_categories:\n",
    "                all_categories.append(x)\n",
    "            \n",
    "    categories = mt_test.apply(lambda x: x.split(\"<->\"))\n",
    "    \n",
    "    for x in all_categories:\n",
    "        print(x)\n",
    "        dataframe[x] = categories.map(lambda current: x in current).astype('int')\n",
    "    return dataframe"
   ]
  },
  {
   "cell_type": "code",
   "execution_count": 23,
   "metadata": {
    "collapsed": true
   },
   "outputs": [],
   "source": [
    "def create_construction_decade(dataframe):\n",
    "    dataframe['construction_year_decade'] = dataframe['build_year'].fillna(0)\\\n",
    "    .apply(lambda year: year if (year > 1000 and year < 2030) else 0)\\\n",
    "    .apply(lambda year: year // 10)\n",
    "    dataframe = dataframe.drop('build_year', axis=1)\n",
    "    return dataframe"
   ]
  },
  {
   "cell_type": "code",
   "execution_count": 24,
   "metadata": {
    "collapsed": true
   },
   "outputs": [],
   "source": [
    "def market_primary_binarization(dataframe):\n",
    "    dataframe['market_primary'] = dataframe['market'].replace({'primary': 1, 'secondary':0})\n",
    "    dataframe['market_primary'] = dataframe.market_primary.fillna('no_info')\n",
    "    dataframe = dataframe.drop('market', axis=1)\n",
    "    return dataframe"
   ]
  },
  {
   "cell_type": "code",
   "execution_count": 25,
   "metadata": {
    "collapsed": true
   },
   "outputs": [],
   "source": [
    "def create_avg_price_diff(dataframe, avg_price_col, price_col, new_column_name):\n",
    "    dataframe[new_column_name] = (dataframe[price_col] - dataframe[avg_price_col])/dataframe[avg_price_col]\n",
    "    return dataframe"
   ]
  },
  {
   "cell_type": "code",
   "execution_count": 26,
   "metadata": {
    "collapsed": false
   },
   "outputs": [
    {
     "name": "stdout",
     "output_type": "stream",
     "text": [
      "no_media\n",
      "cable-television\n",
      "internet\n",
      "phone\n",
      "0\n",
      "electricity\n",
      "gas\n",
      "sewage\n",
      "water\n",
      "cable_television\n",
      "no_equipment\n",
      "0\n",
      "furniture\n",
      "dishwasher\n",
      "fridge\n",
      "oven\n",
      "stove\n",
      "washing_machine\n",
      "tv\n",
      "no_security\n",
      "entryphone\n",
      "0\n",
      "monitoring\n",
      "anti_burglary_door\n",
      "closed_area\n",
      "roller_shutters\n",
      "alarm\n",
      "no_extras\n",
      "balcony\n",
      "garage\n",
      "lift\n",
      "basement\n",
      "separate_kitchen\n",
      "0\n",
      "usable_room\n",
      "terrace\n",
      "garden\n",
      "air_conditioning\n",
      "two_storey\n",
      "pool\n",
      "attic\n"
     ]
    }
   ],
   "source": [
    "otodom_train_buy = otodom_train_full.pipe(filter_currency, currency = 'PLN')\\\n",
    ".pipe(select_columns, columns=columns)\\\n",
    ".pipe(create_liquid_field)\\\n",
    ".pipe(remove_outliers, col='mysql_search_m', lower_bound=20, upper_bound=200)\\\n",
    ".pipe(filter_values, col='mysql_search_rooms_num', values_list=['0', '1', '2', '3', '4', '5', '6'])\\\n",
    ".pipe(remove_outliers, col='mysql_search_price', lower_bound=100000, upper_bound=750000)\\\n",
    ".pipe(add_avg_price_city_ap_type)\\\n",
    ".pipe(add_higher_city_room_avg)\\\n",
    ".pipe(private_business_binarization)\\\n",
    ".pipe(column_info, col='build_year', new_column_name='construction_year_info')\\\n",
    ".pipe(create_construction_decade)\\\n",
    ".pipe(column_info, col='street_name', new_column_name='street_info', drop=True)\\\n",
    ".pipe(media_types_processing)\\\n",
    ".pipe(equipment_types_processing)\\\n",
    ".pipe(security_types_processing)\\\n",
    ".pipe(extras_types_processing)\\\n",
    ".pipe(column_info, col='extras_types', new_column_name='extras_types_info', drop=True)\\\n",
    ".pipe(column_info, col='media_types', new_column_name='media_types_info', drop=True)\\\n",
    ".pipe(column_info, col='security_types', new_column_name='security_types_info', drop=True)\\\n",
    ".pipe(column_info, col='equipment_types', new_column_name='equipment_types_info', drop=True)\\\n",
    ".pipe(market_primary_binarization)\\\n",
    ".pipe(create_avg_price_diff, avg_price_col='avg_price', price_col='mysql_search_price', new_column_name= 'price_diff')"
   ]
  },
  {
   "cell_type": "code",
   "execution_count": 27,
   "metadata": {
    "collapsed": false
   },
   "outputs": [
    {
     "name": "stdout",
     "output_type": "stream",
     "text": [
      "no_media\n",
      "cable-television\n",
      "internet\n",
      "phone\n",
      "0\n",
      "cable_television\n",
      "electricity\n",
      "gas\n",
      "sewage\n",
      "water\n",
      "no_equipment\n",
      "0\n",
      "furniture\n",
      "dishwasher\n",
      "fridge\n",
      "oven\n",
      "stove\n",
      "washing_machine\n",
      "tv\n",
      "no_security\n",
      "entryphone\n",
      "monitoring\n",
      "0\n",
      "anti_burglary_door\n",
      "closed_area\n",
      "alarm\n",
      "roller_shutters\n",
      "balcony\n",
      "no_extras\n",
      "garage\n",
      "lift\n",
      "basement\n",
      "separate_kitchen\n",
      "0\n",
      "usable_room\n",
      "terrace\n",
      "garden\n",
      "air_conditioning\n",
      "two_storey\n"
     ]
    }
   ],
   "source": [
    "otodom_test_buy = otodom_test_full.pipe(filter_currency, currency = 'PLN')\\\n",
    ".pipe(select_columns, columns=columns)\\\n",
    ".pipe(create_liquid_field)\\\n",
    ".pipe(remove_outliers, col='mysql_search_m', lower_bound=20, upper_bound=200)\\\n",
    ".pipe(filter_values, col='mysql_search_rooms_num', values_list=['0', '1', '2', '3', '4', '5', '6'])\\\n",
    ".pipe(remove_outliers, col='mysql_search_price', lower_bound=100000, upper_bound=750000)\\\n",
    ".pipe(add_avg_price_city_ap_type)\\\n",
    ".pipe(add_higher_city_room_avg)\\\n",
    ".pipe(private_business_binarization)\\\n",
    ".pipe(column_info, col='build_year', new_column_name='construction_year_info')\\\n",
    ".pipe(create_construction_decade)\\\n",
    ".pipe(column_info, col='street_name', new_column_name='street_info', drop=True)\\\n",
    ".pipe(media_types_processing)\\\n",
    ".pipe(equipment_types_processing)\\\n",
    ".pipe(security_types_processing)\\\n",
    ".pipe(extras_types_processing)\\\n",
    ".pipe(column_info, col='extras_types', new_column_name='extras_types_info', drop=True)\\\n",
    ".pipe(column_info, col='media_types', new_column_name='media_types_info', drop=True)\\\n",
    ".pipe(column_info, col='security_types', new_column_name='security_types_info', drop=True)\\\n",
    ".pipe(column_info, col='equipment_types', new_column_name='equipment_types_info', drop=True)\\\n",
    ".pipe(market_primary_binarization)\\\n",
    ".pipe(create_avg_price_diff, avg_price_col='avg_price', price_col='mysql_search_price', new_column_name= 'price_diff')\n"
   ]
  },
  {
   "cell_type": "code",
   "execution_count": 28,
   "metadata": {
    "collapsed": false
   },
   "outputs": [
    {
     "name": "stdout",
     "output_type": "stream",
     "text": [
      "city_id\n",
      "title\n",
      "description\n",
      "mysql_search_rooms_num\n",
      "mysql_search_m\n",
      "mysql_search_price\n",
      "building_floors_num\n",
      "building_material\n",
      "building_ownership\n",
      "building_type\n",
      "construction_status\n",
      "floor_no\n",
      "heating\n",
      "private_business\n",
      "windows_type\n",
      "n_images\n",
      "liquid\n",
      "city_n\n",
      "avg_price\n",
      "higher_city_room_mean\n",
      "construction_year_info\n",
      "construction_year_decade\n",
      "street_info\n",
      "no_media\n",
      "cable-television\n",
      "internet\n",
      "phone\n",
      "0\n",
      "electricity\n",
      "gas\n",
      "sewage\n",
      "water\n",
      "cable_television\n",
      "no_equipment\n",
      "furniture\n",
      "dishwasher\n",
      "fridge\n",
      "oven\n",
      "stove\n",
      "washing_machine\n",
      "tv\n",
      "no_security\n",
      "entryphone\n",
      "monitoring\n",
      "anti_burglary_door\n",
      "closed_area\n",
      "roller_shutters\n",
      "alarm\n",
      "no_extras\n",
      "balcony\n",
      "garage\n",
      "lift\n",
      "basement\n",
      "separate_kitchen\n",
      "usable_room\n",
      "terrace\n",
      "garden\n",
      "air_conditioning\n",
      "two_storey\n",
      "pool\n",
      "attic\n",
      "extras_types_info\n",
      "media_types_info\n",
      "security_types_info\n",
      "equipment_types_info\n",
      "market_primary\n",
      "price_diff\n"
     ]
    }
   ],
   "source": [
    "for c in otodom_train_buy:\n",
    "    print(c)"
   ]
  },
  {
   "cell_type": "code",
   "execution_count": 29,
   "metadata": {
    "collapsed": false
   },
   "outputs": [
    {
     "data": {
      "text/plain": [
       "201.0    171313\n",
       "0.0      135815\n",
       "200.0     38689\n",
       "197.0     24894\n",
       "198.0     22359\n",
       "Name: construction_year_decade, dtype: int64"
      ]
     },
     "execution_count": 29,
     "metadata": {},
     "output_type": "execute_result"
    }
   ],
   "source": [
    "otodom_train_buy.construction_year_decade.value_counts().head()"
   ]
  },
  {
   "cell_type": "code",
   "execution_count": 30,
   "metadata": {
    "collapsed": true
   },
   "outputs": [],
   "source": [
    "cat_columns = ['market_primary',\n",
    "                  'mysql_search_rooms_num',\n",
    "                  'building_material',\n",
    "                  'building_ownership',\n",
    "                  'building_type',\n",
    "                  'construction_status',\n",
    "                  'floor_no',\n",
    "                  'windows_type',\n",
    "                  'heating']"
   ]
  },
  {
   "cell_type": "code",
   "execution_count": 31,
   "metadata": {
    "collapsed": false
   },
   "outputs": [],
   "source": [
    "otodom_train_buy[cat_columns] = otodom_train_buy[cat_columns].fillna('no_info').astype('str')\n",
    "otodom_test_buy[cat_columns] = otodom_test_buy[cat_columns].fillna('no_info').astype('str')"
   ]
  },
  {
   "cell_type": "code",
   "execution_count": 32,
   "metadata": {
    "collapsed": true
   },
   "outputs": [],
   "source": [
    "train_dataset = pd.get_dummies(otodom_train_buy)\n",
    "test_dataset = pd.get_dummies(otodom_test_buy)"
   ]
  },
  {
   "cell_type": "code",
   "execution_count": 33,
   "metadata": {
    "collapsed": true
   },
   "outputs": [],
   "source": [
    "num_columns = ['title', \n",
    "               'description', \n",
    "               'mysql_search_m', \n",
    "               'mysql_search_price', \n",
    "               'building_floors_num', \n",
    "               'n_images', \n",
    "               'avg_price']"
   ]
  },
  {
   "cell_type": "code",
   "execution_count": 34,
   "metadata": {
    "collapsed": true
   },
   "outputs": [],
   "source": [
    "train_dataset[num_columns] = train_dataset[num_columns].fillna(0)\n",
    "test_dataset[num_columns] = test_dataset[num_columns].fillna(0)"
   ]
  },
  {
   "cell_type": "code",
   "execution_count": 35,
   "metadata": {
    "collapsed": false
   },
   "outputs": [
    {
     "data": {
      "text/html": [
       "<div>\n",
       "<table border=\"1\" class=\"dataframe\">\n",
       "  <thead>\n",
       "    <tr style=\"text-align: right;\">\n",
       "      <th></th>\n",
       "      <th>city_id</th>\n",
       "      <th>title</th>\n",
       "      <th>description</th>\n",
       "      <th>mysql_search_m</th>\n",
       "      <th>mysql_search_price</th>\n",
       "      <th>building_floors_num</th>\n",
       "      <th>private_business</th>\n",
       "      <th>n_images</th>\n",
       "      <th>liquid</th>\n",
       "      <th>city_n</th>\n",
       "      <th>...</th>\n",
       "      <th>heating_other</th>\n",
       "      <th>heating_tiled_stove</th>\n",
       "      <th>heating_urban</th>\n",
       "      <th>windows_type_aluminium</th>\n",
       "      <th>windows_type_no_info</th>\n",
       "      <th>windows_type_notany</th>\n",
       "      <th>windows_type_plastic</th>\n",
       "      <th>windows_type_wooden</th>\n",
       "      <th>market_primary_0</th>\n",
       "      <th>market_primary_1</th>\n",
       "    </tr>\n",
       "  </thead>\n",
       "  <tbody>\n",
       "    <tr>\n",
       "      <th>0</th>\n",
       "      <td>6171</td>\n",
       "      <td>27</td>\n",
       "      <td>1604</td>\n",
       "      <td>49.16</td>\n",
       "      <td>231050</td>\n",
       "      <td>2.0</td>\n",
       "      <td>0</td>\n",
       "      <td>9</td>\n",
       "      <td>0</td>\n",
       "      <td>135</td>\n",
       "      <td>...</td>\n",
       "      <td>1</td>\n",
       "      <td>0</td>\n",
       "      <td>0</td>\n",
       "      <td>0</td>\n",
       "      <td>0</td>\n",
       "      <td>0</td>\n",
       "      <td>1</td>\n",
       "      <td>0</td>\n",
       "      <td>0</td>\n",
       "      <td>1</td>\n",
       "    </tr>\n",
       "    <tr>\n",
       "      <th>1</th>\n",
       "      <td>213</td>\n",
       "      <td>0</td>\n",
       "      <td>697</td>\n",
       "      <td>46.26</td>\n",
       "      <td>199000</td>\n",
       "      <td>4.0</td>\n",
       "      <td>0</td>\n",
       "      <td>12</td>\n",
       "      <td>0</td>\n",
       "      <td>7528</td>\n",
       "      <td>...</td>\n",
       "      <td>0</td>\n",
       "      <td>0</td>\n",
       "      <td>0</td>\n",
       "      <td>0</td>\n",
       "      <td>1</td>\n",
       "      <td>0</td>\n",
       "      <td>0</td>\n",
       "      <td>0</td>\n",
       "      <td>1</td>\n",
       "      <td>0</td>\n",
       "    </tr>\n",
       "    <tr>\n",
       "      <th>2</th>\n",
       "      <td>196</td>\n",
       "      <td>23</td>\n",
       "      <td>1507</td>\n",
       "      <td>39.83</td>\n",
       "      <td>225000</td>\n",
       "      <td>0.0</td>\n",
       "      <td>0</td>\n",
       "      <td>17</td>\n",
       "      <td>0</td>\n",
       "      <td>1077</td>\n",
       "      <td>...</td>\n",
       "      <td>0</td>\n",
       "      <td>0</td>\n",
       "      <td>0</td>\n",
       "      <td>0</td>\n",
       "      <td>0</td>\n",
       "      <td>0</td>\n",
       "      <td>1</td>\n",
       "      <td>0</td>\n",
       "      <td>1</td>\n",
       "      <td>0</td>\n",
       "    </tr>\n",
       "    <tr>\n",
       "      <th>3</th>\n",
       "      <td>204</td>\n",
       "      <td>0</td>\n",
       "      <td>767</td>\n",
       "      <td>89.40</td>\n",
       "      <td>350000</td>\n",
       "      <td>4.0</td>\n",
       "      <td>0</td>\n",
       "      <td>9</td>\n",
       "      <td>0</td>\n",
       "      <td>5796</td>\n",
       "      <td>...</td>\n",
       "      <td>0</td>\n",
       "      <td>0</td>\n",
       "      <td>1</td>\n",
       "      <td>0</td>\n",
       "      <td>1</td>\n",
       "      <td>0</td>\n",
       "      <td>0</td>\n",
       "      <td>0</td>\n",
       "      <td>1</td>\n",
       "      <td>0</td>\n",
       "    </tr>\n",
       "    <tr>\n",
       "      <th>4</th>\n",
       "      <td>26</td>\n",
       "      <td>50</td>\n",
       "      <td>1084</td>\n",
       "      <td>48.16</td>\n",
       "      <td>364298</td>\n",
       "      <td>3.0</td>\n",
       "      <td>0</td>\n",
       "      <td>2</td>\n",
       "      <td>0</td>\n",
       "      <td>115585</td>\n",
       "      <td>...</td>\n",
       "      <td>0</td>\n",
       "      <td>0</td>\n",
       "      <td>0</td>\n",
       "      <td>0</td>\n",
       "      <td>1</td>\n",
       "      <td>0</td>\n",
       "      <td>0</td>\n",
       "      <td>0</td>\n",
       "      <td>0</td>\n",
       "      <td>1</td>\n",
       "    </tr>\n",
       "  </tbody>\n",
       "</table>\n",
       "<p>5 rows × 124 columns</p>\n",
       "</div>"
      ],
      "text/plain": [
       "   city_id  title  description  mysql_search_m  mysql_search_price  \\\n",
       "0     6171     27         1604           49.16              231050   \n",
       "1      213      0          697           46.26              199000   \n",
       "2      196     23         1507           39.83              225000   \n",
       "3      204      0          767           89.40              350000   \n",
       "4       26     50         1084           48.16              364298   \n",
       "\n",
       "   building_floors_num  private_business  n_images  liquid  city_n  \\\n",
       "0                  2.0                 0         9       0     135   \n",
       "1                  4.0                 0        12       0    7528   \n",
       "2                  0.0                 0        17       0    1077   \n",
       "3                  4.0                 0         9       0    5796   \n",
       "4                  3.0                 0         2       0  115585   \n",
       "\n",
       "         ...         heating_other  heating_tiled_stove  heating_urban  \\\n",
       "0        ...                     1                    0              0   \n",
       "1        ...                     0                    0              0   \n",
       "2        ...                     0                    0              0   \n",
       "3        ...                     0                    0              1   \n",
       "4        ...                     0                    0              0   \n",
       "\n",
       "   windows_type_aluminium  windows_type_no_info  windows_type_notany  \\\n",
       "0                       0                     0                    0   \n",
       "1                       0                     1                    0   \n",
       "2                       0                     0                    0   \n",
       "3                       0                     1                    0   \n",
       "4                       0                     1                    0   \n",
       "\n",
       "   windows_type_plastic  windows_type_wooden  market_primary_0  \\\n",
       "0                     1                    0                 0   \n",
       "1                     0                    0                 1   \n",
       "2                     1                    0                 1   \n",
       "3                     0                    0                 1   \n",
       "4                     0                    0                 0   \n",
       "\n",
       "   market_primary_1  \n",
       "0                 1  \n",
       "1                 0  \n",
       "2                 0  \n",
       "3                 0  \n",
       "4                 1  \n",
       "\n",
       "[5 rows x 124 columns]"
      ]
     },
     "execution_count": 35,
     "metadata": {},
     "output_type": "execute_result"
    }
   ],
   "source": [
    "train_dataset.head()"
   ]
  },
  {
   "cell_type": "code",
   "execution_count": 36,
   "metadata": {
    "collapsed": true
   },
   "outputs": [],
   "source": [
    "y = train_dataset['liquid']\n",
    "y_cv = test_dataset['liquid']"
   ]
  },
  {
   "cell_type": "code",
   "execution_count": 37,
   "metadata": {
    "collapsed": false
   },
   "outputs": [],
   "source": [
    "X = train_dataset.drop(['liquid',  'city_n'], axis=1)\n",
    "X_cv = test_dataset.drop(['liquid','city_n'], axis=1)"
   ]
  },
  {
   "cell_type": "code",
   "execution_count": 38,
   "metadata": {
    "collapsed": false
   },
   "outputs": [],
   "source": [
    "X_train, X_test, y_train, y_test = train_test_split(X, y, random_state=432)"
   ]
  },
  {
   "cell_type": "code",
   "execution_count": 39,
   "metadata": {
    "collapsed": false
   },
   "outputs": [
    {
     "data": {
      "text/plain": [
       "(337172, 122)"
      ]
     },
     "execution_count": 39,
     "metadata": {},
     "output_type": "execute_result"
    }
   ],
   "source": [
    "X_train.shape"
   ]
  },
  {
   "cell_type": "code",
   "execution_count": 40,
   "metadata": {
    "collapsed": false
   },
   "outputs": [
    {
     "data": {
      "text/plain": [
       "7.291460715603098"
      ]
     },
     "execution_count": 40,
     "metadata": {},
     "output_type": "execute_result"
    }
   ],
   "source": [
    "ratio = float(np.sum(y == 0)) / np.sum(y == 1)\n",
    "ratio"
   ]
  },
  {
   "cell_type": "code",
   "execution_count": 41,
   "metadata": {
    "collapsed": true
   },
   "outputs": [],
   "source": [
    "default_params = {\n",
    "    'objective': 'binary:logistic',\n",
    "    'max_depth':7,\n",
    "    'learning_rate': 0.1,\n",
    "    'silent': False,\n",
    "    'min_child_weight': 9,\n",
    "    'subsample': 0.8, \n",
    "    'colsample_bytree': 0.8,\n",
    "    'scale_pos_weight': ratio,\n",
    "    'n_estimators': 2500\n",
    "}\n",
    "\n"
   ]
  },
  {
   "cell_type": "code",
   "execution_count": 42,
   "metadata": {
    "collapsed": true
   },
   "outputs": [],
   "source": [
    "clf = XGBClassifier(**default_params)"
   ]
  },
  {
   "cell_type": "code",
   "execution_count": 43,
   "metadata": {
    "collapsed": false,
    "scrolled": false
   },
   "outputs": [
    {
     "data": {
      "text/plain": [
       "XGBClassifier(base_score=0.5, colsample_bylevel=1, colsample_bytree=0.8,\n",
       "       gamma=0, learning_rate=0.1, max_delta_step=0, max_depth=7,\n",
       "       min_child_weight=9, missing=None, n_estimators=2500, nthread=-1,\n",
       "       objective='binary:logistic', reg_alpha=0, reg_lambda=1,\n",
       "       scale_pos_weight=7.291460715603098, seed=0, silent=False,\n",
       "       subsample=0.8)"
      ]
     },
     "execution_count": 43,
     "metadata": {},
     "output_type": "execute_result"
    }
   ],
   "source": [
    "clf.fit(X_train, y_train, \n",
    "        eval_set=[(X_train, y_train), (X_test, y_test)], \n",
    "        eval_metric=['logloss'], \n",
    "        verbose=False, early_stopping_rounds=10)"
   ]
  },
  {
   "cell_type": "code",
   "execution_count": 44,
   "metadata": {
    "collapsed": false
   },
   "outputs": [
    {
     "data": {
      "text/plain": [
       "['xgb_otodom_buy_02.pkl']"
      ]
     },
     "execution_count": 44,
     "metadata": {},
     "output_type": "execute_result"
    }
   ],
   "source": [
    "from sklearn.externals import joblib\n",
    "joblib.dump(clf, 'xgb_otodom_buy_02.pkl') "
   ]
  },
  {
   "cell_type": "code",
   "execution_count": 45,
   "metadata": {
    "collapsed": true
   },
   "outputs": [],
   "source": [
    "clf = joblib.load('xgb_otodom_buy_02.pkl') "
   ]
  },
  {
   "cell_type": "code",
   "execution_count": 46,
   "metadata": {
    "collapsed": true
   },
   "outputs": [],
   "source": [
    "def my_plot_importance(booster, figsize, **kwargs): \n",
    "    from matplotlib import pyplot as plt\n",
    "    from xgboost import plot_importance\n",
    "    fig, ax = plt.subplots(1,1,figsize=figsize)\n",
    "    return plot_importance(booster=booster, ax=ax, **kwargs)"
   ]
  },
  {
   "cell_type": "code",
   "execution_count": 47,
   "metadata": {
    "collapsed": false
   },
   "outputs": [
    {
     "data": {
      "text/plain": [
       "<matplotlib.axes._subplots.AxesSubplot at 0x122e37a20>"
      ]
     },
     "execution_count": 47,
     "metadata": {},
     "output_type": "execute_result"
    },
    {
     "data": {
      "image/png": "[encoded data removed]",
      "text/plain": [
       "<matplotlib.figure.Figure at 0x10fc26048>"
      ]
     },
     "metadata": {},
     "output_type": "display_data"
    }
   ],
   "source": [
    "my_plot_importance(clf, figsize=(10, 30),  importance_type='gain' )"
   ]
  },
  {
   "cell_type": "markdown",
   "metadata": {},
   "source": [
    "**Validation on train:**"
   ]
  },
  {
   "cell_type": "code",
   "execution_count": 48,
   "metadata": {
    "collapsed": false
   },
   "outputs": [],
   "source": [
    "y_train_predict = clf.predict(X_train)"
   ]
  },
  {
   "cell_type": "code",
   "execution_count": 49,
   "metadata": {
    "collapsed": false
   },
   "outputs": [
    {
     "name": "stdout",
     "output_type": "stream",
     "text": [
      "Accuracy: 0.94\n",
      "Precision: 0.66\n",
      "Recall: 0.97\n",
      "F1: 0.79\n"
     ]
    }
   ],
   "source": [
    "print('Accuracy: {0:.2f}'.format(accuracy_score(y_train, y_train_predict)))\n",
    "print('Precision: {0:.2f}'.format(precision_score(y_train,  y_train_predict)))\n",
    "print('Recall: {0:.2f}'.format(recall_score(y_train,  y_train_predict)))\n",
    "print('F1: {0:.2f}'.format(f1_score(y_train,  y_train_predict)))"
   ]
  },
  {
   "cell_type": "code",
   "execution_count": 50,
   "metadata": {
    "collapsed": false
   },
   "outputs": [
    {
     "data": {
      "text/html": [
       "<div>\n",
       "<table border=\"1\" class=\"dataframe\">\n",
       "  <thead>\n",
       "    <tr style=\"text-align: right;\">\n",
       "      <th>Predicted</th>\n",
       "      <th>0.0</th>\n",
       "      <th>1.0</th>\n",
       "      <th>All</th>\n",
       "    </tr>\n",
       "    <tr>\n",
       "      <th>Actual</th>\n",
       "      <th></th>\n",
       "      <th></th>\n",
       "      <th></th>\n",
       "    </tr>\n",
       "  </thead>\n",
       "  <tbody>\n",
       "    <tr>\n",
       "      <th>0.0</th>\n",
       "      <td>178489</td>\n",
       "      <td>38537</td>\n",
       "      <td>217026</td>\n",
       "    </tr>\n",
       "    <tr>\n",
       "      <th>1.0</th>\n",
       "      <td>29323</td>\n",
       "      <td>6301</td>\n",
       "      <td>35624</td>\n",
       "    </tr>\n",
       "    <tr>\n",
       "      <th>All</th>\n",
       "      <td>207812</td>\n",
       "      <td>44838</td>\n",
       "      <td>252650</td>\n",
       "    </tr>\n",
       "  </tbody>\n",
       "</table>\n",
       "</div>"
      ],
      "text/plain": [
       "Predicted     0.0    1.0     All\n",
       "Actual                          \n",
       "0.0        178489  38537  217026\n",
       "1.0         29323   6301   35624\n",
       "All        207812  44838  252650"
      ]
     },
     "execution_count": 50,
     "metadata": {},
     "output_type": "execute_result"
    }
   ],
   "source": [
    "pd.crosstab(\n",
    "    pd.Series(y_train, name='Actual'),\n",
    "    pd.Series(y_train_predict, name='Predicted'),\n",
    "    margins=True\n",
    ")"
   ]
  },
  {
   "cell_type": "code",
   "execution_count": 51,
   "metadata": {
    "collapsed": false
   },
   "outputs": [
    {
     "name": "stdout",
     "output_type": "stream",
     "text": [
      "             precision    recall  f1-score   support\n",
      "\n",
      "          0       1.00      0.93      0.96    296605\n",
      "          1       0.66      0.97      0.79     40567\n",
      "\n",
      "avg / total       0.96      0.94      0.94    337172\n",
      "\n"
     ]
    }
   ],
   "source": [
    "print(classification_report(y_train, y_train_predict))"
   ]
  },
  {
   "cell_type": "markdown",
   "metadata": {},
   "source": [
    "**Validation on test:**"
   ]
  },
  {
   "cell_type": "code",
   "execution_count": 52,
   "metadata": {
    "collapsed": false
   },
   "outputs": [],
   "source": [
    "y_val_predict = clf.predict(X_test)"
   ]
  },
  {
   "cell_type": "code",
   "execution_count": 53,
   "metadata": {
    "collapsed": false
   },
   "outputs": [
    {
     "name": "stdout",
     "output_type": "stream",
     "text": [
      "Accuracy: 0.87\n",
      "Precision: 0.48\n",
      "Recall: 0.66\n",
      "F1: 0.55\n"
     ]
    }
   ],
   "source": [
    "print('Accuracy: {0:.2f}'.format(accuracy_score(y_test, y_val_predict)))\n",
    "print('Precision: {0:.2f}'.format(precision_score(y_test, y_val_predict)))\n",
    "print('Recall: {0:.2f}'.format(recall_score(y_test, y_val_predict)))\n",
    "print('F1: {0:.2f}'.format(f1_score(y_test, y_val_predict)))"
   ]
  },
  {
   "cell_type": "code",
   "execution_count": 54,
   "metadata": {
    "collapsed": false
   },
   "outputs": [
    {
     "data": {
      "text/html": [
       "<div>\n",
       "<table border=\"1\" class=\"dataframe\">\n",
       "  <thead>\n",
       "    <tr style=\"text-align: right;\">\n",
       "      <th>Predicted</th>\n",
       "      <th>0.0</th>\n",
       "      <th>1.0</th>\n",
       "      <th>All</th>\n",
       "    </tr>\n",
       "    <tr>\n",
       "      <th>Actual</th>\n",
       "      <th></th>\n",
       "      <th></th>\n",
       "      <th></th>\n",
       "    </tr>\n",
       "  </thead>\n",
       "  <tbody>\n",
       "    <tr>\n",
       "      <th>0.0</th>\n",
       "      <td>18177</td>\n",
       "      <td>3717</td>\n",
       "      <td>21894</td>\n",
       "    </tr>\n",
       "    <tr>\n",
       "      <th>1.0</th>\n",
       "      <td>5206</td>\n",
       "      <td>1058</td>\n",
       "      <td>6264</td>\n",
       "    </tr>\n",
       "    <tr>\n",
       "      <th>All</th>\n",
       "      <td>23383</td>\n",
       "      <td>4775</td>\n",
       "      <td>28158</td>\n",
       "    </tr>\n",
       "  </tbody>\n",
       "</table>\n",
       "</div>"
      ],
      "text/plain": [
       "Predicted    0.0   1.0    All\n",
       "Actual                       \n",
       "0.0        18177  3717  21894\n",
       "1.0         5206  1058   6264\n",
       "All        23383  4775  28158"
      ]
     },
     "execution_count": 54,
     "metadata": {},
     "output_type": "execute_result"
    }
   ],
   "source": [
    "pd.crosstab(\n",
    "    pd.Series(y_test, name='Actual'),\n",
    "    pd.Series(y_val_predict, name='Predicted'),\n",
    "    margins=True\n",
    ")"
   ]
  },
  {
   "cell_type": "code",
   "execution_count": 55,
   "metadata": {
    "collapsed": false
   },
   "outputs": [
    {
     "name": "stdout",
     "output_type": "stream",
     "text": [
      "             precision    recall  f1-score   support\n",
      "\n",
      "          0       0.95      0.90      0.92     98738\n",
      "          1       0.48      0.66      0.55     13653\n",
      "\n",
      "avg / total       0.89      0.87      0.88    112391\n",
      "\n"
     ]
    }
   ],
   "source": [
    "print(classification_report(y_test, y_val_predict))"
   ]
  },
  {
   "cell_type": "markdown",
   "metadata": {},
   "source": [
    "**Validation on December data:**"
   ]
  },
  {
   "cell_type": "code",
   "execution_count": 56,
   "metadata": {
    "collapsed": false
   },
   "outputs": [
    {
     "name": "stdout",
     "output_type": "stream",
     "text": [
      "pool\n",
      "attic\n",
      "building_type_detached\n",
      "building_type_residence\n",
      "building_type_semi_detached\n",
      "windows_type_notany\n"
     ]
    }
   ],
   "source": [
    "for col in X.columns:\n",
    "    if col not in X_cv.columns:\n",
    "        print(col)\n",
    "        X_cv[col] = 0"
   ]
  },
  {
   "cell_type": "code",
   "execution_count": 57,
   "metadata": {
    "collapsed": true
   },
   "outputs": [],
   "source": [
    "for col in X_cv.columns:\n",
    "    if col not in X.columns:\n",
    "        print(col)\n",
    "        X_cv = X_cv.drop(col, axis=1)"
   ]
  },
  {
   "cell_type": "code",
   "execution_count": 58,
   "metadata": {
    "collapsed": true
   },
   "outputs": [],
   "source": [
    "selected_columns = X.columns "
   ]
  },
  {
   "cell_type": "code",
   "execution_count": 59,
   "metadata": {
    "collapsed": false
   },
   "outputs": [],
   "source": [
    "y_cv_predict = clf.predict(X_cv[selected_columns])"
   ]
  },
  {
   "cell_type": "code",
   "execution_count": 60,
   "metadata": {
    "collapsed": false
   },
   "outputs": [
    {
     "name": "stdout",
     "output_type": "stream",
     "text": [
      "Accuracy: 0.87\n",
      "Precision: 0.47\n",
      "Recall: 0.61\n",
      "F1: 0.54\n"
     ]
    }
   ],
   "source": [
    "print('Accuracy: {0:.2f}'.format(accuracy_score(y_cv,  y_cv_predict)))\n",
    "print('Precision: {0:.2f}'.format(precision_score(y_cv,  y_cv_predict)))\n",
    "print('Recall: {0:.2f}'.format(recall_score(y_cv,  y_cv_predict)))\n",
    "print('F1: {0:.2f}'.format(f1_score(y_cv,  y_cv_predict)))"
   ]
  },
  {
   "cell_type": "code",
   "execution_count": 61,
   "metadata": {
    "collapsed": false
   },
   "outputs": [
    {
     "data": {
      "text/html": [
       "<div>\n",
       "<table border=\"1\" class=\"dataframe\">\n",
       "  <thead>\n",
       "    <tr style=\"text-align: right;\">\n",
       "      <th>Predicted</th>\n",
       "      <th>0</th>\n",
       "      <th>1</th>\n",
       "      <th>All</th>\n",
       "    </tr>\n",
       "    <tr>\n",
       "      <th>Actual</th>\n",
       "      <th></th>\n",
       "      <th></th>\n",
       "      <th></th>\n",
       "    </tr>\n",
       "  </thead>\n",
       "  <tbody>\n",
       "    <tr>\n",
       "      <th>0</th>\n",
       "      <td>42442</td>\n",
       "      <td>4272</td>\n",
       "      <td>46714</td>\n",
       "    </tr>\n",
       "    <tr>\n",
       "      <th>1</th>\n",
       "      <td>2433</td>\n",
       "      <td>3858</td>\n",
       "      <td>6291</td>\n",
       "    </tr>\n",
       "    <tr>\n",
       "      <th>All</th>\n",
       "      <td>44875</td>\n",
       "      <td>8130</td>\n",
       "      <td>53005</td>\n",
       "    </tr>\n",
       "  </tbody>\n",
       "</table>\n",
       "</div>"
      ],
      "text/plain": [
       "Predicted      0     1    All\n",
       "Actual                       \n",
       "0          42442  4272  46714\n",
       "1           2433  3858   6291\n",
       "All        44875  8130  53005"
      ]
     },
     "execution_count": 61,
     "metadata": {},
     "output_type": "execute_result"
    }
   ],
   "source": [
    "pd.crosstab(\n",
    "    pd.Series(y_cv, name='Actual'),\n",
    "    pd.Series(y_cv_predict, name='Predicted'),\n",
    "    margins=True\n",
    ")"
   ]
  },
  {
   "cell_type": "code",
   "execution_count": 62,
   "metadata": {
    "collapsed": false
   },
   "outputs": [
    {
     "name": "stdout",
     "output_type": "stream",
     "text": [
      "             precision    recall  f1-score   support\n",
      "\n",
      "          0       0.95      0.91      0.93     46714\n",
      "          1       0.47      0.61      0.54      6291\n",
      "\n",
      "avg / total       0.89      0.87      0.88     53005\n",
      "\n"
     ]
    }
   ],
   "source": [
    "print(classification_report(y_cv, y_cv_predict))"
   ]
  },
  {
   "cell_type": "code",
   "execution_count": 63,
   "metadata": {
    "collapsed": false
   },
   "outputs": [
    {
     "data": {
      "text/html": [
       "\n",
       "    <style>\n",
       "    table.eli5-weights tr:hover {\n",
       "        filter: brightness(85%);\n",
       "    }\n",
       "</style>\n",
       "\n",
       "\n",
       "\n",
       "    \n",
       "\n",
       "    \n",
       "\n",
       "    \n",
       "\n",
       "    \n",
       "\n",
       "    \n",
       "\n",
       "    \n",
       "\n",
       "\n",
       "    \n",
       "\n",
       "    \n",
       "\n",
       "    \n",
       "\n",
       "    \n",
       "\n",
       "    \n",
       "\n",
       "    \n",
       "\n",
       "\n",
       "    \n",
       "\n",
       "    \n",
       "\n",
       "    \n",
       "\n",
       "    \n",
       "\n",
       "    \n",
       "        <table class=\"eli5-weights eli5-feature-importances\" style=\"border-collapse: collapse; border: none; margin-top: 0em; table-layout: auto;\">\n",
       "    <thead>\n",
       "    <tr style=\"border: none;\">\n",
       "        <th style=\"padding: 0 1em 0 0.5em; text-align: right; border: none;\">Weight</th>\n",
       "        <th style=\"padding: 0 0.5em 0 0.5em; text-align: left; border: none;\">Feature</th>\n",
       "    </tr>\n",
       "    </thead>\n",
       "    <tbody>\n",
       "    \n",
       "        <tr style=\"background-color: hsl(120, 100.00%, 80.00%); border: none;\">\n",
       "            <td style=\"padding: 0 1em 0 0.5em; text-align: right; border: none;\">\n",
       "                0.5922\n",
       "                \n",
       "            </td>\n",
       "            <td style=\"padding: 0 0.5em 0 0.5em; text-align: left; border: none;\">\n",
       "                private_business\n",
       "            </td>\n",
       "        </tr>\n",
       "    \n",
       "        <tr style=\"background-color: hsl(120, 100.00%, 96.08%); border: none;\">\n",
       "            <td style=\"padding: 0 1em 0 0.5em; text-align: right; border: none;\">\n",
       "                0.0578\n",
       "                \n",
       "            </td>\n",
       "            <td style=\"padding: 0 0.5em 0 0.5em; text-align: left; border: none;\">\n",
       "                market_primary_0\n",
       "            </td>\n",
       "        </tr>\n",
       "    \n",
       "        <tr style=\"background-color: hsl(120, 100.00%, 98.38%); border: none;\">\n",
       "            <td style=\"padding: 0 1em 0 0.5em; text-align: right; border: none;\">\n",
       "                0.0163\n",
       "                \n",
       "            </td>\n",
       "            <td style=\"padding: 0 0.5em 0 0.5em; text-align: left; border: none;\">\n",
       "                stove\n",
       "            </td>\n",
       "        </tr>\n",
       "    \n",
       "        <tr style=\"background-color: hsl(120, 100.00%, 98.82%); border: none;\">\n",
       "            <td style=\"padding: 0 1em 0 0.5em; text-align: right; border: none;\">\n",
       "                0.0104\n",
       "                \n",
       "            </td>\n",
       "            <td style=\"padding: 0 0.5em 0 0.5em; text-align: left; border: none;\">\n",
       "                floor_no_no_info\n",
       "            </td>\n",
       "        </tr>\n",
       "    \n",
       "        <tr style=\"background-color: hsl(120, 100.00%, 98.86%); border: none;\">\n",
       "            <td style=\"padding: 0 1em 0 0.5em; text-align: right; border: none;\">\n",
       "                0.0099\n",
       "                \n",
       "            </td>\n",
       "            <td style=\"padding: 0 0.5em 0 0.5em; text-align: left; border: none;\">\n",
       "                security_types_info\n",
       "            </td>\n",
       "        </tr>\n",
       "    \n",
       "        <tr style=\"background-color: hsl(120, 100.00%, 99.02%); border: none;\">\n",
       "            <td style=\"padding: 0 1em 0 0.5em; text-align: right; border: none;\">\n",
       "                0.0079\n",
       "                \n",
       "            </td>\n",
       "            <td style=\"padding: 0 0.5em 0 0.5em; text-align: left; border: none;\">\n",
       "                market_primary_1\n",
       "            </td>\n",
       "        </tr>\n",
       "    \n",
       "        <tr style=\"background-color: hsl(120, 100.00%, 99.08%); border: none;\">\n",
       "            <td style=\"padding: 0 1em 0 0.5em; text-align: right; border: none;\">\n",
       "                0.0073\n",
       "                \n",
       "            </td>\n",
       "            <td style=\"padding: 0 0.5em 0 0.5em; text-align: left; border: none;\">\n",
       "                building_material_brick\n",
       "            </td>\n",
       "        </tr>\n",
       "    \n",
       "        <tr style=\"background-color: hsl(120, 100.00%, 99.18%); border: none;\">\n",
       "            <td style=\"padding: 0 1em 0 0.5em; text-align: right; border: none;\">\n",
       "                0.0062\n",
       "                \n",
       "            </td>\n",
       "            <td style=\"padding: 0 0.5em 0 0.5em; text-align: left; border: none;\">\n",
       "                no_equipment\n",
       "            </td>\n",
       "        </tr>\n",
       "    \n",
       "        <tr style=\"background-color: hsl(120, 100.00%, 99.27%); border: none;\">\n",
       "            <td style=\"padding: 0 1em 0 0.5em; text-align: right; border: none;\">\n",
       "                0.0052\n",
       "                \n",
       "            </td>\n",
       "            <td style=\"padding: 0 0.5em 0 0.5em; text-align: left; border: none;\">\n",
       "                no_security\n",
       "            </td>\n",
       "        </tr>\n",
       "    \n",
       "        <tr style=\"background-color: hsl(120, 100.00%, 99.27%); border: none;\">\n",
       "            <td style=\"padding: 0 1em 0 0.5em; text-align: right; border: none;\">\n",
       "                0.0052\n",
       "                \n",
       "            </td>\n",
       "            <td style=\"padding: 0 0.5em 0 0.5em; text-align: left; border: none;\">\n",
       "                higher_city_room_mean\n",
       "            </td>\n",
       "        </tr>\n",
       "    \n",
       "        <tr style=\"background-color: hsl(120, 100.00%, 99.32%); border: none;\">\n",
       "            <td style=\"padding: 0 1em 0 0.5em; text-align: right; border: none;\">\n",
       "                0.0047\n",
       "                \n",
       "            </td>\n",
       "            <td style=\"padding: 0 0.5em 0 0.5em; text-align: left; border: none;\">\n",
       "                building_material_other\n",
       "            </td>\n",
       "        </tr>\n",
       "    \n",
       "        <tr style=\"background-color: hsl(120, 100.00%, 99.37%); border: none;\">\n",
       "            <td style=\"padding: 0 1em 0 0.5em; text-align: right; border: none;\">\n",
       "                0.0043\n",
       "                \n",
       "            </td>\n",
       "            <td style=\"padding: 0 0.5em 0 0.5em; text-align: left; border: none;\">\n",
       "                anti_burglary_door\n",
       "            </td>\n",
       "        </tr>\n",
       "    \n",
       "        <tr style=\"background-color: hsl(120, 100.00%, 99.40%); border: none;\">\n",
       "            <td style=\"padding: 0 1em 0 0.5em; text-align: right; border: none;\">\n",
       "                0.0040\n",
       "                \n",
       "            </td>\n",
       "            <td style=\"padding: 0 0.5em 0 0.5em; text-align: left; border: none;\">\n",
       "                title\n",
       "            </td>\n",
       "        </tr>\n",
       "    \n",
       "        <tr style=\"background-color: hsl(120, 100.00%, 99.40%); border: none;\">\n",
       "            <td style=\"padding: 0 1em 0 0.5em; text-align: right; border: none;\">\n",
       "                0.0040\n",
       "                \n",
       "            </td>\n",
       "            <td style=\"padding: 0 0.5em 0 0.5em; text-align: left; border: none;\">\n",
       "                street_info\n",
       "            </td>\n",
       "        </tr>\n",
       "    \n",
       "        <tr style=\"background-color: hsl(120, 100.00%, 99.40%); border: none;\">\n",
       "            <td style=\"padding: 0 1em 0 0.5em; text-align: right; border: none;\">\n",
       "                0.0039\n",
       "                \n",
       "            </td>\n",
       "            <td style=\"padding: 0 0.5em 0 0.5em; text-align: left; border: none;\">\n",
       "                city_id\n",
       "            </td>\n",
       "        </tr>\n",
       "    \n",
       "        <tr style=\"background-color: hsl(120, 100.00%, 99.41%); border: none;\">\n",
       "            <td style=\"padding: 0 1em 0 0.5em; text-align: right; border: none;\">\n",
       "                0.0039\n",
       "                \n",
       "            </td>\n",
       "            <td style=\"padding: 0 0.5em 0 0.5em; text-align: left; border: none;\">\n",
       "                building_type_tenement\n",
       "            </td>\n",
       "        </tr>\n",
       "    \n",
       "        <tr style=\"background-color: hsl(120, 100.00%, 99.41%); border: none;\">\n",
       "            <td style=\"padding: 0 1em 0 0.5em; text-align: right; border: none;\">\n",
       "                0.0039\n",
       "                \n",
       "            </td>\n",
       "            <td style=\"padding: 0 0.5em 0 0.5em; text-align: left; border: none;\">\n",
       "                construction_status_to_renovation\n",
       "            </td>\n",
       "        </tr>\n",
       "    \n",
       "        <tr style=\"background-color: hsl(120, 100.00%, 99.41%); border: none;\">\n",
       "            <td style=\"padding: 0 1em 0 0.5em; text-align: right; border: none;\">\n",
       "                0.0038\n",
       "                \n",
       "            </td>\n",
       "            <td style=\"padding: 0 0.5em 0 0.5em; text-align: left; border: none;\">\n",
       "                oven\n",
       "            </td>\n",
       "        </tr>\n",
       "    \n",
       "        <tr style=\"background-color: hsl(120, 100.00%, 99.42%); border: none;\">\n",
       "            <td style=\"padding: 0 1em 0 0.5em; text-align: right; border: none;\">\n",
       "                0.0038\n",
       "                \n",
       "            </td>\n",
       "            <td style=\"padding: 0 0.5em 0 0.5em; text-align: left; border: none;\">\n",
       "                heating_other\n",
       "            </td>\n",
       "        </tr>\n",
       "    \n",
       "        <tr style=\"background-color: hsl(120, 100.00%, 99.43%); border: none;\">\n",
       "            <td style=\"padding: 0 1em 0 0.5em; text-align: right; border: none;\">\n",
       "                0.0037\n",
       "                \n",
       "            </td>\n",
       "            <td style=\"padding: 0 0.5em 0 0.5em; text-align: left; border: none;\">\n",
       "                entryphone\n",
       "            </td>\n",
       "        </tr>\n",
       "    \n",
       "    \n",
       "        \n",
       "            <tr style=\"background-color: hsl(120, 100.00%, 99.43%); border: none;\">\n",
       "                <td colspan=\"2\" style=\"padding: 0 0.5em 0 0.5em; text-align: center; border: none; white-space: nowrap;\">\n",
       "                    <i>&hellip; 102 more &hellip;</i>\n",
       "                </td>\n",
       "            </tr>\n",
       "        \n",
       "    \n",
       "    </tbody>\n",
       "</table>\n",
       "    \n",
       "\n",
       "    \n",
       "\n",
       "\n",
       "    \n",
       "\n",
       "    \n",
       "\n",
       "    \n",
       "\n",
       "    \n",
       "\n",
       "    \n",
       "\n",
       "    \n",
       "\n",
       "\n",
       "\n"
      ],
      "text/plain": [
       "<IPython.core.display.HTML object>"
      ]
     },
     "execution_count": 63,
     "metadata": {},
     "output_type": "execute_result"
    }
   ],
   "source": [
    "from eli5 import show_weights\n",
    "show_weights(clf)"
   ]
  },
  {
   "cell_type": "markdown",
   "metadata": {
    "collapsed": true
   },
   "source": [
    "For usage model as a service we need to store:\n",
    "\n",
    "* average price for city_id/rooms_num combination\n",
    "* model columns \n",
    "* model"
   ]
  },
  {
   "cell_type": "markdown",
   "metadata": {},
   "source": [
    "**Average price for city_id/rooms_num combination**"
   ]
  },
  {
   "cell_type": "code",
   "execution_count": 64,
   "metadata": {
    "collapsed": false
   },
   "outputs": [],
   "source": [
    "avg_city = otodom_full.pipe(select_category, category_id = 101)\\\n",
    ".pipe(filter_currency, currency = 'PLN')\\\n",
    ".pipe(select_columns, columns=columns)\\\n",
    ".pipe(remove_outliers, col='mysql_search_m', lower_bound=20, upper_bound=200)\\\n",
    ".pipe(filter_values, col='mysql_search_rooms_num', values_list=['0', '1', '2', '3', '4', '5', '6'])\\\n",
    ".pipe(remove_outliers, col='mysql_search_price', lower_bound=100000, upper_bound=750000)\\\n",
    ".pipe(count_avg_price_city_ap_type)\n"
   ]
  },
  {
   "cell_type": "code",
   "execution_count": 65,
   "metadata": {
    "collapsed": true
   },
   "outputs": [],
   "source": [
    "avg_city.to_csv(\"avg_city_price_otodom_buy_02.csv\", index=None)"
   ]
  },
  {
   "cell_type": "code",
   "execution_count": 66,
   "metadata": {
    "collapsed": true
   },
   "outputs": [],
   "source": [
    "df_avg_city_prices = pd.read_csv(\"avg_city_price_otodom_buy_02.csv\")"
   ]
  },
  {
   "cell_type": "code",
   "execution_count": 67,
   "metadata": {
    "collapsed": false
   },
   "outputs": [
    {
     "data": {
      "text/html": [
       "<div>\n",
       "<table border=\"1\" class=\"dataframe\">\n",
       "  <thead>\n",
       "    <tr style=\"text-align: right;\">\n",
       "      <th></th>\n",
       "      <th>city_id</th>\n",
       "      <th>mysql_search_rooms_num</th>\n",
       "      <th>avg_price</th>\n",
       "    </tr>\n",
       "  </thead>\n",
       "  <tbody>\n",
       "    <tr>\n",
       "      <th>0</th>\n",
       "      <td>1</td>\n",
       "      <td>1</td>\n",
       "      <td>225905</td>\n",
       "    </tr>\n",
       "    <tr>\n",
       "      <th>1</th>\n",
       "      <td>1</td>\n",
       "      <td>2</td>\n",
       "      <td>291305</td>\n",
       "    </tr>\n",
       "    <tr>\n",
       "      <th>2</th>\n",
       "      <td>1</td>\n",
       "      <td>3</td>\n",
       "      <td>373476</td>\n",
       "    </tr>\n",
       "    <tr>\n",
       "      <th>3</th>\n",
       "      <td>1</td>\n",
       "      <td>4</td>\n",
       "      <td>448689</td>\n",
       "    </tr>\n",
       "    <tr>\n",
       "      <th>4</th>\n",
       "      <td>1</td>\n",
       "      <td>5</td>\n",
       "      <td>474952</td>\n",
       "    </tr>\n",
       "  </tbody>\n",
       "</table>\n",
       "</div>"
      ],
      "text/plain": [
       "   city_id  mysql_search_rooms_num  avg_price\n",
       "0        1                       1     225905\n",
       "1        1                       2     291305\n",
       "2        1                       3     373476\n",
       "3        1                       4     448689\n",
       "4        1                       5     474952"
      ]
     },
     "execution_count": 67,
     "metadata": {},
     "output_type": "execute_result"
    }
   ],
   "source": [
    "df_avg_city_prices.head()"
   ]
  },
  {
   "cell_type": "markdown",
   "metadata": {},
   "source": [
    "**Save model columns**"
   ]
  },
  {
   "cell_type": "code",
   "execution_count": 68,
   "metadata": {
    "collapsed": false
   },
   "outputs": [
    {
     "data": {
      "text/plain": [
       "['model_columns_xgb_otodom_buy_02.pkl']"
      ]
     },
     "execution_count": 68,
     "metadata": {},
     "output_type": "execute_result"
    }
   ],
   "source": [
    "model_columns = list(X_train.columns)\n",
    "joblib.dump(model_columns, 'model_columns_xgb_otodom_buy_02.pkl')"
   ]
  },
  {
   "cell_type": "markdown",
   "metadata": {},
   "source": [
    "### Example how it works as a service ###"
   ]
  },
  {
   "cell_type": "code",
   "execution_count": 69,
   "metadata": {
    "collapsed": true
   },
   "outputs": [],
   "source": [
    "data = {\"city_id\": 180, \n",
    "        \"mysql_search_rooms_num\": 2,\n",
    "        \"mysql_search_m\": 51.0, \n",
    "        \"mysql_search_price\": 99000,\n",
    "        \"title\": 47,\n",
    "        \"description\": 978,\n",
    "        \"building_floors_num\": 2, \n",
    "        \"building_material\": \"brick\",\n",
    "        \"equipment_types\": \"balcony<->separate_kitchen\",\n",
    "        \"windows_types\": \"plastic\",\n",
    "        \"private_business\": \"private\",\n",
    "        \"market\": \"secondary\",\n",
    "        \"street_name\" : \"Chorzovska\"\n",
    "}"
   ]
  },
  {
   "cell_type": "code",
   "execution_count": 70,
   "metadata": {
    "collapsed": false
   },
   "outputs": [],
   "source": [
    "test_record = otodom_test_full[otodom_test_full['ad_id'] == 51413220]"
   ]
  },
  {
   "cell_type": "code",
   "execution_count": 71,
   "metadata": {
    "collapsed": false
   },
   "outputs": [],
   "source": [
    "df_avg_city_prices.mysql_search_rooms_num = df_avg_city_prices.mysql_search_rooms_num.astype('int')\n",
    "test_record.mysql_search_rooms_num = test_record.mysql_search_rooms_num.astype('int')"
   ]
  },
  {
   "cell_type": "code",
   "execution_count": 72,
   "metadata": {
    "collapsed": false
   },
   "outputs": [
    {
     "data": {
      "text/html": [
       "<div>\n",
       "<table border=\"1\" class=\"dataframe\">\n",
       "  <thead>\n",
       "    <tr style=\"text-align: right;\">\n",
       "      <th></th>\n",
       "      <th>city_id</th>\n",
       "      <th>mysql_search_rooms_num</th>\n",
       "    </tr>\n",
       "  </thead>\n",
       "  <tbody>\n",
       "    <tr>\n",
       "      <th>219814</th>\n",
       "      <td>180</td>\n",
       "      <td>2</td>\n",
       "    </tr>\n",
       "  </tbody>\n",
       "</table>\n",
       "</div>"
      ],
      "text/plain": [
       "        city_id  mysql_search_rooms_num\n",
       "219814      180                       2"
      ]
     },
     "execution_count": 72,
     "metadata": {},
     "output_type": "execute_result"
    }
   ],
   "source": [
    "test_record[['city_id', 'mysql_search_rooms_num']]"
   ]
  },
  {
   "cell_type": "code",
   "execution_count": 73,
   "metadata": {
    "collapsed": false
   },
   "outputs": [
    {
     "data": {
      "text/html": [
       "<div>\n",
       "<table border=\"1\" class=\"dataframe\">\n",
       "  <thead>\n",
       "    <tr style=\"text-align: right;\">\n",
       "      <th></th>\n",
       "      <th>city_id</th>\n",
       "      <th>mysql_search_rooms_num</th>\n",
       "      <th>avg_price</th>\n",
       "    </tr>\n",
       "  </thead>\n",
       "  <tbody>\n",
       "    <tr>\n",
       "      <th>315</th>\n",
       "      <td>180</td>\n",
       "      <td>1</td>\n",
       "      <td>115375</td>\n",
       "    </tr>\n",
       "    <tr>\n",
       "      <th>316</th>\n",
       "      <td>180</td>\n",
       "      <td>2</td>\n",
       "      <td>141827</td>\n",
       "    </tr>\n",
       "    <tr>\n",
       "      <th>317</th>\n",
       "      <td>180</td>\n",
       "      <td>3</td>\n",
       "      <td>198399</td>\n",
       "    </tr>\n",
       "    <tr>\n",
       "      <th>318</th>\n",
       "      <td>180</td>\n",
       "      <td>4</td>\n",
       "      <td>197529</td>\n",
       "    </tr>\n",
       "    <tr>\n",
       "      <th>319</th>\n",
       "      <td>180</td>\n",
       "      <td>5</td>\n",
       "      <td>425000</td>\n",
       "    </tr>\n",
       "  </tbody>\n",
       "</table>\n",
       "</div>"
      ],
      "text/plain": [
       "     city_id  mysql_search_rooms_num  avg_price\n",
       "315      180                       1     115375\n",
       "316      180                       2     141827\n",
       "317      180                       3     198399\n",
       "318      180                       4     197529\n",
       "319      180                       5     425000"
      ]
     },
     "execution_count": 73,
     "metadata": {},
     "output_type": "execute_result"
    }
   ],
   "source": [
    "df_avg_city_prices[df_avg_city_prices['city_id'] == 180]"
   ]
  },
  {
   "cell_type": "code",
   "execution_count": 74,
   "metadata": {
    "collapsed": false
   },
   "outputs": [
    {
     "name": "stdout",
     "output_type": "stream",
     "text": [
      "<class 'pandas.core.frame.DataFrame'>\n",
      "Int64Index: 1 entries, 219814 to 219814\n",
      "Data columns (total 2 columns):\n",
      "city_id                   1 non-null int64\n",
      "mysql_search_rooms_num    1 non-null int64\n",
      "dtypes: int64(2)\n",
      "memory usage: 24.0 bytes\n"
     ]
    }
   ],
   "source": [
    "test_record[['city_id', 'mysql_search_rooms_num']].info()"
   ]
  },
  {
   "cell_type": "code",
   "execution_count": 75,
   "metadata": {
    "collapsed": false
   },
   "outputs": [
    {
     "name": "stdout",
     "output_type": "stream",
     "text": [
      "219814    51413220\n",
      "Name: ad_id, dtype: int64\n",
      "219814    180\n",
      "Name: city_id, dtype: int64\n",
      "219814    Chorzowska\n",
      "Name: street_name, dtype: object\n",
      "219814    47\n",
      "Name: title, dtype: int64\n",
      "219814    978\n",
      "Name: description, dtype: int64\n",
      "219814    2\n",
      "Name: mysql_search_rooms_num, dtype: int64\n",
      "219814    51.0\n",
      "Name: mysql_search_m, dtype: float64\n",
      "219814    99000\n",
      "Name: mysql_search_price, dtype: int64\n",
      "219814   NaN\n",
      "Name: build_year, dtype: float64\n",
      "219814    2.0\n",
      "Name: building_floors_num, dtype: float64\n",
      "219814    brick\n",
      "Name: building_material, dtype: object\n",
      "219814    full_ownership\n",
      "Name: building_ownership, dtype: object\n",
      "219814    block\n",
      "Name: building_type, dtype: object\n",
      "219814    NaN\n",
      "Name: construction_status, dtype: object\n",
      "219814    NaN\n",
      "Name: equipment_types, dtype: object\n",
      "219814    balcony<->separate_kitchen\n",
      "Name: extras_types, dtype: object\n",
      "219814    NaN\n",
      "Name: floor_no, dtype: object\n",
      "219814    NaN\n",
      "Name: heating, dtype: object\n",
      "219814    business\n",
      "Name: private_business, dtype: object\n",
      "219814    secondary\n",
      "Name: market, dtype: object\n",
      "219814    NaN\n",
      "Name: media_types, dtype: object\n",
      "219814    NaN\n",
      "Name: security_types, dtype: object\n",
      "219814    plastic\n",
      "Name: windows_type, dtype: object\n",
      "219814    8.0\n",
      "Name: unique_senders, dtype: float64\n",
      "219814    13\n",
      "Name: n_images, dtype: int64\n"
     ]
    }
   ],
   "source": [
    "for c in columns:\n",
    "    print(test_record[c])"
   ]
  },
  {
   "cell_type": "code",
   "execution_count": 76,
   "metadata": {
    "collapsed": false
   },
   "outputs": [
    {
     "name": "stdout",
     "output_type": "stream",
     "text": [
      "<class 'pandas.core.frame.DataFrame'>\n",
      "RangeIndex: 4476 entries, 0 to 4475\n",
      "Data columns (total 2 columns):\n",
      "city_id                   4476 non-null int64\n",
      "mysql_search_rooms_num    4476 non-null int64\n",
      "dtypes: int64(2)\n",
      "memory usage: 70.0 KB\n"
     ]
    }
   ],
   "source": [
    "df_avg_city_prices[['city_id', 'mysql_search_rooms_num']].info()"
   ]
  },
  {
   "cell_type": "code",
   "execution_count": 77,
   "metadata": {
    "collapsed": true
   },
   "outputs": [],
   "source": [
    "df_aggregated = pd.merge(test_record, df_avg_city_prices, on=['city_id', 'mysql_search_rooms_num'])"
   ]
  },
  {
   "cell_type": "code",
   "execution_count": 78,
   "metadata": {
    "collapsed": false
   },
   "outputs": [
    {
     "name": "stdout",
     "output_type": "stream",
     "text": [
      "no_media\n",
      "no_equipment\n",
      "no_security\n",
      "balcony\n",
      "separate_kitchen\n"
     ]
    }
   ],
   "source": [
    "df_aggregated = df_aggregated.pipe(add_higher_city_room_avg)\\\n",
    "            .pipe(private_business_binarization)\\\n",
    "            .pipe(column_info, col='build_year', new_column_name='construction_year_info')\\\n",
    "            .pipe(create_construction_decade)\\\n",
    "            .pipe(column_info, col='street_name', new_column_name='street_info', drop=True)\\\n",
    "            .pipe(media_types_processing)\\\n",
    "            .pipe(equipment_types_processing)\\\n",
    "            .pipe(security_types_processing)\\\n",
    "            .pipe(extras_types_processing)\\\n",
    "            .pipe(column_info, col='extras_types', new_column_name='extras_types_info', drop=True)\\\n",
    "            .pipe(column_info, col='media_types', new_column_name='media_types_info', drop=True)\\\n",
    "            .pipe(column_info, col='security_types', new_column_name='security_types_info', drop=True)\\\n",
    "            .pipe(column_info, col='equipment_types', new_column_name='equipment_types_info', drop=True)\\\n",
    "            .pipe(column_info, col='heating', new_column_name='heating_info', drop=False)\\\n",
    "            .pipe(market_primary_binarization)\\\n",
    "            .pipe(create_avg_price_diff, avg_price_col='avg_price', price_col='mysql_search_price', new_column_name= 'price_diff')"
   ]
  },
  {
   "cell_type": "code",
   "execution_count": 79,
   "metadata": {
    "collapsed": false
   },
   "outputs": [
    {
     "data": {
      "text/html": [
       "<div>\n",
       "<table border=\"1\" class=\"dataframe\">\n",
       "  <thead>\n",
       "    <tr style=\"text-align: right;\">\n",
       "      <th></th>\n",
       "      <th>Unnamed: 0</th>\n",
       "      <th>ad_id</th>\n",
       "      <th>region_id</th>\n",
       "      <th>category_id</th>\n",
       "      <th>subregion_id</th>\n",
       "      <th>district_id</th>\n",
       "      <th>city_id</th>\n",
       "      <th>user_id</th>\n",
       "      <th>last_update_date</th>\n",
       "      <th>created_at_first</th>\n",
       "      <th>...</th>\n",
       "      <th>no_security</th>\n",
       "      <th>balcony</th>\n",
       "      <th>separate_kitchen</th>\n",
       "      <th>extras_types_info</th>\n",
       "      <th>media_types_info</th>\n",
       "      <th>security_types_info</th>\n",
       "      <th>equipment_types_info</th>\n",
       "      <th>heating_info</th>\n",
       "      <th>market_primary</th>\n",
       "      <th>price_diff</th>\n",
       "    </tr>\n",
       "  </thead>\n",
       "  <tbody>\n",
       "    <tr>\n",
       "      <th>0</th>\n",
       "      <td>219814</td>\n",
       "      <td>51413220</td>\n",
       "      <td>12</td>\n",
       "      <td>101</td>\n",
       "      <td>313</td>\n",
       "      <td>9290.0</td>\n",
       "      <td>180</td>\n",
       "      <td>1709716</td>\n",
       "      <td>NaN</td>\n",
       "      <td>2017-12-02 10:35:10.000000</td>\n",
       "      <td>...</td>\n",
       "      <td>1</td>\n",
       "      <td>1</td>\n",
       "      <td>1</td>\n",
       "      <td>1</td>\n",
       "      <td>0</td>\n",
       "      <td>0</td>\n",
       "      <td>0</td>\n",
       "      <td>0</td>\n",
       "      <td>0</td>\n",
       "      <td>-0.301966</td>\n",
       "    </tr>\n",
       "  </tbody>\n",
       "</table>\n",
       "<p>1 rows × 121 columns</p>\n",
       "</div>"
      ],
      "text/plain": [
       "   Unnamed: 0     ad_id  region_id  category_id  subregion_id  district_id  \\\n",
       "0      219814  51413220         12          101           313       9290.0   \n",
       "\n",
       "   city_id  user_id  last_update_date            created_at_first     ...      \\\n",
       "0      180  1709716               NaN  2017-12-02 10:35:10.000000     ...       \n",
       "\n",
       "  no_security balcony  separate_kitchen  extras_types_info media_types_info  \\\n",
       "0           1       1                 1                  1                0   \n",
       "\n",
       "   security_types_info  equipment_types_info  heating_info  market_primary  \\\n",
       "0                    0                     0             0               0   \n",
       "\n",
       "   price_diff  \n",
       "0   -0.301966  \n",
       "\n",
       "[1 rows x 121 columns]"
      ]
     },
     "execution_count": 79,
     "metadata": {},
     "output_type": "execute_result"
    }
   ],
   "source": [
    "df_aggregated"
   ]
  },
  {
   "cell_type": "code",
   "execution_count": 80,
   "metadata": {
    "collapsed": true
   },
   "outputs": [],
   "source": [
    "df_aggregated[cat_columns] = df_aggregated[cat_columns].fillna('no_info').astype('str')"
   ]
  },
  {
   "cell_type": "code",
   "execution_count": 81,
   "metadata": {
    "collapsed": true
   },
   "outputs": [],
   "source": [
    "df_aggregated[num_columns] = df_aggregated[num_columns].fillna(0)"
   ]
  },
  {
   "cell_type": "code",
   "execution_count": 82,
   "metadata": {
    "collapsed": false
   },
   "outputs": [
    {
     "name": "stdout",
     "output_type": "stream",
     "text": [
      "cable-television\n",
      "internet\n",
      "phone\n",
      "0\n",
      "electricity\n",
      "gas\n",
      "sewage\n",
      "water\n",
      "cable_television\n",
      "furniture\n",
      "dishwasher\n",
      "fridge\n",
      "oven\n",
      "stove\n",
      "washing_machine\n",
      "tv\n",
      "entryphone\n",
      "monitoring\n",
      "anti_burglary_door\n",
      "closed_area\n",
      "roller_shutters\n",
      "alarm\n",
      "no_extras\n",
      "garage\n",
      "lift\n",
      "basement\n",
      "usable_room\n",
      "terrace\n",
      "garden\n",
      "air_conditioning\n",
      "two_storey\n",
      "pool\n",
      "attic\n",
      "mysql_search_rooms_num_1\n",
      "mysql_search_rooms_num_2\n",
      "mysql_search_rooms_num_3\n",
      "mysql_search_rooms_num_4\n",
      "mysql_search_rooms_num_5\n",
      "mysql_search_rooms_num_6\n",
      "building_material_breezeblock\n",
      "building_material_brick\n",
      "building_material_cellular_concrete\n",
      "building_material_concrete\n",
      "building_material_concrete_plate\n",
      "building_material_hydroton\n",
      "building_material_no_info\n",
      "building_material_other\n",
      "building_material_reinforced_concrete\n",
      "building_material_silikat\n",
      "building_material_wood\n",
      "building_ownership_co_operative_ownership\n",
      "building_ownership_co_operative_ownership_with_a_land_and_mortgage_registe\n",
      "building_ownership_full_ownership\n",
      "building_ownership_no_info\n",
      "building_ownership_share\n",
      "building_type_apartment\n",
      "building_type_block\n",
      "building_type_detached\n",
      "building_type_house\n",
      "building_type_infill\n",
      "building_type_loft\n",
      "building_type_no_info\n",
      "building_type_residence\n",
      "building_type_ribbon\n",
      "building_type_semi_detached\n",
      "building_type_tenement\n",
      "construction_status_no_info\n",
      "construction_status_ready_to_use\n",
      "construction_status_to_completion\n",
      "construction_status_to_renovation\n",
      "floor_no_cellar\n",
      "floor_no_floor_1\n",
      "floor_no_floor_10\n",
      "floor_no_floor_2\n",
      "floor_no_floor_3\n",
      "floor_no_floor_4\n",
      "floor_no_floor_5\n",
      "floor_no_floor_6\n",
      "floor_no_floor_7\n",
      "floor_no_floor_8\n",
      "floor_no_floor_9\n",
      "floor_no_floor_higher_10\n",
      "floor_no_garret\n",
      "floor_no_ground_floor\n",
      "floor_no_no_info\n",
      "heating_boiler_room\n",
      "heating_electrical\n",
      "heating_gas\n",
      "heating_no_info\n",
      "heating_other\n",
      "heating_tiled_stove\n",
      "heating_urban\n",
      "windows_type_aluminium\n",
      "windows_type_no_info\n",
      "windows_type_notany\n",
      "windows_type_plastic\n",
      "windows_type_wooden\n",
      "market_primary_0\n",
      "market_primary_1\n"
     ]
    }
   ],
   "source": [
    "for col in X.columns:\n",
    "    if col not in df_aggregated.columns:\n",
    "        print(col)\n",
    "        df_aggregated[col] = 0"
   ]
  },
  {
   "cell_type": "code",
   "execution_count": 83,
   "metadata": {
    "collapsed": false
   },
   "outputs": [
    {
     "name": "stdout",
     "output_type": "stream",
     "text": [
      "Unnamed: 0\n",
      "ad_id\n",
      "region_id\n",
      "category_id\n",
      "subregion_id\n",
      "district_id\n",
      "user_id\n",
      "last_update_date\n",
      "created_at_first\n",
      "valid_to\n",
      "status\n",
      "params\n",
      "map_address\n",
      "images_counter\n",
      "paidads_id_index\n",
      "paidads_id_payment\n",
      "paidads_valid_to\n",
      "was_paid_for_post\n",
      "is_paid_for_post\n",
      "export_olx_to\n",
      "brand_program_id\n",
      "user_quality_score\n",
      "updated_at\n",
      "street_id\n",
      "panorama\n",
      "mysql_search_rooms_num\n",
      "mysql_search_price_per_m\n",
      "movie\n",
      "ad_quality_score\n",
      "user_quality_score2\n",
      "map_lon\n",
      "map_lat\n",
      "net_ad_counted\n",
      "created_at_dt\n",
      "month\n",
      "access_types\n",
      "area_from\n",
      "area_to\n",
      "begin_date\n",
      "building_material\n",
      "building_ownership\n",
      "building_type\n",
      "construction_status\n",
      "deposit[currency]\n",
      "dimensions\n",
      "fence\n",
      "fence_types\n",
      "finish_date\n",
      "floor_no\n",
      "flooring\n",
      "floors_num\n",
      "free_from\n",
      "garret_type\n",
      "heating\n",
      "heating_types\n",
      "height\n",
      "is_bungalow\n",
      "lighting\n",
      "localization\n",
      "location\n",
      "m\n",
      "non_smokers_only\n",
      "offered_estates_type\n",
      "office_space\n",
      "parking\n",
      "price\n",
      "price[currency]\n",
      "price_from\n",
      "price_per_m\n",
      "price_per_m_from\n",
      "price_to\n",
      "ramp\n",
      "recreational\n",
      "rent[currency]\n",
      "rent_to_students\n",
      "roof_type\n",
      "roofing\n",
      "rooms_num\n",
      "roomsize\n",
      "social_facilities\n",
      "state\n",
      "structure\n",
      "terrain_area\n",
      "type\n",
      "use_types\n",
      "vicinity_types\n",
      "web\n",
      "windows_type\n",
      "unique_replies\n",
      "total_replies\n",
      "unique_js_events\n",
      "total_events\n",
      "unique_senders\n",
      "total_leads\n",
      "unique_week_views\n",
      "week_views\n",
      "heating_info\n",
      "market_primary\n"
     ]
    }
   ],
   "source": [
    "for col in df_aggregated.columns:\n",
    "    if col not in X.columns:\n",
    "        print(col)\n",
    "        df_aggregated = df_aggregated.drop(col, axis=1)"
   ]
  },
  {
   "cell_type": "code",
   "execution_count": 84,
   "metadata": {
    "collapsed": false
   },
   "outputs": [
    {
     "data": {
      "text/html": [
       "<div>\n",
       "<table border=\"1\" class=\"dataframe\">\n",
       "  <thead>\n",
       "    <tr style=\"text-align: right;\">\n",
       "      <th></th>\n",
       "      <th>city_id</th>\n",
       "      <th>title</th>\n",
       "      <th>description</th>\n",
       "      <th>private_business</th>\n",
       "      <th>mysql_search_m</th>\n",
       "      <th>mysql_search_price</th>\n",
       "      <th>building_floors_num</th>\n",
       "      <th>n_images</th>\n",
       "      <th>avg_price</th>\n",
       "      <th>higher_city_room_mean</th>\n",
       "      <th>...</th>\n",
       "      <th>heating_other</th>\n",
       "      <th>heating_tiled_stove</th>\n",
       "      <th>heating_urban</th>\n",
       "      <th>windows_type_aluminium</th>\n",
       "      <th>windows_type_no_info</th>\n",
       "      <th>windows_type_notany</th>\n",
       "      <th>windows_type_plastic</th>\n",
       "      <th>windows_type_wooden</th>\n",
       "      <th>market_primary_0</th>\n",
       "      <th>market_primary_1</th>\n",
       "    </tr>\n",
       "  </thead>\n",
       "  <tbody>\n",
       "    <tr>\n",
       "      <th>0</th>\n",
       "      <td>180</td>\n",
       "      <td>47</td>\n",
       "      <td>978</td>\n",
       "      <td>0</td>\n",
       "      <td>51.0</td>\n",
       "      <td>99000</td>\n",
       "      <td>2.0</td>\n",
       "      <td>13</td>\n",
       "      <td>141827</td>\n",
       "      <td>0</td>\n",
       "      <td>...</td>\n",
       "      <td>0</td>\n",
       "      <td>0</td>\n",
       "      <td>0</td>\n",
       "      <td>0</td>\n",
       "      <td>0</td>\n",
       "      <td>0</td>\n",
       "      <td>0</td>\n",
       "      <td>0</td>\n",
       "      <td>0</td>\n",
       "      <td>0</td>\n",
       "    </tr>\n",
       "  </tbody>\n",
       "</table>\n",
       "<p>1 rows × 122 columns</p>\n",
       "</div>"
      ],
      "text/plain": [
       "   city_id  title  description  private_business  mysql_search_m  \\\n",
       "0      180     47          978                 0            51.0   \n",
       "\n",
       "   mysql_search_price  building_floors_num  n_images  avg_price  \\\n",
       "0               99000                  2.0        13     141827   \n",
       "\n",
       "   higher_city_room_mean        ...         heating_other  \\\n",
       "0                      0        ...                     0   \n",
       "\n",
       "   heating_tiled_stove  heating_urban  windows_type_aluminium  \\\n",
       "0                    0              0                       0   \n",
       "\n",
       "   windows_type_no_info  windows_type_notany  windows_type_plastic  \\\n",
       "0                     0                    0                     0   \n",
       "\n",
       "   windows_type_wooden  market_primary_0  market_primary_1  \n",
       "0                    0                 0                 0  \n",
       "\n",
       "[1 rows x 122 columns]"
      ]
     },
     "execution_count": 84,
     "metadata": {},
     "output_type": "execute_result"
    }
   ],
   "source": [
    "df_aggregated"
   ]
  },
  {
   "cell_type": "code",
   "execution_count": 85,
   "metadata": {
    "collapsed": true
   },
   "outputs": [],
   "source": [
    "selected_columns = X_train.columns"
   ]
  },
  {
   "cell_type": "code",
   "execution_count": 86,
   "metadata": {
    "collapsed": true
   },
   "outputs": [],
   "source": [
    "df_aggregated = df_aggregated[selected_columns]"
   ]
  },
  {
   "cell_type": "code",
   "execution_count": 87,
   "metadata": {
    "collapsed": false
   },
   "outputs": [
    {
     "data": {
      "text/plain": [
       "array([[0.662295, 0.337705]], dtype=float32)"
      ]
     },
     "execution_count": 87,
     "metadata": {},
     "output_type": "execute_result"
    }
   ],
   "source": [
    "clf.predict_proba(df_aggregated)"
   ]
  },
  {
   "cell_type": "code",
   "execution_count": 88,
   "metadata": {
    "collapsed": false
   },
   "outputs": [
    {
     "data": {
      "text/html": [
       "\n",
       "    <style>\n",
       "    table.eli5-weights tr:hover {\n",
       "        filter: brightness(85%);\n",
       "    }\n",
       "</style>\n",
       "\n",
       "\n",
       "\n",
       "    \n",
       "\n",
       "    \n",
       "\n",
       "    \n",
       "\n",
       "    \n",
       "\n",
       "    \n",
       "\n",
       "    \n",
       "\n",
       "\n",
       "    \n",
       "\n",
       "    \n",
       "\n",
       "    \n",
       "\n",
       "    \n",
       "        \n",
       "\n",
       "    \n",
       "\n",
       "        \n",
       "            \n",
       "                \n",
       "                \n",
       "    \n",
       "        <p style=\"margin-bottom: 0.5em; margin-top: 0em\">\n",
       "            <b>\n",
       "    \n",
       "        y=0\n",
       "    \n",
       "</b>\n",
       "\n",
       "    \n",
       "    (probability <b>0.662</b>, score <b>-0.674</b>)\n",
       "\n",
       "top features\n",
       "        </p>\n",
       "    \n",
       "    <table class=\"eli5-weights\"\n",
       "           style=\"border-collapse: collapse; border: none; margin-top: 0em; table-layout: auto; margin-bottom: 2em;\">\n",
       "        <thead>\n",
       "        <tr style=\"border: none;\">\n",
       "            \n",
       "                <th style=\"padding: 0 1em 0 0.5em; text-align: right; border: none;\" title=\"Feature contribution already accounts for the feature value (for linear models, contribution = weight * feature value), and the sum of feature contributions is equal to the score or, for some classifiers, to the probability. Feature values are shown if &quot;show_feature_values&quot; is True.\">\n",
       "                    Contribution<sup>?</sup>\n",
       "                </th>\n",
       "            \n",
       "            <th style=\"padding: 0 0.5em 0 0.5em; text-align: left; border: none;\">Feature</th>\n",
       "            \n",
       "                <th style=\"padding: 0 0.5em 0 1em; text-align: right; border: none;\">Value</th>\n",
       "            \n",
       "        </tr>\n",
       "        </thead>\n",
       "        <tbody>\n",
       "        \n",
       "            <tr style=\"background-color: hsl(120, 100.00%, 80.00%); border: none;\">\n",
       "    <td style=\"padding: 0 1em 0 0.5em; text-align: right; border: none;\">\n",
       "        +0.689\n",
       "    </td>\n",
       "    <td style=\"padding: 0 0.5em 0 0.5em; text-align: left; border: none;\">\n",
       "        market_primary_0\n",
       "    </td>\n",
       "    \n",
       "        <td style=\"padding: 0 0.5em 0 1em; text-align: right; border: none;\">\n",
       "            0.000\n",
       "        </td>\n",
       "    \n",
       "</tr>\n",
       "        \n",
       "            <tr style=\"background-color: hsl(120, 100.00%, 80.47%); border: none;\">\n",
       "    <td style=\"padding: 0 1em 0 0.5em; text-align: right; border: none;\">\n",
       "        +0.666\n",
       "    </td>\n",
       "    <td style=\"padding: 0 0.5em 0 0.5em; text-align: left; border: none;\">\n",
       "        city_id\n",
       "    </td>\n",
       "    \n",
       "        <td style=\"padding: 0 0.5em 0 1em; text-align: right; border: none;\">\n",
       "            180.000\n",
       "        </td>\n",
       "    \n",
       "</tr>\n",
       "        \n",
       "            <tr style=\"background-color: hsl(120, 100.00%, 83.84%); border: none;\">\n",
       "    <td style=\"padding: 0 1em 0 0.5em; text-align: right; border: none;\">\n",
       "        +0.508\n",
       "    </td>\n",
       "    <td style=\"padding: 0 0.5em 0 0.5em; text-align: left; border: none;\">\n",
       "        building_floors_num\n",
       "    </td>\n",
       "    \n",
       "        <td style=\"padding: 0 0.5em 0 1em; text-align: right; border: none;\">\n",
       "            2.000\n",
       "        </td>\n",
       "    \n",
       "</tr>\n",
       "        \n",
       "            <tr style=\"background-color: hsl(120, 100.00%, 85.53%); border: none;\">\n",
       "    <td style=\"padding: 0 1em 0 0.5em; text-align: right; border: none;\">\n",
       "        +0.434\n",
       "    </td>\n",
       "    <td style=\"padding: 0 0.5em 0 0.5em; text-align: left; border: none;\">\n",
       "        private_business\n",
       "    </td>\n",
       "    \n",
       "        <td style=\"padding: 0 0.5em 0 1em; text-align: right; border: none;\">\n",
       "            0.000\n",
       "        </td>\n",
       "    \n",
       "</tr>\n",
       "        \n",
       "            <tr style=\"background-color: hsl(120, 100.00%, 91.72%); border: none;\">\n",
       "    <td style=\"padding: 0 1em 0 0.5em; text-align: right; border: none;\">\n",
       "        +0.196\n",
       "    </td>\n",
       "    <td style=\"padding: 0 0.5em 0 0.5em; text-align: left; border: none;\">\n",
       "        windows_type_plastic\n",
       "    </td>\n",
       "    \n",
       "        <td style=\"padding: 0 0.5em 0 1em; text-align: right; border: none;\">\n",
       "            0.000\n",
       "        </td>\n",
       "    \n",
       "</tr>\n",
       "        \n",
       "            <tr style=\"background-color: hsl(120, 100.00%, 92.81%); border: none;\">\n",
       "    <td style=\"padding: 0 1em 0 0.5em; text-align: right; border: none;\">\n",
       "        +0.160\n",
       "    </td>\n",
       "    <td style=\"padding: 0 0.5em 0 0.5em; text-align: left; border: none;\">\n",
       "        mysql_search_m\n",
       "    </td>\n",
       "    \n",
       "        <td style=\"padding: 0 0.5em 0 1em; text-align: right; border: none;\">\n",
       "            51.000\n",
       "        </td>\n",
       "    \n",
       "</tr>\n",
       "        \n",
       "            <tr style=\"background-color: hsl(120, 100.00%, 93.16%); border: none;\">\n",
       "    <td style=\"padding: 0 1em 0 0.5em; text-align: right; border: none;\">\n",
       "        +0.149\n",
       "    </td>\n",
       "    <td style=\"padding: 0 0.5em 0 0.5em; text-align: left; border: none;\">\n",
       "        building_ownership_full_ownership\n",
       "    </td>\n",
       "    \n",
       "        <td style=\"padding: 0 0.5em 0 1em; text-align: right; border: none;\">\n",
       "            0.000\n",
       "        </td>\n",
       "    \n",
       "</tr>\n",
       "        \n",
       "            <tr style=\"background-color: hsl(120, 100.00%, 93.83%); border: none;\">\n",
       "    <td style=\"padding: 0 1em 0 0.5em; text-align: right; border: none;\">\n",
       "        +0.128\n",
       "    </td>\n",
       "    <td style=\"padding: 0 0.5em 0 0.5em; text-align: left; border: none;\">\n",
       "        building_material_brick\n",
       "    </td>\n",
       "    \n",
       "        <td style=\"padding: 0 0.5em 0 1em; text-align: right; border: none;\">\n",
       "            0.000\n",
       "        </td>\n",
       "    \n",
       "</tr>\n",
       "        \n",
       "            <tr style=\"background-color: hsl(120, 100.00%, 94.38%); border: none;\">\n",
       "    <td style=\"padding: 0 1em 0 0.5em; text-align: right; border: none;\">\n",
       "        +0.113\n",
       "    </td>\n",
       "    <td style=\"padding: 0 0.5em 0 0.5em; text-align: left; border: none;\">\n",
       "        floor_no_floor_1\n",
       "    </td>\n",
       "    \n",
       "        <td style=\"padding: 0 0.5em 0 1em; text-align: right; border: none;\">\n",
       "            0.000\n",
       "        </td>\n",
       "    \n",
       "</tr>\n",
       "        \n",
       "            <tr style=\"background-color: hsl(120, 100.00%, 94.40%); border: none;\">\n",
       "    <td style=\"padding: 0 1em 0 0.5em; text-align: right; border: none;\">\n",
       "        +0.112\n",
       "    </td>\n",
       "    <td style=\"padding: 0 0.5em 0 0.5em; text-align: left; border: none;\">\n",
       "        separate_kitchen\n",
       "    </td>\n",
       "    \n",
       "        <td style=\"padding: 0 0.5em 0 1em; text-align: right; border: none;\">\n",
       "            1.000\n",
       "        </td>\n",
       "    \n",
       "</tr>\n",
       "        \n",
       "            <tr style=\"background-color: hsl(120, 100.00%, 94.66%); border: none;\">\n",
       "    <td style=\"padding: 0 1em 0 0.5em; text-align: right; border: none;\">\n",
       "        +0.105\n",
       "    </td>\n",
       "    <td style=\"padding: 0 0.5em 0 0.5em; text-align: left; border: none;\">\n",
       "        floor_no_no_info\n",
       "    </td>\n",
       "    \n",
       "        <td style=\"padding: 0 0.5em 0 1em; text-align: right; border: none;\">\n",
       "            0.000\n",
       "        </td>\n",
       "    \n",
       "</tr>\n",
       "        \n",
       "        \n",
       "            <tr style=\"background-color: hsl(120, 100.00%, 94.66%); border: none;\">\n",
       "                <td colspan=\"3\" style=\"padding: 0 0.5em 0 0.5em; text-align: center; border: none; white-space: nowrap;\">\n",
       "                    <i>&hellip; 44 more positive &hellip;</i>\n",
       "                </td>\n",
       "            </tr>\n",
       "        \n",
       "\n",
       "        \n",
       "            <tr style=\"background-color: hsl(0, 100.00%, 94.78%); border: none;\">\n",
       "                <td colspan=\"3\" style=\"padding: 0 0.5em 0 0.5em; text-align: center; border: none; white-space: nowrap;\">\n",
       "                    <i>&hellip; 47 more negative &hellip;</i>\n",
       "                </td>\n",
       "            </tr>\n",
       "        \n",
       "        \n",
       "            <tr style=\"background-color: hsl(0, 100.00%, 94.78%); border: none;\">\n",
       "    <td style=\"padding: 0 1em 0 0.5em; text-align: right; border: none;\">\n",
       "        -0.101\n",
       "    </td>\n",
       "    <td style=\"padding: 0 0.5em 0 0.5em; text-align: left; border: none;\">\n",
       "        lift\n",
       "    </td>\n",
       "    \n",
       "        <td style=\"padding: 0 0.5em 0 1em; text-align: right; border: none;\">\n",
       "            0.000\n",
       "        </td>\n",
       "    \n",
       "</tr>\n",
       "        \n",
       "            <tr style=\"background-color: hsl(0, 100.00%, 94.51%); border: none;\">\n",
       "    <td style=\"padding: 0 1em 0 0.5em; text-align: right; border: none;\">\n",
       "        -0.109\n",
       "    </td>\n",
       "    <td style=\"padding: 0 0.5em 0 0.5em; text-align: left; border: none;\">\n",
       "        no_media\n",
       "    </td>\n",
       "    \n",
       "        <td style=\"padding: 0 0.5em 0 1em; text-align: right; border: none;\">\n",
       "            1.000\n",
       "        </td>\n",
       "    \n",
       "</tr>\n",
       "        \n",
       "            <tr style=\"background-color: hsl(0, 100.00%, 94.45%); border: none;\">\n",
       "    <td style=\"padding: 0 1em 0 0.5em; text-align: right; border: none;\">\n",
       "        -0.110\n",
       "    </td>\n",
       "    <td style=\"padding: 0 0.5em 0 0.5em; text-align: left; border: none;\">\n",
       "        construction_year_decade\n",
       "    </td>\n",
       "    \n",
       "        <td style=\"padding: 0 0.5em 0 1em; text-align: right; border: none;\">\n",
       "            0.000\n",
       "        </td>\n",
       "    \n",
       "</tr>\n",
       "        \n",
       "            <tr style=\"background-color: hsl(0, 100.00%, 91.98%); border: none;\">\n",
       "    <td style=\"padding: 0 1em 0 0.5em; text-align: right; border: none;\">\n",
       "        -0.187\n",
       "    </td>\n",
       "    <td style=\"padding: 0 0.5em 0 0.5em; text-align: left; border: none;\">\n",
       "        title\n",
       "    </td>\n",
       "    \n",
       "        <td style=\"padding: 0 0.5em 0 1em; text-align: right; border: none;\">\n",
       "            47.000\n",
       "        </td>\n",
       "    \n",
       "</tr>\n",
       "        \n",
       "            <tr style=\"background-color: hsl(0, 100.00%, 91.00%); border: none;\">\n",
       "    <td style=\"padding: 0 1em 0 0.5em; text-align: right; border: none;\">\n",
       "        -0.220\n",
       "    </td>\n",
       "    <td style=\"padding: 0 0.5em 0 0.5em; text-align: left; border: none;\">\n",
       "        description\n",
       "    </td>\n",
       "    \n",
       "        <td style=\"padding: 0 0.5em 0 1em; text-align: right; border: none;\">\n",
       "            978.000\n",
       "        </td>\n",
       "    \n",
       "</tr>\n",
       "        \n",
       "            <tr style=\"background-color: hsl(0, 100.00%, 89.03%); border: none;\">\n",
       "    <td style=\"padding: 0 1em 0 0.5em; text-align: right; border: none;\">\n",
       "        -0.292\n",
       "    </td>\n",
       "    <td style=\"padding: 0 0.5em 0 0.5em; text-align: left; border: none;\">\n",
       "        n_images\n",
       "    </td>\n",
       "    \n",
       "        <td style=\"padding: 0 0.5em 0 1em; text-align: right; border: none;\">\n",
       "            13.000\n",
       "        </td>\n",
       "    \n",
       "</tr>\n",
       "        \n",
       "            <tr style=\"background-color: hsl(0, 100.00%, 88.66%); border: none;\">\n",
       "    <td style=\"padding: 0 1em 0 0.5em; text-align: right; border: none;\">\n",
       "        -0.307\n",
       "    </td>\n",
       "    <td style=\"padding: 0 0.5em 0 0.5em; text-align: left; border: none;\">\n",
       "        &lt;BIAS&gt;\n",
       "    </td>\n",
       "    \n",
       "        <td style=\"padding: 0 0.5em 0 1em; text-align: right; border: none;\">\n",
       "            1.000\n",
       "        </td>\n",
       "    \n",
       "</tr>\n",
       "        \n",
       "            <tr style=\"background-color: hsl(0, 100.00%, 86.26%); border: none;\">\n",
       "    <td style=\"padding: 0 1em 0 0.5em; text-align: right; border: none;\">\n",
       "        -0.403\n",
       "    </td>\n",
       "    <td style=\"padding: 0 0.5em 0 0.5em; text-align: left; border: none;\">\n",
       "        price_diff\n",
       "    </td>\n",
       "    \n",
       "        <td style=\"padding: 0 0.5em 0 1em; text-align: right; border: none;\">\n",
       "            -0.302\n",
       "        </td>\n",
       "    \n",
       "</tr>\n",
       "        \n",
       "            <tr style=\"background-color: hsl(0, 100.00%, 82.11%); border: none;\">\n",
       "    <td style=\"padding: 0 1em 0 0.5em; text-align: right; border: none;\">\n",
       "        -0.588\n",
       "    </td>\n",
       "    <td style=\"padding: 0 0.5em 0 0.5em; text-align: left; border: none;\">\n",
       "        mysql_search_price\n",
       "    </td>\n",
       "    \n",
       "        <td style=\"padding: 0 0.5em 0 1em; text-align: right; border: none;\">\n",
       "            99000.000\n",
       "        </td>\n",
       "    \n",
       "</tr>\n",
       "        \n",
       "\n",
       "        </tbody>\n",
       "    </table>\n",
       "\n",
       "            \n",
       "        \n",
       "\n",
       "        \n",
       "\n",
       "\n",
       "\n",
       "    \n",
       "\n",
       "    \n",
       "\n",
       "    \n",
       "\n",
       "    \n",
       "\n",
       "\n",
       "    \n",
       "\n",
       "    \n",
       "\n",
       "    \n",
       "\n",
       "    \n",
       "\n",
       "    \n",
       "\n",
       "    \n",
       "\n",
       "\n",
       "    \n",
       "\n",
       "    \n",
       "\n",
       "    \n",
       "\n",
       "    \n",
       "\n",
       "    \n",
       "\n",
       "    \n",
       "\n",
       "\n",
       "\n"
      ],
      "text/plain": [
       "<IPython.core.display.HTML object>"
      ]
     },
     "execution_count": 88,
     "metadata": {},
     "output_type": "execute_result"
    }
   ],
   "source": [
    "from eli5 import show_prediction\n",
    "show_prediction(clf, df_aggregated.iloc[0], show_feature_values=True, top=20)"
   ]
  },
  {
   "cell_type": "code",
   "execution_count": 89,
   "metadata": {
    "collapsed": true
   },
   "outputs": [],
   "source": [
    "model_columns = [\n",
    "           'city_id', \n",
    "           'street_name', \n",
    "           'title', \n",
    "           'description', \n",
    "           'was_paid_for_post',  \n",
    "           'is_paid_for_post', \n",
    "           'mysql_search_rooms_num', \n",
    "           'mysql_search_m', \n",
    "           'mysql_search_price', \n",
    "           'build_year', \n",
    "           'building_floors_num',  \n",
    "           'building_material', \n",
    "           'building_ownership', \n",
    "           'building_type',\n",
    "           'construction_status', \n",
    "           'equipment_types', \n",
    "           'extras_types', \n",
    "           'floor_no', \n",
    "           'heating', \n",
    "           'private_business', \n",
    "           'market', \n",
    "           'media_types',  \n",
    "           'security_types', \n",
    "           'windows_type',\n",
    "           'n_images']"
   ]
  },
  {
   "cell_type": "code",
   "execution_count": 90,
   "metadata": {
    "collapsed": false
   },
   "outputs": [
    {
     "data": {
      "text/html": [
       "<div>\n",
       "<table border=\"1\" class=\"dataframe\">\n",
       "  <thead>\n",
       "    <tr style=\"text-align: right;\">\n",
       "      <th></th>\n",
       "      <th>city_id</th>\n",
       "      <th>mysql_search_rooms_num</th>\n",
       "      <th>avg_price</th>\n",
       "    </tr>\n",
       "  </thead>\n",
       "  <tbody>\n",
       "    <tr>\n",
       "      <th>0</th>\n",
       "      <td>1</td>\n",
       "      <td>1</td>\n",
       "      <td>225905</td>\n",
       "    </tr>\n",
       "    <tr>\n",
       "      <th>1</th>\n",
       "      <td>1</td>\n",
       "      <td>2</td>\n",
       "      <td>291305</td>\n",
       "    </tr>\n",
       "    <tr>\n",
       "      <th>2</th>\n",
       "      <td>1</td>\n",
       "      <td>3</td>\n",
       "      <td>373476</td>\n",
       "    </tr>\n",
       "    <tr>\n",
       "      <th>3</th>\n",
       "      <td>1</td>\n",
       "      <td>4</td>\n",
       "      <td>448689</td>\n",
       "    </tr>\n",
       "    <tr>\n",
       "      <th>4</th>\n",
       "      <td>1</td>\n",
       "      <td>5</td>\n",
       "      <td>474952</td>\n",
       "    </tr>\n",
       "  </tbody>\n",
       "</table>\n",
       "</div>"
      ],
      "text/plain": [
       "   city_id mysql_search_rooms_num  avg_price\n",
       "0        1                      1     225905\n",
       "1        1                      2     291305\n",
       "2        1                      3     373476\n",
       "3        1                      4     448689\n",
       "4        1                      5     474952"
      ]
     },
     "execution_count": 90,
     "metadata": {},
     "output_type": "execute_result"
    }
   ],
   "source": [
    "avg_city.head()"
   ]
  },
  {
   "cell_type": "code",
   "execution_count": 91,
   "metadata": {
    "collapsed": true
   },
   "outputs": [],
   "source": [
    "avg_city.mysql_search_rooms_num = avg_city.mysql_search_rooms_num.astype('int')"
   ]
  },
  {
   "cell_type": "code",
   "execution_count": 92,
   "metadata": {
    "collapsed": false
   },
   "outputs": [
    {
     "data": {
      "text/html": [
       "<div>\n",
       "<table border=\"1\" class=\"dataframe\">\n",
       "  <thead>\n",
       "    <tr style=\"text-align: right;\">\n",
       "      <th></th>\n",
       "      <th>city_id</th>\n",
       "      <th>mysql_search_rooms_num</th>\n",
       "      <th>avg_price</th>\n",
       "    </tr>\n",
       "  </thead>\n",
       "  <tbody>\n",
       "    <tr>\n",
       "      <th>0</th>\n",
       "      <td>1</td>\n",
       "      <td>1</td>\n",
       "      <td>225905</td>\n",
       "    </tr>\n",
       "    <tr>\n",
       "      <th>1</th>\n",
       "      <td>1</td>\n",
       "      <td>2</td>\n",
       "      <td>291305</td>\n",
       "    </tr>\n",
       "    <tr>\n",
       "      <th>2</th>\n",
       "      <td>1</td>\n",
       "      <td>3</td>\n",
       "      <td>373476</td>\n",
       "    </tr>\n",
       "    <tr>\n",
       "      <th>3</th>\n",
       "      <td>1</td>\n",
       "      <td>4</td>\n",
       "      <td>448689</td>\n",
       "    </tr>\n",
       "    <tr>\n",
       "      <th>4</th>\n",
       "      <td>1</td>\n",
       "      <td>5</td>\n",
       "      <td>474952</td>\n",
       "    </tr>\n",
       "  </tbody>\n",
       "</table>\n",
       "</div>"
      ],
      "text/plain": [
       "   city_id  mysql_search_rooms_num  avg_price\n",
       "0        1                       1     225905\n",
       "1        1                       2     291305\n",
       "2        1                       3     373476\n",
       "3        1                       4     448689\n",
       "4        1                       5     474952"
      ]
     },
     "execution_count": 92,
     "metadata": {},
     "output_type": "execute_result"
    }
   ],
   "source": [
    "avg_city.head()"
   ]
  },
  {
   "cell_type": "code",
   "execution_count": 93,
   "metadata": {
    "collapsed": true
   },
   "outputs": [],
   "source": [
    "data = {\n",
    "        \"city_id\": 1,\n",
    "        \"title\": 30,\n",
    "        \"description\": 1000,\n",
    "        \"private_business\": \"private\",\n",
    "        \"street_name\" : \"Vodickova\",\n",
    "        \"mysql_search_rooms_num\": 2,\n",
    "        \"mysql_search_m\": 80,\n",
    "        \"mysql_search_price\": 200000,\n",
    "        \"build_year\": 2011,\n",
    "    }"
   ]
  },
  {
   "cell_type": "code",
   "execution_count": 94,
   "metadata": {
    "collapsed": true
   },
   "outputs": [],
   "source": [
    "def get_dataframe(json):\n",
    "    df = pd.DataFrame.from_dict([dict(json)])\n",
    "    return df"
   ]
  },
  {
   "cell_type": "code",
   "execution_count": 95,
   "metadata": {
    "collapsed": true
   },
   "outputs": [],
   "source": [
    "t1 = get_dataframe(data)"
   ]
  },
  {
   "cell_type": "code",
   "execution_count": 96,
   "metadata": {
    "collapsed": false
   },
   "outputs": [
    {
     "name": "stdout",
     "output_type": "stream",
     "text": [
      "<class 'pandas.core.frame.DataFrame'>\n",
      "RangeIndex: 1 entries, 0 to 0\n",
      "Data columns (total 9 columns):\n",
      "build_year                1 non-null int64\n",
      "city_id                   1 non-null int64\n",
      "description               1 non-null int64\n",
      "mysql_search_m            1 non-null int64\n",
      "mysql_search_price        1 non-null int64\n",
      "mysql_search_rooms_num    1 non-null int64\n",
      "private_business          1 non-null object\n",
      "street_name               1 non-null object\n",
      "title                     1 non-null int64\n",
      "dtypes: int64(7), object(2)\n",
      "memory usage: 152.0+ bytes\n"
     ]
    }
   ],
   "source": [
    "t1.info()"
   ]
  },
  {
   "cell_type": "markdown",
   "metadata": {},
   "source": [
    "avg_city should be stored as csv\n",
    "price/area quantiles?????"
   ]
  },
  {
   "cell_type": "code",
   "execution_count": 97,
   "metadata": {
    "collapsed": false
   },
   "outputs": [
    {
     "name": "stdout",
     "output_type": "stream",
     "text": [
      "<class 'pandas.core.frame.DataFrame'>\n",
      "RangeIndex: 4476 entries, 0 to 4475\n",
      "Data columns (total 3 columns):\n",
      "city_id                   4476 non-null int64\n",
      "mysql_search_rooms_num    4476 non-null int64\n",
      "avg_price                 4476 non-null int64\n",
      "dtypes: int64(3)\n",
      "memory usage: 105.0 KB\n"
     ]
    }
   ],
   "source": [
    "avg_city.info()"
   ]
  },
  {
   "cell_type": "code",
   "execution_count": 98,
   "metadata": {
    "collapsed": true
   },
   "outputs": [],
   "source": [
    "t1 = t1.merge(avg_city, on= ['city_id', 'mysql_search_rooms_num'])"
   ]
  },
  {
   "cell_type": "code",
   "execution_count": 99,
   "metadata": {
    "collapsed": false
   },
   "outputs": [
    {
     "data": {
      "text/html": [
       "<div>\n",
       "<table border=\"1\" class=\"dataframe\">\n",
       "  <thead>\n",
       "    <tr style=\"text-align: right;\">\n",
       "      <th></th>\n",
       "      <th>build_year</th>\n",
       "      <th>city_id</th>\n",
       "      <th>description</th>\n",
       "      <th>mysql_search_m</th>\n",
       "      <th>mysql_search_price</th>\n",
       "      <th>mysql_search_rooms_num</th>\n",
       "      <th>private_business</th>\n",
       "      <th>street_name</th>\n",
       "      <th>title</th>\n",
       "      <th>avg_price</th>\n",
       "    </tr>\n",
       "  </thead>\n",
       "  <tbody>\n",
       "    <tr>\n",
       "      <th>0</th>\n",
       "      <td>2011</td>\n",
       "      <td>1</td>\n",
       "      <td>1000</td>\n",
       "      <td>80</td>\n",
       "      <td>200000</td>\n",
       "      <td>2</td>\n",
       "      <td>private</td>\n",
       "      <td>Vodickova</td>\n",
       "      <td>30</td>\n",
       "      <td>291305</td>\n",
       "    </tr>\n",
       "  </tbody>\n",
       "</table>\n",
       "</div>"
      ],
      "text/plain": [
       "   build_year  city_id  description  mysql_search_m  mysql_search_price  \\\n",
       "0        2011        1         1000              80              200000   \n",
       "\n",
       "   mysql_search_rooms_num private_business street_name  title  avg_price  \n",
       "0                       2          private   Vodickova     30     291305  "
      ]
     },
     "execution_count": 99,
     "metadata": {},
     "output_type": "execute_result"
    }
   ],
   "source": [
    "t1.head()"
   ]
  },
  {
   "cell_type": "code",
   "execution_count": 100,
   "metadata": {
    "collapsed": false
   },
   "outputs": [
    {
     "data": {
      "text/html": [
       "<div>\n",
       "<table border=\"1\" class=\"dataframe\">\n",
       "  <thead>\n",
       "    <tr style=\"text-align: right;\">\n",
       "      <th></th>\n",
       "      <th>build_year</th>\n",
       "      <th>city_id</th>\n",
       "      <th>description</th>\n",
       "      <th>mysql_search_m</th>\n",
       "      <th>mysql_search_price</th>\n",
       "      <th>mysql_search_rooms_num</th>\n",
       "      <th>private_business</th>\n",
       "      <th>street_name</th>\n",
       "      <th>title</th>\n",
       "      <th>avg_price</th>\n",
       "    </tr>\n",
       "  </thead>\n",
       "  <tbody>\n",
       "    <tr>\n",
       "      <th>0</th>\n",
       "      <td>2011</td>\n",
       "      <td>1</td>\n",
       "      <td>1000</td>\n",
       "      <td>80</td>\n",
       "      <td>200000</td>\n",
       "      <td>2</td>\n",
       "      <td>private</td>\n",
       "      <td>Vodickova</td>\n",
       "      <td>30</td>\n",
       "      <td>291305</td>\n",
       "    </tr>\n",
       "  </tbody>\n",
       "</table>\n",
       "</div>"
      ],
      "text/plain": [
       "   build_year  city_id  description  mysql_search_m  mysql_search_price  \\\n",
       "0        2011        1         1000              80              200000   \n",
       "\n",
       "   mysql_search_rooms_num private_business street_name  title  avg_price  \n",
       "0                       2          private   Vodickova     30     291305  "
      ]
     },
     "execution_count": 100,
     "metadata": {},
     "output_type": "execute_result"
    }
   ],
   "source": [
    "t1.head()"
   ]
  },
  {
   "cell_type": "code",
   "execution_count": 101,
   "metadata": {
    "collapsed": false
   },
   "outputs": [
    {
     "name": "stdout",
     "output_type": "stream",
     "text": [
      "was_paid_for_post\n",
      "is_paid_for_post\n",
      "building_floors_num\n",
      "building_material\n",
      "building_ownership\n",
      "building_type\n",
      "construction_status\n",
      "equipment_types\n",
      "extras_types\n",
      "floor_no\n",
      "heating\n",
      "market\n",
      "media_types\n",
      "security_types\n",
      "windows_type\n",
      "n_images\n"
     ]
    }
   ],
   "source": [
    "for col in model_columns:\n",
    "    if col not in t1.columns:\n",
    "        print(col)\n",
    "        t1[col] = None"
   ]
  },
  {
   "cell_type": "code",
   "execution_count": 102,
   "metadata": {
    "collapsed": false
   },
   "outputs": [
    {
     "name": "stdout",
     "output_type": "stream",
     "text": [
      "no_media\n",
      "no_equipment\n",
      "no_security\n",
      "no_extras\n"
     ]
    }
   ],
   "source": [
    "f2 = t1\\\n",
    ".pipe(add_higher_city_room_avg)\\\n",
    ".pipe(private_business_binarization)\\\n",
    ".pipe(column_info, col='build_year', new_column_name='construction_year_info')\\\n",
    ".pipe(create_construction_decade)\\\n",
    ".pipe(media_types_processing)\\\n",
    ".pipe(equipment_types_processing)\\\n",
    ".pipe(security_types_processing)\\\n",
    ".pipe(extras_types_processing)\\\n",
    ".pipe(column_info, col='street_name', new_column_name='street_info', drop=True)\\\n",
    ".pipe(column_info, col='extras_types', new_column_name='extras_types_info', drop=True)\\\n",
    ".pipe(column_info, col='media_types', new_column_name='media_types_info', drop=True)\\\n",
    ".pipe(column_info, col='security_types', new_column_name='security_types_info', drop=True)\\\n",
    ".pipe(column_info, col='equipment_types', new_column_name='equipment_types_info', drop=True)\\\n",
    ".pipe(column_info, col='heating', new_column_name='heating_info', drop=False)\\\n",
    ".pipe(market_primary_binarization)\\\n",
    ".pipe(create_avg_price_diff, avg_price_col='avg_price', price_col='mysql_search_price', new_column_name= 'price_diff')"
   ]
  },
  {
   "cell_type": "code",
   "execution_count": 103,
   "metadata": {
    "collapsed": false
   },
   "outputs": [],
   "source": [
    "f2[num_columns] = f2[num_columns].fillna(0)"
   ]
  },
  {
   "cell_type": "code",
   "execution_count": 104,
   "metadata": {
    "collapsed": false
   },
   "outputs": [],
   "source": [
    "#f2[num_columns] = scaler.transform(f2[num_columns])"
   ]
  },
  {
   "cell_type": "code",
   "execution_count": 105,
   "metadata": {
    "collapsed": true
   },
   "outputs": [],
   "source": [
    "f2[cat_columns] = f2[cat_columns].fillna('no_info')"
   ]
  },
  {
   "cell_type": "code",
   "execution_count": 106,
   "metadata": {
    "collapsed": true
   },
   "outputs": [],
   "source": [
    "f2 = pd.get_dummies(f2)"
   ]
  },
  {
   "cell_type": "code",
   "execution_count": 107,
   "metadata": {
    "collapsed": true
   },
   "outputs": [],
   "source": [
    "#f2 = f2.fillna(np.nan)"
   ]
  },
  {
   "cell_type": "code",
   "execution_count": 108,
   "metadata": {
    "collapsed": false
   },
   "outputs": [
    {
     "data": {
      "text/plain": [
       "city_id                             1.000000\n",
       "description                      1000.000000\n",
       "mysql_search_m                     80.000000\n",
       "mysql_search_price             200000.000000\n",
       "mysql_search_rooms_num              2.000000\n",
       "private_business                    1.000000\n",
       "title                              30.000000\n",
       "avg_price                      291305.000000\n",
       "building_floors_num                 0.000000\n",
       "n_images                            0.000000\n",
       "higher_city_room_mean               0.000000\n",
       "construction_year_info              1.000000\n",
       "construction_year_decade          201.000000\n",
       "no_media                            1.000000\n",
       "no_equipment                        1.000000\n",
       "no_security                         1.000000\n",
       "no_extras                           1.000000\n",
       "street_info                         1.000000\n",
       "extras_types_info                   0.000000\n",
       "media_types_info                    0.000000\n",
       "security_types_info                 0.000000\n",
       "equipment_types_info                0.000000\n",
       "heating_info                        0.000000\n",
       "price_diff                         -0.313434\n",
       "building_material_no_info           1.000000\n",
       "building_ownership_no_info          1.000000\n",
       "building_type_no_info               1.000000\n",
       "construction_status_no_info         1.000000\n",
       "floor_no_no_info                    1.000000\n",
       "heating_no_info                     1.000000\n",
       "windows_type_no_info                1.000000\n",
       "market_primary_no_info              1.000000\n",
       "Name: 0, dtype: float64"
      ]
     },
     "execution_count": 108,
     "metadata": {},
     "output_type": "execute_result"
    }
   ],
   "source": [
    "f2.iloc[0,]"
   ]
  },
  {
   "cell_type": "code",
   "execution_count": 109,
   "metadata": {
    "collapsed": false
   },
   "outputs": [
    {
     "name": "stdout",
     "output_type": "stream",
     "text": [
      "cable-television\n",
      "internet\n",
      "phone\n",
      "0\n",
      "electricity\n",
      "gas\n",
      "sewage\n",
      "water\n",
      "cable_television\n",
      "furniture\n",
      "dishwasher\n",
      "fridge\n",
      "oven\n",
      "stove\n",
      "washing_machine\n",
      "tv\n",
      "entryphone\n",
      "monitoring\n",
      "anti_burglary_door\n",
      "closed_area\n",
      "roller_shutters\n",
      "alarm\n",
      "balcony\n",
      "garage\n",
      "lift\n",
      "basement\n",
      "separate_kitchen\n",
      "usable_room\n",
      "terrace\n",
      "garden\n",
      "air_conditioning\n",
      "two_storey\n",
      "pool\n",
      "attic\n",
      "mysql_search_rooms_num_1\n",
      "mysql_search_rooms_num_2\n",
      "mysql_search_rooms_num_3\n",
      "mysql_search_rooms_num_4\n",
      "mysql_search_rooms_num_5\n",
      "mysql_search_rooms_num_6\n",
      "building_material_breezeblock\n",
      "building_material_brick\n",
      "building_material_cellular_concrete\n",
      "building_material_concrete\n",
      "building_material_concrete_plate\n",
      "building_material_hydroton\n",
      "building_material_other\n",
      "building_material_reinforced_concrete\n",
      "building_material_silikat\n",
      "building_material_wood\n",
      "building_ownership_co_operative_ownership\n",
      "building_ownership_co_operative_ownership_with_a_land_and_mortgage_registe\n",
      "building_ownership_full_ownership\n",
      "building_ownership_share\n",
      "building_type_apartment\n",
      "building_type_block\n",
      "building_type_detached\n",
      "building_type_house\n",
      "building_type_infill\n",
      "building_type_loft\n",
      "building_type_residence\n",
      "building_type_ribbon\n",
      "building_type_semi_detached\n",
      "building_type_tenement\n",
      "construction_status_ready_to_use\n",
      "construction_status_to_completion\n",
      "construction_status_to_renovation\n",
      "floor_no_cellar\n",
      "floor_no_floor_1\n",
      "floor_no_floor_10\n",
      "floor_no_floor_2\n",
      "floor_no_floor_3\n",
      "floor_no_floor_4\n",
      "floor_no_floor_5\n",
      "floor_no_floor_6\n",
      "floor_no_floor_7\n",
      "floor_no_floor_8\n",
      "floor_no_floor_9\n",
      "floor_no_floor_higher_10\n",
      "floor_no_garret\n",
      "floor_no_ground_floor\n",
      "heating_boiler_room\n",
      "heating_electrical\n",
      "heating_gas\n",
      "heating_other\n",
      "heating_tiled_stove\n",
      "heating_urban\n",
      "windows_type_aluminium\n",
      "windows_type_notany\n",
      "windows_type_plastic\n",
      "windows_type_wooden\n",
      "market_primary_0\n",
      "market_primary_1\n"
     ]
    }
   ],
   "source": [
    "for col in X_train.columns:\n",
    "    if col not in f2.columns:\n",
    "        print(col)\n",
    "        f2[col] = 0"
   ]
  },
  {
   "cell_type": "code",
   "execution_count": 110,
   "metadata": {
    "collapsed": true
   },
   "outputs": [],
   "source": [
    "sel_cols = X_train.columns"
   ]
  },
  {
   "cell_type": "code",
   "execution_count": 111,
   "metadata": {
    "collapsed": true
   },
   "outputs": [],
   "source": [
    "f2 = f2[sel_cols]"
   ]
  },
  {
   "cell_type": "code",
   "execution_count": 112,
   "metadata": {
    "collapsed": false
   },
   "outputs": [
    {
     "data": {
      "text/plain": [
       "Index(['city_id', 'title', 'description', 'mysql_search_m',\n",
       "       'mysql_search_price', 'building_floors_num', 'private_business',\n",
       "       'n_images', 'avg_price', 'higher_city_room_mean',\n",
       "       ...\n",
       "       'heating_other', 'heating_tiled_stove', 'heating_urban',\n",
       "       'windows_type_aluminium', 'windows_type_no_info', 'windows_type_notany',\n",
       "       'windows_type_plastic', 'windows_type_wooden', 'market_primary_0',\n",
       "       'market_primary_1'],\n",
       "      dtype='object', length=122)"
      ]
     },
     "execution_count": 112,
     "metadata": {},
     "output_type": "execute_result"
    }
   ],
   "source": [
    "f2.columns"
   ]
  },
  {
   "cell_type": "code",
   "execution_count": 113,
   "metadata": {
    "collapsed": false
   },
   "outputs": [
    {
     "data": {
      "text/plain": [
       "array([[0.0284515, 0.9715485]], dtype=float32)"
      ]
     },
     "execution_count": 113,
     "metadata": {},
     "output_type": "execute_result"
    }
   ],
   "source": [
    "clf.predict_proba(f2)"
   ]
  },
  {
   "cell_type": "code",
   "execution_count": 114,
   "metadata": {
    "collapsed": true
   },
   "outputs": [],
   "source": [
    "test_f2 = f2.iloc[0]"
   ]
  },
  {
   "cell_type": "code",
   "execution_count": 115,
   "metadata": {
    "collapsed": false
   },
   "outputs": [
    {
     "data": {
      "text/html": [
       "\n",
       "    <style>\n",
       "    table.eli5-weights tr:hover {\n",
       "        filter: brightness(85%);\n",
       "    }\n",
       "</style>\n",
       "\n",
       "\n",
       "\n",
       "    \n",
       "\n",
       "    \n",
       "\n",
       "    \n",
       "\n",
       "    \n",
       "\n",
       "    \n",
       "\n",
       "    \n",
       "\n",
       "\n",
       "    \n",
       "\n",
       "    \n",
       "\n",
       "    \n",
       "\n",
       "    \n",
       "        \n",
       "\n",
       "    \n",
       "\n",
       "        \n",
       "            \n",
       "                \n",
       "                \n",
       "    \n",
       "        <p style=\"margin-bottom: 0.5em; margin-top: 0em\">\n",
       "            <b>\n",
       "    \n",
       "        y=1\n",
       "    \n",
       "</b>\n",
       "\n",
       "    \n",
       "    (probability <b>0.972</b>, score <b>3.531</b>)\n",
       "\n",
       "top features\n",
       "        </p>\n",
       "    \n",
       "    <table class=\"eli5-weights\"\n",
       "           style=\"border-collapse: collapse; border: none; margin-top: 0em; table-layout: auto; margin-bottom: 2em;\">\n",
       "        <thead>\n",
       "        <tr style=\"border: none;\">\n",
       "            \n",
       "                <th style=\"padding: 0 1em 0 0.5em; text-align: right; border: none;\" title=\"Feature contribution already accounts for the feature value (for linear models, contribution = weight * feature value), and the sum of feature contributions is equal to the score or, for some classifiers, to the probability. Feature values are shown if &quot;show_feature_values&quot; is True.\">\n",
       "                    Contribution<sup>?</sup>\n",
       "                </th>\n",
       "            \n",
       "            <th style=\"padding: 0 0.5em 0 0.5em; text-align: left; border: none;\">Feature</th>\n",
       "            \n",
       "                <th style=\"padding: 0 0.5em 0 1em; text-align: right; border: none;\">Value</th>\n",
       "            \n",
       "        </tr>\n",
       "        </thead>\n",
       "        <tbody>\n",
       "        \n",
       "            <tr style=\"background-color: hsl(120, 100.00%, 80.00%); border: none;\">\n",
       "    <td style=\"padding: 0 1em 0 0.5em; text-align: right; border: none;\">\n",
       "        +5.597\n",
       "    </td>\n",
       "    <td style=\"padding: 0 0.5em 0 0.5em; text-align: left; border: none;\">\n",
       "        private_business\n",
       "    </td>\n",
       "    \n",
       "        <td style=\"padding: 0 0.5em 0 1em; text-align: right; border: none;\">\n",
       "            1.000\n",
       "        </td>\n",
       "    \n",
       "</tr>\n",
       "        \n",
       "            <tr style=\"background-color: hsl(120, 100.00%, 96.17%); border: none;\">\n",
       "    <td style=\"padding: 0 1em 0 0.5em; text-align: right; border: none;\">\n",
       "        +0.529\n",
       "    </td>\n",
       "    <td style=\"padding: 0 0.5em 0 0.5em; text-align: left; border: none;\">\n",
       "        price_diff\n",
       "    </td>\n",
       "    \n",
       "        <td style=\"padding: 0 0.5em 0 1em; text-align: right; border: none;\">\n",
       "            -0.313\n",
       "        </td>\n",
       "    \n",
       "</tr>\n",
       "        \n",
       "            <tr style=\"background-color: hsl(120, 100.00%, 96.89%); border: none;\">\n",
       "    <td style=\"padding: 0 1em 0 0.5em; text-align: right; border: none;\">\n",
       "        +0.392\n",
       "    </td>\n",
       "    <td style=\"padding: 0 0.5em 0 0.5em; text-align: left; border: none;\">\n",
       "        mysql_search_m\n",
       "    </td>\n",
       "    \n",
       "        <td style=\"padding: 0 0.5em 0 1em; text-align: right; border: none;\">\n",
       "            80.000\n",
       "        </td>\n",
       "    \n",
       "</tr>\n",
       "        \n",
       "            <tr style=\"background-color: hsl(120, 100.00%, 97.38%); border: none;\">\n",
       "    <td style=\"padding: 0 1em 0 0.5em; text-align: right; border: none;\">\n",
       "        +0.307\n",
       "    </td>\n",
       "    <td style=\"padding: 0 0.5em 0 0.5em; text-align: left; border: none;\">\n",
       "        &lt;BIAS&gt;\n",
       "    </td>\n",
       "    \n",
       "        <td style=\"padding: 0 0.5em 0 1em; text-align: right; border: none;\">\n",
       "            1.000\n",
       "        </td>\n",
       "    \n",
       "</tr>\n",
       "        \n",
       "            <tr style=\"background-color: hsl(120, 100.00%, 97.66%); border: none;\">\n",
       "    <td style=\"padding: 0 1em 0 0.5em; text-align: right; border: none;\">\n",
       "        +0.261\n",
       "    </td>\n",
       "    <td style=\"padding: 0 0.5em 0 0.5em; text-align: left; border: none;\">\n",
       "        city_id\n",
       "    </td>\n",
       "    \n",
       "        <td style=\"padding: 0 0.5em 0 1em; text-align: right; border: none;\">\n",
       "            1.000\n",
       "        </td>\n",
       "    \n",
       "</tr>\n",
       "        \n",
       "            <tr style=\"background-color: hsl(120, 100.00%, 98.66%); border: none;\">\n",
       "    <td style=\"padding: 0 1em 0 0.5em; text-align: right; border: none;\">\n",
       "        +0.118\n",
       "    </td>\n",
       "    <td style=\"padding: 0 0.5em 0 0.5em; text-align: left; border: none;\">\n",
       "        heating_urban\n",
       "    </td>\n",
       "    \n",
       "        <td style=\"padding: 0 0.5em 0 1em; text-align: right; border: none;\">\n",
       "            0.000\n",
       "        </td>\n",
       "    \n",
       "</tr>\n",
       "        \n",
       "            <tr style=\"background-color: hsl(120, 100.00%, 98.76%); border: none;\">\n",
       "    <td style=\"padding: 0 1em 0 0.5em; text-align: right; border: none;\">\n",
       "        +0.105\n",
       "    </td>\n",
       "    <td style=\"padding: 0 0.5em 0 0.5em; text-align: left; border: none;\">\n",
       "        balcony\n",
       "    </td>\n",
       "    \n",
       "        <td style=\"padding: 0 0.5em 0 1em; text-align: right; border: none;\">\n",
       "            0.000\n",
       "        </td>\n",
       "    \n",
       "</tr>\n",
       "        \n",
       "        \n",
       "            <tr style=\"background-color: hsl(120, 100.00%, 98.76%); border: none;\">\n",
       "                <td colspan=\"3\" style=\"padding: 0 0.5em 0 0.5em; text-align: center; border: none; white-space: nowrap;\">\n",
       "                    <i>&hellip; 35 more positive &hellip;</i>\n",
       "                </td>\n",
       "            </tr>\n",
       "        \n",
       "\n",
       "        \n",
       "            <tr style=\"background-color: hsl(0, 100.00%, 99.08%); border: none;\">\n",
       "                <td colspan=\"3\" style=\"padding: 0 0.5em 0 0.5em; text-align: center; border: none; white-space: nowrap;\">\n",
       "                    <i>&hellip; 56 more negative &hellip;</i>\n",
       "                </td>\n",
       "            </tr>\n",
       "        \n",
       "        \n",
       "            <tr style=\"background-color: hsl(0, 100.00%, 99.08%); border: none;\">\n",
       "    <td style=\"padding: 0 1em 0 0.5em; text-align: right; border: none;\">\n",
       "        -0.068\n",
       "    </td>\n",
       "    <td style=\"padding: 0 0.5em 0 0.5em; text-align: left; border: none;\">\n",
       "        entryphone\n",
       "    </td>\n",
       "    \n",
       "        <td style=\"padding: 0 0.5em 0 1em; text-align: right; border: none;\">\n",
       "            0.000\n",
       "        </td>\n",
       "    \n",
       "</tr>\n",
       "        \n",
       "            <tr style=\"background-color: hsl(0, 100.00%, 99.07%); border: none;\">\n",
       "    <td style=\"padding: 0 1em 0 0.5em; text-align: right; border: none;\">\n",
       "        -0.070\n",
       "    </td>\n",
       "    <td style=\"padding: 0 0.5em 0 0.5em; text-align: left; border: none;\">\n",
       "        floor_no_no_info\n",
       "    </td>\n",
       "    \n",
       "        <td style=\"padding: 0 0.5em 0 1em; text-align: right; border: none;\">\n",
       "            1.000\n",
       "        </td>\n",
       "    \n",
       "</tr>\n",
       "        \n",
       "            <tr style=\"background-color: hsl(0, 100.00%, 99.05%); border: none;\">\n",
       "    <td style=\"padding: 0 1em 0 0.5em; text-align: right; border: none;\">\n",
       "        -0.072\n",
       "    </td>\n",
       "    <td style=\"padding: 0 0.5em 0 0.5em; text-align: left; border: none;\">\n",
       "        phone\n",
       "    </td>\n",
       "    \n",
       "        <td style=\"padding: 0 0.5em 0 1em; text-align: right; border: none;\">\n",
       "            0.000\n",
       "        </td>\n",
       "    \n",
       "</tr>\n",
       "        \n",
       "            <tr style=\"background-color: hsl(0, 100.00%, 98.98%); border: none;\">\n",
       "    <td style=\"padding: 0 1em 0 0.5em; text-align: right; border: none;\">\n",
       "        -0.080\n",
       "    </td>\n",
       "    <td style=\"padding: 0 0.5em 0 0.5em; text-align: left; border: none;\">\n",
       "        heating_no_info\n",
       "    </td>\n",
       "    \n",
       "        <td style=\"padding: 0 0.5em 0 1em; text-align: right; border: none;\">\n",
       "            1.000\n",
       "        </td>\n",
       "    \n",
       "</tr>\n",
       "        \n",
       "            <tr style=\"background-color: hsl(0, 100.00%, 98.68%); border: none;\">\n",
       "    <td style=\"padding: 0 1em 0 0.5em; text-align: right; border: none;\">\n",
       "        -0.116\n",
       "    </td>\n",
       "    <td style=\"padding: 0 0.5em 0 0.5em; text-align: left; border: none;\">\n",
       "        mysql_search_price\n",
       "    </td>\n",
       "    \n",
       "        <td style=\"padding: 0 0.5em 0 1em; text-align: right; border: none;\">\n",
       "            200000.000\n",
       "        </td>\n",
       "    \n",
       "</tr>\n",
       "        \n",
       "            <tr style=\"background-color: hsl(0, 100.00%, 98.31%); border: none;\">\n",
       "    <td style=\"padding: 0 1em 0 0.5em; text-align: right; border: none;\">\n",
       "        -0.164\n",
       "    </td>\n",
       "    <td style=\"padding: 0 0.5em 0 0.5em; text-align: left; border: none;\">\n",
       "        construction_status_no_info\n",
       "    </td>\n",
       "    \n",
       "        <td style=\"padding: 0 0.5em 0 1em; text-align: right; border: none;\">\n",
       "            1.000\n",
       "        </td>\n",
       "    \n",
       "</tr>\n",
       "        \n",
       "            <tr style=\"background-color: hsl(0, 100.00%, 98.08%); border: none;\">\n",
       "    <td style=\"padding: 0 1em 0 0.5em; text-align: right; border: none;\">\n",
       "        -0.197\n",
       "    </td>\n",
       "    <td style=\"padding: 0 0.5em 0 0.5em; text-align: left; border: none;\">\n",
       "        building_type_no_info\n",
       "    </td>\n",
       "    \n",
       "        <td style=\"padding: 0 0.5em 0 1em; text-align: right; border: none;\">\n",
       "            1.000\n",
       "        </td>\n",
       "    \n",
       "</tr>\n",
       "        \n",
       "            <tr style=\"background-color: hsl(0, 100.00%, 98.08%); border: none;\">\n",
       "    <td style=\"padding: 0 1em 0 0.5em; text-align: right; border: none;\">\n",
       "        -0.197\n",
       "    </td>\n",
       "    <td style=\"padding: 0 0.5em 0 0.5em; text-align: left; border: none;\">\n",
       "        no_extras\n",
       "    </td>\n",
       "    \n",
       "        <td style=\"padding: 0 0.5em 0 1em; text-align: right; border: none;\">\n",
       "            1.000\n",
       "        </td>\n",
       "    \n",
       "</tr>\n",
       "        \n",
       "            <tr style=\"background-color: hsl(0, 100.00%, 98.01%); border: none;\">\n",
       "    <td style=\"padding: 0 1em 0 0.5em; text-align: right; border: none;\">\n",
       "        -0.207\n",
       "    </td>\n",
       "    <td style=\"padding: 0 0.5em 0 0.5em; text-align: left; border: none;\">\n",
       "        description\n",
       "    </td>\n",
       "    \n",
       "        <td style=\"padding: 0 0.5em 0 1em; text-align: right; border: none;\">\n",
       "            1000.000\n",
       "        </td>\n",
       "    \n",
       "</tr>\n",
       "        \n",
       "            <tr style=\"background-color: hsl(0, 100.00%, 97.62%); border: none;\">\n",
       "    <td style=\"padding: 0 1em 0 0.5em; text-align: right; border: none;\">\n",
       "        -0.268\n",
       "    </td>\n",
       "    <td style=\"padding: 0 0.5em 0 0.5em; text-align: left; border: none;\">\n",
       "        construction_year_decade\n",
       "    </td>\n",
       "    \n",
       "        <td style=\"padding: 0 0.5em 0 1em; text-align: right; border: none;\">\n",
       "            201.000\n",
       "        </td>\n",
       "    \n",
       "</tr>\n",
       "        \n",
       "            <tr style=\"background-color: hsl(0, 100.00%, 96.84%); border: none;\">\n",
       "    <td style=\"padding: 0 1em 0 0.5em; text-align: right; border: none;\">\n",
       "        -0.401\n",
       "    </td>\n",
       "    <td style=\"padding: 0 0.5em 0 0.5em; text-align: left; border: none;\">\n",
       "        market_primary_0\n",
       "    </td>\n",
       "    \n",
       "        <td style=\"padding: 0 0.5em 0 1em; text-align: right; border: none;\">\n",
       "            0.000\n",
       "        </td>\n",
       "    \n",
       "</tr>\n",
       "        \n",
       "            <tr style=\"background-color: hsl(0, 100.00%, 96.54%); border: none;\">\n",
       "    <td style=\"padding: 0 1em 0 0.5em; text-align: right; border: none;\">\n",
       "        -0.456\n",
       "    </td>\n",
       "    <td style=\"padding: 0 0.5em 0 0.5em; text-align: left; border: none;\">\n",
       "        title\n",
       "    </td>\n",
       "    \n",
       "        <td style=\"padding: 0 0.5em 0 1em; text-align: right; border: none;\">\n",
       "            30.000\n",
       "        </td>\n",
       "    \n",
       "</tr>\n",
       "        \n",
       "            <tr style=\"background-color: hsl(0, 100.00%, 93.46%); border: none;\">\n",
       "    <td style=\"padding: 0 1em 0 0.5em; text-align: right; border: none;\">\n",
       "        -1.133\n",
       "    </td>\n",
       "    <td style=\"padding: 0 0.5em 0 0.5em; text-align: left; border: none;\">\n",
       "        n_images\n",
       "    </td>\n",
       "    \n",
       "        <td style=\"padding: 0 0.5em 0 1em; text-align: right; border: none;\">\n",
       "            0.000\n",
       "        </td>\n",
       "    \n",
       "</tr>\n",
       "        \n",
       "\n",
       "        </tbody>\n",
       "    </table>\n",
       "\n",
       "            \n",
       "        \n",
       "\n",
       "        \n",
       "\n",
       "\n",
       "\n",
       "    \n",
       "\n",
       "    \n",
       "\n",
       "    \n",
       "\n",
       "    \n",
       "\n",
       "\n",
       "    \n",
       "\n",
       "    \n",
       "\n",
       "    \n",
       "\n",
       "    \n",
       "\n",
       "    \n",
       "\n",
       "    \n",
       "\n",
       "\n",
       "    \n",
       "\n",
       "    \n",
       "\n",
       "    \n",
       "\n",
       "    \n",
       "\n",
       "    \n",
       "\n",
       "    \n",
       "\n",
       "\n",
       "\n"
      ],
      "text/plain": [
       "<IPython.core.display.HTML object>"
      ]
     },
     "execution_count": 115,
     "metadata": {},
     "output_type": "execute_result"
    }
   ],
   "source": [
    "from eli5 import show_prediction\n",
    "show_prediction(clf, test_f2, show_feature_values=True, top=20)"
   ]
  },
  {
   "cell_type": "code",
   "execution_count": 116,
   "metadata": {
    "collapsed": true
   },
   "outputs": [],
   "source": [
    "# city average - to store\n",
    "explanation = show_prediction(clf, test_f2, show_feature_values=True)"
   ]
  },
  {
   "cell_type": "code",
   "execution_count": 117,
   "metadata": {
    "collapsed": true
   },
   "outputs": [],
   "source": [
    "from eli5 import explain_prediction_df"
   ]
  },
  {
   "cell_type": "code",
   "execution_count": 118,
   "metadata": {
    "collapsed": false
   },
   "outputs": [
    {
     "data": {
      "text/html": [
       "<div>\n",
       "<table border=\"1\" class=\"dataframe\">\n",
       "  <thead>\n",
       "    <tr style=\"text-align: right;\">\n",
       "      <th></th>\n",
       "      <th>target</th>\n",
       "      <th>feature</th>\n",
       "      <th>weight</th>\n",
       "      <th>value</th>\n",
       "    </tr>\n",
       "  </thead>\n",
       "  <tbody>\n",
       "    <tr>\n",
       "      <th>0</th>\n",
       "      <td>1</td>\n",
       "      <td>private_business</td>\n",
       "      <td>5.597451</td>\n",
       "      <td>1.000000</td>\n",
       "    </tr>\n",
       "    <tr>\n",
       "      <th>1</th>\n",
       "      <td>1</td>\n",
       "      <td>price_diff</td>\n",
       "      <td>0.528681</td>\n",
       "      <td>-0.313434</td>\n",
       "    </tr>\n",
       "    <tr>\n",
       "      <th>2</th>\n",
       "      <td>1</td>\n",
       "      <td>mysql_search_m</td>\n",
       "      <td>0.392397</td>\n",
       "      <td>80.000000</td>\n",
       "    </tr>\n",
       "    <tr>\n",
       "      <th>3</th>\n",
       "      <td>1</td>\n",
       "      <td>&lt;BIAS&gt;</td>\n",
       "      <td>0.306665</td>\n",
       "      <td>1.000000</td>\n",
       "    </tr>\n",
       "    <tr>\n",
       "      <th>4</th>\n",
       "      <td>1</td>\n",
       "      <td>city_id</td>\n",
       "      <td>0.261231</td>\n",
       "      <td>1.000000</td>\n",
       "    </tr>\n",
       "    <tr>\n",
       "      <th>5</th>\n",
       "      <td>1</td>\n",
       "      <td>description</td>\n",
       "      <td>-0.206989</td>\n",
       "      <td>1000.000000</td>\n",
       "    </tr>\n",
       "    <tr>\n",
       "      <th>6</th>\n",
       "      <td>1</td>\n",
       "      <td>construction_year_decade</td>\n",
       "      <td>-0.267938</td>\n",
       "      <td>201.000000</td>\n",
       "    </tr>\n",
       "    <tr>\n",
       "      <th>7</th>\n",
       "      <td>1</td>\n",
       "      <td>market_primary_0</td>\n",
       "      <td>-0.400836</td>\n",
       "      <td>0.000000</td>\n",
       "    </tr>\n",
       "    <tr>\n",
       "      <th>8</th>\n",
       "      <td>1</td>\n",
       "      <td>title</td>\n",
       "      <td>-0.455625</td>\n",
       "      <td>30.000000</td>\n",
       "    </tr>\n",
       "    <tr>\n",
       "      <th>9</th>\n",
       "      <td>1</td>\n",
       "      <td>n_images</td>\n",
       "      <td>-1.132812</td>\n",
       "      <td>0.000000</td>\n",
       "    </tr>\n",
       "  </tbody>\n",
       "</table>\n",
       "</div>"
      ],
      "text/plain": [
       "   target                   feature    weight        value\n",
       "0       1          private_business  5.597451     1.000000\n",
       "1       1                price_diff  0.528681    -0.313434\n",
       "2       1            mysql_search_m  0.392397    80.000000\n",
       "3       1                    <BIAS>  0.306665     1.000000\n",
       "4       1                   city_id  0.261231     1.000000\n",
       "5       1               description -0.206989  1000.000000\n",
       "6       1  construction_year_decade -0.267938   201.000000\n",
       "7       1          market_primary_0 -0.400836     0.000000\n",
       "8       1                     title -0.455625    30.000000\n",
       "9       1                  n_images -1.132812     0.000000"
      ]
     },
     "execution_count": 118,
     "metadata": {},
     "output_type": "execute_result"
    }
   ],
   "source": [
    "explain_prediction_df(clf, test_f2, top=10)"
   ]
  },
  {
   "cell_type": "code",
   "execution_count": 119,
   "metadata": {
    "collapsed": false
   },
   "outputs": [
    {
     "data": {
      "text/plain": [
       "Index(['city_id', 'title', 'description', 'mysql_search_m',\n",
       "       'mysql_search_price', 'building_floors_num', 'private_business',\n",
       "       'n_images', 'avg_price', 'higher_city_room_mean',\n",
       "       ...\n",
       "       'heating_other', 'heating_tiled_stove', 'heating_urban',\n",
       "       'windows_type_aluminium', 'windows_type_no_info', 'windows_type_notany',\n",
       "       'windows_type_plastic', 'windows_type_wooden', 'market_primary_0',\n",
       "       'market_primary_1'],\n",
       "      dtype='object', length=122)"
      ]
     },
     "execution_count": 119,
     "metadata": {},
     "output_type": "execute_result"
    }
   ],
   "source": [
    "X_train.columns"
   ]
  },
  {
   "cell_type": "code",
   "execution_count": null,
   "metadata": {
    "collapsed": false
   },
   "outputs": [],
   "source": []
  },
  {
   "cell_type": "code",
   "execution_count": null,
   "metadata": {
    "collapsed": true
   },
   "outputs": [],
   "source": []
  }
 ],
 "metadata": {
  "kernelspec": {
   "display_name": "Python 3",
   "language": "python",
   "name": "python3"
  },
  "language_info": {
   "codemirror_mode": {
    "name": "ipython",
    "version": 3
   },
   "file_extension": ".py",
   "mimetype": "text/x-python",
   "name": "python",
   "nbconvert_exporter": "python",
   "pygments_lexer": "ipython3",
   "version": "3.6.0"
  }
 },
 "nbformat": 4,
 "nbformat_minor": 2
}
